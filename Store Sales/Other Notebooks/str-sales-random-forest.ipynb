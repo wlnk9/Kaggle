{
 "cells": [
  {
   "cell_type": "code",
   "execution_count": 4,
   "id": "01dee6dd",
   "metadata": {
    "execution": {
     "iopub.execute_input": "2022-11-03T15:15:49.801727Z",
     "iopub.status.busy": "2022-11-03T15:15:49.800913Z",
     "iopub.status.idle": "2022-11-03T15:15:51.548377Z",
     "shell.execute_reply": "2022-11-03T15:15:51.546979Z"
    },
    "papermill": {
     "duration": 1.757779,
     "end_time": "2022-11-03T15:15:51.551411",
     "exception": false,
     "start_time": "2022-11-03T15:15:49.793632",
     "status": "completed"
    },
    "tags": []
   },
   "outputs": [
    {
     "data": {
      "text/plain": "[(0.0, 0.5607843137254902, 0.8352941176470589),\n (0.9882352941176471, 0.30980392156862746, 0.18823529411764706),\n (0.8980392156862745, 0.6823529411764706, 0.2196078431372549),\n (0.42745098039215684, 0.5647058823529412, 0.30980392156862746),\n (0.5450980392156862, 0.5450980392156862, 0.5450980392156862),\n (0.5058823529411764, 0.058823529411764705, 0.48627450980392156)]",
      "text/html": "<svg  width=\"330\" height=\"55\"><rect x=\"0\" y=\"0\" width=\"55\" height=\"55\" style=\"fill:#008fd5;stroke-width:2;stroke:rgb(255,255,255)\"/><rect x=\"55\" y=\"0\" width=\"55\" height=\"55\" style=\"fill:#fc4f30;stroke-width:2;stroke:rgb(255,255,255)\"/><rect x=\"110\" y=\"0\" width=\"55\" height=\"55\" style=\"fill:#e5ae38;stroke-width:2;stroke:rgb(255,255,255)\"/><rect x=\"165\" y=\"0\" width=\"55\" height=\"55\" style=\"fill:#6d904f;stroke-width:2;stroke:rgb(255,255,255)\"/><rect x=\"220\" y=\"0\" width=\"55\" height=\"55\" style=\"fill:#8b8b8b;stroke-width:2;stroke:rgb(255,255,255)\"/><rect x=\"275\" y=\"0\" width=\"55\" height=\"55\" style=\"fill:#810f7c;stroke-width:2;stroke:rgb(255,255,255)\"/></svg>"
     },
     "execution_count": 4,
     "metadata": {},
     "output_type": "execute_result"
    }
   ],
   "source": [
    "import numpy as np\n",
    "import pandas as pd\n",
    "\n",
    "\n",
    "\n",
    "from sklearn.metrics import mean_squared_error,mean_absolute_error\n",
    "from sklearn.preprocessing import LabelEncoder\n",
    "from sklearn.model_selection import train_test_split\n",
    "from statsmodels.tsa.deterministic import CalendarFourier, DeterministicProcess\n",
    "\n",
    "from sklearn.ensemble import RandomForestRegressor\n",
    "import warnings\n",
    "warnings.filterwarnings(\"ignore\")\n",
    "import matplotlib.pyplot as plt\n",
    "plt.style.use('fivethirtyeight')\n",
    "import seaborn as sns\n",
    "color_pallet = sns.color_palette()\n",
    "color_pallet\n"
   ]
  },
  {
   "cell_type": "code",
   "execution_count": 5,
   "id": "00d167f8",
   "metadata": {
    "execution": {
     "iopub.execute_input": "2022-11-03T15:15:51.564201Z",
     "iopub.status.busy": "2022-11-03T15:15:51.563239Z",
     "iopub.status.idle": "2022-11-03T15:15:55.026326Z",
     "shell.execute_reply": "2022-11-03T15:15:55.025110Z"
    },
    "papermill": {
     "duration": 3.472489,
     "end_time": "2022-11-03T15:15:55.028930",
     "exception": false,
     "start_time": "2022-11-03T15:15:51.556441",
     "status": "completed"
    },
    "tags": []
   },
   "outputs": [
    {
     "data": {
      "text/plain": "        date store_nbr      family  sales\n0 2013-01-01         1  AUTOMOTIVE    0.0\n1 2013-01-01         1   BABY CARE    0.0\n2 2013-01-01         1      BEAUTY    0.0\n3 2013-01-01         1   BEVERAGES    0.0\n4 2013-01-01         1       BOOKS    0.0",
      "text/html": "<div>\n<style scoped>\n    .dataframe tbody tr th:only-of-type {\n        vertical-align: middle;\n    }\n\n    .dataframe tbody tr th {\n        vertical-align: top;\n    }\n\n    .dataframe thead th {\n        text-align: right;\n    }\n</style>\n<table border=\"1\" class=\"dataframe\">\n  <thead>\n    <tr style=\"text-align: right;\">\n      <th></th>\n      <th>date</th>\n      <th>store_nbr</th>\n      <th>family</th>\n      <th>sales</th>\n    </tr>\n  </thead>\n  <tbody>\n    <tr>\n      <th>0</th>\n      <td>2013-01-01</td>\n      <td>1</td>\n      <td>AUTOMOTIVE</td>\n      <td>0.0</td>\n    </tr>\n    <tr>\n      <th>1</th>\n      <td>2013-01-01</td>\n      <td>1</td>\n      <td>BABY CARE</td>\n      <td>0.0</td>\n    </tr>\n    <tr>\n      <th>2</th>\n      <td>2013-01-01</td>\n      <td>1</td>\n      <td>BEAUTY</td>\n      <td>0.0</td>\n    </tr>\n    <tr>\n      <th>3</th>\n      <td>2013-01-01</td>\n      <td>1</td>\n      <td>BEVERAGES</td>\n      <td>0.0</td>\n    </tr>\n    <tr>\n      <th>4</th>\n      <td>2013-01-01</td>\n      <td>1</td>\n      <td>BOOKS</td>\n      <td>0.0</td>\n    </tr>\n  </tbody>\n</table>\n</div>"
     },
     "execution_count": 5,
     "metadata": {},
     "output_type": "execute_result"
    }
   ],
   "source": [
    "df_train = pd.read_csv(r'C:\\Users\\derek.filko\\DataspellProjects\\Kaggle\\Store Sales\\data\\train.csv',\n",
    "                       usecols=['store_nbr', 'family', 'date', 'sales'],\n",
    "    dtype={\n",
    "        'store_nbr': 'category',\n",
    "        'family': 'category',\n",
    "        'sales': 'float32',\n",
    "    },\n",
    "    parse_dates=['date'],\n",
    "    infer_datetime_format=True,)\n",
    "df_train.head()"
   ]
  },
  {
   "cell_type": "code",
   "execution_count": 6,
   "id": "b6b96f40",
   "metadata": {
    "execution": {
     "iopub.execute_input": "2022-11-03T15:15:55.041083Z",
     "iopub.status.busy": "2022-11-03T15:15:55.040661Z",
     "iopub.status.idle": "2022-11-03T15:15:55.382155Z",
     "shell.execute_reply": "2022-11-03T15:15:55.381008Z"
    },
    "papermill": {
     "duration": 0.350775,
     "end_time": "2022-11-03T15:15:55.384930",
     "exception": false,
     "start_time": "2022-11-03T15:15:55.034155",
     "status": "completed"
    },
    "tags": []
   },
   "outputs": [],
   "source": [
    "df_train['date'] = df_train.date.dt.to_period('D')"
   ]
  },
  {
   "cell_type": "code",
   "execution_count": 7,
   "id": "ce330540",
   "metadata": {
    "execution": {
     "iopub.execute_input": "2022-11-03T15:15:55.396799Z",
     "iopub.status.busy": "2022-11-03T15:15:55.396371Z",
     "iopub.status.idle": "2022-11-03T15:15:56.901074Z",
     "shell.execute_reply": "2022-11-03T15:15:56.899685Z"
    },
    "papermill": {
     "duration": 1.513874,
     "end_time": "2022-11-03T15:15:56.903892",
     "exception": false,
     "start_time": "2022-11-03T15:15:55.390018",
     "status": "completed"
    },
    "tags": []
   },
   "outputs": [],
   "source": [
    "df_train = df_train.set_index(['store_nbr','family','date']).sort_index()"
   ]
  },
  {
   "cell_type": "code",
   "execution_count": 8,
   "id": "d8098df3",
   "metadata": {
    "execution": {
     "iopub.execute_input": "2022-11-03T15:15:56.918125Z",
     "iopub.status.busy": "2022-11-03T15:15:56.916983Z",
     "iopub.status.idle": "2022-11-03T15:15:56.924546Z",
     "shell.execute_reply": "2022-11-03T15:15:56.923600Z"
    },
    "papermill": {
     "duration": 0.016807,
     "end_time": "2022-11-03T15:15:56.926983",
     "exception": false,
     "start_time": "2022-11-03T15:15:56.910176",
     "status": "completed"
    },
    "tags": []
   },
   "outputs": [
    {
     "data": {
      "text/plain": "(3000888, 1)"
     },
     "execution_count": 8,
     "metadata": {},
     "output_type": "execute_result"
    }
   ],
   "source": [
    "df_train.shape\n"
   ]
  },
  {
   "cell_type": "code",
   "execution_count": 9,
   "id": "b21542b0",
   "metadata": {
    "execution": {
     "iopub.execute_input": "2022-11-03T15:15:56.939120Z",
     "iopub.status.busy": "2022-11-03T15:15:56.938704Z",
     "iopub.status.idle": "2022-11-03T15:15:56.952876Z",
     "shell.execute_reply": "2022-11-03T15:15:56.951621Z"
    },
    "papermill": {
     "duration": 0.023586,
     "end_time": "2022-11-03T15:15:56.955912",
     "exception": false,
     "start_time": "2022-11-03T15:15:56.932326",
     "status": "completed"
    },
    "tags": []
   },
   "outputs": [
    {
     "data": {
      "text/plain": "                                 sales\nstore_nbr family     date             \n1         AUTOMOTIVE 2013-01-01    0.0\n                     2013-01-02    2.0\n                     2013-01-03    3.0\n                     2013-01-04    3.0\n                     2013-01-05    5.0",
      "text/html": "<div>\n<style scoped>\n    .dataframe tbody tr th:only-of-type {\n        vertical-align: middle;\n    }\n\n    .dataframe tbody tr th {\n        vertical-align: top;\n    }\n\n    .dataframe thead th {\n        text-align: right;\n    }\n</style>\n<table border=\"1\" class=\"dataframe\">\n  <thead>\n    <tr style=\"text-align: right;\">\n      <th></th>\n      <th></th>\n      <th></th>\n      <th>sales</th>\n    </tr>\n    <tr>\n      <th>store_nbr</th>\n      <th>family</th>\n      <th>date</th>\n      <th></th>\n    </tr>\n  </thead>\n  <tbody>\n    <tr>\n      <th rowspan=\"5\" valign=\"top\">1</th>\n      <th rowspan=\"5\" valign=\"top\">AUTOMOTIVE</th>\n      <th>2013-01-01</th>\n      <td>0.0</td>\n    </tr>\n    <tr>\n      <th>2013-01-02</th>\n      <td>2.0</td>\n    </tr>\n    <tr>\n      <th>2013-01-03</th>\n      <td>3.0</td>\n    </tr>\n    <tr>\n      <th>2013-01-04</th>\n      <td>3.0</td>\n    </tr>\n    <tr>\n      <th>2013-01-05</th>\n      <td>5.0</td>\n    </tr>\n  </tbody>\n</table>\n</div>"
     },
     "execution_count": 9,
     "metadata": {},
     "output_type": "execute_result"
    }
   ],
   "source": [
    "df_train.head()"
   ]
  },
  {
   "cell_type": "code",
   "execution_count": 10,
   "id": "54c96c2e",
   "metadata": {
    "execution": {
     "iopub.execute_input": "2022-11-03T15:15:56.969265Z",
     "iopub.status.busy": "2022-11-03T15:15:56.968843Z",
     "iopub.status.idle": "2022-11-03T15:15:57.389825Z",
     "shell.execute_reply": "2022-11-03T15:15:57.388677Z"
    },
    "papermill": {
     "duration": 0.430738,
     "end_time": "2022-11-03T15:15:57.392207",
     "exception": false,
     "start_time": "2022-11-03T15:15:56.961469",
     "status": "completed"
    },
    "tags": []
   },
   "outputs": [
    {
     "data": {
      "text/plain": "<AxesSubplot:xlabel='date'>"
     },
     "execution_count": 10,
     "metadata": {},
     "output_type": "execute_result"
    },
    {
     "data": {
      "text/plain": "<Figure size 640x480 with 1 Axes>",
      "image/png": "[encoded data removed]"
     },
     "metadata": {},
     "output_type": "display_data"
    }
   ],
   "source": [
    "avarage_sales = df_train.groupby('date').mean().squeeze()\n",
    "avarage_sales.plot()"
   ]
  },
  {
   "cell_type": "code",
   "execution_count": 11,
   "id": "1a0049c0",
   "metadata": {
    "execution": {
     "iopub.execute_input": "2022-11-03T15:15:57.405645Z",
     "iopub.status.busy": "2022-11-03T15:15:57.405235Z",
     "iopub.status.idle": "2022-11-03T15:15:57.555163Z",
     "shell.execute_reply": "2022-11-03T15:15:57.554004Z"
    },
    "papermill": {
     "duration": 0.159977,
     "end_time": "2022-11-03T15:15:57.558006",
     "exception": false,
     "start_time": "2022-11-03T15:15:57.398029",
     "status": "completed"
    },
    "tags": []
   },
   "outputs": [],
   "source": [
    "avarage_sales = (\n",
    "    df_train\n",
    "    .groupby('date').mean()\n",
    "    .squeeze().loc['2017']\n",
    ")"
   ]
  },
  {
   "cell_type": "code",
   "execution_count": 12,
   "id": "935863c7",
   "metadata": {
    "execution": {
     "iopub.execute_input": "2022-11-03T15:15:57.571388Z",
     "iopub.status.busy": "2022-11-03T15:15:57.570950Z",
     "iopub.status.idle": "2022-11-03T15:15:58.907146Z",
     "shell.execute_reply": "2022-11-03T15:15:58.905675Z"
    },
    "papermill": {
     "duration": 1.346867,
     "end_time": "2022-11-03T15:15:58.910654",
     "exception": false,
     "start_time": "2022-11-03T15:15:57.563787",
     "status": "completed"
    },
    "tags": []
   },
   "outputs": [],
   "source": [
    "y = df_train.unstack(['store_nbr','family']).loc['2017']"
   ]
  },
  {
   "cell_type": "code",
   "execution_count": 13,
   "id": "3a95b33b",
   "metadata": {
    "execution": {
     "iopub.execute_input": "2022-11-03T15:15:58.928175Z",
     "iopub.status.busy": "2022-11-03T15:15:58.927675Z",
     "iopub.status.idle": "2022-11-03T15:15:58.975704Z",
     "shell.execute_reply": "2022-11-03T15:15:58.974439Z"
    },
    "papermill": {
     "duration": 0.05954,
     "end_time": "2022-11-03T15:15:58.978802",
     "exception": false,
     "start_time": "2022-11-03T15:15:58.919262",
     "status": "completed"
    },
    "tags": []
   },
   "outputs": [],
   "source": [
    "fourier = CalendarFourier(freq =\"M\",order=12)\n",
    "\n",
    "dp = DeterministicProcess(\n",
    "index=y.index,\n",
    "constant=True,\n",
    "order=1,\n",
    "additional_terms=[fourier],\n",
    "drop=True\n",
    ")\n",
    "X= dp.in_sample()\n",
    "X['NewYear'] = X.index.dayofyear ==1"
   ]
  },
  {
   "cell_type": "code",
   "execution_count": 20,
   "id": "25c8bddc",
   "metadata": {
    "execution": {
     "iopub.execute_input": "2022-11-03T15:15:58.992887Z",
     "iopub.status.busy": "2022-11-03T15:15:58.992172Z",
     "iopub.status.idle": "2022-11-03T15:15:59.019489Z",
     "shell.execute_reply": "2022-11-03T15:15:59.018295Z"
    },
    "papermill": {
     "duration": 0.038171,
     "end_time": "2022-11-03T15:15:59.022821",
     "exception": false,
     "start_time": "2022-11-03T15:15:58.984650",
     "status": "completed"
    },
    "tags": []
   },
   "outputs": [
    {
     "data": {
      "text/plain": "            const  trend  sin(1,freq=M)  cos(1,freq=M)  sin(2,freq=M)  \\\ndate                                                                    \n2017-01-01    1.0    1.0       0.000000       1.000000       0.000000   \n2017-01-02    1.0    2.0       0.201299       0.979530       0.394356   \n2017-01-03    1.0    3.0       0.394356       0.918958       0.724793   \n2017-01-04    1.0    4.0       0.571268       0.820763       0.937752   \n2017-01-05    1.0    5.0       0.724793       0.688967       0.998717   \n...           ...    ...            ...            ...            ...   \n2017-08-11    1.0  223.0       0.897805      -0.440394      -0.790776   \n2017-08-12    1.0  224.0       0.790776      -0.612106      -0.968077   \n2017-08-13    1.0  225.0       0.651372      -0.758758      -0.988468   \n2017-08-14    1.0  226.0       0.485302      -0.874347      -0.848644   \n2017-08-15    1.0  227.0       0.299363      -0.954139      -0.571268   \n\n            cos(2,freq=M)  sin(3,freq=M)  cos(3,freq=M)  sin(4,freq=M)  \\\ndate                                                                     \n2017-01-01       1.000000       0.000000       1.000000       0.000000   \n2017-01-02       0.918958       0.571268       0.820763       0.724793   \n2017-01-03       0.688967       0.937752       0.347305       0.998717   \n2017-01-04       0.347305       0.968077      -0.250653       0.651372   \n2017-01-05      -0.050649       0.651372      -0.758758      -0.101168   \n...                   ...            ...            ...            ...   \n2017-08-11      -0.612106      -0.201299       0.979530       0.968077   \n2017-08-12      -0.250653       0.394356       0.918958       0.485302   \n2017-08-13       0.151428       0.848644       0.528964      -0.299363   \n2017-08-14       0.528964       0.998717      -0.050649      -0.897805   \n2017-08-15       0.820763       0.790776      -0.612106      -0.937752   \n\n            cos(4,freq=M)  ...  cos(8,freq=M)  sin(9,freq=M)  cos(9,freq=M)  \\\ndate                       ...                                                \n2017-01-01       1.000000  ...       1.000000       0.000000       1.000000   \n2017-01-02       0.688967  ...      -0.050649       0.968077      -0.250653   \n2017-01-03      -0.050649  ...      -0.994869      -0.485302      -0.874347   \n2017-01-04      -0.758758  ...       0.151428      -0.724793       0.688967   \n2017-01-05      -0.994869  ...       0.979530       0.848644       0.528964   \n...                   ...  ...            ...            ...            ...   \n2017-08-11      -0.250653  ...      -0.874347      -0.571268       0.820763   \n2017-08-12      -0.874347  ...       0.528964       0.937752       0.347305   \n2017-08-13      -0.954139  ...       0.820763       0.101168      -0.994869   \n2017-08-14      -0.440394  ...      -0.612106      -0.988468       0.151428   \n2017-08-15       0.347305  ...      -0.758758       0.394356       0.918958   \n\n            sin(10,freq=M)  cos(10,freq=M)  sin(11,freq=M)  cos(11,freq=M)  \\\ndate                                                                         \n2017-01-01        0.000000        1.000000        0.000000        1.000000   \n2017-01-02        0.897805       -0.440394        0.790776       -0.612106   \n2017-01-03       -0.790776       -0.612106       -0.968077       -0.250653   \n2017-01-04       -0.201299        0.979530        0.394356        0.918958   \n2017-01-05        0.968077       -0.250653        0.485302       -0.874347   \n...                    ...             ...             ...             ...   \n2017-08-11        0.988468        0.151428       -0.299363       -0.954139   \n2017-08-12       -0.299363       -0.954139       -0.571268        0.820763   \n2017-08-13       -0.724793        0.688967        0.998717       -0.050649   \n2017-08-14        0.937752        0.347305       -0.651372       -0.758758   \n2017-08-15       -0.101168       -0.994869       -0.201299        0.979530   \n\n            sin(12,freq=M)  cos(12,freq=M)  NewYear  \ndate                                                 \n2017-01-01        0.000000        1.000000     True  \n2017-01-02        0.651372       -0.758758    False  \n2017-01-03       -0.988468        0.151428    False  \n2017-01-04        0.848644        0.528964    False  \n2017-01-05       -0.299363       -0.954139    False  \n...                    ...             ...      ...  \n2017-08-11       -0.724793        0.688967    False  \n2017-08-12        0.998717       -0.050649    False  \n2017-08-13       -0.790776       -0.612106    False  \n2017-08-14        0.201299        0.979530    False  \n2017-08-15        0.485302       -0.874347    False  \n\n[227 rows x 27 columns]",
      "text/html": "<div>\n<style scoped>\n    .dataframe tbody tr th:only-of-type {\n        vertical-align: middle;\n    }\n\n    .dataframe tbody tr th {\n        vertical-align: top;\n    }\n\n    .dataframe thead th {\n        text-align: right;\n    }\n</style>\n<table border=\"1\" class=\"dataframe\">\n  <thead>\n    <tr style=\"text-align: right;\">\n      <th></th>\n      <th>const</th>\n      <th>trend</th>\n      <th>sin(1,freq=M)</th>\n      <th>cos(1,freq=M)</th>\n      <th>sin(2,freq=M)</th>\n      <th>cos(2,freq=M)</th>\n      <th>sin(3,freq=M)</th>\n      <th>cos(3,freq=M)</th>\n      <th>sin(4,freq=M)</th>\n      <th>cos(4,freq=M)</th>\n      <th>...</th>\n      <th>cos(8,freq=M)</th>\n      <th>sin(9,freq=M)</th>\n      <th>cos(9,freq=M)</th>\n      <th>sin(10,freq=M)</th>\n      <th>cos(10,freq=M)</th>\n      <th>sin(11,freq=M)</th>\n      <th>cos(11,freq=M)</th>\n      <th>sin(12,freq=M)</th>\n      <th>cos(12,freq=M)</th>\n      <th>NewYear</th>\n    </tr>\n    <tr>\n      <th>date</th>\n      <th></th>\n      <th></th>\n      <th></th>\n      <th></th>\n      <th></th>\n      <th></th>\n      <th></th>\n      <th></th>\n      <th></th>\n      <th></th>\n      <th></th>\n      <th></th>\n      <th></th>\n      <th></th>\n      <th></th>\n      <th></th>\n      <th></th>\n      <th></th>\n      <th></th>\n      <th></th>\n      <th></th>\n    </tr>\n  </thead>\n  <tbody>\n    <tr>\n      <th>2017-01-01</th>\n      <td>1.0</td>\n      <td>1.0</td>\n      <td>0.000000</td>\n      <td>1.000000</td>\n      <td>0.000000</td>\n      <td>1.000000</td>\n      <td>0.000000</td>\n      <td>1.000000</td>\n      <td>0.000000</td>\n      <td>1.000000</td>\n      <td>...</td>\n      <td>1.000000</td>\n      <td>0.000000</td>\n      <td>1.000000</td>\n      <td>0.000000</td>\n      <td>1.000000</td>\n      <td>0.000000</td>\n      <td>1.000000</td>\n      <td>0.000000</td>\n      <td>1.000000</td>\n      <td>True</td>\n    </tr>\n    <tr>\n      <th>2017-01-02</th>\n      <td>1.0</td>\n      <td>2.0</td>\n      <td>0.201299</td>\n      <td>0.979530</td>\n      <td>0.394356</td>\n      <td>0.918958</td>\n      <td>0.571268</td>\n      <td>0.820763</td>\n      <td>0.724793</td>\n      <td>0.688967</td>\n      <td>...</td>\n      <td>-0.050649</td>\n      <td>0.968077</td>\n      <td>-0.250653</td>\n      <td>0.897805</td>\n      <td>-0.440394</td>\n      <td>0.790776</td>\n      <td>-0.612106</td>\n      <td>0.651372</td>\n      <td>-0.758758</td>\n      <td>False</td>\n    </tr>\n    <tr>\n      <th>2017-01-03</th>\n      <td>1.0</td>\n      <td>3.0</td>\n      <td>0.394356</td>\n      <td>0.918958</td>\n      <td>0.724793</td>\n      <td>0.688967</td>\n      <td>0.937752</td>\n      <td>0.347305</td>\n      <td>0.998717</td>\n      <td>-0.050649</td>\n      <td>...</td>\n      <td>-0.994869</td>\n      <td>-0.485302</td>\n      <td>-0.874347</td>\n      <td>-0.790776</td>\n      <td>-0.612106</td>\n      <td>-0.968077</td>\n      <td>-0.250653</td>\n      <td>-0.988468</td>\n      <td>0.151428</td>\n      <td>False</td>\n    </tr>\n    <tr>\n      <th>2017-01-04</th>\n      <td>1.0</td>\n      <td>4.0</td>\n      <td>0.571268</td>\n      <td>0.820763</td>\n      <td>0.937752</td>\n      <td>0.347305</td>\n      <td>0.968077</td>\n      <td>-0.250653</td>\n      <td>0.651372</td>\n      <td>-0.758758</td>\n      <td>...</td>\n      <td>0.151428</td>\n      <td>-0.724793</td>\n      <td>0.688967</td>\n      <td>-0.201299</td>\n      <td>0.979530</td>\n      <td>0.394356</td>\n      <td>0.918958</td>\n      <td>0.848644</td>\n      <td>0.528964</td>\n      <td>False</td>\n    </tr>\n    <tr>\n      <th>2017-01-05</th>\n      <td>1.0</td>\n      <td>5.0</td>\n      <td>0.724793</td>\n      <td>0.688967</td>\n      <td>0.998717</td>\n      <td>-0.050649</td>\n      <td>0.651372</td>\n      <td>-0.758758</td>\n      <td>-0.101168</td>\n      <td>-0.994869</td>\n      <td>...</td>\n      <td>0.979530</td>\n      <td>0.848644</td>\n      <td>0.528964</td>\n      <td>0.968077</td>\n      <td>-0.250653</td>\n      <td>0.485302</td>\n      <td>-0.874347</td>\n      <td>-0.299363</td>\n      <td>-0.954139</td>\n      <td>False</td>\n    </tr>\n    <tr>\n      <th>...</th>\n      <td>...</td>\n      <td>...</td>\n      <td>...</td>\n      <td>...</td>\n      <td>...</td>\n      <td>...</td>\n      <td>...</td>\n      <td>...</td>\n      <td>...</td>\n      <td>...</td>\n      <td>...</td>\n      <td>...</td>\n      <td>...</td>\n      <td>...</td>\n      <td>...</td>\n      <td>...</td>\n      <td>...</td>\n      <td>...</td>\n      <td>...</td>\n      <td>...</td>\n      <td>...</td>\n    </tr>\n    <tr>\n      <th>2017-08-11</th>\n      <td>1.0</td>\n      <td>223.0</td>\n      <td>0.897805</td>\n      <td>-0.440394</td>\n      <td>-0.790776</td>\n      <td>-0.612106</td>\n      <td>-0.201299</td>\n      <td>0.979530</td>\n      <td>0.968077</td>\n      <td>-0.250653</td>\n      <td>...</td>\n      <td>-0.874347</td>\n      <td>-0.571268</td>\n      <td>0.820763</td>\n      <td>0.988468</td>\n      <td>0.151428</td>\n      <td>-0.299363</td>\n      <td>-0.954139</td>\n      <td>-0.724793</td>\n      <td>0.688967</td>\n      <td>False</td>\n    </tr>\n    <tr>\n      <th>2017-08-12</th>\n      <td>1.0</td>\n      <td>224.0</td>\n      <td>0.790776</td>\n      <td>-0.612106</td>\n      <td>-0.968077</td>\n      <td>-0.250653</td>\n      <td>0.394356</td>\n      <td>0.918958</td>\n      <td>0.485302</td>\n      <td>-0.874347</td>\n      <td>...</td>\n      <td>0.528964</td>\n      <td>0.937752</td>\n      <td>0.347305</td>\n      <td>-0.299363</td>\n      <td>-0.954139</td>\n      <td>-0.571268</td>\n      <td>0.820763</td>\n      <td>0.998717</td>\n      <td>-0.050649</td>\n      <td>False</td>\n    </tr>\n    <tr>\n      <th>2017-08-13</th>\n      <td>1.0</td>\n      <td>225.0</td>\n      <td>0.651372</td>\n      <td>-0.758758</td>\n      <td>-0.988468</td>\n      <td>0.151428</td>\n      <td>0.848644</td>\n      <td>0.528964</td>\n      <td>-0.299363</td>\n      <td>-0.954139</td>\n      <td>...</td>\n      <td>0.820763</td>\n      <td>0.101168</td>\n      <td>-0.994869</td>\n      <td>-0.724793</td>\n      <td>0.688967</td>\n      <td>0.998717</td>\n      <td>-0.050649</td>\n      <td>-0.790776</td>\n      <td>-0.612106</td>\n      <td>False</td>\n    </tr>\n    <tr>\n      <th>2017-08-14</th>\n      <td>1.0</td>\n      <td>226.0</td>\n      <td>0.485302</td>\n      <td>-0.874347</td>\n      <td>-0.848644</td>\n      <td>0.528964</td>\n      <td>0.998717</td>\n      <td>-0.050649</td>\n      <td>-0.897805</td>\n      <td>-0.440394</td>\n      <td>...</td>\n      <td>-0.612106</td>\n      <td>-0.988468</td>\n      <td>0.151428</td>\n      <td>0.937752</td>\n      <td>0.347305</td>\n      <td>-0.651372</td>\n      <td>-0.758758</td>\n      <td>0.201299</td>\n      <td>0.979530</td>\n      <td>False</td>\n    </tr>\n    <tr>\n      <th>2017-08-15</th>\n      <td>1.0</td>\n      <td>227.0</td>\n      <td>0.299363</td>\n      <td>-0.954139</td>\n      <td>-0.571268</td>\n      <td>0.820763</td>\n      <td>0.790776</td>\n      <td>-0.612106</td>\n      <td>-0.937752</td>\n      <td>0.347305</td>\n      <td>...</td>\n      <td>-0.758758</td>\n      <td>0.394356</td>\n      <td>0.918958</td>\n      <td>-0.101168</td>\n      <td>-0.994869</td>\n      <td>-0.201299</td>\n      <td>0.979530</td>\n      <td>0.485302</td>\n      <td>-0.874347</td>\n      <td>False</td>\n    </tr>\n  </tbody>\n</table>\n<p>227 rows × 27 columns</p>\n</div>"
     },
     "execution_count": 20,
     "metadata": {},
     "output_type": "execute_result"
    }
   ],
   "source": [
    "X"
   ]
  },
  {
   "cell_type": "code",
   "execution_count": 15,
   "id": "c16c1f69",
   "metadata": {
    "execution": {
     "iopub.execute_input": "2022-11-03T15:15:59.042777Z",
     "iopub.status.busy": "2022-11-03T15:15:59.041645Z",
     "iopub.status.idle": "2022-11-03T15:16:27.324670Z",
     "shell.execute_reply": "2022-11-03T15:16:27.323454Z"
    },
    "papermill": {
     "duration": 28.295253,
     "end_time": "2022-11-03T15:16:27.327534",
     "exception": false,
     "start_time": "2022-11-03T15:15:59.032281",
     "status": "completed"
    },
    "tags": []
   },
   "outputs": [
    {
     "data": {
      "text/plain": "RandomForestRegressor(n_estimators=250, random_state=2022)",
      "text/html": "<style>#sk-container-id-1 {color: black;background-color: white;}#sk-container-id-1 pre{padding: 0;}#sk-container-id-1 div.sk-toggleable {background-color: white;}#sk-container-id-1 label.sk-toggleable__label {cursor: pointer;display: block;width: 100%;margin-bottom: 0;padding: 0.3em;box-sizing: border-box;text-align: center;}#sk-container-id-1 label.sk-toggleable__label-arrow:before {content: \"▸\";float: left;margin-right: 0.25em;color: #696969;}#sk-container-id-1 label.sk-toggleable__label-arrow:hover:before {color: black;}#sk-container-id-1 div.sk-estimator:hover label.sk-toggleable__label-arrow:before {color: black;}#sk-container-id-1 div.sk-toggleable__content {max-height: 0;max-width: 0;overflow: hidden;text-align: left;background-color: #f0f8ff;}#sk-container-id-1 div.sk-toggleable__content pre {margin: 0.2em;color: black;border-radius: 0.25em;background-color: #f0f8ff;}#sk-container-id-1 input.sk-toggleable__control:checked~div.sk-toggleable__content {max-height: 200px;max-width: 100%;overflow: auto;}#sk-container-id-1 input.sk-toggleable__control:checked~label.sk-toggleable__label-arrow:before {content: \"▾\";}#sk-container-id-1 div.sk-estimator input.sk-toggleable__control:checked~label.sk-toggleable__label {background-color: #d4ebff;}#sk-container-id-1 div.sk-label input.sk-toggleable__control:checked~label.sk-toggleable__label {background-color: #d4ebff;}#sk-container-id-1 input.sk-hidden--visually {border: 0;clip: rect(1px 1px 1px 1px);clip: rect(1px, 1px, 1px, 1px);height: 1px;margin: -1px;overflow: hidden;padding: 0;position: absolute;width: 1px;}#sk-container-id-1 div.sk-estimator {font-family: monospace;background-color: #f0f8ff;border: 1px dotted black;border-radius: 0.25em;box-sizing: border-box;margin-bottom: 0.5em;}#sk-container-id-1 div.sk-estimator:hover {background-color: #d4ebff;}#sk-container-id-1 div.sk-parallel-item::after {content: \"\";width: 100%;border-bottom: 1px solid gray;flex-grow: 1;}#sk-container-id-1 div.sk-label:hover label.sk-toggleable__label {background-color: #d4ebff;}#sk-container-id-1 div.sk-serial::before {content: \"\";position: absolute;border-left: 1px solid gray;box-sizing: border-box;top: 0;bottom: 0;left: 50%;z-index: 0;}#sk-container-id-1 div.sk-serial {display: flex;flex-direction: column;align-items: center;background-color: white;padding-right: 0.2em;padding-left: 0.2em;position: relative;}#sk-container-id-1 div.sk-item {position: relative;z-index: 1;}#sk-container-id-1 div.sk-parallel {display: flex;align-items: stretch;justify-content: center;background-color: white;position: relative;}#sk-container-id-1 div.sk-item::before, #sk-container-id-1 div.sk-parallel-item::before {content: \"\";position: absolute;border-left: 1px solid gray;box-sizing: border-box;top: 0;bottom: 0;left: 50%;z-index: -1;}#sk-container-id-1 div.sk-parallel-item {display: flex;flex-direction: column;z-index: 1;position: relative;background-color: white;}#sk-container-id-1 div.sk-parallel-item:first-child::after {align-self: flex-end;width: 50%;}#sk-container-id-1 div.sk-parallel-item:last-child::after {align-self: flex-start;width: 50%;}#sk-container-id-1 div.sk-parallel-item:only-child::after {width: 0;}#sk-container-id-1 div.sk-dashed-wrapped {border: 1px dashed gray;margin: 0 0.4em 0.5em 0.4em;box-sizing: border-box;padding-bottom: 0.4em;background-color: white;}#sk-container-id-1 div.sk-label label {font-family: monospace;font-weight: bold;display: inline-block;line-height: 1.2em;}#sk-container-id-1 div.sk-label-container {text-align: center;}#sk-container-id-1 div.sk-container {/* jupyter's `normalize.less` sets `[hidden] { display: none; }` but bootstrap.min.css set `[hidden] { display: none !important; }` so we also need the `!important` here to be able to override the default hidden behavior on the sphinx rendered scikit-learn.org. See: https://github.com/scikit-learn/scikit-learn/issues/21755 */display: inline-block !important;position: relative;}#sk-container-id-1 div.sk-text-repr-fallback {display: none;}</style><div id=\"sk-container-id-1\" class=\"sk-top-container\"><div class=\"sk-text-repr-fallback\"><pre>RandomForestRegressor(n_estimators=250, random_state=2022)</pre><b>In a Jupyter environment, please rerun this cell to show the HTML representation or trust the notebook. <br />On GitHub, the HTML representation is unable to render, please try loading this page with nbviewer.org.</b></div><div class=\"sk-container\" hidden><div class=\"sk-item\"><div class=\"sk-estimator sk-toggleable\"><input class=\"sk-toggleable__control sk-hidden--visually\" id=\"sk-estimator-id-1\" type=\"checkbox\" checked><label for=\"sk-estimator-id-1\" class=\"sk-toggleable__label sk-toggleable__label-arrow\">RandomForestRegressor</label><div class=\"sk-toggleable__content\"><pre>RandomForestRegressor(n_estimators=250, random_state=2022)</pre></div></div></div></div></div>"
     },
     "execution_count": 15,
     "metadata": {},
     "output_type": "execute_result"
    }
   ],
   "source": [
    "model_rf = RandomForestRegressor(n_estimators=250,random_state=2022, verbose=0)\n",
    "\n",
    "model_rf.fit(X, y)"
   ]
  },
  {
   "cell_type": "code",
   "execution_count": 16,
   "id": "fcae8bad",
   "metadata": {
    "execution": {
     "iopub.execute_input": "2022-11-03T15:16:27.341530Z",
     "iopub.status.busy": "2022-11-03T15:16:27.341134Z",
     "iopub.status.idle": "2022-11-03T15:16:27.564306Z",
     "shell.execute_reply": "2022-11-03T15:16:27.563318Z"
    },
    "papermill": {
     "duration": 0.232967,
     "end_time": "2022-11-03T15:16:27.566822",
     "exception": false,
     "start_time": "2022-11-03T15:16:27.333855",
     "status": "completed"
    },
    "tags": []
   },
   "outputs": [],
   "source": [
    "y_pred = pd.DataFrame(model_rf.predict(X), index=X.index, columns=y.columns)"
   ]
  },
  {
   "cell_type": "code",
   "execution_count": 21,
   "outputs": [
    {
     "data": {
      "text/plain": "                sales                                                 \\\nstore_nbr           1                                                  \nfamily     AUTOMOTIVE BABY CARE BEAUTY BEVERAGES  BOOKS BREAD/BAKERY   \ndate                                                                   \n2017-01-01      1.608       0.0  1.280   819.020  0.188   144.787423   \n2017-01-02      3.976       0.0  1.172  1492.740  0.220   207.400348   \n2017-01-03      3.932       0.0  4.324  2650.536  1.336   448.468141   \n2017-01-04      2.264       0.0  3.820  2673.556  1.476   470.790157   \n2017-01-05      2.076       0.0  2.756  2306.408  0.260   445.052456   \n...               ...       ...    ...       ...    ...          ...   \n2017-08-11      2.600       0.0  1.952  1397.240  0.180   207.144751   \n2017-08-12      5.548       0.0  3.436  1804.840  0.024   276.657818   \n2017-08-13      2.732       0.0  2.288  1226.208  0.012   204.409397   \n2017-08-14      2.120       0.0  4.744  2141.552  0.276   323.472563   \n2017-08-15      4.476       0.0  4.016  1984.628  0.004   321.917717   \n\n                                                      ...            \\\nstore_nbr                                             ...         9   \nfamily     CELEBRATION CLEANING    DAIRY        DELI  ... MAGAZINES   \ndate                                                  ...             \n2017-01-01       2.392  278.196  286.036   46.258880  ...     1.512   \n2017-01-02       3.884  402.860  436.712   61.412820  ...     3.844   \n2017-01-03      13.752  827.028  898.244  174.593134  ...     3.244   \n2017-01-04      14.512  873.548  902.296  129.147072  ...     3.460   \n2017-01-05      27.856  772.992  758.408  125.559638  ...     2.260   \n...                ...      ...      ...         ...  ...       ...   \n2017-08-11       7.936  452.244  460.484   83.335606  ...     4.680   \n2017-08-12       5.776  452.260  580.012  106.005783  ...     2.648   \n2017-08-13       5.676  313.052  416.816   72.932028  ...     2.996   \n2017-08-14       8.240  582.040  670.844  149.118061  ...     8.832   \n2017-08-15      18.748  654.700  606.216  117.287421  ...     8.140   \n\n                                                                           \\\nstore_nbr                                                                   \nfamily           MEATS PERSONAL CARE PET SUPPLIES PLAYERS AND ELECTRONICS   \ndate                                                                        \n2017-01-01  186.516798       290.288        3.352                   6.736   \n2017-01-02  529.753992       922.408        8.784                  29.144   \n2017-01-03  491.625640       758.028        6.844                  15.452   \n2017-01-04  422.345404       658.080        7.152                  13.880   \n2017-01-05  480.955275       647.540        7.744                  12.904   \n...                ...           ...          ...                     ...   \n2017-08-11  331.159338       379.872        9.396                   3.928   \n2017-08-12  289.527994       406.508        7.168                   8.840   \n2017-08-13  361.608204       470.272        4.900                   9.044   \n2017-08-14  332.008156       424.060        3.328                  11.364   \n2017-08-15  410.432540       505.636        7.472                   7.544   \n\n                                                                               \\\nstore_nbr                                                                       \nfamily         POULTRY PREPARED FOODS      PRODUCE SCHOOL AND OFFICE SUPPLIES   \ndate                                                                            \n2017-01-01  219.010038      49.531847   755.665761                      1.372   \n2017-01-02  649.370486     105.645705  2427.899368                      1.368   \n2017-01-03  637.943856     121.946649  2620.404354                      1.488   \n2017-01-04  538.722578     101.283266  1695.216154                      5.008   \n2017-01-05  477.440406     118.723582  1809.191690                      1.520   \n...                ...            ...          ...                        ...   \n2017-08-11  469.504991     112.366011  1574.213595                    107.640   \n2017-08-12  387.472027     121.639626  1467.821646                    114.880   \n2017-08-13  406.535176     107.432215  1619.680557                    139.904   \n2017-08-14  340.199639     116.346841  1423.931616                    140.884   \n2017-08-15  443.470123     143.191705  2085.631871                     97.248   \n\n                       \nstore_nbr              \nfamily        SEAFOOD  \ndate                   \n2017-01-01   7.289900  \n2017-01-02  17.046768  \n2017-01-03  14.369384  \n2017-01-04   7.400000  \n2017-01-05  18.235100  \n...               ...  \n2017-08-11  20.394232  \n2017-08-12  16.762749  \n2017-08-13  19.203520  \n2017-08-14  17.239348  \n2017-08-15  20.125388  \n\n[227 rows x 1782 columns]",
      "text/html": "<div>\n<style scoped>\n    .dataframe tbody tr th:only-of-type {\n        vertical-align: middle;\n    }\n\n    .dataframe tbody tr th {\n        vertical-align: top;\n    }\n\n    .dataframe thead tr th {\n        text-align: left;\n    }\n\n    .dataframe thead tr:last-of-type th {\n        text-align: right;\n    }\n</style>\n<table border=\"1\" class=\"dataframe\">\n  <thead>\n    <tr>\n      <th></th>\n      <th colspan=\"21\" halign=\"left\">sales</th>\n    </tr>\n    <tr>\n      <th>store_nbr</th>\n      <th colspan=\"10\" halign=\"left\">1</th>\n      <th>...</th>\n      <th colspan=\"10\" halign=\"left\">9</th>\n    </tr>\n    <tr>\n      <th>family</th>\n      <th>AUTOMOTIVE</th>\n      <th>BABY CARE</th>\n      <th>BEAUTY</th>\n      <th>BEVERAGES</th>\n      <th>BOOKS</th>\n      <th>BREAD/BAKERY</th>\n      <th>CELEBRATION</th>\n      <th>CLEANING</th>\n      <th>DAIRY</th>\n      <th>DELI</th>\n      <th>...</th>\n      <th>MAGAZINES</th>\n      <th>MEATS</th>\n      <th>PERSONAL CARE</th>\n      <th>PET SUPPLIES</th>\n      <th>PLAYERS AND ELECTRONICS</th>\n      <th>POULTRY</th>\n      <th>PREPARED FOODS</th>\n      <th>PRODUCE</th>\n      <th>SCHOOL AND OFFICE SUPPLIES</th>\n      <th>SEAFOOD</th>\n    </tr>\n    <tr>\n      <th>date</th>\n      <th></th>\n      <th></th>\n      <th></th>\n      <th></th>\n      <th></th>\n      <th></th>\n      <th></th>\n      <th></th>\n      <th></th>\n      <th></th>\n      <th></th>\n      <th></th>\n      <th></th>\n      <th></th>\n      <th></th>\n      <th></th>\n      <th></th>\n      <th></th>\n      <th></th>\n      <th></th>\n      <th></th>\n    </tr>\n  </thead>\n  <tbody>\n    <tr>\n      <th>2017-01-01</th>\n      <td>1.608</td>\n      <td>0.0</td>\n      <td>1.280</td>\n      <td>819.020</td>\n      <td>0.188</td>\n      <td>144.787423</td>\n      <td>2.392</td>\n      <td>278.196</td>\n      <td>286.036</td>\n      <td>46.258880</td>\n      <td>...</td>\n      <td>1.512</td>\n      <td>186.516798</td>\n      <td>290.288</td>\n      <td>3.352</td>\n      <td>6.736</td>\n      <td>219.010038</td>\n      <td>49.531847</td>\n      <td>755.665761</td>\n      <td>1.372</td>\n      <td>7.289900</td>\n    </tr>\n    <tr>\n      <th>2017-01-02</th>\n      <td>3.976</td>\n      <td>0.0</td>\n      <td>1.172</td>\n      <td>1492.740</td>\n      <td>0.220</td>\n      <td>207.400348</td>\n      <td>3.884</td>\n      <td>402.860</td>\n      <td>436.712</td>\n      <td>61.412820</td>\n      <td>...</td>\n      <td>3.844</td>\n      <td>529.753992</td>\n      <td>922.408</td>\n      <td>8.784</td>\n      <td>29.144</td>\n      <td>649.370486</td>\n      <td>105.645705</td>\n      <td>2427.899368</td>\n      <td>1.368</td>\n      <td>17.046768</td>\n    </tr>\n    <tr>\n      <th>2017-01-03</th>\n      <td>3.932</td>\n      <td>0.0</td>\n      <td>4.324</td>\n      <td>2650.536</td>\n      <td>1.336</td>\n      <td>448.468141</td>\n      <td>13.752</td>\n      <td>827.028</td>\n      <td>898.244</td>\n      <td>174.593134</td>\n      <td>...</td>\n      <td>3.244</td>\n      <td>491.625640</td>\n      <td>758.028</td>\n      <td>6.844</td>\n      <td>15.452</td>\n      <td>637.943856</td>\n      <td>121.946649</td>\n      <td>2620.404354</td>\n      <td>1.488</td>\n      <td>14.369384</td>\n    </tr>\n    <tr>\n      <th>2017-01-04</th>\n      <td>2.264</td>\n      <td>0.0</td>\n      <td>3.820</td>\n      <td>2673.556</td>\n      <td>1.476</td>\n      <td>470.790157</td>\n      <td>14.512</td>\n      <td>873.548</td>\n      <td>902.296</td>\n      <td>129.147072</td>\n      <td>...</td>\n      <td>3.460</td>\n      <td>422.345404</td>\n      <td>658.080</td>\n      <td>7.152</td>\n      <td>13.880</td>\n      <td>538.722578</td>\n      <td>101.283266</td>\n      <td>1695.216154</td>\n      <td>5.008</td>\n      <td>7.400000</td>\n    </tr>\n    <tr>\n      <th>2017-01-05</th>\n      <td>2.076</td>\n      <td>0.0</td>\n      <td>2.756</td>\n      <td>2306.408</td>\n      <td>0.260</td>\n      <td>445.052456</td>\n      <td>27.856</td>\n      <td>772.992</td>\n      <td>758.408</td>\n      <td>125.559638</td>\n      <td>...</td>\n      <td>2.260</td>\n      <td>480.955275</td>\n      <td>647.540</td>\n      <td>7.744</td>\n      <td>12.904</td>\n      <td>477.440406</td>\n      <td>118.723582</td>\n      <td>1809.191690</td>\n      <td>1.520</td>\n      <td>18.235100</td>\n    </tr>\n    <tr>\n      <th>...</th>\n      <td>...</td>\n      <td>...</td>\n      <td>...</td>\n      <td>...</td>\n      <td>...</td>\n      <td>...</td>\n      <td>...</td>\n      <td>...</td>\n      <td>...</td>\n      <td>...</td>\n      <td>...</td>\n      <td>...</td>\n      <td>...</td>\n      <td>...</td>\n      <td>...</td>\n      <td>...</td>\n      <td>...</td>\n      <td>...</td>\n      <td>...</td>\n      <td>...</td>\n      <td>...</td>\n    </tr>\n    <tr>\n      <th>2017-08-11</th>\n      <td>2.600</td>\n      <td>0.0</td>\n      <td>1.952</td>\n      <td>1397.240</td>\n      <td>0.180</td>\n      <td>207.144751</td>\n      <td>7.936</td>\n      <td>452.244</td>\n      <td>460.484</td>\n      <td>83.335606</td>\n      <td>...</td>\n      <td>4.680</td>\n      <td>331.159338</td>\n      <td>379.872</td>\n      <td>9.396</td>\n      <td>3.928</td>\n      <td>469.504991</td>\n      <td>112.366011</td>\n      <td>1574.213595</td>\n      <td>107.640</td>\n      <td>20.394232</td>\n    </tr>\n    <tr>\n      <th>2017-08-12</th>\n      <td>5.548</td>\n      <td>0.0</td>\n      <td>3.436</td>\n      <td>1804.840</td>\n      <td>0.024</td>\n      <td>276.657818</td>\n      <td>5.776</td>\n      <td>452.260</td>\n      <td>580.012</td>\n      <td>106.005783</td>\n      <td>...</td>\n      <td>2.648</td>\n      <td>289.527994</td>\n      <td>406.508</td>\n      <td>7.168</td>\n      <td>8.840</td>\n      <td>387.472027</td>\n      <td>121.639626</td>\n      <td>1467.821646</td>\n      <td>114.880</td>\n      <td>16.762749</td>\n    </tr>\n    <tr>\n      <th>2017-08-13</th>\n      <td>2.732</td>\n      <td>0.0</td>\n      <td>2.288</td>\n      <td>1226.208</td>\n      <td>0.012</td>\n      <td>204.409397</td>\n      <td>5.676</td>\n      <td>313.052</td>\n      <td>416.816</td>\n      <td>72.932028</td>\n      <td>...</td>\n      <td>2.996</td>\n      <td>361.608204</td>\n      <td>470.272</td>\n      <td>4.900</td>\n      <td>9.044</td>\n      <td>406.535176</td>\n      <td>107.432215</td>\n      <td>1619.680557</td>\n      <td>139.904</td>\n      <td>19.203520</td>\n    </tr>\n    <tr>\n      <th>2017-08-14</th>\n      <td>2.120</td>\n      <td>0.0</td>\n      <td>4.744</td>\n      <td>2141.552</td>\n      <td>0.276</td>\n      <td>323.472563</td>\n      <td>8.240</td>\n      <td>582.040</td>\n      <td>670.844</td>\n      <td>149.118061</td>\n      <td>...</td>\n      <td>8.832</td>\n      <td>332.008156</td>\n      <td>424.060</td>\n      <td>3.328</td>\n      <td>11.364</td>\n      <td>340.199639</td>\n      <td>116.346841</td>\n      <td>1423.931616</td>\n      <td>140.884</td>\n      <td>17.239348</td>\n    </tr>\n    <tr>\n      <th>2017-08-15</th>\n      <td>4.476</td>\n      <td>0.0</td>\n      <td>4.016</td>\n      <td>1984.628</td>\n      <td>0.004</td>\n      <td>321.917717</td>\n      <td>18.748</td>\n      <td>654.700</td>\n      <td>606.216</td>\n      <td>117.287421</td>\n      <td>...</td>\n      <td>8.140</td>\n      <td>410.432540</td>\n      <td>505.636</td>\n      <td>7.472</td>\n      <td>7.544</td>\n      <td>443.470123</td>\n      <td>143.191705</td>\n      <td>2085.631871</td>\n      <td>97.248</td>\n      <td>20.125388</td>\n    </tr>\n  </tbody>\n</table>\n<p>227 rows × 1782 columns</p>\n</div>"
     },
     "execution_count": 21,
     "metadata": {},
     "output_type": "execute_result"
    }
   ],
   "source": [
    "y_pred"
   ],
   "metadata": {
    "collapsed": false
   }
  },
  {
   "cell_type": "code",
   "execution_count": 18,
   "id": "2267b132",
   "metadata": {
    "execution": {
     "iopub.execute_input": "2022-11-03T15:16:27.582786Z",
     "iopub.status.busy": "2022-11-03T15:16:27.581701Z",
     "iopub.status.idle": "2022-11-03T15:16:27.652862Z",
     "shell.execute_reply": "2022-11-03T15:16:27.651849Z"
    },
    "papermill": {
     "duration": 0.080986,
     "end_time": "2022-11-03T15:16:27.655298",
     "exception": false,
     "start_time": "2022-11-03T15:16:27.574312",
     "status": "completed"
    },
    "tags": []
   },
   "outputs": [],
   "source": [
    "df_test = pd.read_csv(\n",
    "    r'C:\\Users\\derek.filko\\DataspellProjects\\Kaggle\\Store Sales\\data\\test.csv',\n",
    "    dtype={\n",
    "        'store_nbr': 'category',\n",
    "        'family': 'category',\n",
    "        'onpromotion': 'uint32',\n",
    "    },\n",
    "    parse_dates=['date'],\n",
    "    infer_datetime_format=True,\n",
    ")\n",
    "df_test['date'] = df_test.date.dt.to_period('D')\n",
    "df_test = df_test.set_index(['store_nbr', 'family', 'date']).sort_index()\n",
    "\n",
    "# Create features for test set\n",
    "X_test = dp.out_of_sample(steps=16)\n",
    "X_test.index.name = 'date'\n",
    "X_test['NewYear'] = (X_test.index.dayofyear == 1)"
   ]
  },
  {
   "cell_type": "code",
   "execution_count": 19,
   "id": "9a8c4ab7",
   "metadata": {
    "execution": {
     "iopub.execute_input": "2022-11-03T15:16:27.669261Z",
     "iopub.status.busy": "2022-11-03T15:16:27.668852Z",
     "iopub.status.idle": "2022-11-03T15:16:28.111012Z",
     "shell.execute_reply": "2022-11-03T15:16:28.109966Z"
    },
    "papermill": {
     "duration": 0.452203,
     "end_time": "2022-11-03T15:16:28.113676",
     "exception": false,
     "start_time": "2022-11-03T15:16:27.661473",
     "status": "completed"
    },
    "tags": []
   },
   "outputs": [],
   "source": [
    "y_submit_rf = pd.DataFrame(model_rf.predict(X_test), index=X_test.index, columns=y.columns)\n",
    "y_submit_rf= y_submit_rf.stack(['store_nbr', 'family'])\n",
    "y_submit_rf = y_submit_rf.join(df_test.id).reindex(columns=['id', 'sales'])\n",
    "y_submit_rf.to_csv('submission.csv', index=False)"
   ]
  },
  {
   "cell_type": "code",
   "execution_count": 19,
   "id": "6c650d4f",
   "metadata": {
    "papermill": {
     "duration": 0.006014,
     "end_time": "2022-11-03T15:16:28.126171",
     "exception": false,
     "start_time": "2022-11-03T15:16:28.120157",
     "status": "completed"
    },
    "tags": []
   },
   "outputs": [],
   "source": []
  }
 ],
 "metadata": {
  "kernelspec": {
   "display_name": "Python 3",
   "language": "python",
   "name": "python3"
  },
  "language_info": {
   "codemirror_mode": {
    "name": "ipython",
    "version": 3
   },
   "file_extension": ".py",
   "mimetype": "text/x-python",
   "name": "python",
   "nbconvert_exporter": "python",
   "pygments_lexer": "ipython3",
   "version": "3.7.12"
  },
  "papermill": {
   "default_parameters": {},
   "duration": 47.950615,
   "end_time": "2022-11-03T15:16:29.056144",
   "environment_variables": {},
   "exception": null,
   "input_path": "__notebook__.ipynb",
   "output_path": "__notebook__.ipynb",
   "parameters": {},
   "start_time": "2022-11-03T15:15:41.105529",
   "version": "2.3.4"
  }
 },
 "nbformat": 4,
 "nbformat_minor": 5
}
