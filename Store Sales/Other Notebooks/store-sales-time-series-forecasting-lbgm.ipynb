{
 "cells": [
  {
   "cell_type": "code",
   "execution_count": 54,
   "id": "45fb003c",
   "metadata": {
    "_cell_guid": "b1076dfc-b9ad-4769-8c92-a6c4dae69d19",
    "_uuid": "8f2839f25d086af736a60e9eeb907d3b93b6e0e5",
    "execution": {
     "iopub.execute_input": "2022-08-09T08:02:16.738495Z",
     "iopub.status.busy": "2022-08-09T08:02:16.737256Z",
     "iopub.status.idle": "2022-08-09T08:02:16.752406Z",
     "shell.execute_reply": "2022-08-09T08:02:16.751531Z"
    },
    "papermill": {
     "duration": 0.030154,
     "end_time": "2022-08-09T08:02:16.755422",
     "exception": false,
     "start_time": "2022-08-09T08:02:16.725268",
     "status": "completed"
    },
    "tags": []
   },
   "outputs": [],
   "source": [
    "# This Python 3 environment comes with many helpful analytics libraries installed\n",
    "# It is defined by the kaggle/python Docker image: https://github.com/kaggle/docker-python\n",
    "# For example, here's several helpful packages to load\n",
    "\n",
    "import numpy as np # linear algebra\n",
    "import pandas as pd # data processing, CSV file I/O (e.g. pd.read_csv)\n",
    "\n",
    "# Input data files are available in the read-only \"../input/\" directory\n",
    "# For example, running this (by clicking run or pressing Shift+Enter) will list all files under the input directory\n",
    "\n",
    "import os\n",
    "for dirname, _, filenames in os.walk('/kaggle/input'):\n",
    "    for filename in filenames:\n",
    "        print(os.path.join(dirname, filename))\n",
    "\n",
    "# You can write up to 20GB to the current directory (/kaggle/working/) that gets preserved as output when you create a version using \"Save & Run All\" \n",
    "# You can also write temporary files to /kaggle/temp/, but they won't be saved outside of the current session"
   ]
  },
  {
   "cell_type": "code",
   "execution_count": 55,
   "id": "4b551e34",
   "metadata": {
    "execution": {
     "iopub.execute_input": "2022-08-09T08:02:16.777037Z",
     "iopub.status.busy": "2022-08-09T08:02:16.776074Z",
     "iopub.status.idle": "2022-08-09T08:02:19.268946Z",
     "shell.execute_reply": "2022-08-09T08:02:19.267974Z"
    },
    "papermill": {
     "duration": 2.505467,
     "end_time": "2022-08-09T08:02:19.271693",
     "exception": false,
     "start_time": "2022-08-09T08:02:16.766226",
     "status": "completed"
    },
    "tags": []
   },
   "outputs": [],
   "source": [
    "# Import necessary libraries and make necessary arrangements\n",
    "import time\n",
    "import numpy as np\n",
    "import pandas as pd\n",
    "from matplotlib import pyplot as plt\n",
    "import seaborn as sns\n",
    "import xgboost \n",
    "import lightgbm as lgb\n",
    "import warnings\n",
    "from sklearn.preprocessing import LabelEncoder\n",
    "\n",
    "pd.set_option('display.max_columns', None)\n",
    "pd.set_option('display.width', 500)\n",
    "warnings.filterwarnings('ignore')"
   ]
  },
  {
   "cell_type": "code",
   "execution_count": 56,
   "id": "75a2fa65",
   "metadata": {
    "execution": {
     "iopub.execute_input": "2022-08-09T08:02:19.292824Z",
     "iopub.status.busy": "2022-08-09T08:02:19.291649Z",
     "iopub.status.idle": "2022-08-09T08:02:19.310092Z",
     "shell.execute_reply": "2022-08-09T08:02:19.308912Z"
    },
    "papermill": {
     "duration": 0.031708,
     "end_time": "2022-08-09T08:02:19.312791",
     "exception": false,
     "start_time": "2022-08-09T08:02:19.281083",
     "status": "completed"
    },
    "tags": []
   },
   "outputs": [],
   "source": [
    "\n",
    "# Date Features\n",
    "def create_date_features(df):\n",
    "    df['month'] = df.Date.dt.month\n",
    "    df['day_of_month'] = df.Date.dt.day\n",
    "    df['day_of_year'] = df.Date.dt.dayofyear\n",
    "    df['week_of_year'] = df.Date.dt.weekofyear\n",
    "    df['day_of_week'] = df.Date.dt.dayofweek\n",
    "    df['year'] = df.Date.dt.year\n",
    "    #df[\"is_wknd\"] = df.Date.dt.weekday // 4\n",
    "    #df['is_month_start'] = df.Date.dt.is_month_start.astype(int)\n",
    "    #df['is_month_end'] = df.Date.dt.is_month_end.astype(int)\n",
    "    return df\n",
    "\n",
    "# Random Noise\n",
    "def random_noise(dataframe):\n",
    "    return np.random.normal(scale=2.0, size=(len(dataframe),))\n",
    "\n",
    "# Lag/Shifted Features\n",
    "def lag_features(dataframe, lags):\n",
    "    for lag in lags:\n",
    "        dataframe['sales_lag_' + str(lag)] = dataframe.groupby([\"store_nbr\", \"family\"])['sales'].transform(\n",
    "            lambda x: x.shift(lag)) + random_noise(dataframe)\n",
    "    return dataframe\n",
    "\n",
    "# Rolling Mean Features\n",
    "def roll_mean_features(dataframe, windows):\n",
    "    for window in windows:\n",
    "        dataframe['sales_roll_mean_' + str(window)] = dataframe.groupby([\"store_nbr\", \"family\"])['sales']. \\\n",
    "                                                          transform(\n",
    "            lambda x: x.shift(16).rolling(window=window, min_periods=7, win_type=\"triang\").mean()) + random_noise(\n",
    "            dataframe)\n",
    "    return dataframe\n",
    "\n",
    "# Exponentially Weighted Mean Features\n",
    "def ewm_features(dataframe, alphas, lags):\n",
    "    for alpha in alphas:\n",
    "        for lag in lags:\n",
    "            dataframe['sales_ewm_alpha_' + str(alpha).replace(\".\", \"\") + \"_lag_\" + str(lag)] = \\\n",
    "                dataframe.groupby([\"store_nbr\", \"family\"])['sales'].transform(lambda x: x.shift(lag).ewm(alpha=alpha).mean())\n",
    "    return dataframe\n",
    "\n",
    "\n",
    "# Feature Importance\n",
    "def plot_lgb_importances(model, plot=False, num=10):\n",
    "\n",
    "    gain = model.feature_importance('gain')\n",
    "    feat_imp = pd.DataFrame({'feature': model.feature_name(),\n",
    "                             'split': model.feature_importance('split'),\n",
    "                             'gain': 100 * gain / gain.sum()}).sort_values('gain', ascending=False)\n",
    "    if plot:\n",
    "        plt.figure(figsize=(10, 10))\n",
    "        sns.set(font_scale=1)\n",
    "        sns.barplot(x=\"gain\", y=\"feature\", data=feat_imp[0:25])\n",
    "        plt.title('feature')\n",
    "        plt.tight_layout()\n",
    "        plt.show()\n",
    "    else:\n",
    "        print(feat_imp.head(num))\n",
    "        "
   ]
  },
  {
   "cell_type": "code",
   "execution_count": 57,
   "id": "85b34545",
   "metadata": {
    "execution": {
     "iopub.execute_input": "2022-08-09T08:02:19.332983Z",
     "iopub.status.busy": "2022-08-09T08:02:19.332203Z",
     "iopub.status.idle": "2022-08-09T08:02:25.093090Z",
     "shell.execute_reply": "2022-08-09T08:02:25.091757Z"
    },
    "papermill": {
     "duration": 5.774492,
     "end_time": "2022-08-09T08:02:25.096168",
     "exception": false,
     "start_time": "2022-08-09T08:02:19.321676",
     "status": "completed"
    },
    "tags": []
   },
   "outputs": [],
   "source": [
    "df_train=pd.read_csv(r\"C:\\Users\\derek.filko\\DataspellProjects\\Kaggle\\Store Sales\\data\\train.csv\",index_col=0)\n",
    "df_test =pd.read_csv(r\"C:\\Users\\derek.filko\\DataspellProjects\\Kaggle\\Store Sales\\data\\test.csv\",index_col=0)\n",
    "df_transactions = pd.read_csv(r\"C:\\Users\\derek.filko\\DataspellProjects\\Kaggle\\Store Sales\\data\\transactions.csv\")\n",
    "df_stores = pd.read_csv(r\"C:\\Users\\derek.filko\\DataspellProjects\\Kaggle\\Store Sales\\data\\stores.csv\")\n",
    "df_holidays = pd.read_csv(r\"C:\\Users\\derek.filko\\DataspellProjects\\Kaggle\\Store Sales\\data\\holidays_events.csv\")\n",
    "\n",
    "df_oil = pd.read_csv(r\"C:\\Users\\derek.filko\\DataspellProjects\\Kaggle\\Store Sales\\data\\oil.csv\")\n",
    "df_oil['date'] = df_oil['date'].astype(\"datetime64\")\n",
    "df_date = pd.DataFrame(pd.date_range(\"2013-01-01\",\"2017-08-31\"),columns=[\"date\"])\n",
    "df_oil = df_date.merge(df_oil,left_on='date',right_on='date',how='left').fillna(method='ffill').fillna(method='bfill')"
   ]
  },
  {
   "cell_type": "code",
   "execution_count": 58,
   "id": "11f865d0",
   "metadata": {
    "execution": {
     "iopub.execute_input": "2022-08-09T08:02:25.117630Z",
     "iopub.status.busy": "2022-08-09T08:02:25.116376Z",
     "iopub.status.idle": "2022-08-09T08:03:10.442976Z",
     "shell.execute_reply": "2022-08-09T08:03:10.441602Z"
    },
    "papermill": {
     "duration": 45.340635,
     "end_time": "2022-08-09T08:03:10.446018",
     "exception": false,
     "start_time": "2022-08-09T08:02:25.105383",
     "status": "completed"
    },
    "tags": []
   },
   "outputs": [],
   "source": [
    "df_all = df_train.append(df_test)\n",
    "df_all = df_all.merge(df_stores,left_on=\"store_nbr\",right_on=\"store_nbr\",how=\"left\")\n",
    "df_holidays = df_holidays.rename(columns = {\"type\":\"Holiday_type\"})\n",
    "df_all = df_all.merge(df_holidays,left_on=\"date\",right_on=\"date\",how=\"left\")\n",
    "df_all = df_all.merge(df_transactions,left_on=[\"date\",\"store_nbr\"],right_on=[\"date\",\"store_nbr\"],how=\"left\")\n",
    "df_all[\"date\"] = df_all[\"date\"].astype(\"datetime64\")\n",
    "df_all = df_all.merge(df_oil,left_on=\"date\",right_on=\"date\",how=\"left\")\n",
    "df_all = df_all.replace(\",\",\"_\",regex=True)\n",
    "df_all = df_all.rename(columns = {\"date\":\"Date\"})"
   ]
  },
  {
   "cell_type": "code",
   "execution_count": 59,
   "id": "c1eb205a",
   "metadata": {
    "execution": {
     "iopub.execute_input": "2022-08-09T08:03:10.466688Z",
     "iopub.status.busy": "2022-08-09T08:03:10.465710Z",
     "iopub.status.idle": "2022-08-09T08:03:10.706659Z",
     "shell.execute_reply": "2022-08-09T08:03:10.705387Z"
    },
    "papermill": {
     "duration": 0.254009,
     "end_time": "2022-08-09T08:03:10.709280",
     "exception": false,
     "start_time": "2022-08-09T08:03:10.455271",
     "status": "completed"
    },
    "tags": []
   },
   "outputs": [],
   "source": [
    "# df_all[\"family\"].unique()"
   ]
  },
  {
   "cell_type": "code",
   "execution_count": 60,
   "id": "6ec251fe",
   "metadata": {
    "execution": {
     "iopub.execute_input": "2022-08-09T08:03:10.729943Z",
     "iopub.status.busy": "2022-08-09T08:03:10.729465Z",
     "iopub.status.idle": "2022-08-09T08:03:10.739514Z",
     "shell.execute_reply": "2022-08-09T08:03:10.738638Z"
    },
    "papermill": {
     "duration": 0.023027,
     "end_time": "2022-08-09T08:03:10.741674",
     "exception": false,
     "start_time": "2022-08-09T08:03:10.718647",
     "status": "completed"
    },
    "tags": []
   },
   "outputs": [],
   "source": [
    "#df_all.columns"
   ]
  },
  {
   "cell_type": "code",
   "execution_count": 61,
   "id": "4c230702",
   "metadata": {
    "execution": {
     "iopub.execute_input": "2022-08-09T08:03:10.762184Z",
     "iopub.status.busy": "2022-08-09T08:03:10.761715Z",
     "iopub.status.idle": "2022-08-09T08:03:11.066663Z",
     "shell.execute_reply": "2022-08-09T08:03:11.065495Z"
    },
    "papermill": {
     "duration": 0.318318,
     "end_time": "2022-08-09T08:03:11.069219",
     "exception": false,
     "start_time": "2022-08-09T08:03:10.750901",
     "status": "completed"
    },
    "tags": []
   },
   "outputs": [],
   "source": [
    "# df_all[\"description\"].nunique(),df_all[\"transferred\"].nunique()"
   ]
  },
  {
   "cell_type": "code",
   "execution_count": 62,
   "id": "0911e1fa",
   "metadata": {
    "execution": {
     "iopub.execute_input": "2022-08-09T08:03:11.090750Z",
     "iopub.status.busy": "2022-08-09T08:03:11.090233Z",
     "iopub.status.idle": "2022-08-09T08:03:11.329161Z",
     "shell.execute_reply": "2022-08-09T08:03:11.328284Z"
    },
    "papermill": {
     "duration": 0.251769,
     "end_time": "2022-08-09T08:03:11.331350",
     "exception": false,
     "start_time": "2022-08-09T08:03:11.079581",
     "status": "completed"
    },
    "tags": []
   },
   "outputs": [],
   "source": [
    "#df_all[(df_all[\"store_nbr\"]==9) & (df_all[\"family\"]==\"AUTOMOTIVE\")].tail(10)"
   ]
  },
  {
   "cell_type": "code",
   "execution_count": 63,
   "id": "f8e468f9",
   "metadata": {
    "execution": {
     "iopub.execute_input": "2022-08-09T08:03:11.353286Z",
     "iopub.status.busy": "2022-08-09T08:03:11.352471Z",
     "iopub.status.idle": "2022-08-09T08:03:11.626359Z",
     "shell.execute_reply": "2022-08-09T08:03:11.625088Z"
    },
    "papermill": {
     "duration": 0.288139,
     "end_time": "2022-08-09T08:03:11.629232",
     "exception": false,
     "start_time": "2022-08-09T08:03:11.341093",
     "status": "completed"
    },
    "tags": []
   },
   "outputs": [],
   "source": [
    "col = ['Date',\n",
    "       'store_nbr', \n",
    "       'family', \n",
    "       'sales', \n",
    "       'onpromotion', \n",
    "       #'city', \n",
    "       #'state',\n",
    "       #'type', \n",
    "       'cluster', \n",
    "       'Holiday_type', \n",
    "       'locale', \n",
    "       #'locale_name',\n",
    "       'description', \n",
    "       'transferred',\n",
    "       'dcoilwtico'\n",
    "      ]\n",
    "df = df_all[col]"
   ]
  },
  {
   "cell_type": "code",
   "execution_count": 64,
   "id": "735198fc",
   "metadata": {
    "execution": {
     "iopub.execute_input": "2022-08-09T08:03:11.651367Z",
     "iopub.status.busy": "2022-08-09T08:03:11.650282Z",
     "iopub.status.idle": "2022-08-09T08:03:11.669182Z",
     "shell.execute_reply": "2022-08-09T08:03:11.668163Z"
    },
    "papermill": {
     "duration": 0.032457,
     "end_time": "2022-08-09T08:03:11.671474",
     "exception": false,
     "start_time": "2022-08-09T08:03:11.639017",
     "status": "completed"
    },
    "tags": []
   },
   "outputs": [
    {
     "data": {
      "text/plain": "        Date  store_nbr      family  sales  onpromotion  cluster Holiday_type    locale         description transferred  dcoilwtico\n0 2013-01-01          1  AUTOMOTIVE    0.0            0       13      Holiday  National  Primer dia del ano       False       93.14\n1 2013-01-01          1   BABY CARE    0.0            0       13      Holiday  National  Primer dia del ano       False       93.14\n2 2013-01-01          1      BEAUTY    0.0            0       13      Holiday  National  Primer dia del ano       False       93.14\n3 2013-01-01          1   BEVERAGES    0.0            0       13      Holiday  National  Primer dia del ano       False       93.14\n4 2013-01-01          1       BOOKS    0.0            0       13      Holiday  National  Primer dia del ano       False       93.14",
      "text/html": "<div>\n<style scoped>\n    .dataframe tbody tr th:only-of-type {\n        vertical-align: middle;\n    }\n\n    .dataframe tbody tr th {\n        vertical-align: top;\n    }\n\n    .dataframe thead th {\n        text-align: right;\n    }\n</style>\n<table border=\"1\" class=\"dataframe\">\n  <thead>\n    <tr style=\"text-align: right;\">\n      <th></th>\n      <th>Date</th>\n      <th>store_nbr</th>\n      <th>family</th>\n      <th>sales</th>\n      <th>onpromotion</th>\n      <th>cluster</th>\n      <th>Holiday_type</th>\n      <th>locale</th>\n      <th>description</th>\n      <th>transferred</th>\n      <th>dcoilwtico</th>\n    </tr>\n  </thead>\n  <tbody>\n    <tr>\n      <th>0</th>\n      <td>2013-01-01</td>\n      <td>1</td>\n      <td>AUTOMOTIVE</td>\n      <td>0.0</td>\n      <td>0</td>\n      <td>13</td>\n      <td>Holiday</td>\n      <td>National</td>\n      <td>Primer dia del ano</td>\n      <td>False</td>\n      <td>93.14</td>\n    </tr>\n    <tr>\n      <th>1</th>\n      <td>2013-01-01</td>\n      <td>1</td>\n      <td>BABY CARE</td>\n      <td>0.0</td>\n      <td>0</td>\n      <td>13</td>\n      <td>Holiday</td>\n      <td>National</td>\n      <td>Primer dia del ano</td>\n      <td>False</td>\n      <td>93.14</td>\n    </tr>\n    <tr>\n      <th>2</th>\n      <td>2013-01-01</td>\n      <td>1</td>\n      <td>BEAUTY</td>\n      <td>0.0</td>\n      <td>0</td>\n      <td>13</td>\n      <td>Holiday</td>\n      <td>National</td>\n      <td>Primer dia del ano</td>\n      <td>False</td>\n      <td>93.14</td>\n    </tr>\n    <tr>\n      <th>3</th>\n      <td>2013-01-01</td>\n      <td>1</td>\n      <td>BEVERAGES</td>\n      <td>0.0</td>\n      <td>0</td>\n      <td>13</td>\n      <td>Holiday</td>\n      <td>National</td>\n      <td>Primer dia del ano</td>\n      <td>False</td>\n      <td>93.14</td>\n    </tr>\n    <tr>\n      <th>4</th>\n      <td>2013-01-01</td>\n      <td>1</td>\n      <td>BOOKS</td>\n      <td>0.0</td>\n      <td>0</td>\n      <td>13</td>\n      <td>Holiday</td>\n      <td>National</td>\n      <td>Primer dia del ano</td>\n      <td>False</td>\n      <td>93.14</td>\n    </tr>\n  </tbody>\n</table>\n</div>"
     },
     "execution_count": 64,
     "metadata": {},
     "output_type": "execute_result"
    }
   ],
   "source": [
    "df.head()"
   ]
  },
  {
   "cell_type": "code",
   "execution_count": 65,
   "id": "e1c60f70",
   "metadata": {
    "execution": {
     "iopub.execute_input": "2022-08-09T08:03:11.693614Z",
     "iopub.status.busy": "2022-08-09T08:03:11.692788Z",
     "iopub.status.idle": "2022-08-09T08:03:11.956951Z",
     "shell.execute_reply": "2022-08-09T08:03:11.955772Z"
    },
    "papermill": {
     "duration": 0.277797,
     "end_time": "2022-08-09T08:03:11.959317",
     "exception": false,
     "start_time": "2022-08-09T08:03:11.681520",
     "status": "completed"
    },
    "tags": []
   },
   "outputs": [],
   "source": [
    "#df[\"store_nbr\"].nunique(),df[\"family\"].nunique()"
   ]
  },
  {
   "cell_type": "code",
   "execution_count": 66,
   "id": "5033fe13",
   "metadata": {
    "execution": {
     "iopub.execute_input": "2022-08-09T08:03:11.981086Z",
     "iopub.status.busy": "2022-08-09T08:03:11.980601Z",
     "iopub.status.idle": "2022-08-09T08:03:13.782136Z",
     "shell.execute_reply": "2022-08-09T08:03:13.780734Z"
    },
    "papermill": {
     "duration": 1.816002,
     "end_time": "2022-08-09T08:03:13.785352",
     "exception": false,
     "start_time": "2022-08-09T08:03:11.969350",
     "status": "completed"
    },
    "tags": []
   },
   "outputs": [],
   "source": [
    "df.loc[:,\"store_nbr\"] = df[\"store_nbr\"].astype(\"category\")\n",
    "df.loc[:,\"family\"] = df[\"family\"].astype(\"category\")\n",
    "df.loc[:,\"onpromotion\"] = df[\"onpromotion\"].astype(\"int64\")\n",
    "#df.loc[:,\"city\"] = df[\"city\"].astype(\"category\")\n",
    "#df.loc[:,\"state\"] = df[\"state\"].astype(\"category\")\n",
    "#df.loc[:,\"type\"] = df[\"type\"].astype(\"category\")\n",
    "df.loc[:,\"Holiday_type\"] = df[\"Holiday_type\"].astype(\"category\")\n",
    "df.loc[:,\"locale\"] = df[\"locale\"].astype(\"category\")\n",
    "#df.loc[:,\"locale_name\"] = df[\"locale_name\"].astype(\"category\")\n",
    "df.loc[:,\"description\"] = df[\"description\"].astype(\"category\")\n",
    "df.loc[:,\"transferred\"] = df[\"transferred\"].astype(\"category\")"
   ]
  },
  {
   "cell_type": "code",
   "execution_count": 67,
   "id": "d679ea11",
   "metadata": {
    "execution": {
     "iopub.execute_input": "2022-08-09T08:03:13.808004Z",
     "iopub.status.busy": "2022-08-09T08:03:13.806756Z",
     "iopub.status.idle": "2022-08-09T08:03:14.323587Z",
     "shell.execute_reply": "2022-08-09T08:03:14.322165Z"
    },
    "papermill": {
     "duration": 0.531245,
     "end_time": "2022-08-09T08:03:14.326529",
     "exception": false,
     "start_time": "2022-08-09T08:03:13.795284",
     "status": "completed"
    },
    "tags": []
   },
   "outputs": [],
   "source": [
    "zero_index = df.groupby([\"store_nbr\",\"family\"]).sum()[df.groupby([\"store_nbr\",\"family\"]).sum()[\"sales\"]==0].index"
   ]
  },
  {
   "cell_type": "markdown",
   "id": "ab0591c3",
   "metadata": {
    "execution": {
     "iopub.status.busy": "2022-08-08T01:41:06.102058Z",
     "iopub.status.idle": "2022-08-08T01:41:06.103071Z",
     "shell.execute_reply": "2022-08-08T01:41:06.102819Z",
     "shell.execute_reply.started": "2022-08-08T01:41:06.102792Z"
    },
    "papermill": {
     "duration": 0.009506,
     "end_time": "2022-08-09T08:03:14.346000",
     "exception": false,
     "start_time": "2022-08-09T08:03:14.336494",
     "status": "completed"
    },
    "tags": []
   },
   "source": [
    "## Data Engineering"
   ]
  },
  {
   "cell_type": "code",
   "execution_count": 68,
   "id": "63def48e",
   "metadata": {
    "execution": {
     "iopub.execute_input": "2022-08-09T08:03:14.368283Z",
     "iopub.status.busy": "2022-08-09T08:03:14.367761Z",
     "iopub.status.idle": "2022-08-09T08:04:09.359125Z",
     "shell.execute_reply": "2022-08-09T08:04:09.357729Z"
    },
    "papermill": {
     "duration": 55.006453,
     "end_time": "2022-08-09T08:04:09.362226",
     "exception": false,
     "start_time": "2022-08-09T08:03:14.355773",
     "status": "completed"
    },
    "tags": []
   },
   "outputs": [
    {
     "data": {
      "text/plain": "              Date store_nbr                      family  sales  onpromotion  cluster Holiday_type    locale         description transferred  dcoilwtico  month  day_of_month  day_of_year  week_of_year  day_of_week  year\n0       2013-01-01         1                  AUTOMOTIVE    0.0            0       13      Holiday  National  Primer dia del ano       False       93.14      1             1            1             1            1  2013\n1       2013-01-01         1                   BABY CARE    0.0            0       13      Holiday  National  Primer dia del ano       False       93.14      1             1            1             1            1  2013\n2       2013-01-01         1                      BEAUTY    0.0            0       13      Holiday  National  Primer dia del ano       False       93.14      1             1            1             1            1  2013\n3       2013-01-01         1                   BEVERAGES    0.0            0       13      Holiday  National  Primer dia del ano       False       93.14      1             1            1             1            1  2013\n4       2013-01-01         1                       BOOKS    0.0            0       13      Holiday  National  Primer dia del ano       False       93.14      1             1            1             1            1  2013\n...            ...       ...                         ...    ...          ...      ...          ...       ...                 ...         ...         ...    ...           ...          ...           ...          ...   ...\n3082855 2017-08-31         9                     POULTRY    NaN            1        6          NaN       NaN                 NaN         NaN       47.26      8            31          243            35            3  2017\n3082856 2017-08-31         9              PREPARED FOODS    NaN            0        6          NaN       NaN                 NaN         NaN       47.26      8            31          243            35            3  2017\n3082857 2017-08-31         9                     PRODUCE    NaN            1        6          NaN       NaN                 NaN         NaN       47.26      8            31          243            35            3  2017\n3082858 2017-08-31         9  SCHOOL AND OFFICE SUPPLIES    NaN            9        6          NaN       NaN                 NaN         NaN       47.26      8            31          243            35            3  2017\n3082859 2017-08-31         9                     SEAFOOD    NaN            0        6          NaN       NaN                 NaN         NaN       47.26      8            31          243            35            3  2017\n\n[3082860 rows x 17 columns]",
      "text/html": "<div>\n<style scoped>\n    .dataframe tbody tr th:only-of-type {\n        vertical-align: middle;\n    }\n\n    .dataframe tbody tr th {\n        vertical-align: top;\n    }\n\n    .dataframe thead th {\n        text-align: right;\n    }\n</style>\n<table border=\"1\" class=\"dataframe\">\n  <thead>\n    <tr style=\"text-align: right;\">\n      <th></th>\n      <th>Date</th>\n      <th>store_nbr</th>\n      <th>family</th>\n      <th>sales</th>\n      <th>onpromotion</th>\n      <th>cluster</th>\n      <th>Holiday_type</th>\n      <th>locale</th>\n      <th>description</th>\n      <th>transferred</th>\n      <th>dcoilwtico</th>\n      <th>month</th>\n      <th>day_of_month</th>\n      <th>day_of_year</th>\n      <th>week_of_year</th>\n      <th>day_of_week</th>\n      <th>year</th>\n    </tr>\n  </thead>\n  <tbody>\n    <tr>\n      <th>0</th>\n      <td>2013-01-01</td>\n      <td>1</td>\n      <td>AUTOMOTIVE</td>\n      <td>0.0</td>\n      <td>0</td>\n      <td>13</td>\n      <td>Holiday</td>\n      <td>National</td>\n      <td>Primer dia del ano</td>\n      <td>False</td>\n      <td>93.14</td>\n      <td>1</td>\n      <td>1</td>\n      <td>1</td>\n      <td>1</td>\n      <td>1</td>\n      <td>2013</td>\n    </tr>\n    <tr>\n      <th>1</th>\n      <td>2013-01-01</td>\n      <td>1</td>\n      <td>BABY CARE</td>\n      <td>0.0</td>\n      <td>0</td>\n      <td>13</td>\n      <td>Holiday</td>\n      <td>National</td>\n      <td>Primer dia del ano</td>\n      <td>False</td>\n      <td>93.14</td>\n      <td>1</td>\n      <td>1</td>\n      <td>1</td>\n      <td>1</td>\n      <td>1</td>\n      <td>2013</td>\n    </tr>\n    <tr>\n      <th>2</th>\n      <td>2013-01-01</td>\n      <td>1</td>\n      <td>BEAUTY</td>\n      <td>0.0</td>\n      <td>0</td>\n      <td>13</td>\n      <td>Holiday</td>\n      <td>National</td>\n      <td>Primer dia del ano</td>\n      <td>False</td>\n      <td>93.14</td>\n      <td>1</td>\n      <td>1</td>\n      <td>1</td>\n      <td>1</td>\n      <td>1</td>\n      <td>2013</td>\n    </tr>\n    <tr>\n      <th>3</th>\n      <td>2013-01-01</td>\n      <td>1</td>\n      <td>BEVERAGES</td>\n      <td>0.0</td>\n      <td>0</td>\n      <td>13</td>\n      <td>Holiday</td>\n      <td>National</td>\n      <td>Primer dia del ano</td>\n      <td>False</td>\n      <td>93.14</td>\n      <td>1</td>\n      <td>1</td>\n      <td>1</td>\n      <td>1</td>\n      <td>1</td>\n      <td>2013</td>\n    </tr>\n    <tr>\n      <th>4</th>\n      <td>2013-01-01</td>\n      <td>1</td>\n      <td>BOOKS</td>\n      <td>0.0</td>\n      <td>0</td>\n      <td>13</td>\n      <td>Holiday</td>\n      <td>National</td>\n      <td>Primer dia del ano</td>\n      <td>False</td>\n      <td>93.14</td>\n      <td>1</td>\n      <td>1</td>\n      <td>1</td>\n      <td>1</td>\n      <td>1</td>\n      <td>2013</td>\n    </tr>\n    <tr>\n      <th>...</th>\n      <td>...</td>\n      <td>...</td>\n      <td>...</td>\n      <td>...</td>\n      <td>...</td>\n      <td>...</td>\n      <td>...</td>\n      <td>...</td>\n      <td>...</td>\n      <td>...</td>\n      <td>...</td>\n      <td>...</td>\n      <td>...</td>\n      <td>...</td>\n      <td>...</td>\n      <td>...</td>\n      <td>...</td>\n    </tr>\n    <tr>\n      <th>3082855</th>\n      <td>2017-08-31</td>\n      <td>9</td>\n      <td>POULTRY</td>\n      <td>NaN</td>\n      <td>1</td>\n      <td>6</td>\n      <td>NaN</td>\n      <td>NaN</td>\n      <td>NaN</td>\n      <td>NaN</td>\n      <td>47.26</td>\n      <td>8</td>\n      <td>31</td>\n      <td>243</td>\n      <td>35</td>\n      <td>3</td>\n      <td>2017</td>\n    </tr>\n    <tr>\n      <th>3082856</th>\n      <td>2017-08-31</td>\n      <td>9</td>\n      <td>PREPARED FOODS</td>\n      <td>NaN</td>\n      <td>0</td>\n      <td>6</td>\n      <td>NaN</td>\n      <td>NaN</td>\n      <td>NaN</td>\n      <td>NaN</td>\n      <td>47.26</td>\n      <td>8</td>\n      <td>31</td>\n      <td>243</td>\n      <td>35</td>\n      <td>3</td>\n      <td>2017</td>\n    </tr>\n    <tr>\n      <th>3082857</th>\n      <td>2017-08-31</td>\n      <td>9</td>\n      <td>PRODUCE</td>\n      <td>NaN</td>\n      <td>1</td>\n      <td>6</td>\n      <td>NaN</td>\n      <td>NaN</td>\n      <td>NaN</td>\n      <td>NaN</td>\n      <td>47.26</td>\n      <td>8</td>\n      <td>31</td>\n      <td>243</td>\n      <td>35</td>\n      <td>3</td>\n      <td>2017</td>\n    </tr>\n    <tr>\n      <th>3082858</th>\n      <td>2017-08-31</td>\n      <td>9</td>\n      <td>SCHOOL AND OFFICE SUPPLIES</td>\n      <td>NaN</td>\n      <td>9</td>\n      <td>6</td>\n      <td>NaN</td>\n      <td>NaN</td>\n      <td>NaN</td>\n      <td>NaN</td>\n      <td>47.26</td>\n      <td>8</td>\n      <td>31</td>\n      <td>243</td>\n      <td>35</td>\n      <td>3</td>\n      <td>2017</td>\n    </tr>\n    <tr>\n      <th>3082859</th>\n      <td>2017-08-31</td>\n      <td>9</td>\n      <td>SEAFOOD</td>\n      <td>NaN</td>\n      <td>0</td>\n      <td>6</td>\n      <td>NaN</td>\n      <td>NaN</td>\n      <td>NaN</td>\n      <td>NaN</td>\n      <td>47.26</td>\n      <td>8</td>\n      <td>31</td>\n      <td>243</td>\n      <td>35</td>\n      <td>3</td>\n      <td>2017</td>\n    </tr>\n  </tbody>\n</table>\n<p>3082860 rows × 17 columns</p>\n</div>"
     },
     "execution_count": 68,
     "metadata": {},
     "output_type": "execute_result"
    }
   ],
   "source": [
    "df = create_date_features(df)\n",
    "df"
   ]
  },
  {
   "cell_type": "code",
   "execution_count": 69,
   "outputs": [
    {
     "data": {
      "text/plain": "              Date store_nbr                      family  sales  onpromotion  cluster Holiday_type    locale         description transferred  dcoilwtico  month  day_of_month  day_of_year  week_of_year  day_of_week  year  sales_lag_16  sales_lag_17  sales_lag_18  sales_lag_19  sales_lag_20  sales_lag_21  sales_lag_22  sales_lag_30  sales_lag_31  sales_lag_90  sales_lag_180  sales_lag_365\n0       2013-01-01         1                  AUTOMOTIVE    0.0            0       13      Holiday  National  Primer dia del ano       False       93.14      1             1            1             1            1  2013           NaN           NaN           NaN           NaN           NaN           NaN           NaN           NaN           NaN           NaN            NaN            NaN\n1       2013-01-01         1                   BABY CARE    0.0            0       13      Holiday  National  Primer dia del ano       False       93.14      1             1            1             1            1  2013           NaN           NaN           NaN           NaN           NaN           NaN           NaN           NaN           NaN           NaN            NaN            NaN\n2       2013-01-01         1                      BEAUTY    0.0            0       13      Holiday  National  Primer dia del ano       False       93.14      1             1            1             1            1  2013           NaN           NaN           NaN           NaN           NaN           NaN           NaN           NaN           NaN           NaN            NaN            NaN\n3       2013-01-01         1                   BEVERAGES    0.0            0       13      Holiday  National  Primer dia del ano       False       93.14      1             1            1             1            1  2013           NaN           NaN           NaN           NaN           NaN           NaN           NaN           NaN           NaN           NaN            NaN            NaN\n4       2013-01-01         1                       BOOKS    0.0            0       13      Holiday  National  Primer dia del ano       False       93.14      1             1            1             1            1  2013           NaN           NaN           NaN           NaN           NaN           NaN           NaN           NaN           NaN           NaN            NaN            NaN\n...            ...       ...                         ...    ...          ...      ...          ...       ...                 ...         ...         ...    ...           ...          ...           ...          ...   ...           ...           ...           ...           ...           ...           ...           ...           ...           ...           ...            ...            ...\n3082855 2017-08-31         9                     POULTRY    NaN            1        6          NaN       NaN                 NaN         NaN       47.26      8            31          243            35            3  2017    435.755473    282.505360    413.782082    384.115154    525.528939    290.796086    332.678810    566.281279    473.214692    551.353420     283.269116     416.741037\n3082856 2017-08-31         9              PREPARED FOODS    NaN            0        6          NaN       NaN                 NaN         NaN       47.26      8            31          243            35            3  2017    156.486040    113.868494    108.953551    127.234476    112.136607    110.659742    121.020592     50.946707     60.034310     76.312500      92.841726     130.432708\n3082857 2017-08-31         9                     PRODUCE    NaN            1        6          NaN       NaN                 NaN         NaN       47.26      8            31          243            35            3  2017   2421.221216   1347.222555   1695.463557   1415.734929   1454.047609   1033.642038   1308.517105   2471.012492   1514.452487   1688.925054    1148.455425    1353.662611\n3082858 2017-08-31         9  SCHOOL AND OFFICE SUPPLIES    NaN            9        6          NaN       NaN                 NaN         NaN       47.26      8            31          243            35            3  2017    117.857629    180.622164    199.154060    135.884946    141.753131    150.523136     83.966247    205.411060     51.792784      7.512636       7.967606      82.581263\n3082859 2017-08-31         9                     SEAFOOD    NaN            0        6          NaN       NaN                 NaN         NaN       47.26      8            31          243            35            3  2017     17.891686     12.701756     24.198703     17.978969     22.133592     13.085442     19.014188     17.291129     12.714296     25.633738       3.372533      22.651091\n\n[3082860 rows x 29 columns]",
      "text/html": "<div>\n<style scoped>\n    .dataframe tbody tr th:only-of-type {\n        vertical-align: middle;\n    }\n\n    .dataframe tbody tr th {\n        vertical-align: top;\n    }\n\n    .dataframe thead th {\n        text-align: right;\n    }\n</style>\n<table border=\"1\" class=\"dataframe\">\n  <thead>\n    <tr style=\"text-align: right;\">\n      <th></th>\n      <th>Date</th>\n      <th>store_nbr</th>\n      <th>family</th>\n      <th>sales</th>\n      <th>onpromotion</th>\n      <th>cluster</th>\n      <th>Holiday_type</th>\n      <th>locale</th>\n      <th>description</th>\n      <th>transferred</th>\n      <th>dcoilwtico</th>\n      <th>month</th>\n      <th>day_of_month</th>\n      <th>day_of_year</th>\n      <th>week_of_year</th>\n      <th>day_of_week</th>\n      <th>year</th>\n      <th>sales_lag_16</th>\n      <th>sales_lag_17</th>\n      <th>sales_lag_18</th>\n      <th>sales_lag_19</th>\n      <th>sales_lag_20</th>\n      <th>sales_lag_21</th>\n      <th>sales_lag_22</th>\n      <th>sales_lag_30</th>\n      <th>sales_lag_31</th>\n      <th>sales_lag_90</th>\n      <th>sales_lag_180</th>\n      <th>sales_lag_365</th>\n    </tr>\n  </thead>\n  <tbody>\n    <tr>\n      <th>0</th>\n      <td>2013-01-01</td>\n      <td>1</td>\n      <td>AUTOMOTIVE</td>\n      <td>0.0</td>\n      <td>0</td>\n      <td>13</td>\n      <td>Holiday</td>\n      <td>National</td>\n      <td>Primer dia del ano</td>\n      <td>False</td>\n      <td>93.14</td>\n      <td>1</td>\n      <td>1</td>\n      <td>1</td>\n      <td>1</td>\n      <td>1</td>\n      <td>2013</td>\n      <td>NaN</td>\n      <td>NaN</td>\n      <td>NaN</td>\n      <td>NaN</td>\n      <td>NaN</td>\n      <td>NaN</td>\n      <td>NaN</td>\n      <td>NaN</td>\n      <td>NaN</td>\n      <td>NaN</td>\n      <td>NaN</td>\n      <td>NaN</td>\n    </tr>\n    <tr>\n      <th>1</th>\n      <td>2013-01-01</td>\n      <td>1</td>\n      <td>BABY CARE</td>\n      <td>0.0</td>\n      <td>0</td>\n      <td>13</td>\n      <td>Holiday</td>\n      <td>National</td>\n      <td>Primer dia del ano</td>\n      <td>False</td>\n      <td>93.14</td>\n      <td>1</td>\n      <td>1</td>\n      <td>1</td>\n      <td>1</td>\n      <td>1</td>\n      <td>2013</td>\n      <td>NaN</td>\n      <td>NaN</td>\n      <td>NaN</td>\n      <td>NaN</td>\n      <td>NaN</td>\n      <td>NaN</td>\n      <td>NaN</td>\n      <td>NaN</td>\n      <td>NaN</td>\n      <td>NaN</td>\n      <td>NaN</td>\n      <td>NaN</td>\n    </tr>\n    <tr>\n      <th>2</th>\n      <td>2013-01-01</td>\n      <td>1</td>\n      <td>BEAUTY</td>\n      <td>0.0</td>\n      <td>0</td>\n      <td>13</td>\n      <td>Holiday</td>\n      <td>National</td>\n      <td>Primer dia del ano</td>\n      <td>False</td>\n      <td>93.14</td>\n      <td>1</td>\n      <td>1</td>\n      <td>1</td>\n      <td>1</td>\n      <td>1</td>\n      <td>2013</td>\n      <td>NaN</td>\n      <td>NaN</td>\n      <td>NaN</td>\n      <td>NaN</td>\n      <td>NaN</td>\n      <td>NaN</td>\n      <td>NaN</td>\n      <td>NaN</td>\n      <td>NaN</td>\n      <td>NaN</td>\n      <td>NaN</td>\n      <td>NaN</td>\n    </tr>\n    <tr>\n      <th>3</th>\n      <td>2013-01-01</td>\n      <td>1</td>\n      <td>BEVERAGES</td>\n      <td>0.0</td>\n      <td>0</td>\n      <td>13</td>\n      <td>Holiday</td>\n      <td>National</td>\n      <td>Primer dia del ano</td>\n      <td>False</td>\n      <td>93.14</td>\n      <td>1</td>\n      <td>1</td>\n      <td>1</td>\n      <td>1</td>\n      <td>1</td>\n      <td>2013</td>\n      <td>NaN</td>\n      <td>NaN</td>\n      <td>NaN</td>\n      <td>NaN</td>\n      <td>NaN</td>\n      <td>NaN</td>\n      <td>NaN</td>\n      <td>NaN</td>\n      <td>NaN</td>\n      <td>NaN</td>\n      <td>NaN</td>\n      <td>NaN</td>\n    </tr>\n    <tr>\n      <th>4</th>\n      <td>2013-01-01</td>\n      <td>1</td>\n      <td>BOOKS</td>\n      <td>0.0</td>\n      <td>0</td>\n      <td>13</td>\n      <td>Holiday</td>\n      <td>National</td>\n      <td>Primer dia del ano</td>\n      <td>False</td>\n      <td>93.14</td>\n      <td>1</td>\n      <td>1</td>\n      <td>1</td>\n      <td>1</td>\n      <td>1</td>\n      <td>2013</td>\n      <td>NaN</td>\n      <td>NaN</td>\n      <td>NaN</td>\n      <td>NaN</td>\n      <td>NaN</td>\n      <td>NaN</td>\n      <td>NaN</td>\n      <td>NaN</td>\n      <td>NaN</td>\n      <td>NaN</td>\n      <td>NaN</td>\n      <td>NaN</td>\n    </tr>\n    <tr>\n      <th>...</th>\n      <td>...</td>\n      <td>...</td>\n      <td>...</td>\n      <td>...</td>\n      <td>...</td>\n      <td>...</td>\n      <td>...</td>\n      <td>...</td>\n      <td>...</td>\n      <td>...</td>\n      <td>...</td>\n      <td>...</td>\n      <td>...</td>\n      <td>...</td>\n      <td>...</td>\n      <td>...</td>\n      <td>...</td>\n      <td>...</td>\n      <td>...</td>\n      <td>...</td>\n      <td>...</td>\n      <td>...</td>\n      <td>...</td>\n      <td>...</td>\n      <td>...</td>\n      <td>...</td>\n      <td>...</td>\n      <td>...</td>\n      <td>...</td>\n    </tr>\n    <tr>\n      <th>3082855</th>\n      <td>2017-08-31</td>\n      <td>9</td>\n      <td>POULTRY</td>\n      <td>NaN</td>\n      <td>1</td>\n      <td>6</td>\n      <td>NaN</td>\n      <td>NaN</td>\n      <td>NaN</td>\n      <td>NaN</td>\n      <td>47.26</td>\n      <td>8</td>\n      <td>31</td>\n      <td>243</td>\n      <td>35</td>\n      <td>3</td>\n      <td>2017</td>\n      <td>435.755473</td>\n      <td>282.505360</td>\n      <td>413.782082</td>\n      <td>384.115154</td>\n      <td>525.528939</td>\n      <td>290.796086</td>\n      <td>332.678810</td>\n      <td>566.281279</td>\n      <td>473.214692</td>\n      <td>551.353420</td>\n      <td>283.269116</td>\n      <td>416.741037</td>\n    </tr>\n    <tr>\n      <th>3082856</th>\n      <td>2017-08-31</td>\n      <td>9</td>\n      <td>PREPARED FOODS</td>\n      <td>NaN</td>\n      <td>0</td>\n      <td>6</td>\n      <td>NaN</td>\n      <td>NaN</td>\n      <td>NaN</td>\n      <td>NaN</td>\n      <td>47.26</td>\n      <td>8</td>\n      <td>31</td>\n      <td>243</td>\n      <td>35</td>\n      <td>3</td>\n      <td>2017</td>\n      <td>156.486040</td>\n      <td>113.868494</td>\n      <td>108.953551</td>\n      <td>127.234476</td>\n      <td>112.136607</td>\n      <td>110.659742</td>\n      <td>121.020592</td>\n      <td>50.946707</td>\n      <td>60.034310</td>\n      <td>76.312500</td>\n      <td>92.841726</td>\n      <td>130.432708</td>\n    </tr>\n    <tr>\n      <th>3082857</th>\n      <td>2017-08-31</td>\n      <td>9</td>\n      <td>PRODUCE</td>\n      <td>NaN</td>\n      <td>1</td>\n      <td>6</td>\n      <td>NaN</td>\n      <td>NaN</td>\n      <td>NaN</td>\n      <td>NaN</td>\n      <td>47.26</td>\n      <td>8</td>\n      <td>31</td>\n      <td>243</td>\n      <td>35</td>\n      <td>3</td>\n      <td>2017</td>\n      <td>2421.221216</td>\n      <td>1347.222555</td>\n      <td>1695.463557</td>\n      <td>1415.734929</td>\n      <td>1454.047609</td>\n      <td>1033.642038</td>\n      <td>1308.517105</td>\n      <td>2471.012492</td>\n      <td>1514.452487</td>\n      <td>1688.925054</td>\n      <td>1148.455425</td>\n      <td>1353.662611</td>\n    </tr>\n    <tr>\n      <th>3082858</th>\n      <td>2017-08-31</td>\n      <td>9</td>\n      <td>SCHOOL AND OFFICE SUPPLIES</td>\n      <td>NaN</td>\n      <td>9</td>\n      <td>6</td>\n      <td>NaN</td>\n      <td>NaN</td>\n      <td>NaN</td>\n      <td>NaN</td>\n      <td>47.26</td>\n      <td>8</td>\n      <td>31</td>\n      <td>243</td>\n      <td>35</td>\n      <td>3</td>\n      <td>2017</td>\n      <td>117.857629</td>\n      <td>180.622164</td>\n      <td>199.154060</td>\n      <td>135.884946</td>\n      <td>141.753131</td>\n      <td>150.523136</td>\n      <td>83.966247</td>\n      <td>205.411060</td>\n      <td>51.792784</td>\n      <td>7.512636</td>\n      <td>7.967606</td>\n      <td>82.581263</td>\n    </tr>\n    <tr>\n      <th>3082859</th>\n      <td>2017-08-31</td>\n      <td>9</td>\n      <td>SEAFOOD</td>\n      <td>NaN</td>\n      <td>0</td>\n      <td>6</td>\n      <td>NaN</td>\n      <td>NaN</td>\n      <td>NaN</td>\n      <td>NaN</td>\n      <td>47.26</td>\n      <td>8</td>\n      <td>31</td>\n      <td>243</td>\n      <td>35</td>\n      <td>3</td>\n      <td>2017</td>\n      <td>17.891686</td>\n      <td>12.701756</td>\n      <td>24.198703</td>\n      <td>17.978969</td>\n      <td>22.133592</td>\n      <td>13.085442</td>\n      <td>19.014188</td>\n      <td>17.291129</td>\n      <td>12.714296</td>\n      <td>25.633738</td>\n      <td>3.372533</td>\n      <td>22.651091</td>\n    </tr>\n  </tbody>\n</table>\n<p>3082860 rows × 29 columns</p>\n</div>"
     },
     "execution_count": 69,
     "metadata": {},
     "output_type": "execute_result"
    }
   ],
   "source": [
    "df = lag_features(df, lags = [16,17,18,19,20,21,22,30,31,90,180,365])\n",
    "df"
   ],
   "metadata": {
    "collapsed": false
   }
  },
  {
   "cell_type": "code",
   "execution_count": 70,
   "outputs": [
    {
     "data": {
      "text/plain": "              Date store_nbr                      family  sales  onpromotion  cluster Holiday_type    locale         description transferred  dcoilwtico  month  day_of_month  day_of_year  week_of_year  day_of_week  year  sales_lag_16  sales_lag_17  sales_lag_18  sales_lag_19  sales_lag_20  sales_lag_21  sales_lag_22  sales_lag_30  sales_lag_31  sales_lag_90  sales_lag_180  sales_lag_365  sales_roll_mean_16  sales_roll_mean_17  sales_roll_mean_18  sales_roll_mean_30\n0       2013-01-01         1                  AUTOMOTIVE    0.0            0       13      Holiday  National  Primer dia del ano       False       93.14      1             1            1             1            1  2013           NaN           NaN           NaN           NaN           NaN           NaN           NaN           NaN           NaN           NaN            NaN            NaN                 NaN                 NaN                 NaN                 NaN\n1       2013-01-01         1                   BABY CARE    0.0            0       13      Holiday  National  Primer dia del ano       False       93.14      1             1            1             1            1  2013           NaN           NaN           NaN           NaN           NaN           NaN           NaN           NaN           NaN           NaN            NaN            NaN                 NaN                 NaN                 NaN                 NaN\n2       2013-01-01         1                      BEAUTY    0.0            0       13      Holiday  National  Primer dia del ano       False       93.14      1             1            1             1            1  2013           NaN           NaN           NaN           NaN           NaN           NaN           NaN           NaN           NaN           NaN            NaN            NaN                 NaN                 NaN                 NaN                 NaN\n3       2013-01-01         1                   BEVERAGES    0.0            0       13      Holiday  National  Primer dia del ano       False       93.14      1             1            1             1            1  2013           NaN           NaN           NaN           NaN           NaN           NaN           NaN           NaN           NaN           NaN            NaN            NaN                 NaN                 NaN                 NaN                 NaN\n4       2013-01-01         1                       BOOKS    0.0            0       13      Holiday  National  Primer dia del ano       False       93.14      1             1            1             1            1  2013           NaN           NaN           NaN           NaN           NaN           NaN           NaN           NaN           NaN           NaN            NaN            NaN                 NaN                 NaN                 NaN                 NaN\n...            ...       ...                         ...    ...          ...      ...          ...       ...                 ...         ...         ...    ...           ...          ...           ...          ...   ...           ...           ...           ...           ...           ...           ...           ...           ...           ...           ...            ...            ...                 ...                 ...                 ...                 ...\n3082855 2017-08-31         9                     POULTRY    NaN            1        6          NaN       NaN                 NaN         NaN       47.26      8            31          243            35            3  2017    435.755473    282.505360    413.782082    384.115154    525.528939    290.796086    332.678810    566.281279    473.214692    551.353420     283.269116     416.741037          446.344824          455.151733          463.022243          447.437564\n3082856 2017-08-31         9              PREPARED FOODS    NaN            0        6          NaN       NaN                 NaN         NaN       47.26      8            31          243            35            3  2017    156.486040    113.868494    108.953551    127.234476    112.136607    110.659742    121.020592     50.946707     60.034310     76.312500      92.841726     130.432708          123.633441          117.074557          119.599022          105.591766\n3082857 2017-08-31         9                     PRODUCE    NaN            1        6          NaN       NaN                 NaN         NaN       47.26      8            31          243            35            3  2017   2421.221216   1347.222555   1695.463557   1415.734929   1454.047609   1033.642038   1308.517105   2471.012492   1514.452487   1688.925054    1148.455425    1353.662611         1628.660925         1642.209551         1643.485618         1610.016995\n3082858 2017-08-31         9  SCHOOL AND OFFICE SUPPLIES    NaN            9        6          NaN       NaN                 NaN         NaN       47.26      8            31          243            35            3  2017    117.857629    180.622164    199.154060    135.884946    141.753131    150.523136     83.966247    205.411060     51.792784      7.512636       7.967606      82.581263          150.112376          147.977350          145.721588           84.202358\n3082859 2017-08-31         9                     SEAFOOD    NaN            0        6          NaN       NaN                 NaN         NaN       47.26      8            31          243            35            3  2017     17.891686     12.701756     24.198703     17.978969     22.133592     13.085442     19.014188     17.291129     12.714296     25.633738       3.372533      22.651091           18.506450           20.803280           19.045531           16.681742\n\n[3082860 rows x 33 columns]",
      "text/html": "<div>\n<style scoped>\n    .dataframe tbody tr th:only-of-type {\n        vertical-align: middle;\n    }\n\n    .dataframe tbody tr th {\n        vertical-align: top;\n    }\n\n    .dataframe thead th {\n        text-align: right;\n    }\n</style>\n<table border=\"1\" class=\"dataframe\">\n  <thead>\n    <tr style=\"text-align: right;\">\n      <th></th>\n      <th>Date</th>\n      <th>store_nbr</th>\n      <th>family</th>\n      <th>sales</th>\n      <th>onpromotion</th>\n      <th>cluster</th>\n      <th>Holiday_type</th>\n      <th>locale</th>\n      <th>description</th>\n      <th>transferred</th>\n      <th>dcoilwtico</th>\n      <th>month</th>\n      <th>day_of_month</th>\n      <th>day_of_year</th>\n      <th>week_of_year</th>\n      <th>day_of_week</th>\n      <th>year</th>\n      <th>sales_lag_16</th>\n      <th>sales_lag_17</th>\n      <th>sales_lag_18</th>\n      <th>sales_lag_19</th>\n      <th>sales_lag_20</th>\n      <th>sales_lag_21</th>\n      <th>sales_lag_22</th>\n      <th>sales_lag_30</th>\n      <th>sales_lag_31</th>\n      <th>sales_lag_90</th>\n      <th>sales_lag_180</th>\n      <th>sales_lag_365</th>\n      <th>sales_roll_mean_16</th>\n      <th>sales_roll_mean_17</th>\n      <th>sales_roll_mean_18</th>\n      <th>sales_roll_mean_30</th>\n    </tr>\n  </thead>\n  <tbody>\n    <tr>\n      <th>0</th>\n      <td>2013-01-01</td>\n      <td>1</td>\n      <td>AUTOMOTIVE</td>\n      <td>0.0</td>\n      <td>0</td>\n      <td>13</td>\n      <td>Holiday</td>\n      <td>National</td>\n      <td>Primer dia del ano</td>\n      <td>False</td>\n      <td>93.14</td>\n      <td>1</td>\n      <td>1</td>\n      <td>1</td>\n      <td>1</td>\n      <td>1</td>\n      <td>2013</td>\n      <td>NaN</td>\n      <td>NaN</td>\n      <td>NaN</td>\n      <td>NaN</td>\n      <td>NaN</td>\n      <td>NaN</td>\n      <td>NaN</td>\n      <td>NaN</td>\n      <td>NaN</td>\n      <td>NaN</td>\n      <td>NaN</td>\n      <td>NaN</td>\n      <td>NaN</td>\n      <td>NaN</td>\n      <td>NaN</td>\n      <td>NaN</td>\n    </tr>\n    <tr>\n      <th>1</th>\n      <td>2013-01-01</td>\n      <td>1</td>\n      <td>BABY CARE</td>\n      <td>0.0</td>\n      <td>0</td>\n      <td>13</td>\n      <td>Holiday</td>\n      <td>National</td>\n      <td>Primer dia del ano</td>\n      <td>False</td>\n      <td>93.14</td>\n      <td>1</td>\n      <td>1</td>\n      <td>1</td>\n      <td>1</td>\n      <td>1</td>\n      <td>2013</td>\n      <td>NaN</td>\n      <td>NaN</td>\n      <td>NaN</td>\n      <td>NaN</td>\n      <td>NaN</td>\n      <td>NaN</td>\n      <td>NaN</td>\n      <td>NaN</td>\n      <td>NaN</td>\n      <td>NaN</td>\n      <td>NaN</td>\n      <td>NaN</td>\n      <td>NaN</td>\n      <td>NaN</td>\n      <td>NaN</td>\n      <td>NaN</td>\n    </tr>\n    <tr>\n      <th>2</th>\n      <td>2013-01-01</td>\n      <td>1</td>\n      <td>BEAUTY</td>\n      <td>0.0</td>\n      <td>0</td>\n      <td>13</td>\n      <td>Holiday</td>\n      <td>National</td>\n      <td>Primer dia del ano</td>\n      <td>False</td>\n      <td>93.14</td>\n      <td>1</td>\n      <td>1</td>\n      <td>1</td>\n      <td>1</td>\n      <td>1</td>\n      <td>2013</td>\n      <td>NaN</td>\n      <td>NaN</td>\n      <td>NaN</td>\n      <td>NaN</td>\n      <td>NaN</td>\n      <td>NaN</td>\n      <td>NaN</td>\n      <td>NaN</td>\n      <td>NaN</td>\n      <td>NaN</td>\n      <td>NaN</td>\n      <td>NaN</td>\n      <td>NaN</td>\n      <td>NaN</td>\n      <td>NaN</td>\n      <td>NaN</td>\n    </tr>\n    <tr>\n      <th>3</th>\n      <td>2013-01-01</td>\n      <td>1</td>\n      <td>BEVERAGES</td>\n      <td>0.0</td>\n      <td>0</td>\n      <td>13</td>\n      <td>Holiday</td>\n      <td>National</td>\n      <td>Primer dia del ano</td>\n      <td>False</td>\n      <td>93.14</td>\n      <td>1</td>\n      <td>1</td>\n      <td>1</td>\n      <td>1</td>\n      <td>1</td>\n      <td>2013</td>\n      <td>NaN</td>\n      <td>NaN</td>\n      <td>NaN</td>\n      <td>NaN</td>\n      <td>NaN</td>\n      <td>NaN</td>\n      <td>NaN</td>\n      <td>NaN</td>\n      <td>NaN</td>\n      <td>NaN</td>\n      <td>NaN</td>\n      <td>NaN</td>\n      <td>NaN</td>\n      <td>NaN</td>\n      <td>NaN</td>\n      <td>NaN</td>\n    </tr>\n    <tr>\n      <th>4</th>\n      <td>2013-01-01</td>\n      <td>1</td>\n      <td>BOOKS</td>\n      <td>0.0</td>\n      <td>0</td>\n      <td>13</td>\n      <td>Holiday</td>\n      <td>National</td>\n      <td>Primer dia del ano</td>\n      <td>False</td>\n      <td>93.14</td>\n      <td>1</td>\n      <td>1</td>\n      <td>1</td>\n      <td>1</td>\n      <td>1</td>\n      <td>2013</td>\n      <td>NaN</td>\n      <td>NaN</td>\n      <td>NaN</td>\n      <td>NaN</td>\n      <td>NaN</td>\n      <td>NaN</td>\n      <td>NaN</td>\n      <td>NaN</td>\n      <td>NaN</td>\n      <td>NaN</td>\n      <td>NaN</td>\n      <td>NaN</td>\n      <td>NaN</td>\n      <td>NaN</td>\n      <td>NaN</td>\n      <td>NaN</td>\n    </tr>\n    <tr>\n      <th>...</th>\n      <td>...</td>\n      <td>...</td>\n      <td>...</td>\n      <td>...</td>\n      <td>...</td>\n      <td>...</td>\n      <td>...</td>\n      <td>...</td>\n      <td>...</td>\n      <td>...</td>\n      <td>...</td>\n      <td>...</td>\n      <td>...</td>\n      <td>...</td>\n      <td>...</td>\n      <td>...</td>\n      <td>...</td>\n      <td>...</td>\n      <td>...</td>\n      <td>...</td>\n      <td>...</td>\n      <td>...</td>\n      <td>...</td>\n      <td>...</td>\n      <td>...</td>\n      <td>...</td>\n      <td>...</td>\n      <td>...</td>\n      <td>...</td>\n      <td>...</td>\n      <td>...</td>\n      <td>...</td>\n      <td>...</td>\n    </tr>\n    <tr>\n      <th>3082855</th>\n      <td>2017-08-31</td>\n      <td>9</td>\n      <td>POULTRY</td>\n      <td>NaN</td>\n      <td>1</td>\n      <td>6</td>\n      <td>NaN</td>\n      <td>NaN</td>\n      <td>NaN</td>\n      <td>NaN</td>\n      <td>47.26</td>\n      <td>8</td>\n      <td>31</td>\n      <td>243</td>\n      <td>35</td>\n      <td>3</td>\n      <td>2017</td>\n      <td>435.755473</td>\n      <td>282.505360</td>\n      <td>413.782082</td>\n      <td>384.115154</td>\n      <td>525.528939</td>\n      <td>290.796086</td>\n      <td>332.678810</td>\n      <td>566.281279</td>\n      <td>473.214692</td>\n      <td>551.353420</td>\n      <td>283.269116</td>\n      <td>416.741037</td>\n      <td>446.344824</td>\n      <td>455.151733</td>\n      <td>463.022243</td>\n      <td>447.437564</td>\n    </tr>\n    <tr>\n      <th>3082856</th>\n      <td>2017-08-31</td>\n      <td>9</td>\n      <td>PREPARED FOODS</td>\n      <td>NaN</td>\n      <td>0</td>\n      <td>6</td>\n      <td>NaN</td>\n      <td>NaN</td>\n      <td>NaN</td>\n      <td>NaN</td>\n      <td>47.26</td>\n      <td>8</td>\n      <td>31</td>\n      <td>243</td>\n      <td>35</td>\n      <td>3</td>\n      <td>2017</td>\n      <td>156.486040</td>\n      <td>113.868494</td>\n      <td>108.953551</td>\n      <td>127.234476</td>\n      <td>112.136607</td>\n      <td>110.659742</td>\n      <td>121.020592</td>\n      <td>50.946707</td>\n      <td>60.034310</td>\n      <td>76.312500</td>\n      <td>92.841726</td>\n      <td>130.432708</td>\n      <td>123.633441</td>\n      <td>117.074557</td>\n      <td>119.599022</td>\n      <td>105.591766</td>\n    </tr>\n    <tr>\n      <th>3082857</th>\n      <td>2017-08-31</td>\n      <td>9</td>\n      <td>PRODUCE</td>\n      <td>NaN</td>\n      <td>1</td>\n      <td>6</td>\n      <td>NaN</td>\n      <td>NaN</td>\n      <td>NaN</td>\n      <td>NaN</td>\n      <td>47.26</td>\n      <td>8</td>\n      <td>31</td>\n      <td>243</td>\n      <td>35</td>\n      <td>3</td>\n      <td>2017</td>\n      <td>2421.221216</td>\n      <td>1347.222555</td>\n      <td>1695.463557</td>\n      <td>1415.734929</td>\n      <td>1454.047609</td>\n      <td>1033.642038</td>\n      <td>1308.517105</td>\n      <td>2471.012492</td>\n      <td>1514.452487</td>\n      <td>1688.925054</td>\n      <td>1148.455425</td>\n      <td>1353.662611</td>\n      <td>1628.660925</td>\n      <td>1642.209551</td>\n      <td>1643.485618</td>\n      <td>1610.016995</td>\n    </tr>\n    <tr>\n      <th>3082858</th>\n      <td>2017-08-31</td>\n      <td>9</td>\n      <td>SCHOOL AND OFFICE SUPPLIES</td>\n      <td>NaN</td>\n      <td>9</td>\n      <td>6</td>\n      <td>NaN</td>\n      <td>NaN</td>\n      <td>NaN</td>\n      <td>NaN</td>\n      <td>47.26</td>\n      <td>8</td>\n      <td>31</td>\n      <td>243</td>\n      <td>35</td>\n      <td>3</td>\n      <td>2017</td>\n      <td>117.857629</td>\n      <td>180.622164</td>\n      <td>199.154060</td>\n      <td>135.884946</td>\n      <td>141.753131</td>\n      <td>150.523136</td>\n      <td>83.966247</td>\n      <td>205.411060</td>\n      <td>51.792784</td>\n      <td>7.512636</td>\n      <td>7.967606</td>\n      <td>82.581263</td>\n      <td>150.112376</td>\n      <td>147.977350</td>\n      <td>145.721588</td>\n      <td>84.202358</td>\n    </tr>\n    <tr>\n      <th>3082859</th>\n      <td>2017-08-31</td>\n      <td>9</td>\n      <td>SEAFOOD</td>\n      <td>NaN</td>\n      <td>0</td>\n      <td>6</td>\n      <td>NaN</td>\n      <td>NaN</td>\n      <td>NaN</td>\n      <td>NaN</td>\n      <td>47.26</td>\n      <td>8</td>\n      <td>31</td>\n      <td>243</td>\n      <td>35</td>\n      <td>3</td>\n      <td>2017</td>\n      <td>17.891686</td>\n      <td>12.701756</td>\n      <td>24.198703</td>\n      <td>17.978969</td>\n      <td>22.133592</td>\n      <td>13.085442</td>\n      <td>19.014188</td>\n      <td>17.291129</td>\n      <td>12.714296</td>\n      <td>25.633738</td>\n      <td>3.372533</td>\n      <td>22.651091</td>\n      <td>18.506450</td>\n      <td>20.803280</td>\n      <td>19.045531</td>\n      <td>16.681742</td>\n    </tr>\n  </tbody>\n</table>\n<p>3082860 rows × 33 columns</p>\n</div>"
     },
     "execution_count": 70,
     "metadata": {},
     "output_type": "execute_result"
    }
   ],
   "source": [
    "df = roll_mean_features(df,[16,17,18,30])\n",
    "df"
   ],
   "metadata": {
    "collapsed": false
   }
  },
  {
   "cell_type": "code",
   "execution_count": 71,
   "outputs": [
    {
     "data": {
      "text/plain": "              Date store_nbr                      family  sales  onpromotion  cluster Holiday_type    locale         description transferred  dcoilwtico  month  day_of_month  day_of_year  week_of_year  day_of_week  year  sales_lag_16  sales_lag_17  sales_lag_18  sales_lag_19  sales_lag_20  sales_lag_21  sales_lag_22  sales_lag_30  sales_lag_31  sales_lag_90  sales_lag_180  sales_lag_365  sales_roll_mean_16  sales_roll_mean_17  sales_roll_mean_18  sales_roll_mean_30  sales_ewm_alpha_095_lag_1  \\\n0       2013-01-01         1                  AUTOMOTIVE    0.0            0       13      Holiday  National  Primer dia del ano       False       93.14      1             1            1             1            1  2013           NaN           NaN           NaN           NaN           NaN           NaN           NaN           NaN           NaN           NaN            NaN            NaN                 NaN                 NaN                 NaN                 NaN                        NaN   \n1       2013-01-01         1                   BABY CARE    0.0            0       13      Holiday  National  Primer dia del ano       False       93.14      1             1            1             1            1  2013           NaN           NaN           NaN           NaN           NaN           NaN           NaN           NaN           NaN           NaN            NaN            NaN                 NaN                 NaN                 NaN                 NaN                        NaN   \n2       2013-01-01         1                      BEAUTY    0.0            0       13      Holiday  National  Primer dia del ano       False       93.14      1             1            1             1            1  2013           NaN           NaN           NaN           NaN           NaN           NaN           NaN           NaN           NaN           NaN            NaN            NaN                 NaN                 NaN                 NaN                 NaN                        NaN   \n3       2013-01-01         1                   BEVERAGES    0.0            0       13      Holiday  National  Primer dia del ano       False       93.14      1             1            1             1            1  2013           NaN           NaN           NaN           NaN           NaN           NaN           NaN           NaN           NaN           NaN            NaN            NaN                 NaN                 NaN                 NaN                 NaN                        NaN   \n4       2013-01-01         1                       BOOKS    0.0            0       13      Holiday  National  Primer dia del ano       False       93.14      1             1            1             1            1  2013           NaN           NaN           NaN           NaN           NaN           NaN           NaN           NaN           NaN           NaN            NaN            NaN                 NaN                 NaN                 NaN                 NaN                        NaN   \n...            ...       ...                         ...    ...          ...      ...          ...       ...                 ...         ...         ...    ...           ...          ...           ...          ...   ...           ...           ...           ...           ...           ...           ...           ...           ...           ...           ...            ...            ...                 ...                 ...                 ...                 ...                        ...   \n3082855 2017-08-31         9                     POULTRY    NaN            1        6          NaN       NaN                 NaN         NaN       47.26      8            31          243            35            3  2017    435.755473    282.505360    413.782082    384.115154    525.528939    290.796086    332.678810    566.281279    473.214692    551.353420     283.269116     416.741037          446.344824          455.151733          463.022243          447.437564                 430.717553   \n3082856 2017-08-31         9              PREPARED FOODS    NaN            0        6          NaN       NaN                 NaN         NaN       47.26      8            31          243            35            3  2017    156.486040    113.868494    108.953551    127.234476    112.136607    110.659742    121.020592     50.946707     60.034310     76.312500      92.841726     130.432708          123.633441          117.074557          119.599022          105.591766                 152.511953   \n3082857 2017-08-31         9                     PRODUCE    NaN            1        6          NaN       NaN                 NaN         NaN       47.26      8            31          243            35            3  2017   2421.221216   1347.222555   1695.463557   1415.734929   1454.047609   1033.642038   1308.517105   2471.012492   1514.452487   1688.925054    1148.455425    1353.662611         1628.660925         1642.209551         1643.485618         1610.016995                2366.992548   \n3082858 2017-08-31         9  SCHOOL AND OFFICE SUPPLIES    NaN            9        6          NaN       NaN                 NaN         NaN       47.26      8            31          243            35            3  2017    117.857629    180.622164    199.154060    135.884946    141.753131    150.523136     83.966247    205.411060     51.792784      7.512636       7.967606      82.581263          150.112376          147.977350          145.721588           84.202358                 124.087264   \n3082859 2017-08-31         9                     SEAFOOD    NaN            0        6          NaN       NaN                 NaN         NaN       47.26      8            31          243            35            3  2017     17.891686     12.701756     24.198703     17.978969     22.133592     13.085442     19.014188     17.291129     12.714296     25.633738       3.372533      22.651091           18.506450           20.803280           19.045531           16.681742                  16.057148   \n\n         sales_ewm_alpha_095_lag_7  sales_ewm_alpha_095_lag_30  sales_ewm_alpha_09_lag_1  sales_ewm_alpha_09_lag_7  sales_ewm_alpha_09_lag_30  sales_ewm_alpha_08_lag_1  sales_ewm_alpha_08_lag_7  sales_ewm_alpha_08_lag_30  sales_ewm_alpha_05_lag_1  sales_ewm_alpha_05_lag_7  sales_ewm_alpha_05_lag_30  \n0                              NaN                         NaN                       NaN                       NaN                        NaN                       NaN                       NaN                        NaN                       NaN                       NaN                        NaN  \n1                              NaN                         NaN                       NaN                       NaN                        NaN                       NaN                       NaN                        NaN                       NaN                       NaN                        NaN  \n2                              NaN                         NaN                       NaN                       NaN                        NaN                       NaN                       NaN                        NaN                       NaN                       NaN                        NaN  \n3                              NaN                         NaN                       NaN                       NaN                        NaN                       NaN                       NaN                        NaN                       NaN                       NaN                        NaN  \n4                              NaN                         NaN                       NaN                       NaN                        NaN                       NaN                       NaN                        NaN                       NaN                       NaN                        NaN  \n...                            ...                         ...                       ...                       ...                        ...                       ...                       ...                        ...                       ...                       ...                        ...  \n3082855                 430.717553                  565.318991                423.935714                423.935714                 560.611289                412.276337                412.276337                 551.421713                392.438031                392.438031                 518.514476  \n3082856                 152.511953                   51.246066                150.443153                150.443153                  52.444705                146.278339                146.278339                  56.022566                134.243896                134.243896                  72.911551  \n3082857                2366.992548                 2423.706728               2315.775659               2315.775659                2378.620204               2217.030205               2217.030205                2292.418673               1934.923106               1934.923106                2035.920473  \n3082858                 124.087264                  195.609900                127.218224                127.218224                 188.128407                133.426673                133.426673                 172.814546                148.242507                148.242507                 122.237914  \n3082859                  16.057148                   18.970154                 16.127465                 16.127465                  18.664387                 16.303197                 16.303197                  18.167376                 17.058460                 17.058460                  17.242974  \n\n[3082860 rows x 45 columns]",
      "text/html": "<div>\n<style scoped>\n    .dataframe tbody tr th:only-of-type {\n        vertical-align: middle;\n    }\n\n    .dataframe tbody tr th {\n        vertical-align: top;\n    }\n\n    .dataframe thead th {\n        text-align: right;\n    }\n</style>\n<table border=\"1\" class=\"dataframe\">\n  <thead>\n    <tr style=\"text-align: right;\">\n      <th></th>\n      <th>Date</th>\n      <th>store_nbr</th>\n      <th>family</th>\n      <th>sales</th>\n      <th>onpromotion</th>\n      <th>cluster</th>\n      <th>Holiday_type</th>\n      <th>locale</th>\n      <th>description</th>\n      <th>transferred</th>\n      <th>dcoilwtico</th>\n      <th>month</th>\n      <th>day_of_month</th>\n      <th>day_of_year</th>\n      <th>week_of_year</th>\n      <th>day_of_week</th>\n      <th>year</th>\n      <th>sales_lag_16</th>\n      <th>sales_lag_17</th>\n      <th>sales_lag_18</th>\n      <th>sales_lag_19</th>\n      <th>sales_lag_20</th>\n      <th>sales_lag_21</th>\n      <th>sales_lag_22</th>\n      <th>sales_lag_30</th>\n      <th>sales_lag_31</th>\n      <th>sales_lag_90</th>\n      <th>sales_lag_180</th>\n      <th>sales_lag_365</th>\n      <th>sales_roll_mean_16</th>\n      <th>sales_roll_mean_17</th>\n      <th>sales_roll_mean_18</th>\n      <th>sales_roll_mean_30</th>\n      <th>sales_ewm_alpha_095_lag_1</th>\n      <th>sales_ewm_alpha_095_lag_7</th>\n      <th>sales_ewm_alpha_095_lag_30</th>\n      <th>sales_ewm_alpha_09_lag_1</th>\n      <th>sales_ewm_alpha_09_lag_7</th>\n      <th>sales_ewm_alpha_09_lag_30</th>\n      <th>sales_ewm_alpha_08_lag_1</th>\n      <th>sales_ewm_alpha_08_lag_7</th>\n      <th>sales_ewm_alpha_08_lag_30</th>\n      <th>sales_ewm_alpha_05_lag_1</th>\n      <th>sales_ewm_alpha_05_lag_7</th>\n      <th>sales_ewm_alpha_05_lag_30</th>\n    </tr>\n  </thead>\n  <tbody>\n    <tr>\n      <th>0</th>\n      <td>2013-01-01</td>\n      <td>1</td>\n      <td>AUTOMOTIVE</td>\n      <td>0.0</td>\n      <td>0</td>\n      <td>13</td>\n      <td>Holiday</td>\n      <td>National</td>\n      <td>Primer dia del ano</td>\n      <td>False</td>\n      <td>93.14</td>\n      <td>1</td>\n      <td>1</td>\n      <td>1</td>\n      <td>1</td>\n      <td>1</td>\n      <td>2013</td>\n      <td>NaN</td>\n      <td>NaN</td>\n      <td>NaN</td>\n      <td>NaN</td>\n      <td>NaN</td>\n      <td>NaN</td>\n      <td>NaN</td>\n      <td>NaN</td>\n      <td>NaN</td>\n      <td>NaN</td>\n      <td>NaN</td>\n      <td>NaN</td>\n      <td>NaN</td>\n      <td>NaN</td>\n      <td>NaN</td>\n      <td>NaN</td>\n      <td>NaN</td>\n      <td>NaN</td>\n      <td>NaN</td>\n      <td>NaN</td>\n      <td>NaN</td>\n      <td>NaN</td>\n      <td>NaN</td>\n      <td>NaN</td>\n      <td>NaN</td>\n      <td>NaN</td>\n      <td>NaN</td>\n      <td>NaN</td>\n    </tr>\n    <tr>\n      <th>1</th>\n      <td>2013-01-01</td>\n      <td>1</td>\n      <td>BABY CARE</td>\n      <td>0.0</td>\n      <td>0</td>\n      <td>13</td>\n      <td>Holiday</td>\n      <td>National</td>\n      <td>Primer dia del ano</td>\n      <td>False</td>\n      <td>93.14</td>\n      <td>1</td>\n      <td>1</td>\n      <td>1</td>\n      <td>1</td>\n      <td>1</td>\n      <td>2013</td>\n      <td>NaN</td>\n      <td>NaN</td>\n      <td>NaN</td>\n      <td>NaN</td>\n      <td>NaN</td>\n      <td>NaN</td>\n      <td>NaN</td>\n      <td>NaN</td>\n      <td>NaN</td>\n      <td>NaN</td>\n      <td>NaN</td>\n      <td>NaN</td>\n      <td>NaN</td>\n      <td>NaN</td>\n      <td>NaN</td>\n      <td>NaN</td>\n      <td>NaN</td>\n      <td>NaN</td>\n      <td>NaN</td>\n      <td>NaN</td>\n      <td>NaN</td>\n      <td>NaN</td>\n      <td>NaN</td>\n      <td>NaN</td>\n      <td>NaN</td>\n      <td>NaN</td>\n      <td>NaN</td>\n      <td>NaN</td>\n    </tr>\n    <tr>\n      <th>2</th>\n      <td>2013-01-01</td>\n      <td>1</td>\n      <td>BEAUTY</td>\n      <td>0.0</td>\n      <td>0</td>\n      <td>13</td>\n      <td>Holiday</td>\n      <td>National</td>\n      <td>Primer dia del ano</td>\n      <td>False</td>\n      <td>93.14</td>\n      <td>1</td>\n      <td>1</td>\n      <td>1</td>\n      <td>1</td>\n      <td>1</td>\n      <td>2013</td>\n      <td>NaN</td>\n      <td>NaN</td>\n      <td>NaN</td>\n      <td>NaN</td>\n      <td>NaN</td>\n      <td>NaN</td>\n      <td>NaN</td>\n      <td>NaN</td>\n      <td>NaN</td>\n      <td>NaN</td>\n      <td>NaN</td>\n      <td>NaN</td>\n      <td>NaN</td>\n      <td>NaN</td>\n      <td>NaN</td>\n      <td>NaN</td>\n      <td>NaN</td>\n      <td>NaN</td>\n      <td>NaN</td>\n      <td>NaN</td>\n      <td>NaN</td>\n      <td>NaN</td>\n      <td>NaN</td>\n      <td>NaN</td>\n      <td>NaN</td>\n      <td>NaN</td>\n      <td>NaN</td>\n      <td>NaN</td>\n    </tr>\n    <tr>\n      <th>3</th>\n      <td>2013-01-01</td>\n      <td>1</td>\n      <td>BEVERAGES</td>\n      <td>0.0</td>\n      <td>0</td>\n      <td>13</td>\n      <td>Holiday</td>\n      <td>National</td>\n      <td>Primer dia del ano</td>\n      <td>False</td>\n      <td>93.14</td>\n      <td>1</td>\n      <td>1</td>\n      <td>1</td>\n      <td>1</td>\n      <td>1</td>\n      <td>2013</td>\n      <td>NaN</td>\n      <td>NaN</td>\n      <td>NaN</td>\n      <td>NaN</td>\n      <td>NaN</td>\n      <td>NaN</td>\n      <td>NaN</td>\n      <td>NaN</td>\n      <td>NaN</td>\n      <td>NaN</td>\n      <td>NaN</td>\n      <td>NaN</td>\n      <td>NaN</td>\n      <td>NaN</td>\n      <td>NaN</td>\n      <td>NaN</td>\n      <td>NaN</td>\n      <td>NaN</td>\n      <td>NaN</td>\n      <td>NaN</td>\n      <td>NaN</td>\n      <td>NaN</td>\n      <td>NaN</td>\n      <td>NaN</td>\n      <td>NaN</td>\n      <td>NaN</td>\n      <td>NaN</td>\n      <td>NaN</td>\n    </tr>\n    <tr>\n      <th>4</th>\n      <td>2013-01-01</td>\n      <td>1</td>\n      <td>BOOKS</td>\n      <td>0.0</td>\n      <td>0</td>\n      <td>13</td>\n      <td>Holiday</td>\n      <td>National</td>\n      <td>Primer dia del ano</td>\n      <td>False</td>\n      <td>93.14</td>\n      <td>1</td>\n      <td>1</td>\n      <td>1</td>\n      <td>1</td>\n      <td>1</td>\n      <td>2013</td>\n      <td>NaN</td>\n      <td>NaN</td>\n      <td>NaN</td>\n      <td>NaN</td>\n      <td>NaN</td>\n      <td>NaN</td>\n      <td>NaN</td>\n      <td>NaN</td>\n      <td>NaN</td>\n      <td>NaN</td>\n      <td>NaN</td>\n      <td>NaN</td>\n      <td>NaN</td>\n      <td>NaN</td>\n      <td>NaN</td>\n      <td>NaN</td>\n      <td>NaN</td>\n      <td>NaN</td>\n      <td>NaN</td>\n      <td>NaN</td>\n      <td>NaN</td>\n      <td>NaN</td>\n      <td>NaN</td>\n      <td>NaN</td>\n      <td>NaN</td>\n      <td>NaN</td>\n      <td>NaN</td>\n      <td>NaN</td>\n    </tr>\n    <tr>\n      <th>...</th>\n      <td>...</td>\n      <td>...</td>\n      <td>...</td>\n      <td>...</td>\n      <td>...</td>\n      <td>...</td>\n      <td>...</td>\n      <td>...</td>\n      <td>...</td>\n      <td>...</td>\n      <td>...</td>\n      <td>...</td>\n      <td>...</td>\n      <td>...</td>\n      <td>...</td>\n      <td>...</td>\n      <td>...</td>\n      <td>...</td>\n      <td>...</td>\n      <td>...</td>\n      <td>...</td>\n      <td>...</td>\n      <td>...</td>\n      <td>...</td>\n      <td>...</td>\n      <td>...</td>\n      <td>...</td>\n      <td>...</td>\n      <td>...</td>\n      <td>...</td>\n      <td>...</td>\n      <td>...</td>\n      <td>...</td>\n      <td>...</td>\n      <td>...</td>\n      <td>...</td>\n      <td>...</td>\n      <td>...</td>\n      <td>...</td>\n      <td>...</td>\n      <td>...</td>\n      <td>...</td>\n      <td>...</td>\n      <td>...</td>\n      <td>...</td>\n    </tr>\n    <tr>\n      <th>3082855</th>\n      <td>2017-08-31</td>\n      <td>9</td>\n      <td>POULTRY</td>\n      <td>NaN</td>\n      <td>1</td>\n      <td>6</td>\n      <td>NaN</td>\n      <td>NaN</td>\n      <td>NaN</td>\n      <td>NaN</td>\n      <td>47.26</td>\n      <td>8</td>\n      <td>31</td>\n      <td>243</td>\n      <td>35</td>\n      <td>3</td>\n      <td>2017</td>\n      <td>435.755473</td>\n      <td>282.505360</td>\n      <td>413.782082</td>\n      <td>384.115154</td>\n      <td>525.528939</td>\n      <td>290.796086</td>\n      <td>332.678810</td>\n      <td>566.281279</td>\n      <td>473.214692</td>\n      <td>551.353420</td>\n      <td>283.269116</td>\n      <td>416.741037</td>\n      <td>446.344824</td>\n      <td>455.151733</td>\n      <td>463.022243</td>\n      <td>447.437564</td>\n      <td>430.717553</td>\n      <td>430.717553</td>\n      <td>565.318991</td>\n      <td>423.935714</td>\n      <td>423.935714</td>\n      <td>560.611289</td>\n      <td>412.276337</td>\n      <td>412.276337</td>\n      <td>551.421713</td>\n      <td>392.438031</td>\n      <td>392.438031</td>\n      <td>518.514476</td>\n    </tr>\n    <tr>\n      <th>3082856</th>\n      <td>2017-08-31</td>\n      <td>9</td>\n      <td>PREPARED FOODS</td>\n      <td>NaN</td>\n      <td>0</td>\n      <td>6</td>\n      <td>NaN</td>\n      <td>NaN</td>\n      <td>NaN</td>\n      <td>NaN</td>\n      <td>47.26</td>\n      <td>8</td>\n      <td>31</td>\n      <td>243</td>\n      <td>35</td>\n      <td>3</td>\n      <td>2017</td>\n      <td>156.486040</td>\n      <td>113.868494</td>\n      <td>108.953551</td>\n      <td>127.234476</td>\n      <td>112.136607</td>\n      <td>110.659742</td>\n      <td>121.020592</td>\n      <td>50.946707</td>\n      <td>60.034310</td>\n      <td>76.312500</td>\n      <td>92.841726</td>\n      <td>130.432708</td>\n      <td>123.633441</td>\n      <td>117.074557</td>\n      <td>119.599022</td>\n      <td>105.591766</td>\n      <td>152.511953</td>\n      <td>152.511953</td>\n      <td>51.246066</td>\n      <td>150.443153</td>\n      <td>150.443153</td>\n      <td>52.444705</td>\n      <td>146.278339</td>\n      <td>146.278339</td>\n      <td>56.022566</td>\n      <td>134.243896</td>\n      <td>134.243896</td>\n      <td>72.911551</td>\n    </tr>\n    <tr>\n      <th>3082857</th>\n      <td>2017-08-31</td>\n      <td>9</td>\n      <td>PRODUCE</td>\n      <td>NaN</td>\n      <td>1</td>\n      <td>6</td>\n      <td>NaN</td>\n      <td>NaN</td>\n      <td>NaN</td>\n      <td>NaN</td>\n      <td>47.26</td>\n      <td>8</td>\n      <td>31</td>\n      <td>243</td>\n      <td>35</td>\n      <td>3</td>\n      <td>2017</td>\n      <td>2421.221216</td>\n      <td>1347.222555</td>\n      <td>1695.463557</td>\n      <td>1415.734929</td>\n      <td>1454.047609</td>\n      <td>1033.642038</td>\n      <td>1308.517105</td>\n      <td>2471.012492</td>\n      <td>1514.452487</td>\n      <td>1688.925054</td>\n      <td>1148.455425</td>\n      <td>1353.662611</td>\n      <td>1628.660925</td>\n      <td>1642.209551</td>\n      <td>1643.485618</td>\n      <td>1610.016995</td>\n      <td>2366.992548</td>\n      <td>2366.992548</td>\n      <td>2423.706728</td>\n      <td>2315.775659</td>\n      <td>2315.775659</td>\n      <td>2378.620204</td>\n      <td>2217.030205</td>\n      <td>2217.030205</td>\n      <td>2292.418673</td>\n      <td>1934.923106</td>\n      <td>1934.923106</td>\n      <td>2035.920473</td>\n    </tr>\n    <tr>\n      <th>3082858</th>\n      <td>2017-08-31</td>\n      <td>9</td>\n      <td>SCHOOL AND OFFICE SUPPLIES</td>\n      <td>NaN</td>\n      <td>9</td>\n      <td>6</td>\n      <td>NaN</td>\n      <td>NaN</td>\n      <td>NaN</td>\n      <td>NaN</td>\n      <td>47.26</td>\n      <td>8</td>\n      <td>31</td>\n      <td>243</td>\n      <td>35</td>\n      <td>3</td>\n      <td>2017</td>\n      <td>117.857629</td>\n      <td>180.622164</td>\n      <td>199.154060</td>\n      <td>135.884946</td>\n      <td>141.753131</td>\n      <td>150.523136</td>\n      <td>83.966247</td>\n      <td>205.411060</td>\n      <td>51.792784</td>\n      <td>7.512636</td>\n      <td>7.967606</td>\n      <td>82.581263</td>\n      <td>150.112376</td>\n      <td>147.977350</td>\n      <td>145.721588</td>\n      <td>84.202358</td>\n      <td>124.087264</td>\n      <td>124.087264</td>\n      <td>195.609900</td>\n      <td>127.218224</td>\n      <td>127.218224</td>\n      <td>188.128407</td>\n      <td>133.426673</td>\n      <td>133.426673</td>\n      <td>172.814546</td>\n      <td>148.242507</td>\n      <td>148.242507</td>\n      <td>122.237914</td>\n    </tr>\n    <tr>\n      <th>3082859</th>\n      <td>2017-08-31</td>\n      <td>9</td>\n      <td>SEAFOOD</td>\n      <td>NaN</td>\n      <td>0</td>\n      <td>6</td>\n      <td>NaN</td>\n      <td>NaN</td>\n      <td>NaN</td>\n      <td>NaN</td>\n      <td>47.26</td>\n      <td>8</td>\n      <td>31</td>\n      <td>243</td>\n      <td>35</td>\n      <td>3</td>\n      <td>2017</td>\n      <td>17.891686</td>\n      <td>12.701756</td>\n      <td>24.198703</td>\n      <td>17.978969</td>\n      <td>22.133592</td>\n      <td>13.085442</td>\n      <td>19.014188</td>\n      <td>17.291129</td>\n      <td>12.714296</td>\n      <td>25.633738</td>\n      <td>3.372533</td>\n      <td>22.651091</td>\n      <td>18.506450</td>\n      <td>20.803280</td>\n      <td>19.045531</td>\n      <td>16.681742</td>\n      <td>16.057148</td>\n      <td>16.057148</td>\n      <td>18.970154</td>\n      <td>16.127465</td>\n      <td>16.127465</td>\n      <td>18.664387</td>\n      <td>16.303197</td>\n      <td>16.303197</td>\n      <td>18.167376</td>\n      <td>17.058460</td>\n      <td>17.058460</td>\n      <td>17.242974</td>\n    </tr>\n  </tbody>\n</table>\n<p>3082860 rows × 45 columns</p>\n</div>"
     },
     "execution_count": 71,
     "metadata": {},
     "output_type": "execute_result"
    }
   ],
   "source": [
    "alphas = [0.95,0.9, 0.8, 0.5]\n",
    "lags =[1, 7,30]\n",
    "df = ewm_features(df, alphas, lags)\n",
    "df"
   ],
   "metadata": {
    "collapsed": false
   }
  },
  {
   "cell_type": "code",
   "execution_count": 15,
   "outputs": [],
   "source": [
    "df['sales'] = np.log1p(df[\"sales\"].values)"
   ],
   "metadata": {
    "collapsed": false
   }
  },
  {
   "cell_type": "code",
   "execution_count": 16,
   "id": "c5133681",
   "metadata": {
    "execution": {
     "iopub.execute_input": "2022-08-09T08:04:09.384871Z",
     "iopub.status.busy": "2022-08-09T08:04:09.384385Z",
     "iopub.status.idle": "2022-08-09T08:04:12.055915Z",
     "shell.execute_reply": "2022-08-09T08:04:12.054766Z"
    },
    "papermill": {
     "duration": 2.686041,
     "end_time": "2022-08-09T08:04:12.058807",
     "exception": false,
     "start_time": "2022-08-09T08:04:09.372766",
     "status": "completed"
    },
    "tags": []
   },
   "outputs": [],
   "source": [
    "df_all[\"family\"]=df_all[\"family\"].astype(\"category\")\n",
    "df_all[\"store_nbr\"]=df_all[\"store_nbr\"].astype(\"category\")\n",
    "df_all[\"city\"]=df_all[\"city\"].astype(\"category\")\n",
    "df_all[\"state\"]=df_all[\"state\"].astype(\"category\")\n",
    "df_all[\"type\"]=df_all[\"type\"].astype(\"category\")"
   ]
  },
  {
   "cell_type": "markdown",
   "id": "514f230d",
   "metadata": {
    "papermill": {
     "duration": 0.010183,
     "end_time": "2022-08-09T08:04:12.079229",
     "exception": false,
     "start_time": "2022-08-09T08:04:12.069046",
     "status": "completed"
    },
    "tags": []
   },
   "source": [
    "## Train Test Split"
   ]
  },
  {
   "cell_type": "code",
   "execution_count": 17,
   "id": "849df3ca",
   "metadata": {
    "execution": {
     "iopub.execute_input": "2022-08-09T08:04:12.102101Z",
     "iopub.status.busy": "2022-08-09T08:04:12.101622Z",
     "iopub.status.idle": "2022-08-09T08:04:15.137386Z",
     "shell.execute_reply": "2022-08-09T08:04:15.136311Z"
    },
    "papermill": {
     "duration": 3.050973,
     "end_time": "2022-08-09T08:04:15.140310",
     "exception": false,
     "start_time": "2022-08-09T08:04:12.089337",
     "status": "completed"
    },
    "tags": []
   },
   "outputs": [],
   "source": [
    "df= df[df[\"Date\"]>\"2013-12-31\"]\n",
    "\n",
    "val = df[(df[\"Date\"]>\"2017-08-01\")&(df[\"Date\"]<=\"2017-08-15\")]\n",
    "train  = df[df[\"Date\"]<=\"2017-08-01\"]\n",
    "test = df[df[\"Date\"]>\"2017-08-15\"]\n",
    "\n",
    "col_X = [col for col in train.columns if col not in ['Date', 'sales','year']]\n",
    "\n",
    "y_train = train[\"sales\"]\n",
    "y_val = val[\"sales\"]\n",
    "X_train = train[col_X]\n",
    "X_val = val[col_X]\n",
    "X_test = test[col_X]\n",
    "y_test = test[\"sales\"]"
   ]
  },
  {
   "cell_type": "markdown",
   "id": "c300a289",
   "metadata": {
    "papermill": {
     "duration": 0.009526,
     "end_time": "2022-08-09T08:04:15.160047",
     "exception": false,
     "start_time": "2022-08-09T08:04:15.150521",
     "status": "completed"
    },
    "tags": []
   },
   "source": [
    "## Train Model"
   ]
  },
  {
   "cell_type": "code",
   "execution_count": 18,
   "id": "695b7b08",
   "metadata": {
    "execution": {
     "iopub.execute_input": "2022-08-09T08:04:15.181820Z",
     "iopub.status.busy": "2022-08-09T08:04:15.181336Z",
     "iopub.status.idle": "2022-08-09T08:04:15.188893Z",
     "shell.execute_reply": "2022-08-09T08:04:15.187791Z"
    },
    "papermill": {
     "duration": 0.021218,
     "end_time": "2022-08-09T08:04:15.191239",
     "exception": false,
     "start_time": "2022-08-09T08:04:15.170021",
     "status": "completed"
    },
    "tags": []
   },
   "outputs": [],
   "source": [
    "# LightGBM parameters\n",
    "lgb_params = {'metric': {'mse'},\n",
    "              'boosting_type' : 'gbdt',\n",
    "              'num_leaves': 8,\n",
    "              'learning_rate': 0.2,\n",
    "              #'feature_fraction': 0.8,\n",
    "              'max_depth': 7,\n",
    "              'verbose': 0,\n",
    "              'num_boost_round': 5000,\n",
    "              'early_stopping_rounds': 200,\n",
    "              'nthread': -1,\n",
    "             'force_col_wise':True}\n",
    "\n",
    "lgbtrain = lgb.Dataset(data=X_train, label=y_train, feature_name=col_X)\n",
    "lgbtest = lgb.Dataset(data=X_val, label=y_val, reference=lgbtrain, feature_name=col_X)\n",
    "\n",
    "#del Y_train, X_train, Y_test,X_test"
   ]
  },
  {
   "cell_type": "code",
   "execution_count": 48,
   "outputs": [
    {
     "data": {
      "text/plain": "        store_nbr            family  onpromotion  cluster Holiday_type    locale                    description transferred  dcoilwtico  month  day_of_month  day_of_year  week_of_year  day_of_week  sales_lag_16  sales_lag_17  sales_lag_18  sales_lag_19  sales_lag_20  sales_lag_21  sales_lag_22  sales_lag_30  sales_lag_31  sales_lag_90  sales_lag_180  sales_lag_365  sales_roll_mean_16  sales_roll_mean_17  sales_roll_mean_18  sales_roll_mean_30  sales_ewm_alpha_095_lag_1  \\\n1717309        43  LIQUOR_WINE_BEER            0       10      Holiday  National  Primer Grito de Independencia       False       44.94      8            10          222            33            0    221.087422     46.859708    229.401381     37.173036     13.496806    128.052247     -0.995154    116.815625     76.395291     89.227706     475.869777      26.342446           57.471186           60.005781           54.276848           79.970769                  10.809777   \n\n         sales_ewm_alpha_095_lag_7  sales_ewm_alpha_095_lag_30  sales_ewm_alpha_09_lag_1  sales_ewm_alpha_09_lag_7  sales_ewm_alpha_09_lag_30  sales_ewm_alpha_08_lag_1  sales_ewm_alpha_08_lag_7  sales_ewm_alpha_08_lag_30  sales_ewm_alpha_05_lag_1  sales_ewm_alpha_05_lag_7  sales_ewm_alpha_05_lag_30  \n1717309                 219.746729                  116.866547                  21.73718                209.114819                 114.382363                  43.43461                189.780855                 108.586911                101.436902                144.961749                  94.086287  ",
      "text/html": "<div>\n<style scoped>\n    .dataframe tbody tr th:only-of-type {\n        vertical-align: middle;\n    }\n\n    .dataframe tbody tr th {\n        vertical-align: top;\n    }\n\n    .dataframe thead th {\n        text-align: right;\n    }\n</style>\n<table border=\"1\" class=\"dataframe\">\n  <thead>\n    <tr style=\"text-align: right;\">\n      <th></th>\n      <th>store_nbr</th>\n      <th>family</th>\n      <th>onpromotion</th>\n      <th>cluster</th>\n      <th>Holiday_type</th>\n      <th>locale</th>\n      <th>description</th>\n      <th>transferred</th>\n      <th>dcoilwtico</th>\n      <th>month</th>\n      <th>day_of_month</th>\n      <th>day_of_year</th>\n      <th>week_of_year</th>\n      <th>day_of_week</th>\n      <th>sales_lag_16</th>\n      <th>sales_lag_17</th>\n      <th>sales_lag_18</th>\n      <th>sales_lag_19</th>\n      <th>sales_lag_20</th>\n      <th>sales_lag_21</th>\n      <th>sales_lag_22</th>\n      <th>sales_lag_30</th>\n      <th>sales_lag_31</th>\n      <th>sales_lag_90</th>\n      <th>sales_lag_180</th>\n      <th>sales_lag_365</th>\n      <th>sales_roll_mean_16</th>\n      <th>sales_roll_mean_17</th>\n      <th>sales_roll_mean_18</th>\n      <th>sales_roll_mean_30</th>\n      <th>sales_ewm_alpha_095_lag_1</th>\n      <th>sales_ewm_alpha_095_lag_7</th>\n      <th>sales_ewm_alpha_095_lag_30</th>\n      <th>sales_ewm_alpha_09_lag_1</th>\n      <th>sales_ewm_alpha_09_lag_7</th>\n      <th>sales_ewm_alpha_09_lag_30</th>\n      <th>sales_ewm_alpha_08_lag_1</th>\n      <th>sales_ewm_alpha_08_lag_7</th>\n      <th>sales_ewm_alpha_08_lag_30</th>\n      <th>sales_ewm_alpha_05_lag_1</th>\n      <th>sales_ewm_alpha_05_lag_7</th>\n      <th>sales_ewm_alpha_05_lag_30</th>\n    </tr>\n  </thead>\n  <tbody>\n    <tr>\n      <th>1717309</th>\n      <td>43</td>\n      <td>LIQUOR_WINE_BEER</td>\n      <td>0</td>\n      <td>10</td>\n      <td>Holiday</td>\n      <td>National</td>\n      <td>Primer Grito de Independencia</td>\n      <td>False</td>\n      <td>44.94</td>\n      <td>8</td>\n      <td>10</td>\n      <td>222</td>\n      <td>33</td>\n      <td>0</td>\n      <td>221.087422</td>\n      <td>46.859708</td>\n      <td>229.401381</td>\n      <td>37.173036</td>\n      <td>13.496806</td>\n      <td>128.052247</td>\n      <td>-0.995154</td>\n      <td>116.815625</td>\n      <td>76.395291</td>\n      <td>89.227706</td>\n      <td>475.869777</td>\n      <td>26.342446</td>\n      <td>57.471186</td>\n      <td>60.005781</td>\n      <td>54.276848</td>\n      <td>79.970769</td>\n      <td>10.809777</td>\n      <td>219.746729</td>\n      <td>116.866547</td>\n      <td>21.73718</td>\n      <td>209.114819</td>\n      <td>114.382363</td>\n      <td>43.43461</td>\n      <td>189.780855</td>\n      <td>108.586911</td>\n      <td>101.436902</td>\n      <td>144.961749</td>\n      <td>94.086287</td>\n    </tr>\n  </tbody>\n</table>\n</div>"
     },
     "execution_count": 48,
     "metadata": {},
     "output_type": "execute_result"
    }
   ],
   "source": [
    "X_train[X_train.index == 1717309]"
   ],
   "metadata": {
    "collapsed": false
   }
  },
  {
   "cell_type": "code",
   "execution_count": 36,
   "outputs": [
    {
     "data": {
      "text/plain": "657558     0.000000\n657559     0.000000\n657560     0.000000\n657561     0.000000\n657562     0.000000\n             ...   \n3029395    6.347732\n3029396    3.940863\n3029397    7.812565\n3029398    5.318120\n3029399    3.011409\nName: sales, Length: 2371842, dtype: float64"
     },
     "execution_count": 36,
     "metadata": {},
     "output_type": "execute_result"
    }
   ],
   "source": [
    "y_train"
   ],
   "metadata": {
    "collapsed": false
   }
  },
  {
   "cell_type": "code",
   "execution_count": 19,
   "id": "469d74fb",
   "metadata": {
    "execution": {
     "iopub.execute_input": "2022-08-09T08:04:15.213244Z",
     "iopub.status.busy": "2022-08-09T08:04:15.212774Z",
     "iopub.status.idle": "2022-08-09T08:15:39.721049Z",
     "shell.execute_reply": "2022-08-09T08:15:39.719063Z"
    },
    "papermill": {
     "duration": 684.523465,
     "end_time": "2022-08-09T08:15:39.724738",
     "exception": false,
     "start_time": "2022-08-09T08:04:15.201273",
     "status": "completed"
    },
    "tags": []
   },
   "outputs": [
    {
     "name": "stdout",
     "output_type": "stream",
     "text": [
      "Training until validation scores don't improve for 200 rounds\n",
      "[100]\ttraining's l2: 0.17879\tvalid_1's l2: 0.167455\n",
      "[200]\ttraining's l2: 0.165982\tvalid_1's l2: 0.159076\n",
      "[300]\ttraining's l2: 0.159468\tvalid_1's l2: 0.155056\n",
      "[400]\ttraining's l2: 0.154452\tvalid_1's l2: 0.151994\n",
      "[500]\ttraining's l2: 0.150838\tvalid_1's l2: 0.150114\n",
      "[600]\ttraining's l2: 0.148297\tvalid_1's l2: 0.148491\n",
      "[700]\ttraining's l2: 0.145864\tvalid_1's l2: 0.146294\n",
      "[800]\ttraining's l2: 0.144069\tvalid_1's l2: 0.145326\n",
      "[900]\ttraining's l2: 0.142626\tvalid_1's l2: 0.14468\n",
      "[1000]\ttraining's l2: 0.141364\tvalid_1's l2: 0.144215\n",
      "[1100]\ttraining's l2: 0.140197\tvalid_1's l2: 0.143727\n",
      "[1200]\ttraining's l2: 0.13906\tvalid_1's l2: 0.143173\n",
      "[1300]\ttraining's l2: 0.137991\tvalid_1's l2: 0.142745\n",
      "[1400]\ttraining's l2: 0.137148\tvalid_1's l2: 0.142406\n",
      "[1500]\ttraining's l2: 0.136363\tvalid_1's l2: 0.142414\n",
      "[1600]\ttraining's l2: 0.135592\tvalid_1's l2: 0.142184\n",
      "[1700]\ttraining's l2: 0.134687\tvalid_1's l2: 0.141645\n",
      "[1800]\ttraining's l2: 0.133951\tvalid_1's l2: 0.141262\n",
      "[1900]\ttraining's l2: 0.133163\tvalid_1's l2: 0.14097\n",
      "[2000]\ttraining's l2: 0.132504\tvalid_1's l2: 0.140772\n",
      "[2100]\ttraining's l2: 0.131895\tvalid_1's l2: 0.140667\n",
      "[2200]\ttraining's l2: 0.131392\tvalid_1's l2: 0.140438\n",
      "[2300]\ttraining's l2: 0.13081\tvalid_1's l2: 0.140342\n",
      "[2400]\ttraining's l2: 0.130251\tvalid_1's l2: 0.140354\n",
      "[2500]\ttraining's l2: 0.129797\tvalid_1's l2: 0.140335\n",
      "[2600]\ttraining's l2: 0.129242\tvalid_1's l2: 0.140275\n",
      "[2700]\ttraining's l2: 0.128702\tvalid_1's l2: 0.140172\n",
      "[2800]\ttraining's l2: 0.128277\tvalid_1's l2: 0.140123\n",
      "[2900]\ttraining's l2: 0.127852\tvalid_1's l2: 0.140057\n",
      "[3000]\ttraining's l2: 0.127451\tvalid_1's l2: 0.140031\n",
      "[3100]\ttraining's l2: 0.12708\tvalid_1's l2: 0.140061\n",
      "[3200]\ttraining's l2: 0.126723\tvalid_1's l2: 0.14011\n",
      "[3300]\ttraining's l2: 0.126324\tvalid_1's l2: 0.140053\n",
      "Early stopping, best iteration is:\n",
      "[3123]\ttraining's l2: 0.126994\tvalid_1's l2: 0.139983\n"
     ]
    }
   ],
   "source": [
    "from sklearn.metrics import mean_absolute_error\n",
    "model = lgb.train(lgb_params, lgbtrain,\n",
    "                  valid_sets=[lgbtrain, lgbtest],\n",
    "                  num_boost_round=lgb_params['num_boost_round'],\n",
    "                  early_stopping_rounds=lgb_params['early_stopping_rounds'],\n",
    "                  #feval=mean_absolute_error,\n",
    "                  verbose_eval=100,\n",
    "                  )"
   ]
  },
  {
   "cell_type": "code",
   "execution_count": 20,
   "id": "fe9a1c6e",
   "metadata": {
    "execution": {
     "iopub.execute_input": "2022-08-09T08:15:39.752454Z",
     "iopub.status.busy": "2022-08-09T08:15:39.751933Z",
     "iopub.status.idle": "2022-08-09T08:15:41.489695Z",
     "shell.execute_reply": "2022-08-09T08:15:41.488519Z"
    },
    "papermill": {
     "duration": 1.755506,
     "end_time": "2022-08-09T08:15:41.493150",
     "exception": false,
     "start_time": "2022-08-09T08:15:39.737644",
     "status": "completed"
    },
    "tags": []
   },
   "outputs": [],
   "source": [
    "y_pred_val = model.predict(X_val, num_iteration=model.best_iteration)"
   ]
  },
  {
   "cell_type": "code",
   "execution_count": 21,
   "id": "b4239cf8",
   "metadata": {
    "execution": {
     "iopub.execute_input": "2022-08-09T08:15:41.521617Z",
     "iopub.status.busy": "2022-08-09T08:15:41.520783Z",
     "iopub.status.idle": "2022-08-09T08:15:41.526695Z",
     "shell.execute_reply": "2022-08-09T08:15:41.525445Z"
    },
    "papermill": {
     "duration": 0.022427,
     "end_time": "2022-08-09T08:15:41.529500",
     "exception": false,
     "start_time": "2022-08-09T08:15:41.507073",
     "status": "completed"
    },
    "tags": []
   },
   "outputs": [],
   "source": [
    "from sklearn.metrics import mean_squared_log_error"
   ]
  },
  {
   "cell_type": "code",
   "execution_count": 22,
   "id": "554225b7",
   "metadata": {
    "execution": {
     "iopub.execute_input": "2022-08-09T08:15:41.556650Z",
     "iopub.status.busy": "2022-08-09T08:15:41.555692Z",
     "iopub.status.idle": "2022-08-09T08:15:41.562194Z",
     "shell.execute_reply": "2022-08-09T08:15:41.560796Z"
    },
    "papermill": {
     "duration": 0.02272,
     "end_time": "2022-08-09T08:15:41.564766",
     "exception": false,
     "start_time": "2022-08-09T08:15:41.542046",
     "status": "completed"
    },
    "tags": []
   },
   "outputs": [],
   "source": [
    "y_pred_val[y_pred_val<0]=0"
   ]
  },
  {
   "cell_type": "code",
   "execution_count": 23,
   "id": "d6f3a979",
   "metadata": {
    "execution": {
     "iopub.execute_input": "2022-08-09T08:15:41.591716Z",
     "iopub.status.busy": "2022-08-09T08:15:41.590997Z",
     "iopub.status.idle": "2022-08-09T08:15:41.603178Z",
     "shell.execute_reply": "2022-08-09T08:15:41.601868Z"
    },
    "papermill": {
     "duration": 0.028933,
     "end_time": "2022-08-09T08:15:41.605956",
     "exception": false,
     "start_time": "2022-08-09T08:15:41.577023",
     "status": "completed"
    },
    "tags": []
   },
   "outputs": [
    {
     "data": {
      "text/plain": "0.1399499973813499"
     },
     "execution_count": 23,
     "metadata": {},
     "output_type": "execute_result"
    }
   ],
   "source": [
    "mean_squared_log_error(np.expm1(y_val), np.expm1(y_pred_val))"
   ]
  },
  {
   "cell_type": "code",
   "execution_count": 24,
   "id": "e1dda280",
   "metadata": {
    "execution": {
     "iopub.execute_input": "2022-08-09T08:15:41.632960Z",
     "iopub.status.busy": "2022-08-09T08:15:41.632461Z",
     "iopub.status.idle": "2022-08-09T08:15:41.965308Z",
     "shell.execute_reply": "2022-08-09T08:15:41.963818Z"
    },
    "papermill": {
     "duration": 0.349788,
     "end_time": "2022-08-09T08:15:41.968318",
     "exception": false,
     "start_time": "2022-08-09T08:15:41.618530",
     "status": "completed"
    },
    "tags": []
   },
   "outputs": [
    {
     "data": {
      "text/plain": "<matplotlib.collections.PathCollection at 0x27a8cb681c0>"
     },
     "execution_count": 24,
     "metadata": {},
     "output_type": "execute_result"
    },
    {
     "data": {
      "text/plain": "<Figure size 640x480 with 1 Axes>",
      "image/png": "[encoded data removed]"
     },
     "metadata": {},
     "output_type": "display_data"
    }
   ],
   "source": [
    "plt.scatter(np.expm1(y_val),np.expm1(y_pred_val))"
   ]
  },
  {
   "cell_type": "code",
   "execution_count": 25,
   "id": "c218ed06",
   "metadata": {
    "execution": {
     "iopub.execute_input": "2022-08-09T08:15:41.997540Z",
     "iopub.status.busy": "2022-08-09T08:15:41.997051Z",
     "iopub.status.idle": "2022-08-09T08:15:42.008623Z",
     "shell.execute_reply": "2022-08-09T08:15:42.007302Z"
    },
    "papermill": {
     "duration": 0.029374,
     "end_time": "2022-08-09T08:15:42.011576",
     "exception": false,
     "start_time": "2022-08-09T08:15:41.982202",
     "status": "completed"
    },
    "tags": []
   },
   "outputs": [
    {
     "data": {
      "text/plain": "array([3819, 3135,  375,   56,   30,   42, 3029,   28,  711,   74,  635,\n        646,  205,  994,  170,  183,  143,  201,  137,  457,  168,   89,\n        131,  153,  261,  172,   91,   74,   67,  280,  880,  701,   71,\n        360,  304,   57,  636,  336,   64, 1203,  508,  185])"
     },
     "execution_count": 25,
     "metadata": {},
     "output_type": "execute_result"
    }
   ],
   "source": [
    "model.feature_importance()"
   ]
  },
  {
   "cell_type": "code",
   "execution_count": 26,
   "id": "d9a6c144",
   "metadata": {
    "execution": {
     "iopub.execute_input": "2022-08-09T08:15:42.041375Z",
     "iopub.status.busy": "2022-08-09T08:15:42.040588Z",
     "iopub.status.idle": "2022-08-09T08:15:42.048061Z",
     "shell.execute_reply": "2022-08-09T08:15:42.046950Z"
    },
    "papermill": {
     "duration": 0.025089,
     "end_time": "2022-08-09T08:15:42.050893",
     "exception": false,
     "start_time": "2022-08-09T08:15:42.025804",
     "status": "completed"
    },
    "tags": []
   },
   "outputs": [
    {
     "data": {
      "text/plain": "['store_nbr',\n 'family',\n 'onpromotion',\n 'cluster',\n 'Holiday_type',\n 'locale',\n 'description',\n 'transferred',\n 'dcoilwtico',\n 'month',\n 'day_of_month',\n 'day_of_year',\n 'week_of_year',\n 'day_of_week',\n 'sales_lag_16',\n 'sales_lag_17',\n 'sales_lag_18',\n 'sales_lag_19',\n 'sales_lag_20',\n 'sales_lag_21',\n 'sales_lag_22',\n 'sales_lag_30',\n 'sales_lag_31',\n 'sales_lag_90',\n 'sales_lag_180',\n 'sales_lag_365',\n 'sales_roll_mean_16',\n 'sales_roll_mean_17',\n 'sales_roll_mean_18',\n 'sales_roll_mean_30',\n 'sales_ewm_alpha_095_lag_1',\n 'sales_ewm_alpha_095_lag_7',\n 'sales_ewm_alpha_095_lag_30',\n 'sales_ewm_alpha_09_lag_1',\n 'sales_ewm_alpha_09_lag_7',\n 'sales_ewm_alpha_09_lag_30',\n 'sales_ewm_alpha_08_lag_1',\n 'sales_ewm_alpha_08_lag_7',\n 'sales_ewm_alpha_08_lag_30',\n 'sales_ewm_alpha_05_lag_1',\n 'sales_ewm_alpha_05_lag_7',\n 'sales_ewm_alpha_05_lag_30']"
     },
     "execution_count": 26,
     "metadata": {},
     "output_type": "execute_result"
    }
   ],
   "source": [
    "model.feature_name()"
   ]
  },
  {
   "cell_type": "markdown",
   "id": "e8352595",
   "metadata": {
    "execution": {
     "iopub.execute_input": "2022-08-09T07:22:22.185343Z",
     "iopub.status.busy": "2022-08-09T07:22:22.184835Z",
     "iopub.status.idle": "2022-08-09T07:22:22.190529Z",
     "shell.execute_reply": "2022-08-09T07:22:22.189396Z",
     "shell.execute_reply.started": "2022-08-09T07:22:22.185295Z"
    },
    "papermill": {
     "duration": 0.012449,
     "end_time": "2022-08-09T08:15:42.076910",
     "exception": false,
     "start_time": "2022-08-09T08:15:42.064461",
     "status": "completed"
    },
    "tags": []
   },
   "source": [
    "## Submission"
   ]
  },
  {
   "cell_type": "code",
   "execution_count": 28,
   "id": "adda9861",
   "metadata": {
    "execution": {
     "iopub.execute_input": "2022-08-09T08:15:42.106042Z",
     "iopub.status.busy": "2022-08-09T08:15:42.105328Z",
     "iopub.status.idle": "2022-08-09T08:15:43.972765Z",
     "shell.execute_reply": "2022-08-09T08:15:43.971544Z"
    },
    "papermill": {
     "duration": 1.886121,
     "end_time": "2022-08-09T08:15:43.975942",
     "exception": false,
     "start_time": "2022-08-09T08:15:42.089821",
     "status": "completed"
    },
    "tags": []
   },
   "outputs": [],
   "source": [
    "submission = pd.read_csv(r\"C:\\Users\\derek.filko\\DataspellProjects\\Kaggle\\Store Sales\\data\\sample_submission.csv\")\n",
    "y_test = model.predict(X_test, num_iteration=model.best_iteration)"
   ]
  },
  {
   "cell_type": "code",
   "execution_count": 29,
   "id": "a187a8e2",
   "metadata": {
    "execution": {
     "iopub.execute_input": "2022-08-09T08:15:44.006155Z",
     "iopub.status.busy": "2022-08-09T08:15:44.005020Z",
     "iopub.status.idle": "2022-08-09T08:15:44.011114Z",
     "shell.execute_reply": "2022-08-09T08:15:44.009903Z"
    },
    "papermill": {
     "duration": 0.023484,
     "end_time": "2022-08-09T08:15:44.013961",
     "exception": false,
     "start_time": "2022-08-09T08:15:43.990477",
     "status": "completed"
    },
    "tags": []
   },
   "outputs": [],
   "source": [
    "y_test[y_test<0]=0"
   ]
  },
  {
   "cell_type": "code",
   "execution_count": 30,
   "id": "f18c40eb",
   "metadata": {
    "execution": {
     "iopub.execute_input": "2022-08-09T08:15:44.043624Z",
     "iopub.status.busy": "2022-08-09T08:15:44.042800Z",
     "iopub.status.idle": "2022-08-09T08:15:44.048984Z",
     "shell.execute_reply": "2022-08-09T08:15:44.048015Z"
    },
    "papermill": {
     "duration": 0.023287,
     "end_time": "2022-08-09T08:15:44.051235",
     "exception": false,
     "start_time": "2022-08-09T08:15:44.027948",
     "status": "completed"
    },
    "tags": []
   },
   "outputs": [],
   "source": [
    "submission[\"sales\"] = np.expm1(y_test)"
   ]
  },
  {
   "cell_type": "code",
   "execution_count": 31,
   "id": "5b2d3129",
   "metadata": {
    "execution": {
     "iopub.execute_input": "2022-08-09T08:15:44.079754Z",
     "iopub.status.busy": "2022-08-09T08:15:44.078968Z",
     "iopub.status.idle": "2022-08-09T08:15:44.153589Z",
     "shell.execute_reply": "2022-08-09T08:15:44.152191Z"
    },
    "papermill": {
     "duration": 0.092363,
     "end_time": "2022-08-09T08:15:44.156656",
     "exception": false,
     "start_time": "2022-08-09T08:15:44.064293",
     "status": "completed"
    },
    "tags": []
   },
   "outputs": [],
   "source": [
    "submission.to_csv(\"submission.csv\",index=False)"
   ]
  },
  {
   "cell_type": "code",
   "execution_count": 32,
   "id": "8d7cc8ca",
   "metadata": {
    "execution": {
     "iopub.execute_input": "2022-08-09T08:15:44.186075Z",
     "iopub.status.busy": "2022-08-09T08:15:44.185582Z",
     "iopub.status.idle": "2022-08-09T08:15:44.199168Z",
     "shell.execute_reply": "2022-08-09T08:15:44.198225Z"
    },
    "papermill": {
     "duration": 0.031384,
     "end_time": "2022-08-09T08:15:44.201790",
     "exception": false,
     "start_time": "2022-08-09T08:15:44.170406",
     "status": "completed"
    },
    "tags": []
   },
   "outputs": [
    {
     "data": {
      "text/plain": "            id        sales\n0      3000888     4.198829\n1      3000889     0.035366\n2      3000890     5.583956\n3      3000891  2495.038881\n4      3000892     0.103274\n...        ...          ...\n28507  3029395   383.578335\n28508  3029396   122.762627\n28509  3029397  1783.622462\n28510  3029398   140.766797\n28511  3029399    14.600371\n\n[28512 rows x 2 columns]",
      "text/html": "<div>\n<style scoped>\n    .dataframe tbody tr th:only-of-type {\n        vertical-align: middle;\n    }\n\n    .dataframe tbody tr th {\n        vertical-align: top;\n    }\n\n    .dataframe thead th {\n        text-align: right;\n    }\n</style>\n<table border=\"1\" class=\"dataframe\">\n  <thead>\n    <tr style=\"text-align: right;\">\n      <th></th>\n      <th>id</th>\n      <th>sales</th>\n    </tr>\n  </thead>\n  <tbody>\n    <tr>\n      <th>0</th>\n      <td>3000888</td>\n      <td>4.198829</td>\n    </tr>\n    <tr>\n      <th>1</th>\n      <td>3000889</td>\n      <td>0.035366</td>\n    </tr>\n    <tr>\n      <th>2</th>\n      <td>3000890</td>\n      <td>5.583956</td>\n    </tr>\n    <tr>\n      <th>3</th>\n      <td>3000891</td>\n      <td>2495.038881</td>\n    </tr>\n    <tr>\n      <th>4</th>\n      <td>3000892</td>\n      <td>0.103274</td>\n    </tr>\n    <tr>\n      <th>...</th>\n      <td>...</td>\n      <td>...</td>\n    </tr>\n    <tr>\n      <th>28507</th>\n      <td>3029395</td>\n      <td>383.578335</td>\n    </tr>\n    <tr>\n      <th>28508</th>\n      <td>3029396</td>\n      <td>122.762627</td>\n    </tr>\n    <tr>\n      <th>28509</th>\n      <td>3029397</td>\n      <td>1783.622462</td>\n    </tr>\n    <tr>\n      <th>28510</th>\n      <td>3029398</td>\n      <td>140.766797</td>\n    </tr>\n    <tr>\n      <th>28511</th>\n      <td>3029399</td>\n      <td>14.600371</td>\n    </tr>\n  </tbody>\n</table>\n<p>28512 rows × 2 columns</p>\n</div>"
     },
     "execution_count": 32,
     "metadata": {},
     "output_type": "execute_result"
    }
   ],
   "source": [
    "submission"
   ]
  },
  {
   "cell_type": "code",
   "execution_count": null,
   "id": "ef0290a8",
   "metadata": {
    "papermill": {
     "duration": 0.013066,
     "end_time": "2022-08-09T08:15:44.228152",
     "exception": false,
     "start_time": "2022-08-09T08:15:44.215086",
     "status": "completed"
    },
    "tags": []
   },
   "outputs": [],
   "source": []
  }
 ],
 "metadata": {
  "kernelspec": {
   "display_name": "Python 3",
   "language": "python",
   "name": "python3"
  },
  "language_info": {
   "codemirror_mode": {
    "name": "ipython",
    "version": 3
   },
   "file_extension": ".py",
   "mimetype": "text/x-python",
   "name": "python",
   "nbconvert_exporter": "python",
   "pygments_lexer": "ipython3",
   "version": "3.7.12"
  },
  "papermill": {
   "default_parameters": {},
   "duration": 819.258906,
   "end_time": "2022-08-09T08:15:45.470301",
   "environment_variables": {},
   "exception": null,
   "input_path": "__notebook__.ipynb",
   "output_path": "__notebook__.ipynb",
   "parameters": {},
   "start_time": "2022-08-09T08:02:06.211395",
   "version": "2.3.4"
  }
 },
 "nbformat": 4,
 "nbformat_minor": 5
}
