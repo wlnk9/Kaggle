{
 "cells": [
  {
   "cell_type": "code",
   "execution_count": 16,
   "metadata": {
    "collapsed": true
   },
   "outputs": [],
   "source": [
    "import pandas as pd"
   ]
  },
  {
   "cell_type": "code",
   "execution_count": 17,
   "outputs": [],
   "source": [
    "df_train = pd.read_csv(r\"C:\\Users\\derek.filko\\DataspellProjects\\Kaggle\\Store Sales\\data\\train.csv\", index_col=0)\n",
    "df_test = pd.read_csv(r\"C:\\Users\\derek.filko\\DataspellProjects\\Kaggle\\Store Sales\\data\\test.csv\", index_col=0)\n",
    "df_transactions = pd.read_csv(r\"C:\\Users\\derek.filko\\DataspellProjects\\Kaggle\\Store Sales\\data\\transactions.csv\")\n",
    "df_stores = pd.read_csv(r\"C:\\Users\\derek.filko\\DataspellProjects\\Kaggle\\Store Sales\\data\\stores.csv\")\n",
    "df_holidays = pd.read_csv(r\"C:\\Users\\derek.filko\\DataspellProjects\\Kaggle\\Store Sales\\data\\holidays_events.csv\")\n",
    "df_oil = pd.read_csv(r\"C:\\Users\\derek.filko\\DataspellProjects\\Kaggle\\Store Sales\\data\\oil.csv\")"
   ],
   "metadata": {
    "collapsed": false
   }
  },
  {
   "cell_type": "code",
   "execution_count": 18,
   "outputs": [],
   "source": [
    "df_oil['date'] = df_oil['date'].astype(\"datetime64\")\n",
    "df_date = pd.DataFrame(pd.date_range(\"2013-01-01\", \"2017-08-31\"), columns=[\"date\"])\n",
    "df_oil = df_date.merge(df_oil, left_on='date', right_on='date', how='left').fillna(method='ffill').fillna(method='bfill')\n",
    "df_all = pd.concat([df_train, df_test], ignore_index=True)\n",
    "df_all = df_all.merge(df_stores, left_on=\"store_nbr\", right_on=\"store_nbr\", how=\"left\")\n",
    "df_holidays = df_holidays.rename(columns={\"type\": \"Holiday_type\"})\n",
    "df_all = df_all.merge(df_holidays, left_on=\"date\", right_on=\"date\", how=\"left\")\n",
    "df_all = df_all.merge(df_transactions, left_on=[\"date\", \"store_nbr\"], right_on=[\"date\", \"store_nbr\"], how=\"left\")\n",
    "df_all[\"date\"] = df_all[\"date\"].astype(\"datetime64\")\n",
    "df_all = df_all.merge(df_oil, left_on=\"date\", right_on=\"date\", how=\"left\")\n",
    "df_all = df_all.replace(\",\", \"_\", regex=True)\n",
    "df_all = df_all.rename(columns={\"date\": \"Date\"})"
   ],
   "metadata": {
    "collapsed": false
   }
  },
  {
   "cell_type": "code",
   "execution_count": 19,
   "outputs": [
    {
     "data": {
      "text/plain": "              Date  store_nbr                      family  sales  onpromotion  \\\n0       2013-01-01          1                  AUTOMOTIVE    0.0            0   \n1       2013-01-01          1                   BABY CARE    0.0            0   \n2       2013-01-01          1                      BEAUTY    0.0            0   \n3       2013-01-01          1                   BEVERAGES    0.0            0   \n4       2013-01-01          1                       BOOKS    0.0            0   \n...            ...        ...                         ...    ...          ...   \n3082855 2017-08-31          9                     POULTRY    NaN            1   \n3082856 2017-08-31          9              PREPARED FOODS    NaN            0   \n3082857 2017-08-31          9                     PRODUCE    NaN            1   \n3082858 2017-08-31          9  SCHOOL AND OFFICE SUPPLIES    NaN            9   \n3082859 2017-08-31          9                     SEAFOOD    NaN            0   \n\n          city      state type  cluster Holiday_type    locale locale_name  \\\n0        Quito  Pichincha    D       13      Holiday  National     Ecuador   \n1        Quito  Pichincha    D       13      Holiday  National     Ecuador   \n2        Quito  Pichincha    D       13      Holiday  National     Ecuador   \n3        Quito  Pichincha    D       13      Holiday  National     Ecuador   \n4        Quito  Pichincha    D       13      Holiday  National     Ecuador   \n...        ...        ...  ...      ...          ...       ...         ...   \n3082855  Quito  Pichincha    B        6          NaN       NaN         NaN   \n3082856  Quito  Pichincha    B        6          NaN       NaN         NaN   \n3082857  Quito  Pichincha    B        6          NaN       NaN         NaN   \n3082858  Quito  Pichincha    B        6          NaN       NaN         NaN   \n3082859  Quito  Pichincha    B        6          NaN       NaN         NaN   \n\n                description transferred  transactions  dcoilwtico  \n0        Primer dia del ano       False           NaN       93.14  \n1        Primer dia del ano       False           NaN       93.14  \n2        Primer dia del ano       False           NaN       93.14  \n3        Primer dia del ano       False           NaN       93.14  \n4        Primer dia del ano       False           NaN       93.14  \n...                     ...         ...           ...         ...  \n3082855                 NaN         NaN           NaN       47.26  \n3082856                 NaN         NaN           NaN       47.26  \n3082857                 NaN         NaN           NaN       47.26  \n3082858                 NaN         NaN           NaN       47.26  \n3082859                 NaN         NaN           NaN       47.26  \n\n[3082860 rows x 16 columns]",
      "text/html": "<div>\n<style scoped>\n    .dataframe tbody tr th:only-of-type {\n        vertical-align: middle;\n    }\n\n    .dataframe tbody tr th {\n        vertical-align: top;\n    }\n\n    .dataframe thead th {\n        text-align: right;\n    }\n</style>\n<table border=\"1\" class=\"dataframe\">\n  <thead>\n    <tr style=\"text-align: right;\">\n      <th></th>\n      <th>Date</th>\n      <th>store_nbr</th>\n      <th>family</th>\n      <th>sales</th>\n      <th>onpromotion</th>\n      <th>city</th>\n      <th>state</th>\n      <th>type</th>\n      <th>cluster</th>\n      <th>Holiday_type</th>\n      <th>locale</th>\n      <th>locale_name</th>\n      <th>description</th>\n      <th>transferred</th>\n      <th>transactions</th>\n      <th>dcoilwtico</th>\n    </tr>\n  </thead>\n  <tbody>\n    <tr>\n      <th>0</th>\n      <td>2013-01-01</td>\n      <td>1</td>\n      <td>AUTOMOTIVE</td>\n      <td>0.0</td>\n      <td>0</td>\n      <td>Quito</td>\n      <td>Pichincha</td>\n      <td>D</td>\n      <td>13</td>\n      <td>Holiday</td>\n      <td>National</td>\n      <td>Ecuador</td>\n      <td>Primer dia del ano</td>\n      <td>False</td>\n      <td>NaN</td>\n      <td>93.14</td>\n    </tr>\n    <tr>\n      <th>1</th>\n      <td>2013-01-01</td>\n      <td>1</td>\n      <td>BABY CARE</td>\n      <td>0.0</td>\n      <td>0</td>\n      <td>Quito</td>\n      <td>Pichincha</td>\n      <td>D</td>\n      <td>13</td>\n      <td>Holiday</td>\n      <td>National</td>\n      <td>Ecuador</td>\n      <td>Primer dia del ano</td>\n      <td>False</td>\n      <td>NaN</td>\n      <td>93.14</td>\n    </tr>\n    <tr>\n      <th>2</th>\n      <td>2013-01-01</td>\n      <td>1</td>\n      <td>BEAUTY</td>\n      <td>0.0</td>\n      <td>0</td>\n      <td>Quito</td>\n      <td>Pichincha</td>\n      <td>D</td>\n      <td>13</td>\n      <td>Holiday</td>\n      <td>National</td>\n      <td>Ecuador</td>\n      <td>Primer dia del ano</td>\n      <td>False</td>\n      <td>NaN</td>\n      <td>93.14</td>\n    </tr>\n    <tr>\n      <th>3</th>\n      <td>2013-01-01</td>\n      <td>1</td>\n      <td>BEVERAGES</td>\n      <td>0.0</td>\n      <td>0</td>\n      <td>Quito</td>\n      <td>Pichincha</td>\n      <td>D</td>\n      <td>13</td>\n      <td>Holiday</td>\n      <td>National</td>\n      <td>Ecuador</td>\n      <td>Primer dia del ano</td>\n      <td>False</td>\n      <td>NaN</td>\n      <td>93.14</td>\n    </tr>\n    <tr>\n      <th>4</th>\n      <td>2013-01-01</td>\n      <td>1</td>\n      <td>BOOKS</td>\n      <td>0.0</td>\n      <td>0</td>\n      <td>Quito</td>\n      <td>Pichincha</td>\n      <td>D</td>\n      <td>13</td>\n      <td>Holiday</td>\n      <td>National</td>\n      <td>Ecuador</td>\n      <td>Primer dia del ano</td>\n      <td>False</td>\n      <td>NaN</td>\n      <td>93.14</td>\n    </tr>\n    <tr>\n      <th>...</th>\n      <td>...</td>\n      <td>...</td>\n      <td>...</td>\n      <td>...</td>\n      <td>...</td>\n      <td>...</td>\n      <td>...</td>\n      <td>...</td>\n      <td>...</td>\n      <td>...</td>\n      <td>...</td>\n      <td>...</td>\n      <td>...</td>\n      <td>...</td>\n      <td>...</td>\n      <td>...</td>\n    </tr>\n    <tr>\n      <th>3082855</th>\n      <td>2017-08-31</td>\n      <td>9</td>\n      <td>POULTRY</td>\n      <td>NaN</td>\n      <td>1</td>\n      <td>Quito</td>\n      <td>Pichincha</td>\n      <td>B</td>\n      <td>6</td>\n      <td>NaN</td>\n      <td>NaN</td>\n      <td>NaN</td>\n      <td>NaN</td>\n      <td>NaN</td>\n      <td>NaN</td>\n      <td>47.26</td>\n    </tr>\n    <tr>\n      <th>3082856</th>\n      <td>2017-08-31</td>\n      <td>9</td>\n      <td>PREPARED FOODS</td>\n      <td>NaN</td>\n      <td>0</td>\n      <td>Quito</td>\n      <td>Pichincha</td>\n      <td>B</td>\n      <td>6</td>\n      <td>NaN</td>\n      <td>NaN</td>\n      <td>NaN</td>\n      <td>NaN</td>\n      <td>NaN</td>\n      <td>NaN</td>\n      <td>47.26</td>\n    </tr>\n    <tr>\n      <th>3082857</th>\n      <td>2017-08-31</td>\n      <td>9</td>\n      <td>PRODUCE</td>\n      <td>NaN</td>\n      <td>1</td>\n      <td>Quito</td>\n      <td>Pichincha</td>\n      <td>B</td>\n      <td>6</td>\n      <td>NaN</td>\n      <td>NaN</td>\n      <td>NaN</td>\n      <td>NaN</td>\n      <td>NaN</td>\n      <td>NaN</td>\n      <td>47.26</td>\n    </tr>\n    <tr>\n      <th>3082858</th>\n      <td>2017-08-31</td>\n      <td>9</td>\n      <td>SCHOOL AND OFFICE SUPPLIES</td>\n      <td>NaN</td>\n      <td>9</td>\n      <td>Quito</td>\n      <td>Pichincha</td>\n      <td>B</td>\n      <td>6</td>\n      <td>NaN</td>\n      <td>NaN</td>\n      <td>NaN</td>\n      <td>NaN</td>\n      <td>NaN</td>\n      <td>NaN</td>\n      <td>47.26</td>\n    </tr>\n    <tr>\n      <th>3082859</th>\n      <td>2017-08-31</td>\n      <td>9</td>\n      <td>SEAFOOD</td>\n      <td>NaN</td>\n      <td>0</td>\n      <td>Quito</td>\n      <td>Pichincha</td>\n      <td>B</td>\n      <td>6</td>\n      <td>NaN</td>\n      <td>NaN</td>\n      <td>NaN</td>\n      <td>NaN</td>\n      <td>NaN</td>\n      <td>NaN</td>\n      <td>47.26</td>\n    </tr>\n  </tbody>\n</table>\n<p>3082860 rows × 16 columns</p>\n</div>"
     },
     "execution_count": 19,
     "metadata": {},
     "output_type": "execute_result"
    }
   ],
   "source": [
    "df_all"
   ],
   "metadata": {
    "collapsed": false
   }
  },
  {
   "cell_type": "code",
   "execution_count": 18,
   "outputs": [],
   "source": [],
   "metadata": {
    "collapsed": false
   }
  },
  {
   "cell_type": "code",
   "execution_count": 18,
   "outputs": [],
   "source": [],
   "metadata": {
    "collapsed": false
   }
  },
  {
   "cell_type": "code",
   "execution_count": 18,
   "outputs": [],
   "source": [],
   "metadata": {
    "collapsed": false
   }
  },
  {
   "cell_type": "code",
   "execution_count": 18,
   "outputs": [],
   "source": [],
   "metadata": {
    "collapsed": false
   }
  },
  {
   "cell_type": "code",
   "execution_count": 18,
   "outputs": [],
   "source": [],
   "metadata": {
    "collapsed": false
   }
  },
  {
   "cell_type": "code",
   "execution_count": 18,
   "outputs": [],
   "source": [],
   "metadata": {
    "collapsed": false
   }
  },
  {
   "cell_type": "code",
   "execution_count": 18,
   "outputs": [],
   "source": [],
   "metadata": {
    "collapsed": false
   }
  },
  {
   "cell_type": "code",
   "execution_count": 18,
   "outputs": [],
   "source": [],
   "metadata": {
    "collapsed": false
   }
  },
  {
   "cell_type": "code",
   "execution_count": 18,
   "outputs": [],
   "source": [],
   "metadata": {
    "collapsed": false
   }
  },
  {
   "cell_type": "code",
   "execution_count": 18,
   "outputs": [],
   "source": [],
   "metadata": {
    "collapsed": false
   }
  },
  {
   "cell_type": "code",
   "execution_count": 18,
   "outputs": [],
   "source": [],
   "metadata": {
    "collapsed": false
   }
  },
  {
   "cell_type": "code",
   "execution_count": 18,
   "outputs": [],
   "source": [],
   "metadata": {
    "collapsed": false
   }
  },
  {
   "cell_type": "code",
   "execution_count": 18,
   "outputs": [],
   "source": [],
   "metadata": {
    "collapsed": false
   }
  },
  {
   "cell_type": "code",
   "execution_count": 18,
   "outputs": [],
   "source": [],
   "metadata": {
    "collapsed": false
   }
  },
  {
   "cell_type": "code",
   "execution_count": 18,
   "outputs": [],
   "source": [],
   "metadata": {
    "collapsed": false
   }
  },
  {
   "cell_type": "code",
   "execution_count": 18,
   "outputs": [],
   "source": [],
   "metadata": {
    "collapsed": false
   }
  },
  {
   "cell_type": "code",
   "execution_count": 18,
   "outputs": [],
   "source": [],
   "metadata": {
    "collapsed": false
   }
  },
  {
   "cell_type": "code",
   "execution_count": 18,
   "outputs": [],
   "source": [],
   "metadata": {
    "collapsed": false
   }
  },
  {
   "cell_type": "code",
   "execution_count": 18,
   "outputs": [],
   "source": [],
   "metadata": {
    "collapsed": false
   }
  }
 ],
 "metadata": {
  "kernelspec": {
   "display_name": "Python 3",
   "language": "python",
   "name": "python3"
  },
  "language_info": {
   "codemirror_mode": {
    "name": "ipython",
    "version": 2
   },
   "file_extension": ".py",
   "mimetype": "text/x-python",
   "name": "python",
   "nbconvert_exporter": "python",
   "pygments_lexer": "ipython2",
   "version": "2.7.6"
  }
 },
 "nbformat": 4,
 "nbformat_minor": 0
}
