{
 "metadata": {
  "kernelspec": {
   "language": "python",
   "display_name": "Python 3",
   "name": "python3"
  },
  "language_info": {
   "name": "python",
   "version": "3.7.12",
   "mimetype": "text/x-python",
   "codemirror_mode": {
    "name": "ipython",
    "version": 3
   },
   "pygments_lexer": "ipython3",
   "nbconvert_exporter": "python",
   "file_extension": ".py"
  }
 },
 "nbformat_minor": 4,
 "nbformat": 4,
 "cells": [
  {
   "cell_type": "markdown",
   "source": [
    "<div class=\"alert alert-block alert-success\">  \n",
    "<h1><center><strong>Time Series Problem ⏰</strong></center></h1>"
   ],
   "metadata": {}
  },
  {
   "cell_type": "markdown",
   "source": [
    "#### If this helped in your learning, then please **UPVOTE** – as they are the source of motivation!"
   ],
   "metadata": {}
  },
  {
   "cell_type": "markdown",
   "source": [
    "#### **What are time series forecasting and analysis?**\n",
    "\n",
    "Time series forecasting is a set of methods in statistics and data science to predict some variables that develop and change over time. The underlying intention of time series forecasting is determining how target variables will change in the future by observing historical data from the time perspective, defining the patterns, and yielding short or long-term predictions on how change occurs – considering the captured patterns.\n",
    "\n",
    "\n",
    "Time series problems, on the other hand, are always time-dependent and we usually look at four main components: seasonality, trends, cycles, and irregular components.\n",
    "\n",
    "\n",
    "![](https://content.altexsoft.com/media/2017/07/medicine-sales-graph.png.webp)\n",
    "\n",
    "\n",
    "\n",
    "The graph above is a clear example of how trends and seasons work.\n",
    "\n",
    "Trends. The trend component describes how the variable – drug sales in this case – changes over long periods of time. We see that the sales revenues of antidiabetic drugs have substantially increased during the period from the 1990s to 2010s.\n",
    "\n",
    "Seasons. The seasonal component showcases each year’s wave-like changes in sales patterns. Sales were increasing and decreasing seasonally. Seasonal series can be tied to any time measurement, but these periods of time always have a fixed length and succession. We can consider monthly or quarterly patterns for sales in midsize or small eCommerce, or track micro-interactions across a day.\n",
    "\n",
    "Cycles. Cycles are long-term patterns that have a waveform and recurring nature similar to seasonal patterns but with variable length, they don’t have a fixed time period. For example, business cycles have recognizable elements of growth, recession, and recovery. But the cycles themselves stretch in time differently for a given country throughout its history.\n",
    "\n",
    "Irregularities. Irregular components appear due to unexpected events, like cataclysms, or are simply representative of noise in the data."
   ],
   "metadata": {}
  },
  {
   "cell_type": "markdown",
   "source": [
    "<div class=\"alert alert-info\">  \n",
    "<h3><strong>Import Libraries 📃</strong></h3>\n",
    "</div>"
   ],
   "metadata": {}
  },
  {
   "cell_type": "code",
   "source": [
    "import matplotlib.pyplot as plt\n",
    "import pandas as pd\n",
    "import seaborn as sns\n",
    "from sklearn.model_selection import train_test_split\n",
    "from sklearn.preprocessing import LabelEncoder\n",
    "import xgboost as xgb\n",
    "import matplotlib.patches as patches\n",
    "# import pmdarima as pm\n",
    "# from pmdarima.arima import auto_arima"
   ],
   "metadata": {
    "execution": {
     "iopub.status.busy": "2022-09-21T07:06:46.447141Z",
     "iopub.execute_input": "2022-09-21T07:06:46.447755Z",
     "iopub.status.idle": "2022-09-21T07:06:47.536632Z",
     "shell.execute_reply.started": "2022-09-21T07:06:46.447633Z",
     "shell.execute_reply": "2022-09-21T07:06:47.535145Z"
    },
    "trusted": true
   },
   "execution_count": 2,
   "outputs": []
  },
  {
   "cell_type": "code",
   "execution_count": 3,
   "outputs": [
    {
     "ename": "FileNotFoundError",
     "evalue": "[Errno 2] No such file or directory: '../input/competitive-data-science-predict-future-sales/sales_train.csv'",
     "output_type": "error",
     "traceback": [
      "\u001B[1;31m---------------------------------------------------------------------------\u001B[0m",
      "\u001B[1;31mFileNotFoundError\u001B[0m                         Traceback (most recent call last)",
      "Input \u001B[1;32mIn [3]\u001B[0m, in \u001B[0;36m<cell line: 1>\u001B[1;34m()\u001B[0m\n\u001B[1;32m----> 1\u001B[0m sales_train \u001B[38;5;241m=\u001B[39m \u001B[43mpd\u001B[49m\u001B[38;5;241;43m.\u001B[39;49m\u001B[43mread_csv\u001B[49m\u001B[43m(\u001B[49m\u001B[38;5;124;43m'\u001B[39;49m\u001B[38;5;124;43m../input/competitive-data-science-predict-future-sales/sales_train.csv\u001B[39;49m\u001B[38;5;124;43m'\u001B[39;49m\u001B[43m)\u001B[49m\n\u001B[0;32m      2\u001B[0m shops \u001B[38;5;241m=\u001B[39m pd\u001B[38;5;241m.\u001B[39mread_csv(\u001B[38;5;124m'\u001B[39m\u001B[38;5;124m../input/competitive-data-science-predict-future-sales/shops.csv\u001B[39m\u001B[38;5;124m'\u001B[39m)\n\u001B[0;32m      3\u001B[0m items \u001B[38;5;241m=\u001B[39m pd\u001B[38;5;241m.\u001B[39mread_csv(\u001B[38;5;124m'\u001B[39m\u001B[38;5;124m../input/competitive-data-science-predict-future-sales/items.csv\u001B[39m\u001B[38;5;124m'\u001B[39m)\n",
      "File \u001B[1;32m~\\Anaconda3\\envs\\workspace\\lib\\site-packages\\pandas\\util\\_decorators.py:311\u001B[0m, in \u001B[0;36mdeprecate_nonkeyword_arguments.<locals>.decorate.<locals>.wrapper\u001B[1;34m(*args, **kwargs)\u001B[0m\n\u001B[0;32m    305\u001B[0m \u001B[38;5;28;01mif\u001B[39;00m \u001B[38;5;28mlen\u001B[39m(args) \u001B[38;5;241m>\u001B[39m num_allow_args:\n\u001B[0;32m    306\u001B[0m     warnings\u001B[38;5;241m.\u001B[39mwarn(\n\u001B[0;32m    307\u001B[0m         msg\u001B[38;5;241m.\u001B[39mformat(arguments\u001B[38;5;241m=\u001B[39marguments),\n\u001B[0;32m    308\u001B[0m         \u001B[38;5;167;01mFutureWarning\u001B[39;00m,\n\u001B[0;32m    309\u001B[0m         stacklevel\u001B[38;5;241m=\u001B[39mstacklevel,\n\u001B[0;32m    310\u001B[0m     )\n\u001B[1;32m--> 311\u001B[0m \u001B[38;5;28;01mreturn\u001B[39;00m func(\u001B[38;5;241m*\u001B[39margs, \u001B[38;5;241m*\u001B[39m\u001B[38;5;241m*\u001B[39mkwargs)\n",
      "File \u001B[1;32m~\\Anaconda3\\envs\\workspace\\lib\\site-packages\\pandas\\io\\parsers\\readers.py:678\u001B[0m, in \u001B[0;36mread_csv\u001B[1;34m(filepath_or_buffer, sep, delimiter, header, names, index_col, usecols, squeeze, prefix, mangle_dupe_cols, dtype, engine, converters, true_values, false_values, skipinitialspace, skiprows, skipfooter, nrows, na_values, keep_default_na, na_filter, verbose, skip_blank_lines, parse_dates, infer_datetime_format, keep_date_col, date_parser, dayfirst, cache_dates, iterator, chunksize, compression, thousands, decimal, lineterminator, quotechar, quoting, doublequote, escapechar, comment, encoding, encoding_errors, dialect, error_bad_lines, warn_bad_lines, on_bad_lines, delim_whitespace, low_memory, memory_map, float_precision, storage_options)\u001B[0m\n\u001B[0;32m    663\u001B[0m kwds_defaults \u001B[38;5;241m=\u001B[39m _refine_defaults_read(\n\u001B[0;32m    664\u001B[0m     dialect,\n\u001B[0;32m    665\u001B[0m     delimiter,\n\u001B[1;32m   (...)\u001B[0m\n\u001B[0;32m    674\u001B[0m     defaults\u001B[38;5;241m=\u001B[39m{\u001B[38;5;124m\"\u001B[39m\u001B[38;5;124mdelimiter\u001B[39m\u001B[38;5;124m\"\u001B[39m: \u001B[38;5;124m\"\u001B[39m\u001B[38;5;124m,\u001B[39m\u001B[38;5;124m\"\u001B[39m},\n\u001B[0;32m    675\u001B[0m )\n\u001B[0;32m    676\u001B[0m kwds\u001B[38;5;241m.\u001B[39mupdate(kwds_defaults)\n\u001B[1;32m--> 678\u001B[0m \u001B[38;5;28;01mreturn\u001B[39;00m \u001B[43m_read\u001B[49m\u001B[43m(\u001B[49m\u001B[43mfilepath_or_buffer\u001B[49m\u001B[43m,\u001B[49m\u001B[43m \u001B[49m\u001B[43mkwds\u001B[49m\u001B[43m)\u001B[49m\n",
      "File \u001B[1;32m~\\Anaconda3\\envs\\workspace\\lib\\site-packages\\pandas\\io\\parsers\\readers.py:575\u001B[0m, in \u001B[0;36m_read\u001B[1;34m(filepath_or_buffer, kwds)\u001B[0m\n\u001B[0;32m    572\u001B[0m _validate_names(kwds\u001B[38;5;241m.\u001B[39mget(\u001B[38;5;124m\"\u001B[39m\u001B[38;5;124mnames\u001B[39m\u001B[38;5;124m\"\u001B[39m, \u001B[38;5;28;01mNone\u001B[39;00m))\n\u001B[0;32m    574\u001B[0m \u001B[38;5;66;03m# Create the parser.\u001B[39;00m\n\u001B[1;32m--> 575\u001B[0m parser \u001B[38;5;241m=\u001B[39m TextFileReader(filepath_or_buffer, \u001B[38;5;241m*\u001B[39m\u001B[38;5;241m*\u001B[39mkwds)\n\u001B[0;32m    577\u001B[0m \u001B[38;5;28;01mif\u001B[39;00m chunksize \u001B[38;5;129;01mor\u001B[39;00m iterator:\n\u001B[0;32m    578\u001B[0m     \u001B[38;5;28;01mreturn\u001B[39;00m parser\n",
      "File \u001B[1;32m~\\Anaconda3\\envs\\workspace\\lib\\site-packages\\pandas\\io\\parsers\\readers.py:932\u001B[0m, in \u001B[0;36mTextFileReader.__init__\u001B[1;34m(self, f, engine, **kwds)\u001B[0m\n\u001B[0;32m    929\u001B[0m     \u001B[38;5;28mself\u001B[39m\u001B[38;5;241m.\u001B[39moptions[\u001B[38;5;124m\"\u001B[39m\u001B[38;5;124mhas_index_names\u001B[39m\u001B[38;5;124m\"\u001B[39m] \u001B[38;5;241m=\u001B[39m kwds[\u001B[38;5;124m\"\u001B[39m\u001B[38;5;124mhas_index_names\u001B[39m\u001B[38;5;124m\"\u001B[39m]\n\u001B[0;32m    931\u001B[0m \u001B[38;5;28mself\u001B[39m\u001B[38;5;241m.\u001B[39mhandles: IOHandles \u001B[38;5;241m|\u001B[39m \u001B[38;5;28;01mNone\u001B[39;00m \u001B[38;5;241m=\u001B[39m \u001B[38;5;28;01mNone\u001B[39;00m\n\u001B[1;32m--> 932\u001B[0m \u001B[38;5;28mself\u001B[39m\u001B[38;5;241m.\u001B[39m_engine \u001B[38;5;241m=\u001B[39m \u001B[38;5;28;43mself\u001B[39;49m\u001B[38;5;241;43m.\u001B[39;49m\u001B[43m_make_engine\u001B[49m\u001B[43m(\u001B[49m\u001B[43mf\u001B[49m\u001B[43m,\u001B[49m\u001B[43m \u001B[49m\u001B[38;5;28;43mself\u001B[39;49m\u001B[38;5;241;43m.\u001B[39;49m\u001B[43mengine\u001B[49m\u001B[43m)\u001B[49m\n",
      "File \u001B[1;32m~\\Anaconda3\\envs\\workspace\\lib\\site-packages\\pandas\\io\\parsers\\readers.py:1216\u001B[0m, in \u001B[0;36mTextFileReader._make_engine\u001B[1;34m(self, f, engine)\u001B[0m\n\u001B[0;32m   1212\u001B[0m     mode \u001B[38;5;241m=\u001B[39m \u001B[38;5;124m\"\u001B[39m\u001B[38;5;124mrb\u001B[39m\u001B[38;5;124m\"\u001B[39m\n\u001B[0;32m   1213\u001B[0m \u001B[38;5;66;03m# error: No overload variant of \"get_handle\" matches argument types\u001B[39;00m\n\u001B[0;32m   1214\u001B[0m \u001B[38;5;66;03m# \"Union[str, PathLike[str], ReadCsvBuffer[bytes], ReadCsvBuffer[str]]\"\u001B[39;00m\n\u001B[0;32m   1215\u001B[0m \u001B[38;5;66;03m# , \"str\", \"bool\", \"Any\", \"Any\", \"Any\", \"Any\", \"Any\"\u001B[39;00m\n\u001B[1;32m-> 1216\u001B[0m \u001B[38;5;28mself\u001B[39m\u001B[38;5;241m.\u001B[39mhandles \u001B[38;5;241m=\u001B[39m \u001B[43mget_handle\u001B[49m\u001B[43m(\u001B[49m\u001B[43m  \u001B[49m\u001B[38;5;66;43;03m# type: ignore[call-overload]\u001B[39;49;00m\n\u001B[0;32m   1217\u001B[0m \u001B[43m    \u001B[49m\u001B[43mf\u001B[49m\u001B[43m,\u001B[49m\n\u001B[0;32m   1218\u001B[0m \u001B[43m    \u001B[49m\u001B[43mmode\u001B[49m\u001B[43m,\u001B[49m\n\u001B[0;32m   1219\u001B[0m \u001B[43m    \u001B[49m\u001B[43mencoding\u001B[49m\u001B[38;5;241;43m=\u001B[39;49m\u001B[38;5;28;43mself\u001B[39;49m\u001B[38;5;241;43m.\u001B[39;49m\u001B[43moptions\u001B[49m\u001B[38;5;241;43m.\u001B[39;49m\u001B[43mget\u001B[49m\u001B[43m(\u001B[49m\u001B[38;5;124;43m\"\u001B[39;49m\u001B[38;5;124;43mencoding\u001B[39;49m\u001B[38;5;124;43m\"\u001B[39;49m\u001B[43m,\u001B[49m\u001B[43m \u001B[49m\u001B[38;5;28;43;01mNone\u001B[39;49;00m\u001B[43m)\u001B[49m\u001B[43m,\u001B[49m\n\u001B[0;32m   1220\u001B[0m \u001B[43m    \u001B[49m\u001B[43mcompression\u001B[49m\u001B[38;5;241;43m=\u001B[39;49m\u001B[38;5;28;43mself\u001B[39;49m\u001B[38;5;241;43m.\u001B[39;49m\u001B[43moptions\u001B[49m\u001B[38;5;241;43m.\u001B[39;49m\u001B[43mget\u001B[49m\u001B[43m(\u001B[49m\u001B[38;5;124;43m\"\u001B[39;49m\u001B[38;5;124;43mcompression\u001B[39;49m\u001B[38;5;124;43m\"\u001B[39;49m\u001B[43m,\u001B[49m\u001B[43m \u001B[49m\u001B[38;5;28;43;01mNone\u001B[39;49;00m\u001B[43m)\u001B[49m\u001B[43m,\u001B[49m\n\u001B[0;32m   1221\u001B[0m \u001B[43m    \u001B[49m\u001B[43mmemory_map\u001B[49m\u001B[38;5;241;43m=\u001B[39;49m\u001B[38;5;28;43mself\u001B[39;49m\u001B[38;5;241;43m.\u001B[39;49m\u001B[43moptions\u001B[49m\u001B[38;5;241;43m.\u001B[39;49m\u001B[43mget\u001B[49m\u001B[43m(\u001B[49m\u001B[38;5;124;43m\"\u001B[39;49m\u001B[38;5;124;43mmemory_map\u001B[39;49m\u001B[38;5;124;43m\"\u001B[39;49m\u001B[43m,\u001B[49m\u001B[43m \u001B[49m\u001B[38;5;28;43;01mFalse\u001B[39;49;00m\u001B[43m)\u001B[49m\u001B[43m,\u001B[49m\n\u001B[0;32m   1222\u001B[0m \u001B[43m    \u001B[49m\u001B[43mis_text\u001B[49m\u001B[38;5;241;43m=\u001B[39;49m\u001B[43mis_text\u001B[49m\u001B[43m,\u001B[49m\n\u001B[0;32m   1223\u001B[0m \u001B[43m    \u001B[49m\u001B[43merrors\u001B[49m\u001B[38;5;241;43m=\u001B[39;49m\u001B[38;5;28;43mself\u001B[39;49m\u001B[38;5;241;43m.\u001B[39;49m\u001B[43moptions\u001B[49m\u001B[38;5;241;43m.\u001B[39;49m\u001B[43mget\u001B[49m\u001B[43m(\u001B[49m\u001B[38;5;124;43m\"\u001B[39;49m\u001B[38;5;124;43mencoding_errors\u001B[39;49m\u001B[38;5;124;43m\"\u001B[39;49m\u001B[43m,\u001B[49m\u001B[43m \u001B[49m\u001B[38;5;124;43m\"\u001B[39;49m\u001B[38;5;124;43mstrict\u001B[39;49m\u001B[38;5;124;43m\"\u001B[39;49m\u001B[43m)\u001B[49m\u001B[43m,\u001B[49m\n\u001B[0;32m   1224\u001B[0m \u001B[43m    \u001B[49m\u001B[43mstorage_options\u001B[49m\u001B[38;5;241;43m=\u001B[39;49m\u001B[38;5;28;43mself\u001B[39;49m\u001B[38;5;241;43m.\u001B[39;49m\u001B[43moptions\u001B[49m\u001B[38;5;241;43m.\u001B[39;49m\u001B[43mget\u001B[49m\u001B[43m(\u001B[49m\u001B[38;5;124;43m\"\u001B[39;49m\u001B[38;5;124;43mstorage_options\u001B[39;49m\u001B[38;5;124;43m\"\u001B[39;49m\u001B[43m,\u001B[49m\u001B[43m \u001B[49m\u001B[38;5;28;43;01mNone\u001B[39;49;00m\u001B[43m)\u001B[49m\u001B[43m,\u001B[49m\n\u001B[0;32m   1225\u001B[0m \u001B[43m\u001B[49m\u001B[43m)\u001B[49m\n\u001B[0;32m   1226\u001B[0m \u001B[38;5;28;01massert\u001B[39;00m \u001B[38;5;28mself\u001B[39m\u001B[38;5;241m.\u001B[39mhandles \u001B[38;5;129;01mis\u001B[39;00m \u001B[38;5;129;01mnot\u001B[39;00m \u001B[38;5;28;01mNone\u001B[39;00m\n\u001B[0;32m   1227\u001B[0m f \u001B[38;5;241m=\u001B[39m \u001B[38;5;28mself\u001B[39m\u001B[38;5;241m.\u001B[39mhandles\u001B[38;5;241m.\u001B[39mhandle\n",
      "File \u001B[1;32m~\\Anaconda3\\envs\\workspace\\lib\\site-packages\\pandas\\io\\common.py:786\u001B[0m, in \u001B[0;36mget_handle\u001B[1;34m(path_or_buf, mode, encoding, compression, memory_map, is_text, errors, storage_options)\u001B[0m\n\u001B[0;32m    781\u001B[0m \u001B[38;5;28;01melif\u001B[39;00m \u001B[38;5;28misinstance\u001B[39m(handle, \u001B[38;5;28mstr\u001B[39m):\n\u001B[0;32m    782\u001B[0m     \u001B[38;5;66;03m# Check whether the filename is to be opened in binary mode.\u001B[39;00m\n\u001B[0;32m    783\u001B[0m     \u001B[38;5;66;03m# Binary mode does not support 'encoding' and 'newline'.\u001B[39;00m\n\u001B[0;32m    784\u001B[0m     \u001B[38;5;28;01mif\u001B[39;00m ioargs\u001B[38;5;241m.\u001B[39mencoding \u001B[38;5;129;01mand\u001B[39;00m \u001B[38;5;124m\"\u001B[39m\u001B[38;5;124mb\u001B[39m\u001B[38;5;124m\"\u001B[39m \u001B[38;5;129;01mnot\u001B[39;00m \u001B[38;5;129;01min\u001B[39;00m ioargs\u001B[38;5;241m.\u001B[39mmode:\n\u001B[0;32m    785\u001B[0m         \u001B[38;5;66;03m# Encoding\u001B[39;00m\n\u001B[1;32m--> 786\u001B[0m         handle \u001B[38;5;241m=\u001B[39m \u001B[38;5;28;43mopen\u001B[39;49m\u001B[43m(\u001B[49m\n\u001B[0;32m    787\u001B[0m \u001B[43m            \u001B[49m\u001B[43mhandle\u001B[49m\u001B[43m,\u001B[49m\n\u001B[0;32m    788\u001B[0m \u001B[43m            \u001B[49m\u001B[43mioargs\u001B[49m\u001B[38;5;241;43m.\u001B[39;49m\u001B[43mmode\u001B[49m\u001B[43m,\u001B[49m\n\u001B[0;32m    789\u001B[0m \u001B[43m            \u001B[49m\u001B[43mencoding\u001B[49m\u001B[38;5;241;43m=\u001B[39;49m\u001B[43mioargs\u001B[49m\u001B[38;5;241;43m.\u001B[39;49m\u001B[43mencoding\u001B[49m\u001B[43m,\u001B[49m\n\u001B[0;32m    790\u001B[0m \u001B[43m            \u001B[49m\u001B[43merrors\u001B[49m\u001B[38;5;241;43m=\u001B[39;49m\u001B[43merrors\u001B[49m\u001B[43m,\u001B[49m\n\u001B[0;32m    791\u001B[0m \u001B[43m            \u001B[49m\u001B[43mnewline\u001B[49m\u001B[38;5;241;43m=\u001B[39;49m\u001B[38;5;124;43m\"\u001B[39;49m\u001B[38;5;124;43m\"\u001B[39;49m\u001B[43m,\u001B[49m\n\u001B[0;32m    792\u001B[0m \u001B[43m        \u001B[49m\u001B[43m)\u001B[49m\n\u001B[0;32m    793\u001B[0m     \u001B[38;5;28;01melse\u001B[39;00m:\n\u001B[0;32m    794\u001B[0m         \u001B[38;5;66;03m# Binary mode\u001B[39;00m\n\u001B[0;32m    795\u001B[0m         handle \u001B[38;5;241m=\u001B[39m \u001B[38;5;28mopen\u001B[39m(handle, ioargs\u001B[38;5;241m.\u001B[39mmode)\n",
      "\u001B[1;31mFileNotFoundError\u001B[0m: [Errno 2] No such file or directory: '../input/competitive-data-science-predict-future-sales/sales_train.csv'"
     ]
    }
   ],
   "source": [
    "sales_train = pd.read_csv(r'./data/train.csv')\n",
    "shops = pd.read_csv('../input/competitive-data-science-predict-future-sales/shops.csv')\n",
    "items = pd.read_csv('../input/competitive-data-science-predict-future-sales/items.csv')\n",
    "items_cat = pd.read_csv('../input/competitive-data-science-predict-future-sales/item_categories.csv')\n",
    "\n",
    "\n",
    "train = pd.read_csv(r'./data/train.csv') # usecols = ['']\n",
    "oil = pd.read_csv(r'./data/oil.csv')\n",
    "stores = pd.read_csv(r'./data/stores.csv')\n",
    "transactions = pd.read_csv(r'./data/transactions.csv')\n"
   ],
   "metadata": {
    "collapsed": false
   }
  },
  {
   "cell_type": "code",
   "source": [
    "sales_train.head(2)"
   ],
   "metadata": {
    "execution": {
     "iopub.status.busy": "2022-09-21T07:06:50.508778Z",
     "iopub.execute_input": "2022-09-21T07:06:50.509338Z",
     "iopub.status.idle": "2022-09-21T07:06:50.536488Z",
     "shell.execute_reply.started": "2022-09-21T07:06:50.509288Z",
     "shell.execute_reply": "2022-09-21T07:06:50.535297Z"
    },
    "trusted": true
   },
   "execution_count": null,
   "outputs": []
  },
  {
   "cell_type": "code",
   "source": [
    "items.head(2)"
   ],
   "metadata": {
    "execution": {
     "iopub.status.busy": "2022-09-21T07:06:50.539387Z",
     "iopub.execute_input": "2022-09-21T07:06:50.539735Z",
     "iopub.status.idle": "2022-09-21T07:06:50.550481Z",
     "shell.execute_reply.started": "2022-09-21T07:06:50.539705Z",
     "shell.execute_reply": "2022-09-21T07:06:50.549247Z"
    },
    "trusted": true
   },
   "execution_count": null,
   "outputs": []
  },
  {
   "cell_type": "code",
   "source": [
    "items_cat.head(2)"
   ],
   "metadata": {
    "execution": {
     "iopub.status.busy": "2022-09-21T07:06:50.552479Z",
     "iopub.execute_input": "2022-09-21T07:06:50.552911Z",
     "iopub.status.idle": "2022-09-21T07:06:50.568760Z",
     "shell.execute_reply.started": "2022-09-21T07:06:50.552849Z",
     "shell.execute_reply": "2022-09-21T07:06:50.567216Z"
    },
    "trusted": true
   },
   "execution_count": null,
   "outputs": []
  },
  {
   "cell_type": "code",
   "source": [
    "shops.head(2)"
   ],
   "metadata": {
    "execution": {
     "iopub.status.busy": "2022-09-21T07:06:50.572506Z",
     "iopub.execute_input": "2022-09-21T07:06:50.573059Z",
     "iopub.status.idle": "2022-09-21T07:06:50.586940Z",
     "shell.execute_reply.started": "2022-09-21T07:06:50.573008Z",
     "shell.execute_reply": "2022-09-21T07:06:50.585567Z"
    },
    "trusted": true
   },
   "execution_count": null,
   "outputs": []
  },
  {
   "cell_type": "markdown",
   "source": [
    "**First Merge these Tables by using Join technique.**"
   ],
   "metadata": {}
  },
  {
   "cell_type": "code",
   "source": [
    "item_merged = pd.merge(items,items_cat,how='inner')\n",
    "shop_merged = pd.merge(sales_train,shops,on='shop_id')\n",
    "train_data = pd.merge(item_merged,shop_merged,on='item_id')"
   ],
   "metadata": {
    "execution": {
     "iopub.status.busy": "2022-09-21T07:06:50.588989Z",
     "iopub.execute_input": "2022-09-21T07:06:50.589789Z",
     "iopub.status.idle": "2022-09-21T07:06:52.721624Z",
     "shell.execute_reply.started": "2022-09-21T07:06:50.589738Z",
     "shell.execute_reply": "2022-09-21T07:06:52.720365Z"
    },
    "trusted": true
   },
   "execution_count": null,
   "outputs": []
  },
  {
   "cell_type": "code",
   "source": [
    "train_data.head()"
   ],
   "metadata": {
    "execution": {
     "iopub.status.busy": "2022-09-21T07:06:52.723973Z",
     "iopub.execute_input": "2022-09-21T07:06:52.724743Z",
     "iopub.status.idle": "2022-09-21T07:06:52.750494Z",
     "shell.execute_reply.started": "2022-09-21T07:06:52.724686Z",
     "shell.execute_reply": "2022-09-21T07:06:52.749221Z"
    },
    "trusted": true
   },
   "execution_count": null,
   "outputs": []
  },
  {
   "cell_type": "markdown",
   "source": [
    "# Remove Duplicated Rows"
   ],
   "metadata": {}
  },
  {
   "cell_type": "code",
   "source": [
    "train_data.drop(train_data[train_data.duplicated()].index,axis=0,inplace=True)"
   ],
   "metadata": {
    "execution": {
     "iopub.status.busy": "2022-09-21T07:06:52.752239Z",
     "iopub.execute_input": "2022-09-21T07:06:52.752924Z",
     "iopub.status.idle": "2022-09-21T07:06:56.192079Z",
     "shell.execute_reply.started": "2022-09-21T07:06:52.752874Z",
     "shell.execute_reply": "2022-09-21T07:06:56.190711Z"
    },
    "trusted": true
   },
   "execution_count": null,
   "outputs": []
  },
  {
   "cell_type": "code",
   "source": [
    "train_data.info()"
   ],
   "metadata": {
    "execution": {
     "iopub.status.busy": "2022-09-21T07:06:56.196383Z",
     "iopub.execute_input": "2022-09-21T07:06:56.196779Z",
     "iopub.status.idle": "2022-09-21T07:06:56.217070Z",
     "shell.execute_reply.started": "2022-09-21T07:06:56.196744Z",
     "shell.execute_reply": "2022-09-21T07:06:56.215668Z"
    },
    "trusted": true
   },
   "execution_count": null,
   "outputs": []
  },
  {
   "cell_type": "markdown",
   "source": [
    "There are only one Item which have the price of negative 1. it can be an outlier so we will remove it with most occurring value."
   ],
   "metadata": {}
  },
  {
   "cell_type": "code",
   "source": [
    "train_data[train_data.item_price < 0]"
   ],
   "metadata": {
    "execution": {
     "iopub.status.busy": "2022-09-21T07:06:56.218678Z",
     "iopub.execute_input": "2022-09-21T07:06:56.219172Z",
     "iopub.status.idle": "2022-09-21T07:06:56.242244Z",
     "shell.execute_reply.started": "2022-09-21T07:06:56.219125Z",
     "shell.execute_reply": "2022-09-21T07:06:56.241101Z"
    },
    "trusted": true
   },
   "execution_count": null,
   "outputs": []
  },
  {
   "cell_type": "code",
   "source": [
    "train_data.loc[954789,'item_price'] = train_data['item_price'].mode()[0]"
   ],
   "metadata": {
    "execution": {
     "iopub.status.busy": "2022-09-21T07:06:56.243990Z",
     "iopub.execute_input": "2022-09-21T07:06:56.244718Z",
     "iopub.status.idle": "2022-09-21T07:06:56.349201Z",
     "shell.execute_reply.started": "2022-09-21T07:06:56.244661Z",
     "shell.execute_reply": "2022-09-21T07:06:56.347608Z"
    },
    "trusted": true
   },
   "execution_count": null,
   "outputs": []
  },
  {
   "cell_type": "markdown",
   "source": [
    "**Groupby function use to group the data with the packet of date_block_num,shop_id,item_id and count the item_cnt_day to find out item count in month**"
   ],
   "metadata": {}
  },
  {
   "cell_type": "code",
   "source": [
    "temp_data = train_data.groupby(['date_block_num','shop_name','item_name','item_category_name']).agg({'item_cnt_day' : 'count'})\n",
    "temp_data.reset_index(inplace=True)\n",
    "temp_data = temp_data.set_index('date_block_num')"
   ],
   "metadata": {
    "execution": {
     "iopub.status.busy": "2022-09-21T07:06:56.350955Z",
     "iopub.execute_input": "2022-09-21T07:06:56.351431Z",
     "iopub.status.idle": "2022-09-21T07:06:59.395556Z",
     "shell.execute_reply.started": "2022-09-21T07:06:56.351381Z",
     "shell.execute_reply": "2022-09-21T07:06:59.394081Z"
    },
    "trusted": true
   },
   "execution_count": null,
   "outputs": []
  },
  {
   "cell_type": "code",
   "source": [
    "temp_data.head(2)"
   ],
   "metadata": {
    "execution": {
     "iopub.status.busy": "2022-09-21T07:06:59.397255Z",
     "iopub.execute_input": "2022-09-21T07:06:59.397657Z",
     "iopub.status.idle": "2022-09-21T07:06:59.411921Z",
     "shell.execute_reply.started": "2022-09-21T07:06:59.397624Z",
     "shell.execute_reply": "2022-09-21T07:06:59.410379Z"
    },
    "trusted": true
   },
   "execution_count": null,
   "outputs": []
  },
  {
   "cell_type": "markdown",
   "source": [
    "**Checking Which item sold the most**"
   ],
   "metadata": {}
  },
  {
   "cell_type": "code",
   "source": [
    "plt.figure(figsize=(16,10))\n",
    "plt.title('Shops for most item Count',weight='bold',fontsize=15)\n",
    "temp_data.groupby('shop_name')['item_cnt_day'].sum().sort_values(ascending=False)[0:20].plot(kind='line',marker='*',color=\"#2D51A5\")\n",
    "temp_data.groupby('shop_name')['item_cnt_day'].sum().sort_values(ascending=False)[0:20].plot(kind='bar',color=\"#5EAFD9\")"
   ],
   "metadata": {
    "execution": {
     "iopub.status.busy": "2022-09-21T07:06:59.413560Z",
     "iopub.execute_input": "2022-09-21T07:06:59.414035Z",
     "iopub.status.idle": "2022-09-21T07:07:00.330320Z",
     "shell.execute_reply.started": "2022-09-21T07:06:59.413994Z",
     "shell.execute_reply": "2022-09-21T07:07:00.329340Z"
    },
    "trusted": true
   },
   "execution_count": null,
   "outputs": []
  },
  {
   "cell_type": "markdown",
   "source": [
    "**Checking which shop sold the items most**"
   ],
   "metadata": {}
  },
  {
   "cell_type": "code",
   "source": [
    "plt.figure(figsize=(16,6))\n",
    "\n",
    "temp_data.groupby('item_name')['item_cnt_day'].sum().sort_values(ascending=False)[0:20].plot(kind='line',marker='*',color='#d95f0e')\n",
    "temp_data.groupby('item_name')['item_cnt_day'].sum().sort_values(ascending=False)[0:20].plot(kind='bar',color='#2c7fb8')\n",
    "\n",
    "arrow_data = 'Simple,tail_width=2,head_width=14,head_length=16'\n",
    "kw = dict(arrowstyle=arrow_data,color='#c51b8a')\n",
    "arr = patches.FancyArrowPatch((4.5,23000),(1.0,20000),connectionstyle='arc3,rad=.10',**kw)\n",
    "plt.gca().add_patch(arr)\n",
    "plt.text(x=3.6,y=24000,s=\"Most Sold Item\",color='black',size=17)"
   ],
   "metadata": {
    "execution": {
     "iopub.status.busy": "2022-09-21T07:07:00.331663Z",
     "iopub.execute_input": "2022-09-21T07:07:00.332609Z",
     "iopub.status.idle": "2022-09-21T07:07:01.542953Z",
     "shell.execute_reply.started": "2022-09-21T07:07:00.332571Z",
     "shell.execute_reply": "2022-09-21T07:07:01.541369Z"
    },
    "trusted": true
   },
   "execution_count": null,
   "outputs": []
  },
  {
   "cell_type": "markdown",
   "source": [
    "**Our Month Column is in form of Str. so first convert it into datetime form**"
   ],
   "metadata": {}
  },
  {
   "cell_type": "code",
   "source": [
    "train_data['date'] = pd.to_datetime(train_data['date'],format='%d.%m.%Y')\n",
    "train_data['Month'] = train_data['date'].dt.to_period('M')\n",
    "train_data['Month'] = train_data['Month'].astype(str)"
   ],
   "metadata": {
    "execution": {
     "iopub.status.busy": "2022-09-21T07:07:01.544407Z",
     "iopub.execute_input": "2022-09-21T07:07:01.544744Z",
     "iopub.status.idle": "2022-09-21T07:07:16.382567Z",
     "shell.execute_reply.started": "2022-09-21T07:07:01.544713Z",
     "shell.execute_reply": "2022-09-21T07:07:16.381330Z"
    },
    "trusted": true
   },
   "execution_count": null,
   "outputs": []
  },
  {
   "cell_type": "markdown",
   "source": [
    "**Now we have all the Months+year column named Month, now applying groupby to count the item_cnt_day for whole month**"
   ],
   "metadata": {}
  },
  {
   "cell_type": "code",
   "source": [
    "temp_data = train_data.groupby(['shop_id','item_id','Month']).agg({'item_cnt_day' : 'sum'})\n",
    "temp_data.reset_index(inplace=True)\n",
    "temp_data = temp_data.set_index('Month')"
   ],
   "metadata": {
    "execution": {
     "iopub.status.busy": "2022-09-21T07:07:16.384670Z",
     "iopub.execute_input": "2022-09-21T07:07:16.385345Z",
     "iopub.status.idle": "2022-09-21T07:07:17.697686Z",
     "shell.execute_reply.started": "2022-09-21T07:07:16.385307Z",
     "shell.execute_reply": "2022-09-21T07:07:17.696163Z"
    },
    "trusted": true
   },
   "execution_count": null,
   "outputs": []
  },
  {
   "cell_type": "code",
   "source": [
    "temp_data.rename(columns = {'item_cnt_day' : 'item_cnt_month'},inplace=True)\n",
    "temp_data.head()"
   ],
   "metadata": {
    "execution": {
     "iopub.status.busy": "2022-09-21T07:07:17.699222Z",
     "iopub.execute_input": "2022-09-21T07:07:17.699576Z",
     "iopub.status.idle": "2022-09-21T07:07:17.714278Z",
     "shell.execute_reply.started": "2022-09-21T07:07:17.699546Z",
     "shell.execute_reply": "2022-09-21T07:07:17.712650Z"
    },
    "trusted": true
   },
   "execution_count": null,
   "outputs": []
  },
  {
   "cell_type": "markdown",
   "source": [
    "**Checking which Month with year selling the Most**"
   ],
   "metadata": {}
  },
  {
   "cell_type": "code",
   "source": [
    "plt.figure(figsize=(18,10))\n",
    "temp_data.groupby('Month')['item_cnt_month'].sum().sort_values(ascending=False)[:20].plot(kind='bar',color='#2b8cbe')"
   ],
   "metadata": {
    "execution": {
     "iopub.status.busy": "2022-09-21T07:07:17.715987Z",
     "iopub.execute_input": "2022-09-21T07:07:17.716580Z",
     "iopub.status.idle": "2022-09-21T07:07:18.191648Z",
     "shell.execute_reply.started": "2022-09-21T07:07:17.716515Z",
     "shell.execute_reply": "2022-09-21T07:07:18.190140Z"
    },
    "trusted": true
   },
   "execution_count": null,
   "outputs": []
  },
  {
   "cell_type": "code",
   "source": [
    "plt.figure(figsize=(18,10))\n",
    "temp_data.groupby('Month')['item_cnt_month'].sum().plot(legend=True,color='forestgreen')"
   ],
   "metadata": {
    "execution": {
     "iopub.status.busy": "2022-09-21T07:07:18.193240Z",
     "iopub.execute_input": "2022-09-21T07:07:18.193612Z",
     "iopub.status.idle": "2022-09-21T07:07:18.595243Z",
     "shell.execute_reply.started": "2022-09-21T07:07:18.193581Z",
     "shell.execute_reply": "2022-09-21T07:07:18.593794Z"
    },
    "trusted": true
   },
   "execution_count": null,
   "outputs": []
  },
  {
   "cell_type": "markdown",
   "source": [
    "**So we determine that Last Months like November, December with different years have most selling**"
   ],
   "metadata": {}
  },
  {
   "cell_type": "code",
   "source": [
    "temp_data.reset_index(inplace=True)\n",
    "temp_data.tail(5)"
   ],
   "metadata": {
    "execution": {
     "iopub.status.busy": "2022-09-21T07:07:18.598095Z",
     "iopub.execute_input": "2022-09-21T07:07:18.598648Z",
     "iopub.status.idle": "2022-09-21T07:07:18.627768Z",
     "shell.execute_reply.started": "2022-09-21T07:07:18.598597Z",
     "shell.execute_reply": "2022-09-21T07:07:18.626035Z"
    },
    "trusted": true
   },
   "execution_count": null,
   "outputs": []
  },
  {
   "cell_type": "code",
   "source": [
    "X = temp_data.iloc[:,:-1]\n",
    "y = temp_data.iloc[:,-1:]\n",
    "le = LabelEncoder()\n",
    "X['Month']= le.fit_transform(X['Month'])\n",
    "X"
   ],
   "metadata": {
    "execution": {
     "iopub.status.busy": "2022-09-21T07:07:18.629820Z",
     "iopub.execute_input": "2022-09-21T07:07:18.630743Z",
     "iopub.status.idle": "2022-09-21T07:07:19.065755Z",
     "shell.execute_reply.started": "2022-09-21T07:07:18.630682Z",
     "shell.execute_reply": "2022-09-21T07:07:19.064165Z"
    },
    "trusted": true
   },
   "execution_count": null,
   "outputs": []
  },
  {
   "cell_type": "code",
   "source": [
    "x_train,x_test,y_train,y_test = train_test_split(X,y,test_size=0.3)\n",
    "x_train.head()"
   ],
   "metadata": {
    "execution": {
     "iopub.status.busy": "2022-09-21T07:07:19.068070Z",
     "iopub.execute_input": "2022-09-21T07:07:19.068530Z",
     "iopub.status.idle": "2022-09-21T07:07:19.367713Z",
     "shell.execute_reply.started": "2022-09-21T07:07:19.068494Z",
     "shell.execute_reply": "2022-09-21T07:07:19.366110Z"
    },
    "trusted": true
   },
   "execution_count": null,
   "outputs": []
  },
  {
   "cell_type": "markdown",
   "source": [
    "**Using XGBRegressor with different hyperparameter tuning**"
   ],
   "metadata": {}
  },
  {
   "cell_type": "code",
   "source": [
    "xg = xgb.XGBRegressor(base_score=0.5,\n",
    "                      n_estimators=400,\n",
    "                      min_child_weight=1,\n",
    "                     max_depth=7,\n",
    "                     learning_rate=0.1,\n",
    "                     booster='gbtree',\n",
    "                     tree_method='exact',\n",
    "                     reg_alpha=0,\n",
    "                     subsample=0.5,\n",
    "                     validate_parameters=1,\n",
    "                     colsample_bylevel=1,\n",
    "                     colsample_bynode=1,\n",
    "                     colsample_bytree=1,\n",
    "                     gamma=0)\n",
    "xg.fit(x_train,y_train)\n",
    "xg.score(x_test,y_test)"
   ],
   "metadata": {
    "execution": {
     "iopub.status.busy": "2022-09-21T07:07:19.369200Z",
     "iopub.execute_input": "2022-09-21T07:07:19.370198Z",
     "iopub.status.idle": "2022-09-21T07:11:35.192997Z",
     "shell.execute_reply.started": "2022-09-21T07:07:19.370143Z",
     "shell.execute_reply": "2022-09-21T07:11:35.191899Z"
    },
    "trusted": true
   },
   "execution_count": null,
   "outputs": []
  },
  {
   "cell_type": "code",
   "execution_count": null,
   "outputs": [],
   "source": [
    "x_train"
   ],
   "metadata": {
    "collapsed": false
   }
  },
  {
   "cell_type": "code",
   "source": [
    "test = pd.read_csv('../input/competitive-data-science-predict-future-sales/test.csv')\n",
    "test.set_index('ID',inplace=True)\n",
    "test['Month'] = 34"
   ],
   "metadata": {
    "execution": {
     "iopub.status.busy": "2022-09-21T07:11:35.194557Z",
     "iopub.execute_input": "2022-09-21T07:11:35.196661Z",
     "iopub.status.idle": "2022-09-21T07:11:35.320012Z",
     "shell.execute_reply.started": "2022-09-21T07:11:35.196599Z",
     "shell.execute_reply": "2022-09-21T07:11:35.318627Z"
    },
    "trusted": true
   },
   "execution_count": 26,
   "outputs": []
  },
  {
   "cell_type": "code",
   "source": [
    "pred = xg.predict(test)\n",
    "test['item_cnt_month'] = (pred[0]*len(test))/len(test)"
   ],
   "metadata": {
    "execution": {
     "iopub.status.busy": "2022-09-21T07:11:35.321910Z",
     "iopub.execute_input": "2022-09-21T07:11:35.322344Z",
     "iopub.status.idle": "2022-09-21T07:11:36.255295Z",
     "shell.execute_reply.started": "2022-09-21T07:11:35.322305Z",
     "shell.execute_reply": "2022-09-21T07:11:36.254311Z"
    },
    "trusted": true
   },
   "execution_count": 27,
   "outputs": []
  },
  {
   "cell_type": "code",
   "source": [
    "sub = pd.read_csv('../input/competitive-data-science-predict-future-sales/sample_submission.csv')\n",
    "test.reset_index(inplace=True)\n",
    "sub = test.drop(['shop_id','item_id','Month'],axis=1)"
   ],
   "metadata": {
    "execution": {
     "iopub.status.busy": "2022-09-21T07:11:36.260412Z",
     "iopub.execute_input": "2022-09-21T07:11:36.261022Z",
     "iopub.status.idle": "2022-09-21T07:11:36.351252Z",
     "shell.execute_reply.started": "2022-09-21T07:11:36.260985Z",
     "shell.execute_reply": "2022-09-21T07:11:36.349803Z"
    },
    "trusted": true
   },
   "execution_count": 28,
   "outputs": []
  },
  {
   "cell_type": "code",
   "source": [
    "sub.to_csv('submission.csv',index=False)\n",
    "subb = pd.read_csv('./submission.csv')\n",
    "subb.head()"
   ],
   "metadata": {
    "execution": {
     "iopub.status.busy": "2022-09-21T07:11:36.353374Z",
     "iopub.execute_input": "2022-09-21T07:11:36.353977Z",
     "iopub.status.idle": "2022-09-21T07:11:36.878393Z",
     "shell.execute_reply.started": "2022-09-21T07:11:36.353923Z",
     "shell.execute_reply": "2022-09-21T07:11:36.876908Z"
    },
    "trusted": true
   },
   "execution_count": 29,
   "outputs": [
    {
     "execution_count": 29,
     "output_type": "execute_result",
     "data": {
      "text/plain": "   ID  item_cnt_month\n0   0        0.972291\n1   1        0.972291\n2   2        0.972291\n3   3        0.972291\n4   4        0.972291",
      "text/html": "<div>\n<style scoped>\n    .dataframe tbody tr th:only-of-type {\n        vertical-align: middle;\n    }\n\n    .dataframe tbody tr th {\n        vertical-align: top;\n    }\n\n    .dataframe thead th {\n        text-align: right;\n    }\n</style>\n<table border=\"1\" class=\"dataframe\">\n  <thead>\n    <tr style=\"text-align: right;\">\n      <th></th>\n      <th>ID</th>\n      <th>item_cnt_month</th>\n    </tr>\n  </thead>\n  <tbody>\n    <tr>\n      <th>0</th>\n      <td>0</td>\n      <td>0.972291</td>\n    </tr>\n    <tr>\n      <th>1</th>\n      <td>1</td>\n      <td>0.972291</td>\n    </tr>\n    <tr>\n      <th>2</th>\n      <td>2</td>\n      <td>0.972291</td>\n    </tr>\n    <tr>\n      <th>3</th>\n      <td>3</td>\n      <td>0.972291</td>\n    </tr>\n    <tr>\n      <th>4</th>\n      <td>4</td>\n      <td>0.972291</td>\n    </tr>\n  </tbody>\n</table>\n</div>"
     },
     "metadata": {}
    }
   ]
  }
 ]
}
