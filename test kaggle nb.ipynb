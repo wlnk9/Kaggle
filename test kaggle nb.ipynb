{
 "cells": [
  {
   "cell_type": "code",
   "execution_count": 1,
   "id": "fa3cde44",
   "metadata": {
    "_cell_guid": "b1076dfc-b9ad-4769-8c92-a6c4dae69d19",
    "_uuid": "8f2839f25d086af736a60e9eeb907d3b93b6e0e5",
    "execution": {
     "iopub.execute_input": "2022-11-11T03:03:26.919324Z",
     "iopub.status.busy": "2022-11-11T03:03:26.918905Z",
     "iopub.status.idle": "2022-11-11T03:03:26.929463Z",
     "shell.execute_reply": "2022-11-11T03:03:26.928242Z"
    },
    "papermill": {
     "duration": 0.017185,
     "end_time": "2022-11-11T03:03:26.932031",
     "exception": false,
     "start_time": "2022-11-11T03:03:26.914846",
     "status": "completed"
    },
    "tags": []
   },
   "outputs": [],
   "source": [
    "# This Python 3 environment comes with many helpful analytics libraries installed\n",
    "# It is defined by the kaggle/python Docker image: https://github.com/kaggle/docker-python\n",
    "# For example, here's several helpful packages to load\n",
    "\n",
    "import numpy as np # linear algebra\n",
    "import pandas as pd # data processing, CSV file I/O (e.g. pd.read_csv)\n",
    "\n",
    "# Input data files are available in the read-only \"../input/\" directory\n",
    "# For example, running this (by clicking run or pressing Shift+Enter) will list all files under the input directory\n",
    "\n",
    "import os\n",
    "for dirname, _, filenames in os.walk('/kaggle/input'):\n",
    "    for filename in filenames:\n",
    "        print(os.path.join(dirname, filename))\n",
    "\n",
    "# You can write up to 20GB to the current directory (/kaggle/working/) that gets preserved as output when you create a version using \"Save & Run All\" \n",
    "# You can also write temporary files to /kaggle/temp/, but they won't be saved outside of the current session"
   ]
  },
  {
   "cell_type": "code",
   "execution_count": 2,
   "id": "a16b5e9b",
   "metadata": {
    "execution": {
     "iopub.execute_input": "2022-11-11T03:03:26.937563Z",
     "iopub.status.busy": "2022-11-11T03:03:26.937218Z",
     "iopub.status.idle": "2022-11-11T03:03:26.942086Z",
     "shell.execute_reply": "2022-11-11T03:03:26.940897Z"
    },
    "papermill": {
     "duration": 0.009819,
     "end_time": "2022-11-11T03:03:26.943997",
     "exception": false,
     "start_time": "2022-11-11T03:03:26.934178",
     "status": "completed"
    },
    "tags": []
   },
   "outputs": [
    {
     "name": "stdout",
     "output_type": "stream",
     "text": [
      "hello world\n"
     ]
    }
   ],
   "source": [
    "print('hello world')"
   ]
  },
  {
   "cell_type": "code",
   "execution_count": null,
   "id": "602b9518",
   "metadata": {
    "papermill": {
     "duration": 0.001552,
     "end_time": "2022-11-11T03:03:26.947313",
     "exception": false,
     "start_time": "2022-11-11T03:03:26.945761",
     "status": "completed"
    },
    "tags": []
   },
   "outputs": [],
   "source": []
  },
  {
   "cell_type": "code",
   "execution_count": null,
   "id": "6cc0b325",
   "metadata": {
    "papermill": {
     "duration": 0.001307,
     "end_time": "2022-11-11T03:03:26.950106",
     "exception": false,
     "start_time": "2022-11-11T03:03:26.948799",
     "status": "completed"
    },
    "tags": []
   },
   "outputs": [],
   "source": []
  }
 ],
 "metadata": {
  "kernelspec": {
   "display_name": "Python 3",
   "language": "python",
   "name": "python3"
  },
  "language_info": {
   "codemirror_mode": {
    "name": "ipython",
    "version": 3
   },
   "file_extension": ".py",
   "mimetype": "text/x-python",
   "name": "python",
   "nbconvert_exporter": "python",
   "pygments_lexer": "ipython3",
   "version": "3.7.12"
  },
  "papermill": {
   "default_parameters": {},
   "duration": 8.047585,
   "end_time": "2022-11-11T03:03:27.572848",
   "environment_variables": {},
   "exception": null,
   "input_path": "__notebook__.ipynb",
   "output_path": "__notebook__.ipynb",
   "parameters": {},
   "start_time": "2022-11-11T03:03:19.525263",
   "version": "2.3.4"
  }
 },
 "nbformat": 4,
 "nbformat_minor": 5
}
