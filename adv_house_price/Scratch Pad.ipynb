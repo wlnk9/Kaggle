{
 "cells": [
  {
   "cell_type": "code",
   "execution_count": null,
   "metadata": {
    "collapsed": true
   },
   "outputs": [],
   "source": [
    "test_continuous_features = list(X_test.select_dtypes(include=['int']).columns)\n",
    "test_categorical_features = list(X_test.select_dtypes(include=['object']).columns)\n",
    "\n",
    "for col in test_continuous_features:\n",
    "    X_test[col] = X_test[col].astype('int32')\n",
    "for col in test_categorical_features:\n",
    "    X_test[col] = X_test[col].astype('category')\n",
    "\n",
    "test_continuous = np.stack([X_test[col].values for col in test_continuous_features], 1)\n",
    "test_categorical = np.stack([X_test[col].cat.codes.values for col in test_categorical_features], 1)\n",
    "\n",
    "y = torch.tensor(y_test.values, dtype=torch.float32).reshape(-1, 1)\n",
    "test_continuous = torch.tensor(test_continuous, dtype=torch.float32)\n",
    "test_categorical = torch.tensor(test_categorical, dtype=torch.int32)\n",
    "\n",
    "test_category_sizes = [len(X_test[col].cat.categories) for col in test_categorical_features]\n",
    "test_embedding_sizes = [(size, min(50, (size+1)//2)) for size in test_category_sizes]\n",
    "test_self_embeddings = nn.ModuleList([nn.Embedding(ni, nf) for ni, nf in test_embedding_sizes])\n",
    "\n",
    "embeddings = []\n",
    "for i,e in enumerate(test_self_embeddings):\n",
    "    embeddings.append(e(test_categorical[:,i]))\n",
    "\n",
    "embedded_categorical = torch.cat(embeddings, 1)\n",
    "X_test_tensor = torch.cat((test_continuous, embedded_categorical), 1)\n",
    "test_datset = TensorDataset(X_test_tensor, embedded_categorical)\n",
    "test_dataloader = DataLoader(test_datset, batch_size=20, shuffle=True)"
   ]
  }
 ],
 "metadata": {
  "kernelspec": {
   "display_name": "Python 3",
   "language": "python",
   "name": "python3"
  },
  "language_info": {
   "codemirror_mode": {
    "name": "ipython",
    "version": 2
   },
   "file_extension": ".py",
   "mimetype": "text/x-python",
   "name": "python",
   "nbconvert_exporter": "python",
   "pygments_lexer": "ipython2",
   "version": "2.7.6"
  }
 },
 "nbformat": 4,
 "nbformat_minor": 0
}
