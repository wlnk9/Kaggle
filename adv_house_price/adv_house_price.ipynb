{
 "cells": [
  {
   "cell_type": "code",
   "execution_count": 424,
   "metadata": {
    "collapsed": true
   },
   "outputs": [],
   "source": [
    "import pandas as pd\n",
    "import numpy as np\n",
    "import torch\n",
    "import torch.nn as nn\n",
    "from torch.utils.data import Dataset, DataLoader\n",
    "import matplotlib.pyplot as plt"
   ]
  },
  {
   "cell_type": "code",
   "execution_count": 425,
   "outputs": [],
   "source": [
    "train_df = pd.read_csv(r'./data/train.csv', index_col='Id')\n",
    "test_df = pd.read_csv(r'./data/test.csv', index_col='Id')\n",
    "sample_df = pd.read_csv(r'./data/sample_submission.csv')"
   ],
   "metadata": {
    "collapsed": false
   }
  },
  {
   "cell_type": "code",
   "execution_count": 411,
   "outputs": [],
   "source": [
    "train_df = train_df.dropna(axis=1)\n",
    "train_df['MSSubClass'] = train_df['MSSubClass'].astype('object')\n",
    "train_y = train_df['SalePrice']\n",
    "train_df = train_df.drop('SalePrice', axis=1)"
   ],
   "metadata": {
    "collapsed": false
   }
  },
  {
   "cell_type": "code",
   "execution_count": 412,
   "outputs": [],
   "source": [
    "continuous_features = list(train_df.select_dtypes(include=['int']).columns)\n",
    "categorical_features  = list(train_df.select_dtypes(include=['object']).columns)"
   ],
   "metadata": {
    "collapsed": false
   }
  },
  {
   "cell_type": "code",
   "execution_count": 413,
   "outputs": [],
   "source": [
    "for col in continuous_features:\n",
    "    train_df[col] = train_df[col].astype('int32')\n",
    "for col in categorical_features:\n",
    "    train_df[col] = train_df[col].astype('category')"
   ],
   "metadata": {
    "collapsed": false
   }
  },
  {
   "cell_type": "code",
   "execution_count": 414,
   "outputs": [],
   "source": [
    "continuous = np.stack([train_df[col].values for col in continuous_features], 1)\n",
    "categorical = np.stack([train_df[col].cat.codes.values for col in categorical_features], 1)"
   ],
   "metadata": {
    "collapsed": false
   }
  },
  {
   "cell_type": "code",
   "execution_count": 415,
   "outputs": [],
   "source": [
    "y = torch.tensor(train_y.values, dtype=torch.float32).reshape(-1, 1)\n",
    "continuous = torch.tensor(continuous, dtype=torch.float32)\n",
    "categorical = torch.tensor(categorical, dtype=torch.int32)"
   ],
   "metadata": {
    "collapsed": false
   }
  },
  {
   "cell_type": "code",
   "execution_count": 416,
   "outputs": [],
   "source": [
    "categorical_sizes = [len(train_df[col].cat.categories) for col in categorical_features]\n",
    "embedding_sizes = [(size, min(50, (size + 1) // 2 )) for size in categorical_sizes]"
   ],
   "metadata": {
    "collapsed": false
   }
  },
  {
   "cell_type": "code",
   "execution_count": 417,
   "outputs": [],
   "source": [
    "class TabularModel(nn.Module):\n",
    "\n",
    "    def __init__(self, emb_szs, n_cont, out_sz, layers, p=0.5):\n",
    "        super().__init__()\n",
    "        self.embeds = nn.ModuleList([nn.Embedding(ni, nf) for ni,nf in emb_szs])\n",
    "        self.emb_drop = nn.Dropout(p)\n",
    "        self.bn_cont = nn.BatchNorm1d(n_cont)\n",
    "\n",
    "        layerlist = []\n",
    "        n_emb = sum((nf for ni,nf in emb_szs))\n",
    "        n_in = n_emb + n_cont\n",
    "\n",
    "        for i in layers:\n",
    "            layerlist.append(nn.Linear(n_in,i))\n",
    "            layerlist.append(nn.ReLU(inplace=True))\n",
    "            layerlist.append(nn.BatchNorm1d(i))\n",
    "            layerlist.append(nn.Dropout(p))\n",
    "            n_in = i\n",
    "        layerlist.append(nn.Linear(layers[-1],out_sz))\n",
    "\n",
    "        self.layers = nn.Sequential(*layerlist)\n",
    "\n",
    "    def forward(self, x_cat, x_cont):\n",
    "        embeddings = []\n",
    "        for i,e in enumerate(self.embeds):\n",
    "            embeddings.append(e(x_cat[:,i]))\n",
    "        x = torch.cat(embeddings, 1)\n",
    "        x = self.emb_drop(x)\n",
    "\n",
    "        x_cont = self.bn_cont(x_cont)\n",
    "        x = torch.cat([x, x_cont], 1)\n",
    "        x = self.layers(x)\n",
    "        return x"
   ],
   "metadata": {
    "collapsed": false
   }
  },
  {
   "cell_type": "code",
   "execution_count": 418,
   "outputs": [],
   "source": [
    "torch.manual_seed(33)\n",
    "model = TabularModel(embedding_sizes, continuous.shape[1], 1, [256,128], p=0.4)"
   ],
   "metadata": {
    "collapsed": false
   }
  },
  {
   "cell_type": "code",
   "execution_count": 419,
   "outputs": [
    {
     "data": {
      "text/plain": "TabularModel(\n  (embeds): ModuleList(\n    (0): Embedding(15, 8)\n    (1): Embedding(5, 3)\n    (2): Embedding(2, 1)\n    (3): Embedding(4, 2)\n    (4): Embedding(4, 2)\n    (5): Embedding(2, 1)\n    (6): Embedding(5, 3)\n    (7): Embedding(3, 2)\n    (8): Embedding(25, 13)\n    (9): Embedding(9, 5)\n    (10): Embedding(8, 4)\n    (11): Embedding(5, 3)\n    (12): Embedding(8, 4)\n    (13): Embedding(6, 3)\n    (14): Embedding(8, 4)\n    (15): Embedding(15, 8)\n    (16): Embedding(16, 8)\n    (17): Embedding(4, 2)\n    (18): Embedding(5, 3)\n    (19): Embedding(6, 3)\n    (20): Embedding(6, 3)\n    (21): Embedding(5, 3)\n    (22): Embedding(2, 1)\n    (23): Embedding(4, 2)\n    (24): Embedding(7, 4)\n    (25): Embedding(3, 2)\n    (26): Embedding(9, 5)\n    (27): Embedding(6, 3)\n  )\n  (emb_drop): Dropout(p=0.4, inplace=False)\n  (bn_cont): BatchNorm1d(32, eps=1e-05, momentum=0.1, affine=True, track_running_stats=True)\n  (layers): Sequential(\n    (0): Linear(in_features=137, out_features=256, bias=True)\n    (1): ReLU(inplace=True)\n    (2): BatchNorm1d(256, eps=1e-05, momentum=0.1, affine=True, track_running_stats=True)\n    (3): Dropout(p=0.4, inplace=False)\n    (4): Linear(in_features=256, out_features=128, bias=True)\n    (5): ReLU(inplace=True)\n    (6): BatchNorm1d(128, eps=1e-05, momentum=0.1, affine=True, track_running_stats=True)\n    (7): Dropout(p=0.4, inplace=False)\n    (8): Linear(in_features=128, out_features=1, bias=True)\n  )\n)"
     },
     "execution_count": 419,
     "metadata": {},
     "output_type": "execute_result"
    }
   ],
   "source": [
    "model"
   ],
   "metadata": {
    "collapsed": false
   }
  },
  {
   "cell_type": "code",
   "execution_count": 420,
   "outputs": [],
   "source": [
    "criterion = nn.MSELoss()\n",
    "optimizer = torch.optim.Adam(model.parameters(), lr=0.005)"
   ],
   "metadata": {
    "collapsed": false
   }
  },
  {
   "cell_type": "code",
   "execution_count": 421,
   "outputs": [],
   "source": [
    "batch_size = 200\n",
    "test_size = int(batch_size * .2)\n",
    "\n",
    "cat_train = categorical[:batch_size-test_size]\n",
    "cat_test = categorical[batch_size-test_size:batch_size]\n",
    "con_train = continuous[:batch_size-test_size]\n",
    "con_test = continuous[batch_size-test_size:batch_size]\n",
    "y_train = y[:batch_size-test_size]\n",
    "y_test = y[batch_size-test_size:batch_size]"
   ],
   "metadata": {
    "collapsed": false
   }
  },
  {
   "cell_type": "code",
   "execution_count": 422,
   "outputs": [
    {
     "name": "stdout",
     "output_type": "stream",
     "text": [
      "epoch:   1  loss: 189344.96875000\n",
      "epoch:  26  loss: 189335.18750000\n",
      "epoch:  51  loss: 189318.29687500\n",
      "epoch:  76  loss: 189287.95312500\n",
      "epoch: 101  loss: 189244.25000000\n",
      "epoch: 126  loss: 189194.06250000\n",
      "epoch: 151  loss: 189121.75000000\n",
      "epoch: 176  loss: 189045.25000000\n",
      "epoch: 201  loss: 188944.96875000\n",
      "epoch: 226  loss: 188829.60937500\n",
      "epoch: 251  loss: 188716.89062500\n",
      "epoch: 276  loss: 188584.35937500\n",
      "epoch: 301  loss: 188430.89062500\n",
      "epoch: 326  loss: 188244.04687500\n",
      "epoch: 351  loss: 188083.51562500\n",
      "epoch: 376  loss: 187890.46875000\n",
      "epoch: 401  loss: 187689.92187500\n",
      "epoch: 426  loss: 187486.12500000\n",
      "epoch: 451  loss: 187232.17187500\n",
      "epoch: 476  loss: 187033.60937500\n",
      "epoch: 501  loss: 186740.48437500\n",
      "epoch: 526  loss: 186488.17187500\n",
      "epoch: 551  loss: 186170.51562500\n",
      "epoch: 576  loss: 185895.57812500\n",
      "epoch: 601  loss: 185565.57812500\n",
      "epoch: 626  loss: 185313.04687500\n",
      "epoch: 651  loss: 184956.40625000\n",
      "epoch: 676  loss: 184667.25000000\n",
      "epoch: 701  loss: 184256.46875000\n",
      "epoch: 726  loss: 183895.70312500\n",
      "epoch: 751  loss: 183518.62500000\n",
      "epoch: 776  loss: 183125.28125000\n",
      "epoch: 801  loss: 182801.79687500\n",
      "epoch: 826  loss: 182320.90625000\n",
      "epoch: 851  loss: 182111.09375000\n",
      "epoch: 876  loss: 181603.60937500\n",
      "epoch: 901  loss: 181073.57812500\n",
      "epoch: 926  loss: 180748.81250000\n",
      "epoch: 951  loss: 180067.35937500\n",
      "epoch: 976  loss: 179591.31250000\n",
      "epoch: 1001  loss: 179217.35937500\n",
      "epoch: 1026  loss: 178803.79687500\n",
      "epoch: 1051  loss: 178244.06250000\n",
      "epoch: 1076  loss: 177641.37500000\n",
      "epoch: 1101  loss: 177113.51562500\n",
      "epoch: 1126  loss: 176688.12500000\n",
      "epoch: 1151  loss: 176018.89062500\n",
      "epoch: 1176  loss: 175642.65625000\n",
      "epoch: 1201  loss: 175136.89062500\n",
      "epoch: 1226  loss: 174406.21875000\n",
      "epoch: 1251  loss: 173983.82812500\n",
      "epoch: 1276  loss: 173526.65625000\n",
      "epoch: 1301  loss: 172783.96875000\n",
      "epoch: 1326  loss: 172078.03125000\n",
      "epoch: 1351  loss: 171405.92187500\n",
      "epoch: 1376  loss: 171104.95312500\n",
      "epoch: 1401  loss: 170379.68750000\n",
      "epoch: 1426  loss: 169721.54687500\n",
      "epoch: 1451  loss: 169295.87500000\n",
      "epoch: 1476  loss: 168331.85937500\n",
      "epoch: 1501  loss: 167625.43750000\n",
      "epoch: 1526  loss: 166858.50000000\n",
      "epoch: 1551  loss: 166676.35937500\n",
      "epoch: 1576  loss: 165733.95312500\n",
      "epoch: 1601  loss: 165212.42187500\n",
      "epoch: 1626  loss: 164251.50000000\n",
      "epoch: 1651  loss: 163580.93750000\n",
      "epoch: 1676  loss: 162926.48437500\n",
      "epoch: 1701  loss: 162164.98437500\n",
      "epoch: 1726  loss: 161797.43750000\n",
      "epoch: 1751  loss: 160739.92187500\n",
      "epoch: 1776  loss: 160274.59375000\n",
      "epoch: 1801  loss: 159566.14062500\n",
      "epoch: 1826  loss: 158323.35937500\n",
      "epoch: 1851  loss: 158085.31250000\n",
      "epoch: 1876  loss: 157332.92187500\n",
      "epoch: 1901  loss: 156597.75000000\n",
      "epoch: 1926  loss: 155779.76562500\n",
      "epoch: 1951  loss: 155316.32812500\n",
      "epoch: 1976  loss: 154277.84375000\n",
      "epoch: 2001  loss: 153029.18750000\n",
      "epoch: 2026  loss: 152175.71875000\n",
      "epoch: 2051  loss: 151905.81250000\n",
      "epoch: 2076  loss: 150973.09375000\n",
      "epoch: 2101  loss: 149379.12500000\n",
      "epoch: 2126  loss: 149185.60937500\n",
      "epoch: 2151  loss: 147987.85937500\n",
      "epoch: 2176  loss: 147504.37500000\n",
      "epoch: 2201  loss: 145791.98437500\n",
      "epoch: 2226  loss: 145626.53125000\n",
      "epoch: 2251  loss: 144746.57812500\n",
      "epoch: 2276  loss: 144077.14062500\n",
      "epoch: 2301  loss: 143083.64062500\n",
      "epoch: 2326  loss: 142720.25000000\n",
      "epoch: 2351  loss: 140365.09375000\n",
      "epoch: 2376  loss: 141344.17187500\n",
      "epoch: 2401  loss: 140576.60937500\n",
      "epoch: 2426  loss: 139532.46875000\n",
      "epoch: 2451  loss: 138647.75000000\n",
      "epoch: 2476  loss: 136676.20312500\n",
      "epoch: 2501  loss: 136475.57812500\n",
      "epoch: 2526  loss: 135586.03125000\n",
      "epoch: 2551  loss: 134510.46875000\n",
      "epoch: 2576  loss: 134026.75000000\n",
      "epoch: 2601  loss: 132830.48437500\n",
      "epoch: 2626  loss: 131605.10937500\n",
      "epoch: 2651  loss: 131460.92187500\n",
      "epoch: 2676  loss: 129545.04687500\n",
      "epoch: 2701  loss: 129423.23437500\n",
      "epoch: 2726  loss: 128040.89843750\n",
      "epoch: 2751  loss: 127935.95312500\n",
      "epoch: 2776  loss: 126650.26562500\n",
      "epoch: 2801  loss: 125994.71093750\n",
      "epoch: 2826  loss: 125011.25000000\n",
      "epoch: 2851  loss: 123683.82031250\n",
      "epoch: 2876  loss: 122952.64843750\n",
      "epoch: 2901  loss: 121568.14843750\n",
      "epoch: 2926  loss: 120448.70312500\n",
      "epoch: 2951  loss: 119871.61718750\n",
      "epoch: 2976  loss: 119320.97656250\n",
      "epoch: 3001  loss: 117589.28906250\n",
      "epoch: 3026  loss: 117046.29687500\n",
      "epoch: 3051  loss: 116795.29687500\n",
      "epoch: 3076  loss: 115333.73437500\n",
      "epoch: 3101  loss: 114288.23437500\n",
      "epoch: 3126  loss: 112826.49218750\n",
      "epoch: 3151  loss: 112078.71875000\n",
      "epoch: 3176  loss: 111496.50781250\n",
      "epoch: 3201  loss: 109950.67187500\n",
      "epoch: 3226  loss: 110690.49218750\n",
      "epoch: 3251  loss: 108321.84375000\n",
      "epoch: 3276  loss: 107701.79687500\n",
      "epoch: 3301  loss: 106636.77343750\n",
      "epoch: 3326  loss: 106246.65625000\n",
      "epoch: 3351  loss: 104283.97656250\n",
      "epoch: 3376  loss: 104340.25000000\n",
      "epoch: 3401  loss: 102098.71875000\n",
      "epoch: 3426  loss: 101485.06250000\n",
      "epoch: 3451  loss: 100594.88281250\n",
      "epoch: 3476  loss: 101497.93750000\n",
      "epoch: 3501  loss: 99357.75781250\n",
      "epoch: 3526  loss: 97795.38281250\n",
      "epoch: 3551  loss: 96596.42187500\n",
      "epoch: 3576  loss: 96002.54687500\n",
      "epoch: 3601  loss: 94690.41406250\n",
      "epoch: 3626  loss: 93847.06250000\n",
      "epoch: 3651  loss: 93112.53125000\n",
      "epoch: 3676  loss: 91966.41406250\n",
      "epoch: 3701  loss: 91079.64062500\n",
      "epoch: 3726  loss: 90347.04687500\n",
      "epoch: 3751  loss: 90789.37500000\n",
      "epoch: 3776  loss: 88067.56250000\n",
      "epoch: 3801  loss: 85519.65625000\n",
      "epoch: 3826  loss: 86580.59375000\n",
      "epoch: 3851  loss: 86015.50000000\n",
      "epoch: 3876  loss: 84623.48437500\n",
      "epoch: 3901  loss: 83161.50781250\n",
      "epoch: 3926  loss: 81069.53906250\n",
      "epoch: 3951  loss: 81340.79687500\n",
      "epoch: 3976  loss: 80282.22656250\n",
      "epoch: 4001  loss: 79276.88281250\n",
      "epoch: 4026  loss: 79487.69531250\n",
      "epoch: 4051  loss: 77713.63281250\n",
      "epoch: 4076  loss: 76121.06250000\n",
      "epoch: 4101  loss: 75517.39062500\n",
      "epoch: 4126  loss: 75170.76562500\n",
      "epoch: 4151  loss: 72612.47656250\n",
      "epoch: 4176  loss: 72982.35937500\n",
      "epoch: 4201  loss: 71642.19531250\n",
      "epoch: 4226  loss: 70931.97656250\n",
      "epoch: 4251  loss: 67709.60156250\n",
      "epoch: 4276  loss: 67072.85937500\n",
      "epoch: 4301  loss: 65978.11718750\n",
      "epoch: 4326  loss: 65526.62500000\n",
      "epoch: 4351  loss: 64279.17187500\n",
      "epoch: 4376  loss: 63381.23828125\n",
      "epoch: 4401  loss: 62766.76953125\n",
      "epoch: 4426  loss: 62378.27343750\n",
      "epoch: 4451  loss: 60123.55078125\n",
      "epoch: 4476  loss: 58021.07031250\n",
      "epoch: 4501  loss: 58987.17187500\n",
      "epoch: 4526  loss: 56004.27734375\n",
      "epoch: 4551  loss: 56563.63281250\n",
      "epoch: 4576  loss: 54049.14453125\n",
      "epoch: 4601  loss: 54683.17187500\n",
      "epoch: 4626  loss: 52762.72656250\n",
      "epoch: 4651  loss: 50200.38281250\n",
      "epoch: 4676  loss: 50203.75000000\n",
      "epoch: 4701  loss: 48990.05468750\n",
      "epoch: 4726  loss: 48885.81640625\n",
      "epoch: 4751  loss: 46007.21093750\n",
      "epoch: 4776  loss: 45449.47656250\n",
      "epoch: 4801  loss: 44066.72265625\n",
      "epoch: 4826  loss: 44997.46093750\n",
      "epoch: 4851  loss: 43155.73828125\n",
      "epoch: 4876  loss: 41719.06640625\n",
      "epoch: 4901  loss: 41271.24609375\n",
      "epoch: 4926  loss: 39711.51953125\n",
      "epoch: 4951  loss: 39107.36328125\n",
      "epoch: 4976  loss: 37641.26562500\n",
      "epoch: 5001  loss: 36582.74218750\n",
      "epoch: 5026  loss: 35548.10546875\n",
      "epoch: 5051  loss: 32390.91601562\n",
      "epoch: 5076  loss: 34283.40234375\n",
      "epoch: 5101  loss: 32779.68750000\n",
      "epoch: 5126  loss: 30297.71289062\n",
      "epoch: 5151  loss: 30617.98437500\n",
      "epoch: 5176  loss: 31144.80664062\n",
      "epoch: 5201  loss: 27164.78125000\n",
      "epoch: 5226  loss: 26459.20898438\n",
      "epoch: 5251  loss: 27944.59179688\n",
      "epoch: 5276  loss: 25416.08984375\n",
      "epoch: 5301  loss: 23696.48828125\n",
      "epoch: 5326  loss: 24439.27539062\n",
      "epoch: 5351  loss: 21993.47656250\n",
      "epoch: 5376  loss: 23397.07617188\n",
      "epoch: 5401  loss: 22138.80664062\n",
      "epoch: 5426  loss: 19443.10546875\n",
      "epoch: 5451  loss: 22009.39843750\n",
      "epoch: 5476  loss: 20218.12890625\n",
      "epoch: 5501  loss: 16851.47460938\n",
      "epoch: 5526  loss: 19149.11132812\n",
      "epoch: 5551  loss: 18409.67187500\n",
      "epoch: 5576  loss: 19542.23828125\n",
      "epoch: 5601  loss: 17984.47460938\n",
      "epoch: 5626  loss: 15255.12011719\n",
      "epoch: 5651  loss: 16771.45312500\n",
      "epoch: 5676  loss: 16647.24023438\n",
      "epoch: 5701  loss: 14153.19140625\n",
      "epoch: 5726  loss: 15638.03417969\n",
      "epoch: 5751  loss: 16587.22070312\n",
      "epoch: 5776  loss: 13815.81347656\n",
      "epoch: 5801  loss: 17570.15429688\n",
      "epoch: 5826  loss: 15633.40136719\n",
      "epoch: 5851  loss: 16773.46679688\n",
      "epoch: 5876  loss: 17547.63085938\n",
      "epoch: 5901  loss: 13324.85058594\n",
      "epoch: 5926  loss: 14851.12695312\n",
      "epoch: 5951  loss: 14423.07714844\n",
      "epoch: 5976  loss: 16355.71972656\n",
      "epoch: 6001  loss: 17046.47070312\n",
      "epoch: 6026  loss: 15570.91308594\n",
      "epoch: 6051  loss: 14920.31250000\n",
      "epoch: 6076  loss: 15325.11816406\n",
      "epoch: 6101  loss: 15217.55761719\n",
      "epoch: 6126  loss: 14022.95019531\n",
      "epoch: 6151  loss: 15153.01074219\n",
      "epoch: 6176  loss: 15492.50097656\n",
      "epoch: 6201  loss: 16562.75781250\n",
      "epoch: 6226  loss: 13777.28710938\n",
      "epoch: 6251  loss: 16792.75781250\n",
      "epoch: 6276  loss: 13274.56835938\n",
      "epoch: 6301  loss: 17114.76953125\n",
      "epoch: 6326  loss: 14599.01464844\n",
      "epoch: 6351  loss: 16256.82519531\n",
      "epoch: 6376  loss: 16079.98925781\n",
      "epoch: 6401  loss: 16111.35546875\n",
      "epoch: 6426  loss: 16550.13867188\n",
      "epoch: 6451  loss: 14366.93945312\n",
      "epoch: 6476  loss: 16022.25195312\n",
      "epoch: 6501  loss: 16706.64843750\n",
      "epoch: 6526  loss: 15974.94921875\n",
      "epoch: 6551  loss: 14319.80468750\n",
      "epoch: 6576  loss: 14045.15136719\n",
      "epoch: 6601  loss: 14433.30664062\n",
      "epoch: 6626  loss: 13626.17968750\n",
      "epoch: 6651  loss: 13131.29882812\n",
      "epoch: 6676  loss: 16883.61718750\n",
      "epoch: 6701  loss: 14161.28515625\n",
      "epoch: 6726  loss: 14384.15722656\n",
      "epoch: 6751  loss: 16203.63085938\n",
      "epoch: 6776  loss: 15438.56835938\n",
      "epoch: 6801  loss: 16550.93164062\n",
      "epoch: 6826  loss: 16195.15136719\n",
      "epoch: 6851  loss: 13188.69433594\n",
      "epoch: 6876  loss: 15533.47753906\n",
      "epoch: 6901  loss: 14807.68750000\n",
      "epoch: 6926  loss: 14601.74218750\n",
      "epoch: 6951  loss: 14477.61425781\n",
      "epoch: 6976  loss: 14385.66699219\n",
      "epoch: 7000  loss: 17394.69921875\n",
      "\n",
      "Duration: 33 seconds\n"
     ]
    }
   ],
   "source": [
    "import time\n",
    "start_time = time.time()\n",
    "\n",
    "epochs = 7000\n",
    "losses = []\n",
    "\n",
    "for i in range(epochs):\n",
    "    i+=1\n",
    "    y_pred = model(cat_train, con_train)\n",
    "    loss = torch.sqrt(criterion(y_pred, y_train))\n",
    "    losses.append(loss.detach().numpy())\n",
    "\n",
    "    if i%25 == 1:\n",
    "        print(f'epoch: {i:3}  loss: {loss.item():10.8f}')\n",
    "\n",
    "    optimizer.zero_grad()\n",
    "    loss.backward()\n",
    "    optimizer.step()\n",
    "\n",
    "print(f'epoch: {i:3}  loss: {loss.item():10.8f}')\n",
    "print(f'\\nDuration: {time.time() - start_time:.0f} seconds')"
   ],
   "metadata": {
    "collapsed": false
   }
  },
  {
   "cell_type": "code",
   "execution_count": 423,
   "outputs": [
    {
     "data": {
      "text/plain": "<Figure size 640x480 with 1 Axes>",
      "image/png": "[encoded data removed]"
     },
     "metadata": {},
     "output_type": "display_data"
    }
   ],
   "source": [
    "plt.plot(range(epochs), losses)\n",
    "plt.ylabel('RMSE Loss')\n",
    "plt.xlabel('epoch');"
   ],
   "metadata": {
    "collapsed": false
   }
  },
  {
   "cell_type": "code",
   "execution_count": 423,
   "outputs": [],
   "source": [],
   "metadata": {
    "collapsed": false
   }
  },
  {
   "cell_type": "code",
   "execution_count": 423,
   "outputs": [],
   "source": [],
   "metadata": {
    "collapsed": false
   }
  },
  {
   "cell_type": "code",
   "execution_count": 423,
   "outputs": [],
   "source": [],
   "metadata": {
    "collapsed": false
   }
  },
  {
   "cell_type": "code",
   "execution_count": 423,
   "outputs": [],
   "source": [],
   "metadata": {
    "collapsed": false
   }
  },
  {
   "cell_type": "code",
   "execution_count": 423,
   "outputs": [],
   "source": [],
   "metadata": {
    "collapsed": false
   }
  },
  {
   "cell_type": "code",
   "execution_count": 423,
   "outputs": [],
   "source": [],
   "metadata": {
    "collapsed": false
   }
  },
  {
   "cell_type": "code",
   "execution_count": 423,
   "outputs": [],
   "source": [],
   "metadata": {
    "collapsed": false
   }
  },
  {
   "cell_type": "code",
   "execution_count": 423,
   "outputs": [],
   "source": [],
   "metadata": {
    "collapsed": false
   }
  },
  {
   "cell_type": "code",
   "execution_count": 423,
   "outputs": [],
   "source": [],
   "metadata": {
    "collapsed": false
   }
  },
  {
   "cell_type": "code",
   "execution_count": 423,
   "outputs": [],
   "source": [],
   "metadata": {
    "collapsed": false
   }
  },
  {
   "cell_type": "code",
   "execution_count": 423,
   "outputs": [],
   "source": [],
   "metadata": {
    "collapsed": false
   }
  },
  {
   "cell_type": "code",
   "execution_count": 423,
   "outputs": [],
   "source": [],
   "metadata": {
    "collapsed": false
   }
  },
  {
   "cell_type": "code",
   "execution_count": 423,
   "outputs": [],
   "source": [],
   "metadata": {
    "collapsed": false
   }
  },
  {
   "cell_type": "code",
   "execution_count": 423,
   "outputs": [],
   "source": [],
   "metadata": {
    "collapsed": false
   }
  },
  {
   "cell_type": "code",
   "execution_count": 423,
   "outputs": [],
   "source": [],
   "metadata": {
    "collapsed": false
   }
  }
 ],
 "metadata": {
  "kernelspec": {
   "display_name": "Python 3",
   "language": "python",
   "name": "python3"
  },
  "language_info": {
   "codemirror_mode": {
    "name": "ipython",
    "version": 2
   },
   "file_extension": ".py",
   "mimetype": "text/x-python",
   "name": "python",
   "nbconvert_exporter": "python",
   "pygments_lexer": "ipython2",
   "version": "2.7.6"
  }
 },
 "nbformat": 4,
 "nbformat_minor": 0
}
