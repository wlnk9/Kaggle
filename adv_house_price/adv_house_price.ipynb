{
 "cells": [
  {
   "cell_type": "code",
   "execution_count": 349,
   "metadata": {
    "collapsed": true
   },
   "outputs": [],
   "source": [
    "import pandas as pd\n",
    "import numpy as np\n",
    "import torch\n",
    "import torch.nn as nn\n",
    "import matplotlib.pyplot as plt"
   ]
  },
  {
   "cell_type": "code",
   "execution_count": 350,
   "outputs": [],
   "source": [
    "train_df = pd.read_csv(r'./data/train.csv', index_col='Id')\n",
    "test_df = pd.read_csv(r'./data/test.csv')\n",
    "# sample_df = pd.read_csv(r'./data/sample_submission.csv')"
   ],
   "metadata": {
    "collapsed": false
   }
  },
  {
   "cell_type": "code",
   "execution_count": 351,
   "outputs": [],
   "source": [
    "train_df = train_df.dropna(axis=1)\n",
    "train_df['MSSubClass'] = train_df['MSSubClass'].astype('object')\n",
    "train_y = train_df['SalePrice']\n",
    "train_df = train_df.drop('SalePrice', axis=1)"
   ],
   "metadata": {
    "collapsed": false
   }
  },
  {
   "cell_type": "code",
   "execution_count": 352,
   "outputs": [],
   "source": [
    "continuous_features = list(train_df.select_dtypes(include=['int']).columns)\n",
    "categorical_features  = list(train_df.select_dtypes(include=['object']).columns)"
   ],
   "metadata": {
    "collapsed": false
   }
  },
  {
   "cell_type": "code",
   "execution_count": 353,
   "outputs": [],
   "source": [
    "for col in continuous_features:\n",
    "    train_df[col] = train_df[col].astype('int32')\n",
    "for col in categorical_features:\n",
    "    train_df[col] = train_df[col].astype('category')"
   ],
   "metadata": {
    "collapsed": false
   }
  },
  {
   "cell_type": "code",
   "execution_count": 354,
   "outputs": [],
   "source": [
    "continuous = np.stack([train_df[col].values for col in continuous_features], 1)\n",
    "categorical = np.stack([train_df[col].cat.codes.values for col in categorical_features], 1)"
   ],
   "metadata": {
    "collapsed": false
   }
  },
  {
   "cell_type": "code",
   "execution_count": 355,
   "outputs": [],
   "source": [
    "y = torch.tensor(train_y.values, dtype=torch.float32).reshape(-1, 1)\n",
    "continuous = torch.tensor(continuous, dtype=torch.float32)\n",
    "categorical = torch.tensor(categorical, dtype=torch.int32)"
   ],
   "metadata": {
    "collapsed": false
   }
  },
  {
   "cell_type": "code",
   "execution_count": 356,
   "outputs": [],
   "source": [
    "categorical_sizes = [len(train_df[col].cat.categories) for col in categorical_features]\n",
    "embedding_sizes = [(size, min(50, (size + 1) // 2 )) for size in categorical_sizes]"
   ],
   "metadata": {
    "collapsed": false
   }
  },
  {
   "cell_type": "code",
   "execution_count": 357,
   "outputs": [],
   "source": [
    "class TabularModel(nn.Module):\n",
    "\n",
    "    def __init__(self, emb_szs, n_cont, out_sz, layers, p=0.5):\n",
    "        super().__init__()\n",
    "        self.embeds = nn.ModuleList([nn.Embedding(ni, nf) for ni,nf in emb_szs])\n",
    "        self.emb_drop = nn.Dropout(p)\n",
    "        self.bn_cont = nn.BatchNorm1d(n_cont)\n",
    "\n",
    "        layerlist = []\n",
    "        n_emb = sum((nf for ni,nf in emb_szs))\n",
    "        n_in = n_emb + n_cont\n",
    "\n",
    "        for i in layers:\n",
    "            layerlist.append(nn.Linear(n_in,i))\n",
    "            layerlist.append(nn.ReLU(inplace=True))\n",
    "            layerlist.append(nn.BatchNorm1d(i))\n",
    "            layerlist.append(nn.Dropout(p))\n",
    "            n_in = i\n",
    "        layerlist.append(nn.Linear(layers[-1],out_sz))\n",
    "\n",
    "        self.layers = nn.Sequential(*layerlist)\n",
    "\n",
    "    def forward(self, x_cat, x_cont):\n",
    "        embeddings = []\n",
    "        for i,e in enumerate(self.embeds):\n",
    "            embeddings.append(e(x_cat[:,i]))\n",
    "        x = torch.cat(embeddings, 1)\n",
    "        x = self.emb_drop(x)\n",
    "\n",
    "        x_cont = self.bn_cont(x_cont)\n",
    "        x = torch.cat([x, x_cont], 1)\n",
    "        x = self.layers(x)\n",
    "        return x"
   ],
   "metadata": {
    "collapsed": false
   }
  },
  {
   "cell_type": "code",
   "execution_count": 358,
   "outputs": [],
   "source": [
    "torch.manual_seed(33)\n",
    "model = TabularModel(embedding_sizes, continuous.shape[1], 1, [200,100], p=0.4)"
   ],
   "metadata": {
    "collapsed": false
   }
  },
  {
   "cell_type": "code",
   "execution_count": 359,
   "outputs": [
    {
     "data": {
      "text/plain": "TabularModel(\n  (embeds): ModuleList(\n    (0): Embedding(15, 8)\n    (1): Embedding(5, 3)\n    (2): Embedding(2, 1)\n    (3): Embedding(4, 2)\n    (4): Embedding(4, 2)\n    (5): Embedding(2, 1)\n    (6): Embedding(5, 3)\n    (7): Embedding(3, 2)\n    (8): Embedding(25, 13)\n    (9): Embedding(9, 5)\n    (10): Embedding(8, 4)\n    (11): Embedding(5, 3)\n    (12): Embedding(8, 4)\n    (13): Embedding(6, 3)\n    (14): Embedding(8, 4)\n    (15): Embedding(15, 8)\n    (16): Embedding(16, 8)\n    (17): Embedding(4, 2)\n    (18): Embedding(5, 3)\n    (19): Embedding(6, 3)\n    (20): Embedding(6, 3)\n    (21): Embedding(5, 3)\n    (22): Embedding(2, 1)\n    (23): Embedding(4, 2)\n    (24): Embedding(7, 4)\n    (25): Embedding(3, 2)\n    (26): Embedding(9, 5)\n    (27): Embedding(6, 3)\n  )\n  (emb_drop): Dropout(p=0.4, inplace=False)\n  (bn_cont): BatchNorm1d(32, eps=1e-05, momentum=0.1, affine=True, track_running_stats=True)\n  (layers): Sequential(\n    (0): Linear(in_features=137, out_features=200, bias=True)\n    (1): ReLU(inplace=True)\n    (2): BatchNorm1d(200, eps=1e-05, momentum=0.1, affine=True, track_running_stats=True)\n    (3): Dropout(p=0.4, inplace=False)\n    (4): Linear(in_features=200, out_features=100, bias=True)\n    (5): ReLU(inplace=True)\n    (6): BatchNorm1d(100, eps=1e-05, momentum=0.1, affine=True, track_running_stats=True)\n    (7): Dropout(p=0.4, inplace=False)\n    (8): Linear(in_features=100, out_features=1, bias=True)\n  )\n)"
     },
     "execution_count": 359,
     "metadata": {},
     "output_type": "execute_result"
    }
   ],
   "source": [
    "model"
   ],
   "metadata": {
    "collapsed": false
   }
  },
  {
   "cell_type": "code",
   "execution_count": 360,
   "outputs": [],
   "source": [
    "criterion = nn.MSELoss()\n",
    "optimizer = torch.optim.Adam(model.parameters(), lr=0.01)"
   ],
   "metadata": {
    "collapsed": false
   }
  },
  {
   "cell_type": "code",
   "execution_count": 361,
   "outputs": [],
   "source": [
    "batch_size = 200\n",
    "test_size = int(batch_size * .2)\n",
    "\n",
    "cat_train = categorical[:batch_size-test_size]\n",
    "cat_test = categorical[batch_size-test_size:batch_size]\n",
    "con_train = continuous[:batch_size-test_size]\n",
    "con_test = continuous[batch_size-test_size:batch_size]\n",
    "y_train = y[:batch_size-test_size]\n",
    "y_test = y[batch_size-test_size:batch_size]"
   ],
   "metadata": {
    "collapsed": false
   }
  },
  {
   "cell_type": "code",
   "execution_count": 362,
   "outputs": [
    {
     "name": "stdout",
     "output_type": "stream",
     "text": [
      "epoch:   1  loss: 189345.06250000\n",
      "epoch:  26  loss: 189326.57812500\n",
      "epoch:  51  loss: 189281.93750000\n",
      "epoch:  76  loss: 189199.56250000\n",
      "epoch: 101  loss: 189077.87500000\n",
      "epoch: 126  loss: 188907.17187500\n",
      "epoch: 151  loss: 188689.46875000\n",
      "epoch: 176  loss: 188442.85937500\n",
      "epoch: 201  loss: 188135.06250000\n",
      "epoch: 226  loss: 187802.34375000\n",
      "epoch: 251  loss: 187433.14062500\n",
      "epoch: 276  loss: 186985.71875000\n",
      "epoch: 301  loss: 186509.35937500\n",
      "epoch: 326  loss: 186036.46875000\n",
      "epoch: 351  loss: 185518.56250000\n",
      "epoch: 376  loss: 184896.17187500\n",
      "epoch: 401  loss: 184286.60937500\n",
      "epoch: 426  loss: 183595.35937500\n",
      "epoch: 451  loss: 182812.37500000\n",
      "epoch: 476  loss: 182177.85937500\n",
      "epoch: 501  loss: 181276.70312500\n",
      "epoch: 526  loss: 180520.95312500\n",
      "epoch: 551  loss: 179566.23437500\n",
      "epoch: 576  loss: 178740.10937500\n",
      "epoch: 601  loss: 177775.40625000\n",
      "epoch: 626  loss: 176813.28125000\n",
      "epoch: 651  loss: 175953.90625000\n",
      "epoch: 676  loss: 174787.48437500\n",
      "epoch: 701  loss: 173788.89062500\n",
      "epoch: 726  loss: 172321.07812500\n",
      "epoch: 751  loss: 171420.31250000\n",
      "epoch: 776  loss: 170425.70312500\n",
      "epoch: 801  loss: 169014.17187500\n",
      "epoch: 826  loss: 168023.37500000\n",
      "epoch: 851  loss: 166592.65625000\n",
      "epoch: 876  loss: 165163.65625000\n",
      "epoch: 901  loss: 164336.65625000\n",
      "epoch: 926  loss: 162635.85937500\n",
      "epoch: 951  loss: 161165.37500000\n",
      "epoch: 976  loss: 159934.46875000\n",
      "epoch: 1001  loss: 158768.23437500\n",
      "epoch: 1026  loss: 156889.43750000\n",
      "epoch: 1051  loss: 155503.73437500\n",
      "epoch: 1076  loss: 154477.54687500\n",
      "epoch: 1101  loss: 152340.70312500\n",
      "epoch: 1126  loss: 150779.23437500\n",
      "epoch: 1151  loss: 149322.39062500\n",
      "epoch: 1176  loss: 148166.81250000\n",
      "epoch: 1201  loss: 145863.43750000\n",
      "epoch: 1226  loss: 145207.93750000\n",
      "epoch: 1251  loss: 143312.82812500\n",
      "epoch: 1276  loss: 140717.34375000\n",
      "epoch: 1301  loss: 139593.59375000\n",
      "epoch: 1326  loss: 137593.20312500\n",
      "epoch: 1351  loss: 136525.56250000\n",
      "epoch: 1376  loss: 135681.60937500\n",
      "epoch: 1401  loss: 132531.14062500\n",
      "epoch: 1426  loss: 130273.01562500\n",
      "epoch: 1451  loss: 130103.54687500\n",
      "epoch: 1476  loss: 126736.99218750\n",
      "epoch: 1501  loss: 125678.59375000\n",
      "epoch: 1526  loss: 122866.05468750\n",
      "epoch: 1551  loss: 121082.22656250\n",
      "epoch: 1576  loss: 120750.66406250\n",
      "epoch: 1601  loss: 118785.95312500\n",
      "epoch: 1626  loss: 115782.30468750\n",
      "epoch: 1651  loss: 114620.24218750\n",
      "epoch: 1676  loss: 113770.53125000\n",
      "epoch: 1701  loss: 110041.57812500\n",
      "epoch: 1726  loss: 110063.60937500\n",
      "epoch: 1751  loss: 107038.84375000\n",
      "epoch: 1776  loss: 104083.02343750\n",
      "epoch: 1801  loss: 102977.97656250\n",
      "epoch: 1826  loss: 102107.28906250\n",
      "epoch: 1851  loss: 99964.70312500\n",
      "epoch: 1876  loss: 97939.16406250\n",
      "epoch: 1901  loss: 95660.23437500\n",
      "epoch: 1926  loss: 95679.93750000\n",
      "epoch: 1951  loss: 91492.06250000\n",
      "epoch: 1976  loss: 90937.93750000\n",
      "epoch: 2001  loss: 88147.92968750\n",
      "epoch: 2026  loss: 85598.78906250\n",
      "epoch: 2051  loss: 83894.43750000\n",
      "epoch: 2076  loss: 83638.34375000\n",
      "epoch: 2101  loss: 80655.46875000\n",
      "epoch: 2126  loss: 78167.42968750\n",
      "epoch: 2151  loss: 78676.60937500\n",
      "epoch: 2176  loss: 75089.16406250\n",
      "epoch: 2201  loss: 72261.82812500\n",
      "epoch: 2226  loss: 70209.60937500\n",
      "epoch: 2251  loss: 70804.93750000\n",
      "epoch: 2276  loss: 67083.75000000\n",
      "epoch: 2301  loss: 64767.27734375\n",
      "epoch: 2326  loss: 62189.43359375\n",
      "epoch: 2351  loss: 60283.64062500\n",
      "epoch: 2376  loss: 58316.71484375\n",
      "epoch: 2401  loss: 55526.44531250\n",
      "epoch: 2426  loss: 54105.03125000\n",
      "epoch: 2451  loss: 50622.50781250\n",
      "epoch: 2476  loss: 47917.13281250\n",
      "epoch: 2501  loss: 46507.08593750\n",
      "epoch: 2526  loss: 45126.38671875\n",
      "epoch: 2551  loss: 41905.85156250\n",
      "epoch: 2576  loss: 41201.76953125\n",
      "epoch: 2601  loss: 37910.78515625\n",
      "epoch: 2626  loss: 35501.05859375\n",
      "epoch: 2651  loss: 34222.73828125\n",
      "epoch: 2676  loss: 32195.15429688\n",
      "epoch: 2701  loss: 30106.78710938\n",
      "epoch: 2726  loss: 28682.28125000\n",
      "epoch: 2751  loss: 27595.10156250\n",
      "epoch: 2776  loss: 25072.07421875\n",
      "epoch: 2801  loss: 24934.97851562\n",
      "epoch: 2826  loss: 24423.47460938\n",
      "epoch: 2851  loss: 22402.82031250\n",
      "epoch: 2876  loss: 20299.19726562\n",
      "epoch: 2901  loss: 21329.81835938\n",
      "epoch: 2926  loss: 21571.87695312\n",
      "epoch: 2951  loss: 21751.54101562\n",
      "epoch: 2976  loss: 19971.14453125\n",
      "epoch: 3001  loss: 18042.34179688\n",
      "epoch: 3026  loss: 20083.20117188\n",
      "epoch: 3051  loss: 18989.92578125\n",
      "epoch: 3076  loss: 16557.35156250\n",
      "epoch: 3100  loss: 19015.59960938\n",
      "\n",
      "Duration: 14 seconds\n"
     ]
    }
   ],
   "source": [
    "import time\n",
    "start_time = time.time()\n",
    "\n",
    "epochs = 3100\n",
    "losses = []\n",
    "\n",
    "for i in range(epochs):\n",
    "    i+=1\n",
    "    y_pred = model(cat_train, con_train)\n",
    "    loss = torch.sqrt(criterion(y_pred, y_train))\n",
    "    losses.append(loss.detach().numpy())\n",
    "\n",
    "    if i%25 == 1:\n",
    "        print(f'epoch: {i:3}  loss: {loss.item():10.8f}')\n",
    "\n",
    "    optimizer.zero_grad()\n",
    "    loss.backward()\n",
    "    optimizer.step()\n",
    "\n",
    "print(f'epoch: {i:3}  loss: {loss.item():10.8f}')\n",
    "print(f'\\nDuration: {time.time() - start_time:.0f} seconds')"
   ],
   "metadata": {
    "collapsed": false
   }
  },
  {
   "cell_type": "code",
   "execution_count": 363,
   "outputs": [
    {
     "data": {
      "text/plain": "<Figure size 640x480 with 1 Axes>",
      "image/png": "[encoded data removed]"
     },
     "metadata": {},
     "output_type": "display_data"
    }
   ],
   "source": [
    "plt.plot(range(epochs), losses)\n",
    "plt.ylabel('RMSE Loss')\n",
    "plt.xlabel('epoch');"
   ],
   "metadata": {
    "collapsed": false
   }
  },
  {
   "cell_type": "code",
   "execution_count": 363,
   "outputs": [],
   "source": [],
   "metadata": {
    "collapsed": false
   }
  },
  {
   "cell_type": "code",
   "execution_count": 363,
   "outputs": [],
   "source": [],
   "metadata": {
    "collapsed": false
   }
  },
  {
   "cell_type": "code",
   "execution_count": 363,
   "outputs": [],
   "source": [],
   "metadata": {
    "collapsed": false
   }
  },
  {
   "cell_type": "code",
   "execution_count": 363,
   "outputs": [],
   "source": [],
   "metadata": {
    "collapsed": false
   }
  },
  {
   "cell_type": "code",
   "execution_count": 363,
   "outputs": [],
   "source": [],
   "metadata": {
    "collapsed": false
   }
  },
  {
   "cell_type": "code",
   "execution_count": 363,
   "outputs": [],
   "source": [],
   "metadata": {
    "collapsed": false
   }
  },
  {
   "cell_type": "code",
   "execution_count": 363,
   "outputs": [],
   "source": [],
   "metadata": {
    "collapsed": false
   }
  },
  {
   "cell_type": "code",
   "execution_count": 363,
   "outputs": [],
   "source": [],
   "metadata": {
    "collapsed": false
   }
  },
  {
   "cell_type": "code",
   "execution_count": 363,
   "outputs": [],
   "source": [],
   "metadata": {
    "collapsed": false
   }
  },
  {
   "cell_type": "code",
   "execution_count": 363,
   "outputs": [],
   "source": [],
   "metadata": {
    "collapsed": false
   }
  },
  {
   "cell_type": "code",
   "execution_count": 363,
   "outputs": [],
   "source": [],
   "metadata": {
    "collapsed": false
   }
  },
  {
   "cell_type": "code",
   "execution_count": 363,
   "outputs": [],
   "source": [],
   "metadata": {
    "collapsed": false
   }
  },
  {
   "cell_type": "code",
   "execution_count": 363,
   "outputs": [],
   "source": [],
   "metadata": {
    "collapsed": false
   }
  },
  {
   "cell_type": "code",
   "execution_count": 363,
   "outputs": [],
   "source": [],
   "metadata": {
    "collapsed": false
   }
  },
  {
   "cell_type": "code",
   "execution_count": 363,
   "outputs": [],
   "source": [],
   "metadata": {
    "collapsed": false
   }
  }
 ],
 "metadata": {
  "kernelspec": {
   "display_name": "Python 3",
   "language": "python",
   "name": "python3"
  },
  "language_info": {
   "codemirror_mode": {
    "name": "ipython",
    "version": 2
   },
   "file_extension": ".py",
   "mimetype": "text/x-python",
   "name": "python",
   "nbconvert_exporter": "python",
   "pygments_lexer": "ipython2",
   "version": "2.7.6"
  }
 },
 "nbformat": 4,
 "nbformat_minor": 0
}
