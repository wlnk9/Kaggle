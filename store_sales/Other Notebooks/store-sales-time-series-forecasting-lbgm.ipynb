{
 "cells": [
  {
   "cell_type": "code",
   "execution_count": 1,
   "id": "45fb003c",
   "metadata": {
    "_cell_guid": "b1076dfc-b9ad-4769-8c92-a6c4dae69d19",
    "_uuid": "8f2839f25d086af736a60e9eeb907d3b93b6e0e5",
    "execution": {
     "iopub.execute_input": "2022-08-09T08:02:16.738495Z",
     "iopub.status.busy": "2022-08-09T08:02:16.737256Z",
     "iopub.status.idle": "2022-08-09T08:02:16.752406Z",
     "shell.execute_reply": "2022-08-09T08:02:16.751531Z"
    },
    "papermill": {
     "duration": 0.030154,
     "end_time": "2022-08-09T08:02:16.755422",
     "exception": false,
     "start_time": "2022-08-09T08:02:16.725268",
     "status": "completed"
    },
    "tags": []
   },
   "outputs": [],
   "source": [
    "# This Python 3 environment comes with many helpful analytics libraries installed\n",
    "# It is defined by the kaggle/python Docker image: https://github.com/kaggle/docker-python\n",
    "# For example, here's several helpful packages to load\n",
    "\n",
    "import numpy as np # linear algebra\n",
    "import pandas as pd # data processing, CSV file I/O (e.g. pd.read_csv)\n",
    "\n",
    "# Input data files are available in the read-only \"../input/\" directory\n",
    "# For example, running this (by clicking run or pressing Shift+Enter) will list all files under the input directory\n",
    "\n",
    "import os\n",
    "for dirname, _, filenames in os.walk('/kaggle/input'):\n",
    "    for filename in filenames:\n",
    "        print(os.path.join(dirname, filename))\n",
    "\n",
    "# You can write up to 20GB to the current directory (/kaggle/working/) that gets preserved as output when you create a version using \"Save & Run All\" \n",
    "# You can also write temporary files to /kaggle/temp/, but they won't be saved outside of the current session"
   ]
  },
  {
   "cell_type": "code",
   "execution_count": 2,
   "id": "4b551e34",
   "metadata": {
    "execution": {
     "iopub.execute_input": "2022-08-09T08:02:16.777037Z",
     "iopub.status.busy": "2022-08-09T08:02:16.776074Z",
     "iopub.status.idle": "2022-08-09T08:02:19.268946Z",
     "shell.execute_reply": "2022-08-09T08:02:19.267974Z"
    },
    "papermill": {
     "duration": 2.505467,
     "end_time": "2022-08-09T08:02:19.271693",
     "exception": false,
     "start_time": "2022-08-09T08:02:16.766226",
     "status": "completed"
    },
    "tags": []
   },
   "outputs": [],
   "source": [
    "# Import necessary libraries and make necessary arrangements\n",
    "import time\n",
    "import numpy as np\n",
    "import pandas as pd\n",
    "from matplotlib import pyplot as plt\n",
    "import seaborn as sns\n",
    "import xgboost \n",
    "import lightgbm as lgb\n",
    "import warnings\n",
    "from sklearn.preprocessing import LabelEncoder\n",
    "\n",
    "pd.set_option('display.max_columns', None)\n",
    "pd.set_option('display.width', 500)\n",
    "warnings.filterwarnings('ignore')"
   ]
  },
  {
   "cell_type": "code",
   "execution_count": 3,
   "id": "75a2fa65",
   "metadata": {
    "execution": {
     "iopub.execute_input": "2022-08-09T08:02:19.292824Z",
     "iopub.status.busy": "2022-08-09T08:02:19.291649Z",
     "iopub.status.idle": "2022-08-09T08:02:19.310092Z",
     "shell.execute_reply": "2022-08-09T08:02:19.308912Z"
    },
    "papermill": {
     "duration": 0.031708,
     "end_time": "2022-08-09T08:02:19.312791",
     "exception": false,
     "start_time": "2022-08-09T08:02:19.281083",
     "status": "completed"
    },
    "tags": []
   },
   "outputs": [],
   "source": [
    "\n",
    "# Date Features\n",
    "def create_date_features(df):\n",
    "    df['month'] = df.Date.dt.month\n",
    "    df['day_of_month'] = df.Date.dt.day\n",
    "    df['day_of_year'] = df.Date.dt.dayofyear\n",
    "    df['week_of_year'] = df.Date.dt.weekofyear\n",
    "    df['day_of_week'] = df.Date.dt.dayofweek\n",
    "    df['year'] = df.Date.dt.year\n",
    "    #df[\"is_wknd\"] = df.Date.dt.weekday // 4\n",
    "    #df['is_month_start'] = df.Date.dt.is_month_start.astype(int)\n",
    "    #df['is_month_end'] = df.Date.dt.is_month_end.astype(int)\n",
    "    return df\n",
    "\n",
    "# Random Noise\n",
    "def random_noise(dataframe):\n",
    "    return np.random.normal(scale=2.0, size=(len(dataframe)))\n",
    "\n",
    "# Lag/Shifted Features\n",
    "def lag_features(dataframe, lags):\n",
    "    for lag in lags:\n",
    "        dataframe['sales_lag_' + str(lag)] = dataframe.groupby([\"store_nbr\", \"family\"])['sales'].transform(\n",
    "            lambda x: x.shift(lag)) + random_noise(dataframe)\n",
    "    return dataframe\n",
    "\n",
    "# Rolling Mean Features\n",
    "def roll_mean_features(dataframe, windows):\n",
    "    for window in windows:\n",
    "        dataframe['sales_roll_mean_' + str(window)] = dataframe.groupby([\"store_nbr\", \"family\"])['sales']. \\\n",
    "                                                          transform(\n",
    "            lambda x: x.shift(16).rolling(window=window, min_periods=7, win_type=\"triang\").mean()) + random_noise(\n",
    "            dataframe)\n",
    "    return dataframe\n",
    "\n",
    "# Exponentially Weighted Mean Features\n",
    "def ewm_features(dataframe, alphas, lags):\n",
    "    for alpha in alphas:\n",
    "        for lag in lags:\n",
    "            dataframe['sales_ewm_alpha_' + str(alpha).replace(\".\", \"\") + \"_lag_\" + str(lag)] = \\\n",
    "                dataframe.groupby([\"store_nbr\", \"family\"])['sales'].transform(lambda x: x.shift(lag).ewm(alpha=alpha).mean())\n",
    "    return dataframe\n",
    "\n",
    "\n",
    "# Feature Importance\n",
    "def plot_lgb_importances(model, plot=False, num=10):\n",
    "\n",
    "    gain = model.feature_importance('gain')\n",
    "    feat_imp = pd.DataFrame({'feature': model.feature_name(),\n",
    "                             'split': model.feature_importance('split'),\n",
    "                             'gain': 100 * gain / gain.sum()}).sort_values('gain', ascending=False)\n",
    "    if plot:\n",
    "        plt.figure(figsize=(10, 10))\n",
    "        sns.set(font_scale=1)\n",
    "        sns.barplot(x=\"gain\", y=\"feature\", data=feat_imp[0:25])\n",
    "        plt.title('feature')\n",
    "        plt.tight_layout()\n",
    "        plt.show()\n",
    "    else:\n",
    "        print(feat_imp.head(num))\n",
    "        "
   ]
  },
  {
   "cell_type": "code",
   "execution_count": 4,
   "id": "85b34545",
   "metadata": {
    "execution": {
     "iopub.execute_input": "2022-08-09T08:02:19.332983Z",
     "iopub.status.busy": "2022-08-09T08:02:19.332203Z",
     "iopub.status.idle": "2022-08-09T08:02:25.093090Z",
     "shell.execute_reply": "2022-08-09T08:02:25.091757Z"
    },
    "papermill": {
     "duration": 5.774492,
     "end_time": "2022-08-09T08:02:25.096168",
     "exception": false,
     "start_time": "2022-08-09T08:02:19.321676",
     "status": "completed"
    },
    "tags": []
   },
   "outputs": [],
   "source": [
    "df_train = pd.read_csv(r\"../data/train.csv\", index_col=0)\n",
    "df_test = pd.read_csv(r\"../data/test.csv\", index_col=0)\n",
    "df_transactions = pd.read_csv(r\"../data/transactions.csv\")\n",
    "df_stores = pd.read_csv(r\"../data/stores.csv\")\n",
    "df_holidays = pd.read_csv(r\"../data/holidays_events.csv\")\n",
    "df_oil = pd.read_csv(r\"../data/oil.csv\")\n",
    "\n",
    "df_oil['date'] = df_oil['date'].astype(\"datetime64\")\n",
    "df_date = pd.DataFrame(pd.date_range(\"2013-01-01\",\"2017-08-31\"),columns=[\"date\"])\n",
    "df_oil = df_date.merge(df_oil,left_on='date',right_on='date',how='left').fillna(method='ffill').fillna(method='bfill')"
   ]
  },
  {
   "cell_type": "code",
   "execution_count": 5,
   "id": "11f865d0",
   "metadata": {
    "execution": {
     "iopub.execute_input": "2022-08-09T08:02:25.117630Z",
     "iopub.status.busy": "2022-08-09T08:02:25.116376Z",
     "iopub.status.idle": "2022-08-09T08:03:10.442976Z",
     "shell.execute_reply": "2022-08-09T08:03:10.441602Z"
    },
    "papermill": {
     "duration": 45.340635,
     "end_time": "2022-08-09T08:03:10.446018",
     "exception": false,
     "start_time": "2022-08-09T08:02:25.105383",
     "status": "completed"
    },
    "tags": []
   },
   "outputs": [],
   "source": [
    "df_all = df_train.append(df_test)\n",
    "df_all = df_all.merge(df_stores,left_on=\"store_nbr\",right_on=\"store_nbr\",how=\"left\")\n",
    "df_holidays = df_holidays.rename(columns = {\"type\":\"Holiday_type\"})\n",
    "df_all = df_all.merge(df_holidays,left_on=\"date\",right_on=\"date\",how=\"left\")\n",
    "df_all = df_all.merge(df_transactions,left_on=[\"date\",\"store_nbr\"],right_on=[\"date\",\"store_nbr\"],how=\"left\")\n",
    "df_all[\"date\"] = df_all[\"date\"].astype(\"datetime64\")\n",
    "df_all = df_all.merge(df_oil,left_on=\"date\",right_on=\"date\",how=\"left\")\n",
    "df_all = df_all.replace(\",\",\"_\",regex=True)\n",
    "df_all = df_all.rename(columns = {\"date\":\"Date\"})"
   ]
  },
  {
   "cell_type": "code",
   "execution_count": 6,
   "id": "f8e468f9",
   "metadata": {
    "execution": {
     "iopub.execute_input": "2022-08-09T08:03:11.353286Z",
     "iopub.status.busy": "2022-08-09T08:03:11.352471Z",
     "iopub.status.idle": "2022-08-09T08:03:11.626359Z",
     "shell.execute_reply": "2022-08-09T08:03:11.625088Z"
    },
    "papermill": {
     "duration": 0.288139,
     "end_time": "2022-08-09T08:03:11.629232",
     "exception": false,
     "start_time": "2022-08-09T08:03:11.341093",
     "status": "completed"
    },
    "tags": []
   },
   "outputs": [],
   "source": [
    "col = ['Date',\n",
    "       'store_nbr', \n",
    "       'family', \n",
    "       'sales', \n",
    "       'onpromotion', \n",
    "       #'city', \n",
    "       #'state',\n",
    "       #'type', \n",
    "       'cluster', \n",
    "       'Holiday_type', \n",
    "       'locale', \n",
    "       #'locale_name',\n",
    "       'description', \n",
    "       'transferred',\n",
    "       'dcoilwtico'\n",
    "      ]\n",
    "df = df_all[col]"
   ]
  },
  {
   "cell_type": "code",
   "execution_count": 7,
   "id": "735198fc",
   "metadata": {
    "execution": {
     "iopub.execute_input": "2022-08-09T08:03:11.651367Z",
     "iopub.status.busy": "2022-08-09T08:03:11.650282Z",
     "iopub.status.idle": "2022-08-09T08:03:11.669182Z",
     "shell.execute_reply": "2022-08-09T08:03:11.668163Z"
    },
    "papermill": {
     "duration": 0.032457,
     "end_time": "2022-08-09T08:03:11.671474",
     "exception": false,
     "start_time": "2022-08-09T08:03:11.639017",
     "status": "completed"
    },
    "tags": []
   },
   "outputs": [
    {
     "data": {
      "text/plain": "        Date  store_nbr      family  sales  onpromotion  cluster Holiday_type    locale         description transferred  dcoilwtico\n0 2013-01-01          1  AUTOMOTIVE    0.0            0       13      Holiday  National  Primer dia del ano       False       93.14\n1 2013-01-01          1   BABY CARE    0.0            0       13      Holiday  National  Primer dia del ano       False       93.14\n2 2013-01-01          1      BEAUTY    0.0            0       13      Holiday  National  Primer dia del ano       False       93.14\n3 2013-01-01          1   BEVERAGES    0.0            0       13      Holiday  National  Primer dia del ano       False       93.14\n4 2013-01-01          1       BOOKS    0.0            0       13      Holiday  National  Primer dia del ano       False       93.14",
      "text/html": "<div>\n<style scoped>\n    .dataframe tbody tr th:only-of-type {\n        vertical-align: middle;\n    }\n\n    .dataframe tbody tr th {\n        vertical-align: top;\n    }\n\n    .dataframe thead th {\n        text-align: right;\n    }\n</style>\n<table border=\"1\" class=\"dataframe\">\n  <thead>\n    <tr style=\"text-align: right;\">\n      <th></th>\n      <th>Date</th>\n      <th>store_nbr</th>\n      <th>family</th>\n      <th>sales</th>\n      <th>onpromotion</th>\n      <th>cluster</th>\n      <th>Holiday_type</th>\n      <th>locale</th>\n      <th>description</th>\n      <th>transferred</th>\n      <th>dcoilwtico</th>\n    </tr>\n  </thead>\n  <tbody>\n    <tr>\n      <th>0</th>\n      <td>2013-01-01</td>\n      <td>1</td>\n      <td>AUTOMOTIVE</td>\n      <td>0.0</td>\n      <td>0</td>\n      <td>13</td>\n      <td>Holiday</td>\n      <td>National</td>\n      <td>Primer dia del ano</td>\n      <td>False</td>\n      <td>93.14</td>\n    </tr>\n    <tr>\n      <th>1</th>\n      <td>2013-01-01</td>\n      <td>1</td>\n      <td>BABY CARE</td>\n      <td>0.0</td>\n      <td>0</td>\n      <td>13</td>\n      <td>Holiday</td>\n      <td>National</td>\n      <td>Primer dia del ano</td>\n      <td>False</td>\n      <td>93.14</td>\n    </tr>\n    <tr>\n      <th>2</th>\n      <td>2013-01-01</td>\n      <td>1</td>\n      <td>BEAUTY</td>\n      <td>0.0</td>\n      <td>0</td>\n      <td>13</td>\n      <td>Holiday</td>\n      <td>National</td>\n      <td>Primer dia del ano</td>\n      <td>False</td>\n      <td>93.14</td>\n    </tr>\n    <tr>\n      <th>3</th>\n      <td>2013-01-01</td>\n      <td>1</td>\n      <td>BEVERAGES</td>\n      <td>0.0</td>\n      <td>0</td>\n      <td>13</td>\n      <td>Holiday</td>\n      <td>National</td>\n      <td>Primer dia del ano</td>\n      <td>False</td>\n      <td>93.14</td>\n    </tr>\n    <tr>\n      <th>4</th>\n      <td>2013-01-01</td>\n      <td>1</td>\n      <td>BOOKS</td>\n      <td>0.0</td>\n      <td>0</td>\n      <td>13</td>\n      <td>Holiday</td>\n      <td>National</td>\n      <td>Primer dia del ano</td>\n      <td>False</td>\n      <td>93.14</td>\n    </tr>\n  </tbody>\n</table>\n</div>"
     },
     "execution_count": 7,
     "metadata": {},
     "output_type": "execute_result"
    }
   ],
   "source": [
    "df.head()"
   ]
  },
  {
   "cell_type": "code",
   "execution_count": 8,
   "id": "5033fe13",
   "metadata": {
    "execution": {
     "iopub.execute_input": "2022-08-09T08:03:11.981086Z",
     "iopub.status.busy": "2022-08-09T08:03:11.980601Z",
     "iopub.status.idle": "2022-08-09T08:03:13.782136Z",
     "shell.execute_reply": "2022-08-09T08:03:13.780734Z"
    },
    "papermill": {
     "duration": 1.816002,
     "end_time": "2022-08-09T08:03:13.785352",
     "exception": false,
     "start_time": "2022-08-09T08:03:11.969350",
     "status": "completed"
    },
    "tags": []
   },
   "outputs": [],
   "source": [
    "df.loc[:,\"store_nbr\"] = df[\"store_nbr\"].astype(\"category\")\n",
    "df.loc[:,\"family\"] = df[\"family\"].astype(\"category\")\n",
    "df.loc[:,\"onpromotion\"] = df[\"onpromotion\"].astype(\"int64\")\n",
    "#df.loc[:,\"city\"] = df[\"city\"].astype(\"category\")\n",
    "#df.loc[:,\"state\"] = df[\"state\"].astype(\"category\")\n",
    "#df.loc[:,\"type\"] = df[\"type\"].astype(\"category\")\n",
    "df.loc[:,\"Holiday_type\"] = df[\"Holiday_type\"].astype(\"category\")\n",
    "df.loc[:,\"locale\"] = df[\"locale\"].astype(\"category\")\n",
    "#df.loc[:,\"locale_name\"] = df[\"locale_name\"].astype(\"category\")\n",
    "df.loc[:,\"description\"] = df[\"description\"].astype(\"category\")\n",
    "df.loc[:,\"transferred\"] = df[\"transferred\"].astype(\"category\")"
   ]
  },
  {
   "cell_type": "code",
   "execution_count": 9,
   "id": "d679ea11",
   "metadata": {
    "execution": {
     "iopub.execute_input": "2022-08-09T08:03:13.808004Z",
     "iopub.status.busy": "2022-08-09T08:03:13.806756Z",
     "iopub.status.idle": "2022-08-09T08:03:14.323587Z",
     "shell.execute_reply": "2022-08-09T08:03:14.322165Z"
    },
    "papermill": {
     "duration": 0.531245,
     "end_time": "2022-08-09T08:03:14.326529",
     "exception": false,
     "start_time": "2022-08-09T08:03:13.795284",
     "status": "completed"
    },
    "tags": []
   },
   "outputs": [],
   "source": [
    "zero_index = df.groupby([\"store_nbr\",\"family\"]).sum()[df.groupby([\"store_nbr\",\"family\"]).sum()[\"sales\"]==0].index"
   ]
  },
  {
   "cell_type": "markdown",
   "id": "ab0591c3",
   "metadata": {
    "execution": {
     "iopub.status.busy": "2022-08-08T01:41:06.102058Z",
     "iopub.status.idle": "2022-08-08T01:41:06.103071Z",
     "shell.execute_reply": "2022-08-08T01:41:06.102819Z",
     "shell.execute_reply.started": "2022-08-08T01:41:06.102792Z"
    },
    "papermill": {
     "duration": 0.009506,
     "end_time": "2022-08-09T08:03:14.346000",
     "exception": false,
     "start_time": "2022-08-09T08:03:14.336494",
     "status": "completed"
    },
    "tags": []
   },
   "source": [
    "## Data Engineering"
   ]
  },
  {
   "cell_type": "code",
   "execution_count": 10,
   "id": "63def48e",
   "metadata": {
    "execution": {
     "iopub.execute_input": "2022-08-09T08:03:14.368283Z",
     "iopub.status.busy": "2022-08-09T08:03:14.367761Z",
     "iopub.status.idle": "2022-08-09T08:04:09.359125Z",
     "shell.execute_reply": "2022-08-09T08:04:09.357729Z"
    },
    "papermill": {
     "duration": 55.006453,
     "end_time": "2022-08-09T08:04:09.362226",
     "exception": false,
     "start_time": "2022-08-09T08:03:14.355773",
     "status": "completed"
    },
    "tags": []
   },
   "outputs": [
    {
     "data": {
      "text/plain": "              Date store_nbr                      family  sales  onpromotion  cluster Holiday_type    locale         description transferred  dcoilwtico  month  day_of_month  day_of_year  week_of_year  day_of_week  year\n0       2013-01-01         1                  AUTOMOTIVE    0.0            0       13      Holiday  National  Primer dia del ano       False       93.14      1             1            1             1            1  2013\n1       2013-01-01         1                   BABY CARE    0.0            0       13      Holiday  National  Primer dia del ano       False       93.14      1             1            1             1            1  2013\n2       2013-01-01         1                      BEAUTY    0.0            0       13      Holiday  National  Primer dia del ano       False       93.14      1             1            1             1            1  2013\n3       2013-01-01         1                   BEVERAGES    0.0            0       13      Holiday  National  Primer dia del ano       False       93.14      1             1            1             1            1  2013\n4       2013-01-01         1                       BOOKS    0.0            0       13      Holiday  National  Primer dia del ano       False       93.14      1             1            1             1            1  2013\n...            ...       ...                         ...    ...          ...      ...          ...       ...                 ...         ...         ...    ...           ...          ...           ...          ...   ...\n3082855 2017-08-31         9                     POULTRY    NaN            1        6          NaN       NaN                 NaN         NaN       47.26      8            31          243            35            3  2017\n3082856 2017-08-31         9              PREPARED FOODS    NaN            0        6          NaN       NaN                 NaN         NaN       47.26      8            31          243            35            3  2017\n3082857 2017-08-31         9                     PRODUCE    NaN            1        6          NaN       NaN                 NaN         NaN       47.26      8            31          243            35            3  2017\n3082858 2017-08-31         9  SCHOOL AND OFFICE SUPPLIES    NaN            9        6          NaN       NaN                 NaN         NaN       47.26      8            31          243            35            3  2017\n3082859 2017-08-31         9                     SEAFOOD    NaN            0        6          NaN       NaN                 NaN         NaN       47.26      8            31          243            35            3  2017\n\n[3082860 rows x 17 columns]",
      "text/html": "<div>\n<style scoped>\n    .dataframe tbody tr th:only-of-type {\n        vertical-align: middle;\n    }\n\n    .dataframe tbody tr th {\n        vertical-align: top;\n    }\n\n    .dataframe thead th {\n        text-align: right;\n    }\n</style>\n<table border=\"1\" class=\"dataframe\">\n  <thead>\n    <tr style=\"text-align: right;\">\n      <th></th>\n      <th>Date</th>\n      <th>store_nbr</th>\n      <th>family</th>\n      <th>sales</th>\n      <th>onpromotion</th>\n      <th>cluster</th>\n      <th>Holiday_type</th>\n      <th>locale</th>\n      <th>description</th>\n      <th>transferred</th>\n      <th>dcoilwtico</th>\n      <th>month</th>\n      <th>day_of_month</th>\n      <th>day_of_year</th>\n      <th>week_of_year</th>\n      <th>day_of_week</th>\n      <th>year</th>\n    </tr>\n  </thead>\n  <tbody>\n    <tr>\n      <th>0</th>\n      <td>2013-01-01</td>\n      <td>1</td>\n      <td>AUTOMOTIVE</td>\n      <td>0.0</td>\n      <td>0</td>\n      <td>13</td>\n      <td>Holiday</td>\n      <td>National</td>\n      <td>Primer dia del ano</td>\n      <td>False</td>\n      <td>93.14</td>\n      <td>1</td>\n      <td>1</td>\n      <td>1</td>\n      <td>1</td>\n      <td>1</td>\n      <td>2013</td>\n    </tr>\n    <tr>\n      <th>1</th>\n      <td>2013-01-01</td>\n      <td>1</td>\n      <td>BABY CARE</td>\n      <td>0.0</td>\n      <td>0</td>\n      <td>13</td>\n      <td>Holiday</td>\n      <td>National</td>\n      <td>Primer dia del ano</td>\n      <td>False</td>\n      <td>93.14</td>\n      <td>1</td>\n      <td>1</td>\n      <td>1</td>\n      <td>1</td>\n      <td>1</td>\n      <td>2013</td>\n    </tr>\n    <tr>\n      <th>2</th>\n      <td>2013-01-01</td>\n      <td>1</td>\n      <td>BEAUTY</td>\n      <td>0.0</td>\n      <td>0</td>\n      <td>13</td>\n      <td>Holiday</td>\n      <td>National</td>\n      <td>Primer dia del ano</td>\n      <td>False</td>\n      <td>93.14</td>\n      <td>1</td>\n      <td>1</td>\n      <td>1</td>\n      <td>1</td>\n      <td>1</td>\n      <td>2013</td>\n    </tr>\n    <tr>\n      <th>3</th>\n      <td>2013-01-01</td>\n      <td>1</td>\n      <td>BEVERAGES</td>\n      <td>0.0</td>\n      <td>0</td>\n      <td>13</td>\n      <td>Holiday</td>\n      <td>National</td>\n      <td>Primer dia del ano</td>\n      <td>False</td>\n      <td>93.14</td>\n      <td>1</td>\n      <td>1</td>\n      <td>1</td>\n      <td>1</td>\n      <td>1</td>\n      <td>2013</td>\n    </tr>\n    <tr>\n      <th>4</th>\n      <td>2013-01-01</td>\n      <td>1</td>\n      <td>BOOKS</td>\n      <td>0.0</td>\n      <td>0</td>\n      <td>13</td>\n      <td>Holiday</td>\n      <td>National</td>\n      <td>Primer dia del ano</td>\n      <td>False</td>\n      <td>93.14</td>\n      <td>1</td>\n      <td>1</td>\n      <td>1</td>\n      <td>1</td>\n      <td>1</td>\n      <td>2013</td>\n    </tr>\n    <tr>\n      <th>...</th>\n      <td>...</td>\n      <td>...</td>\n      <td>...</td>\n      <td>...</td>\n      <td>...</td>\n      <td>...</td>\n      <td>...</td>\n      <td>...</td>\n      <td>...</td>\n      <td>...</td>\n      <td>...</td>\n      <td>...</td>\n      <td>...</td>\n      <td>...</td>\n      <td>...</td>\n      <td>...</td>\n      <td>...</td>\n    </tr>\n    <tr>\n      <th>3082855</th>\n      <td>2017-08-31</td>\n      <td>9</td>\n      <td>POULTRY</td>\n      <td>NaN</td>\n      <td>1</td>\n      <td>6</td>\n      <td>NaN</td>\n      <td>NaN</td>\n      <td>NaN</td>\n      <td>NaN</td>\n      <td>47.26</td>\n      <td>8</td>\n      <td>31</td>\n      <td>243</td>\n      <td>35</td>\n      <td>3</td>\n      <td>2017</td>\n    </tr>\n    <tr>\n      <th>3082856</th>\n      <td>2017-08-31</td>\n      <td>9</td>\n      <td>PREPARED FOODS</td>\n      <td>NaN</td>\n      <td>0</td>\n      <td>6</td>\n      <td>NaN</td>\n      <td>NaN</td>\n      <td>NaN</td>\n      <td>NaN</td>\n      <td>47.26</td>\n      <td>8</td>\n      <td>31</td>\n      <td>243</td>\n      <td>35</td>\n      <td>3</td>\n      <td>2017</td>\n    </tr>\n    <tr>\n      <th>3082857</th>\n      <td>2017-08-31</td>\n      <td>9</td>\n      <td>PRODUCE</td>\n      <td>NaN</td>\n      <td>1</td>\n      <td>6</td>\n      <td>NaN</td>\n      <td>NaN</td>\n      <td>NaN</td>\n      <td>NaN</td>\n      <td>47.26</td>\n      <td>8</td>\n      <td>31</td>\n      <td>243</td>\n      <td>35</td>\n      <td>3</td>\n      <td>2017</td>\n    </tr>\n    <tr>\n      <th>3082858</th>\n      <td>2017-08-31</td>\n      <td>9</td>\n      <td>SCHOOL AND OFFICE SUPPLIES</td>\n      <td>NaN</td>\n      <td>9</td>\n      <td>6</td>\n      <td>NaN</td>\n      <td>NaN</td>\n      <td>NaN</td>\n      <td>NaN</td>\n      <td>47.26</td>\n      <td>8</td>\n      <td>31</td>\n      <td>243</td>\n      <td>35</td>\n      <td>3</td>\n      <td>2017</td>\n    </tr>\n    <tr>\n      <th>3082859</th>\n      <td>2017-08-31</td>\n      <td>9</td>\n      <td>SEAFOOD</td>\n      <td>NaN</td>\n      <td>0</td>\n      <td>6</td>\n      <td>NaN</td>\n      <td>NaN</td>\n      <td>NaN</td>\n      <td>NaN</td>\n      <td>47.26</td>\n      <td>8</td>\n      <td>31</td>\n      <td>243</td>\n      <td>35</td>\n      <td>3</td>\n      <td>2017</td>\n    </tr>\n  </tbody>\n</table>\n<p>3082860 rows × 17 columns</p>\n</div>"
     },
     "execution_count": 10,
     "metadata": {},
     "output_type": "execute_result"
    }
   ],
   "source": [
    "df = create_date_features(df)\n",
    "df"
   ]
  },
  {
   "cell_type": "code",
   "execution_count": 11,
   "outputs": [
    {
     "data": {
      "text/plain": "              Date store_nbr                      family  sales  onpromotion  cluster Holiday_type    locale         description transferred  dcoilwtico  month  day_of_month  day_of_year  week_of_year  day_of_week  year  sales_lag_16  sales_lag_17  sales_lag_18  sales_lag_19  sales_lag_20  sales_lag_21  sales_lag_22  sales_lag_30  sales_lag_31  sales_lag_90  sales_lag_180  sales_lag_365\n0       2013-01-01         1                  AUTOMOTIVE    0.0            0       13      Holiday  National  Primer dia del ano       False       93.14      1             1            1             1            1  2013           NaN           NaN           NaN           NaN           NaN           NaN           NaN           NaN           NaN           NaN            NaN            NaN\n1       2013-01-01         1                   BABY CARE    0.0            0       13      Holiday  National  Primer dia del ano       False       93.14      1             1            1             1            1  2013           NaN           NaN           NaN           NaN           NaN           NaN           NaN           NaN           NaN           NaN            NaN            NaN\n2       2013-01-01         1                      BEAUTY    0.0            0       13      Holiday  National  Primer dia del ano       False       93.14      1             1            1             1            1  2013           NaN           NaN           NaN           NaN           NaN           NaN           NaN           NaN           NaN           NaN            NaN            NaN\n3       2013-01-01         1                   BEVERAGES    0.0            0       13      Holiday  National  Primer dia del ano       False       93.14      1             1            1             1            1  2013           NaN           NaN           NaN           NaN           NaN           NaN           NaN           NaN           NaN           NaN            NaN            NaN\n4       2013-01-01         1                       BOOKS    0.0            0       13      Holiday  National  Primer dia del ano       False       93.14      1             1            1             1            1  2013           NaN           NaN           NaN           NaN           NaN           NaN           NaN           NaN           NaN           NaN            NaN            NaN\n...            ...       ...                         ...    ...          ...      ...          ...       ...                 ...         ...         ...    ...           ...          ...           ...          ...   ...           ...           ...           ...           ...           ...           ...           ...           ...           ...           ...            ...            ...\n3082855 2017-08-31         9                     POULTRY    NaN            1        6          NaN       NaN                 NaN         NaN       47.26      8            31          243            35            3  2017    440.286253    285.071672    414.564259    382.439281    525.527382    292.185843    334.777782    569.180319    470.265980    552.106924     285.893724     414.565878\n3082856 2017-08-31         9              PREPARED FOODS    NaN            0        6          NaN       NaN                 NaN         NaN       47.26      8            31          243            35            3  2017    154.464227    115.130640    105.603103    130.437230    112.887273    113.037490    122.910312     47.104524     62.833953     73.104070      93.539926     131.055957\n3082857 2017-08-31         9                     PRODUCE    NaN            1        6          NaN       NaN                 NaN         NaN       47.26      8            31          243            35            3  2017   2418.699828   1346.270948   1692.945294   1419.888770   1452.867717   1033.824435   1309.823978   2469.518448   1516.971516   1680.219832    1153.559497    1356.069536\n3082858 2017-08-31         9  SCHOOL AND OFFICE SUPPLIES    NaN            9        6          NaN       NaN                 NaN         NaN       47.26      8            31          243            35            3  2017    120.026127    179.430944    203.261489    141.452853    139.195377    147.362505     81.036723    204.974053     58.007038      2.443891       3.178916      83.880179\n3082859 2017-08-31         9                     SEAFOOD    NaN            0        6          NaN       NaN                 NaN         NaN       47.26      8            31          243            35            3  2017     16.024741     14.702411     19.782910     16.110244     26.123418     13.466844     17.722665     20.634983     14.076824     27.471279       0.124489      18.692406\n\n[3082860 rows x 29 columns]",
      "text/html": "<div>\n<style scoped>\n    .dataframe tbody tr th:only-of-type {\n        vertical-align: middle;\n    }\n\n    .dataframe tbody tr th {\n        vertical-align: top;\n    }\n\n    .dataframe thead th {\n        text-align: right;\n    }\n</style>\n<table border=\"1\" class=\"dataframe\">\n  <thead>\n    <tr style=\"text-align: right;\">\n      <th></th>\n      <th>Date</th>\n      <th>store_nbr</th>\n      <th>family</th>\n      <th>sales</th>\n      <th>onpromotion</th>\n      <th>cluster</th>\n      <th>Holiday_type</th>\n      <th>locale</th>\n      <th>description</th>\n      <th>transferred</th>\n      <th>dcoilwtico</th>\n      <th>month</th>\n      <th>day_of_month</th>\n      <th>day_of_year</th>\n      <th>week_of_year</th>\n      <th>day_of_week</th>\n      <th>year</th>\n      <th>sales_lag_16</th>\n      <th>sales_lag_17</th>\n      <th>sales_lag_18</th>\n      <th>sales_lag_19</th>\n      <th>sales_lag_20</th>\n      <th>sales_lag_21</th>\n      <th>sales_lag_22</th>\n      <th>sales_lag_30</th>\n      <th>sales_lag_31</th>\n      <th>sales_lag_90</th>\n      <th>sales_lag_180</th>\n      <th>sales_lag_365</th>\n    </tr>\n  </thead>\n  <tbody>\n    <tr>\n      <th>0</th>\n      <td>2013-01-01</td>\n      <td>1</td>\n      <td>AUTOMOTIVE</td>\n      <td>0.0</td>\n      <td>0</td>\n      <td>13</td>\n      <td>Holiday</td>\n      <td>National</td>\n      <td>Primer dia del ano</td>\n      <td>False</td>\n      <td>93.14</td>\n      <td>1</td>\n      <td>1</td>\n      <td>1</td>\n      <td>1</td>\n      <td>1</td>\n      <td>2013</td>\n      <td>NaN</td>\n      <td>NaN</td>\n      <td>NaN</td>\n      <td>NaN</td>\n      <td>NaN</td>\n      <td>NaN</td>\n      <td>NaN</td>\n      <td>NaN</td>\n      <td>NaN</td>\n      <td>NaN</td>\n      <td>NaN</td>\n      <td>NaN</td>\n    </tr>\n    <tr>\n      <th>1</th>\n      <td>2013-01-01</td>\n      <td>1</td>\n      <td>BABY CARE</td>\n      <td>0.0</td>\n      <td>0</td>\n      <td>13</td>\n      <td>Holiday</td>\n      <td>National</td>\n      <td>Primer dia del ano</td>\n      <td>False</td>\n      <td>93.14</td>\n      <td>1</td>\n      <td>1</td>\n      <td>1</td>\n      <td>1</td>\n      <td>1</td>\n      <td>2013</td>\n      <td>NaN</td>\n      <td>NaN</td>\n      <td>NaN</td>\n      <td>NaN</td>\n      <td>NaN</td>\n      <td>NaN</td>\n      <td>NaN</td>\n      <td>NaN</td>\n      <td>NaN</td>\n      <td>NaN</td>\n      <td>NaN</td>\n      <td>NaN</td>\n    </tr>\n    <tr>\n      <th>2</th>\n      <td>2013-01-01</td>\n      <td>1</td>\n      <td>BEAUTY</td>\n      <td>0.0</td>\n      <td>0</td>\n      <td>13</td>\n      <td>Holiday</td>\n      <td>National</td>\n      <td>Primer dia del ano</td>\n      <td>False</td>\n      <td>93.14</td>\n      <td>1</td>\n      <td>1</td>\n      <td>1</td>\n      <td>1</td>\n      <td>1</td>\n      <td>2013</td>\n      <td>NaN</td>\n      <td>NaN</td>\n      <td>NaN</td>\n      <td>NaN</td>\n      <td>NaN</td>\n      <td>NaN</td>\n      <td>NaN</td>\n      <td>NaN</td>\n      <td>NaN</td>\n      <td>NaN</td>\n      <td>NaN</td>\n      <td>NaN</td>\n    </tr>\n    <tr>\n      <th>3</th>\n      <td>2013-01-01</td>\n      <td>1</td>\n      <td>BEVERAGES</td>\n      <td>0.0</td>\n      <td>0</td>\n      <td>13</td>\n      <td>Holiday</td>\n      <td>National</td>\n      <td>Primer dia del ano</td>\n      <td>False</td>\n      <td>93.14</td>\n      <td>1</td>\n      <td>1</td>\n      <td>1</td>\n      <td>1</td>\n      <td>1</td>\n      <td>2013</td>\n      <td>NaN</td>\n      <td>NaN</td>\n      <td>NaN</td>\n      <td>NaN</td>\n      <td>NaN</td>\n      <td>NaN</td>\n      <td>NaN</td>\n      <td>NaN</td>\n      <td>NaN</td>\n      <td>NaN</td>\n      <td>NaN</td>\n      <td>NaN</td>\n    </tr>\n    <tr>\n      <th>4</th>\n      <td>2013-01-01</td>\n      <td>1</td>\n      <td>BOOKS</td>\n      <td>0.0</td>\n      <td>0</td>\n      <td>13</td>\n      <td>Holiday</td>\n      <td>National</td>\n      <td>Primer dia del ano</td>\n      <td>False</td>\n      <td>93.14</td>\n      <td>1</td>\n      <td>1</td>\n      <td>1</td>\n      <td>1</td>\n      <td>1</td>\n      <td>2013</td>\n      <td>NaN</td>\n      <td>NaN</td>\n      <td>NaN</td>\n      <td>NaN</td>\n      <td>NaN</td>\n      <td>NaN</td>\n      <td>NaN</td>\n      <td>NaN</td>\n      <td>NaN</td>\n      <td>NaN</td>\n      <td>NaN</td>\n      <td>NaN</td>\n    </tr>\n    <tr>\n      <th>...</th>\n      <td>...</td>\n      <td>...</td>\n      <td>...</td>\n      <td>...</td>\n      <td>...</td>\n      <td>...</td>\n      <td>...</td>\n      <td>...</td>\n      <td>...</td>\n      <td>...</td>\n      <td>...</td>\n      <td>...</td>\n      <td>...</td>\n      <td>...</td>\n      <td>...</td>\n      <td>...</td>\n      <td>...</td>\n      <td>...</td>\n      <td>...</td>\n      <td>...</td>\n      <td>...</td>\n      <td>...</td>\n      <td>...</td>\n      <td>...</td>\n      <td>...</td>\n      <td>...</td>\n      <td>...</td>\n      <td>...</td>\n      <td>...</td>\n    </tr>\n    <tr>\n      <th>3082855</th>\n      <td>2017-08-31</td>\n      <td>9</td>\n      <td>POULTRY</td>\n      <td>NaN</td>\n      <td>1</td>\n      <td>6</td>\n      <td>NaN</td>\n      <td>NaN</td>\n      <td>NaN</td>\n      <td>NaN</td>\n      <td>47.26</td>\n      <td>8</td>\n      <td>31</td>\n      <td>243</td>\n      <td>35</td>\n      <td>3</td>\n      <td>2017</td>\n      <td>440.286253</td>\n      <td>285.071672</td>\n      <td>414.564259</td>\n      <td>382.439281</td>\n      <td>525.527382</td>\n      <td>292.185843</td>\n      <td>334.777782</td>\n      <td>569.180319</td>\n      <td>470.265980</td>\n      <td>552.106924</td>\n      <td>285.893724</td>\n      <td>414.565878</td>\n    </tr>\n    <tr>\n      <th>3082856</th>\n      <td>2017-08-31</td>\n      <td>9</td>\n      <td>PREPARED FOODS</td>\n      <td>NaN</td>\n      <td>0</td>\n      <td>6</td>\n      <td>NaN</td>\n      <td>NaN</td>\n      <td>NaN</td>\n      <td>NaN</td>\n      <td>47.26</td>\n      <td>8</td>\n      <td>31</td>\n      <td>243</td>\n      <td>35</td>\n      <td>3</td>\n      <td>2017</td>\n      <td>154.464227</td>\n      <td>115.130640</td>\n      <td>105.603103</td>\n      <td>130.437230</td>\n      <td>112.887273</td>\n      <td>113.037490</td>\n      <td>122.910312</td>\n      <td>47.104524</td>\n      <td>62.833953</td>\n      <td>73.104070</td>\n      <td>93.539926</td>\n      <td>131.055957</td>\n    </tr>\n    <tr>\n      <th>3082857</th>\n      <td>2017-08-31</td>\n      <td>9</td>\n      <td>PRODUCE</td>\n      <td>NaN</td>\n      <td>1</td>\n      <td>6</td>\n      <td>NaN</td>\n      <td>NaN</td>\n      <td>NaN</td>\n      <td>NaN</td>\n      <td>47.26</td>\n      <td>8</td>\n      <td>31</td>\n      <td>243</td>\n      <td>35</td>\n      <td>3</td>\n      <td>2017</td>\n      <td>2418.699828</td>\n      <td>1346.270948</td>\n      <td>1692.945294</td>\n      <td>1419.888770</td>\n      <td>1452.867717</td>\n      <td>1033.824435</td>\n      <td>1309.823978</td>\n      <td>2469.518448</td>\n      <td>1516.971516</td>\n      <td>1680.219832</td>\n      <td>1153.559497</td>\n      <td>1356.069536</td>\n    </tr>\n    <tr>\n      <th>3082858</th>\n      <td>2017-08-31</td>\n      <td>9</td>\n      <td>SCHOOL AND OFFICE SUPPLIES</td>\n      <td>NaN</td>\n      <td>9</td>\n      <td>6</td>\n      <td>NaN</td>\n      <td>NaN</td>\n      <td>NaN</td>\n      <td>NaN</td>\n      <td>47.26</td>\n      <td>8</td>\n      <td>31</td>\n      <td>243</td>\n      <td>35</td>\n      <td>3</td>\n      <td>2017</td>\n      <td>120.026127</td>\n      <td>179.430944</td>\n      <td>203.261489</td>\n      <td>141.452853</td>\n      <td>139.195377</td>\n      <td>147.362505</td>\n      <td>81.036723</td>\n      <td>204.974053</td>\n      <td>58.007038</td>\n      <td>2.443891</td>\n      <td>3.178916</td>\n      <td>83.880179</td>\n    </tr>\n    <tr>\n      <th>3082859</th>\n      <td>2017-08-31</td>\n      <td>9</td>\n      <td>SEAFOOD</td>\n      <td>NaN</td>\n      <td>0</td>\n      <td>6</td>\n      <td>NaN</td>\n      <td>NaN</td>\n      <td>NaN</td>\n      <td>NaN</td>\n      <td>47.26</td>\n      <td>8</td>\n      <td>31</td>\n      <td>243</td>\n      <td>35</td>\n      <td>3</td>\n      <td>2017</td>\n      <td>16.024741</td>\n      <td>14.702411</td>\n      <td>19.782910</td>\n      <td>16.110244</td>\n      <td>26.123418</td>\n      <td>13.466844</td>\n      <td>17.722665</td>\n      <td>20.634983</td>\n      <td>14.076824</td>\n      <td>27.471279</td>\n      <td>0.124489</td>\n      <td>18.692406</td>\n    </tr>\n  </tbody>\n</table>\n<p>3082860 rows × 29 columns</p>\n</div>"
     },
     "execution_count": 11,
     "metadata": {},
     "output_type": "execute_result"
    }
   ],
   "source": [
    "df = lag_features(df, lags = [16,17,18,19,20,21,22,30,31,90,180,365])\n",
    "df"
   ],
   "metadata": {
    "collapsed": false
   }
  },
  {
   "cell_type": "code",
   "execution_count": 12,
   "outputs": [
    {
     "data": {
      "text/plain": "              Date store_nbr                      family  sales  onpromotion  cluster Holiday_type    locale         description transferred  dcoilwtico  month  day_of_month  day_of_year  week_of_year  day_of_week  year  sales_lag_16  sales_lag_17  sales_lag_18  sales_lag_19  sales_lag_20  sales_lag_21  sales_lag_22  sales_lag_30  sales_lag_31  sales_lag_90  sales_lag_180  sales_lag_365  sales_roll_mean_16  sales_roll_mean_17  sales_roll_mean_18  sales_roll_mean_30\n0       2013-01-01         1                  AUTOMOTIVE    0.0            0       13      Holiday  National  Primer dia del ano       False       93.14      1             1            1             1            1  2013           NaN           NaN           NaN           NaN           NaN           NaN           NaN           NaN           NaN           NaN            NaN            NaN                 NaN                 NaN                 NaN                 NaN\n1       2013-01-01         1                   BABY CARE    0.0            0       13      Holiday  National  Primer dia del ano       False       93.14      1             1            1             1            1  2013           NaN           NaN           NaN           NaN           NaN           NaN           NaN           NaN           NaN           NaN            NaN            NaN                 NaN                 NaN                 NaN                 NaN\n2       2013-01-01         1                      BEAUTY    0.0            0       13      Holiday  National  Primer dia del ano       False       93.14      1             1            1             1            1  2013           NaN           NaN           NaN           NaN           NaN           NaN           NaN           NaN           NaN           NaN            NaN            NaN                 NaN                 NaN                 NaN                 NaN\n3       2013-01-01         1                   BEVERAGES    0.0            0       13      Holiday  National  Primer dia del ano       False       93.14      1             1            1             1            1  2013           NaN           NaN           NaN           NaN           NaN           NaN           NaN           NaN           NaN           NaN            NaN            NaN                 NaN                 NaN                 NaN                 NaN\n4       2013-01-01         1                       BOOKS    0.0            0       13      Holiday  National  Primer dia del ano       False       93.14      1             1            1             1            1  2013           NaN           NaN           NaN           NaN           NaN           NaN           NaN           NaN           NaN           NaN            NaN            NaN                 NaN                 NaN                 NaN                 NaN\n...            ...       ...                         ...    ...          ...      ...          ...       ...                 ...         ...         ...    ...           ...          ...           ...          ...   ...           ...           ...           ...           ...           ...           ...           ...           ...           ...           ...            ...            ...                 ...                 ...                 ...                 ...\n3082855 2017-08-31         9                     POULTRY    NaN            1        6          NaN       NaN                 NaN         NaN       47.26      8            31          243            35            3  2017    440.286253    285.071672    414.564259    382.439281    525.527382    292.185843    334.777782    569.180319    470.265980    552.106924     285.893724     414.565878          450.152182          457.222218          464.136157          445.718013\n3082856 2017-08-31         9              PREPARED FOODS    NaN            0        6          NaN       NaN                 NaN         NaN       47.26      8            31          243            35            3  2017    154.464227    115.130640    105.603103    130.437230    112.887273    113.037490    122.910312     47.104524     62.833953     73.104070      93.539926     131.055957          120.556862          119.136758          121.228460          101.024201\n3082857 2017-08-31         9                     PRODUCE    NaN            1        6          NaN       NaN                 NaN         NaN       47.26      8            31          243            35            3  2017   2418.699828   1346.270948   1692.945294   1419.888770   1452.867717   1033.824435   1309.823978   2469.518448   1516.971516   1680.219832    1153.559497    1356.069536         1628.643495         1641.324032         1646.195464         1610.755255\n3082858 2017-08-31         9  SCHOOL AND OFFICE SUPPLIES    NaN            9        6          NaN       NaN                 NaN         NaN       47.26      8            31          243            35            3  2017    120.026127    179.430944    203.261489    141.452853    139.195377    147.362505     81.036723    204.974053     58.007038      2.443891       3.178916      83.880179          150.241550          146.957020          148.579514           87.565638\n3082859 2017-08-31         9                     SEAFOOD    NaN            0        6          NaN       NaN                 NaN         NaN       47.26      8            31          243            35            3  2017     16.024741     14.702411     19.782910     16.110244     26.123418     13.466844     17.722665     20.634983     14.076824     27.471279       0.124489      18.692406           20.397236           16.263009           15.669963           18.115739\n\n[3082860 rows x 33 columns]",
      "text/html": "<div>\n<style scoped>\n    .dataframe tbody tr th:only-of-type {\n        vertical-align: middle;\n    }\n\n    .dataframe tbody tr th {\n        vertical-align: top;\n    }\n\n    .dataframe thead th {\n        text-align: right;\n    }\n</style>\n<table border=\"1\" class=\"dataframe\">\n  <thead>\n    <tr style=\"text-align: right;\">\n      <th></th>\n      <th>Date</th>\n      <th>store_nbr</th>\n      <th>family</th>\n      <th>sales</th>\n      <th>onpromotion</th>\n      <th>cluster</th>\n      <th>Holiday_type</th>\n      <th>locale</th>\n      <th>description</th>\n      <th>transferred</th>\n      <th>dcoilwtico</th>\n      <th>month</th>\n      <th>day_of_month</th>\n      <th>day_of_year</th>\n      <th>week_of_year</th>\n      <th>day_of_week</th>\n      <th>year</th>\n      <th>sales_lag_16</th>\n      <th>sales_lag_17</th>\n      <th>sales_lag_18</th>\n      <th>sales_lag_19</th>\n      <th>sales_lag_20</th>\n      <th>sales_lag_21</th>\n      <th>sales_lag_22</th>\n      <th>sales_lag_30</th>\n      <th>sales_lag_31</th>\n      <th>sales_lag_90</th>\n      <th>sales_lag_180</th>\n      <th>sales_lag_365</th>\n      <th>sales_roll_mean_16</th>\n      <th>sales_roll_mean_17</th>\n      <th>sales_roll_mean_18</th>\n      <th>sales_roll_mean_30</th>\n    </tr>\n  </thead>\n  <tbody>\n    <tr>\n      <th>0</th>\n      <td>2013-01-01</td>\n      <td>1</td>\n      <td>AUTOMOTIVE</td>\n      <td>0.0</td>\n      <td>0</td>\n      <td>13</td>\n      <td>Holiday</td>\n      <td>National</td>\n      <td>Primer dia del ano</td>\n      <td>False</td>\n      <td>93.14</td>\n      <td>1</td>\n      <td>1</td>\n      <td>1</td>\n      <td>1</td>\n      <td>1</td>\n      <td>2013</td>\n      <td>NaN</td>\n      <td>NaN</td>\n      <td>NaN</td>\n      <td>NaN</td>\n      <td>NaN</td>\n      <td>NaN</td>\n      <td>NaN</td>\n      <td>NaN</td>\n      <td>NaN</td>\n      <td>NaN</td>\n      <td>NaN</td>\n      <td>NaN</td>\n      <td>NaN</td>\n      <td>NaN</td>\n      <td>NaN</td>\n      <td>NaN</td>\n    </tr>\n    <tr>\n      <th>1</th>\n      <td>2013-01-01</td>\n      <td>1</td>\n      <td>BABY CARE</td>\n      <td>0.0</td>\n      <td>0</td>\n      <td>13</td>\n      <td>Holiday</td>\n      <td>National</td>\n      <td>Primer dia del ano</td>\n      <td>False</td>\n      <td>93.14</td>\n      <td>1</td>\n      <td>1</td>\n      <td>1</td>\n      <td>1</td>\n      <td>1</td>\n      <td>2013</td>\n      <td>NaN</td>\n      <td>NaN</td>\n      <td>NaN</td>\n      <td>NaN</td>\n      <td>NaN</td>\n      <td>NaN</td>\n      <td>NaN</td>\n      <td>NaN</td>\n      <td>NaN</td>\n      <td>NaN</td>\n      <td>NaN</td>\n      <td>NaN</td>\n      <td>NaN</td>\n      <td>NaN</td>\n      <td>NaN</td>\n      <td>NaN</td>\n    </tr>\n    <tr>\n      <th>2</th>\n      <td>2013-01-01</td>\n      <td>1</td>\n      <td>BEAUTY</td>\n      <td>0.0</td>\n      <td>0</td>\n      <td>13</td>\n      <td>Holiday</td>\n      <td>National</td>\n      <td>Primer dia del ano</td>\n      <td>False</td>\n      <td>93.14</td>\n      <td>1</td>\n      <td>1</td>\n      <td>1</td>\n      <td>1</td>\n      <td>1</td>\n      <td>2013</td>\n      <td>NaN</td>\n      <td>NaN</td>\n      <td>NaN</td>\n      <td>NaN</td>\n      <td>NaN</td>\n      <td>NaN</td>\n      <td>NaN</td>\n      <td>NaN</td>\n      <td>NaN</td>\n      <td>NaN</td>\n      <td>NaN</td>\n      <td>NaN</td>\n      <td>NaN</td>\n      <td>NaN</td>\n      <td>NaN</td>\n      <td>NaN</td>\n    </tr>\n    <tr>\n      <th>3</th>\n      <td>2013-01-01</td>\n      <td>1</td>\n      <td>BEVERAGES</td>\n      <td>0.0</td>\n      <td>0</td>\n      <td>13</td>\n      <td>Holiday</td>\n      <td>National</td>\n      <td>Primer dia del ano</td>\n      <td>False</td>\n      <td>93.14</td>\n      <td>1</td>\n      <td>1</td>\n      <td>1</td>\n      <td>1</td>\n      <td>1</td>\n      <td>2013</td>\n      <td>NaN</td>\n      <td>NaN</td>\n      <td>NaN</td>\n      <td>NaN</td>\n      <td>NaN</td>\n      <td>NaN</td>\n      <td>NaN</td>\n      <td>NaN</td>\n      <td>NaN</td>\n      <td>NaN</td>\n      <td>NaN</td>\n      <td>NaN</td>\n      <td>NaN</td>\n      <td>NaN</td>\n      <td>NaN</td>\n      <td>NaN</td>\n    </tr>\n    <tr>\n      <th>4</th>\n      <td>2013-01-01</td>\n      <td>1</td>\n      <td>BOOKS</td>\n      <td>0.0</td>\n      <td>0</td>\n      <td>13</td>\n      <td>Holiday</td>\n      <td>National</td>\n      <td>Primer dia del ano</td>\n      <td>False</td>\n      <td>93.14</td>\n      <td>1</td>\n      <td>1</td>\n      <td>1</td>\n      <td>1</td>\n      <td>1</td>\n      <td>2013</td>\n      <td>NaN</td>\n      <td>NaN</td>\n      <td>NaN</td>\n      <td>NaN</td>\n      <td>NaN</td>\n      <td>NaN</td>\n      <td>NaN</td>\n      <td>NaN</td>\n      <td>NaN</td>\n      <td>NaN</td>\n      <td>NaN</td>\n      <td>NaN</td>\n      <td>NaN</td>\n      <td>NaN</td>\n      <td>NaN</td>\n      <td>NaN</td>\n    </tr>\n    <tr>\n      <th>...</th>\n      <td>...</td>\n      <td>...</td>\n      <td>...</td>\n      <td>...</td>\n      <td>...</td>\n      <td>...</td>\n      <td>...</td>\n      <td>...</td>\n      <td>...</td>\n      <td>...</td>\n      <td>...</td>\n      <td>...</td>\n      <td>...</td>\n      <td>...</td>\n      <td>...</td>\n      <td>...</td>\n      <td>...</td>\n      <td>...</td>\n      <td>...</td>\n      <td>...</td>\n      <td>...</td>\n      <td>...</td>\n      <td>...</td>\n      <td>...</td>\n      <td>...</td>\n      <td>...</td>\n      <td>...</td>\n      <td>...</td>\n      <td>...</td>\n      <td>...</td>\n      <td>...</td>\n      <td>...</td>\n      <td>...</td>\n    </tr>\n    <tr>\n      <th>3082855</th>\n      <td>2017-08-31</td>\n      <td>9</td>\n      <td>POULTRY</td>\n      <td>NaN</td>\n      <td>1</td>\n      <td>6</td>\n      <td>NaN</td>\n      <td>NaN</td>\n      <td>NaN</td>\n      <td>NaN</td>\n      <td>47.26</td>\n      <td>8</td>\n      <td>31</td>\n      <td>243</td>\n      <td>35</td>\n      <td>3</td>\n      <td>2017</td>\n      <td>440.286253</td>\n      <td>285.071672</td>\n      <td>414.564259</td>\n      <td>382.439281</td>\n      <td>525.527382</td>\n      <td>292.185843</td>\n      <td>334.777782</td>\n      <td>569.180319</td>\n      <td>470.265980</td>\n      <td>552.106924</td>\n      <td>285.893724</td>\n      <td>414.565878</td>\n      <td>450.152182</td>\n      <td>457.222218</td>\n      <td>464.136157</td>\n      <td>445.718013</td>\n    </tr>\n    <tr>\n      <th>3082856</th>\n      <td>2017-08-31</td>\n      <td>9</td>\n      <td>PREPARED FOODS</td>\n      <td>NaN</td>\n      <td>0</td>\n      <td>6</td>\n      <td>NaN</td>\n      <td>NaN</td>\n      <td>NaN</td>\n      <td>NaN</td>\n      <td>47.26</td>\n      <td>8</td>\n      <td>31</td>\n      <td>243</td>\n      <td>35</td>\n      <td>3</td>\n      <td>2017</td>\n      <td>154.464227</td>\n      <td>115.130640</td>\n      <td>105.603103</td>\n      <td>130.437230</td>\n      <td>112.887273</td>\n      <td>113.037490</td>\n      <td>122.910312</td>\n      <td>47.104524</td>\n      <td>62.833953</td>\n      <td>73.104070</td>\n      <td>93.539926</td>\n      <td>131.055957</td>\n      <td>120.556862</td>\n      <td>119.136758</td>\n      <td>121.228460</td>\n      <td>101.024201</td>\n    </tr>\n    <tr>\n      <th>3082857</th>\n      <td>2017-08-31</td>\n      <td>9</td>\n      <td>PRODUCE</td>\n      <td>NaN</td>\n      <td>1</td>\n      <td>6</td>\n      <td>NaN</td>\n      <td>NaN</td>\n      <td>NaN</td>\n      <td>NaN</td>\n      <td>47.26</td>\n      <td>8</td>\n      <td>31</td>\n      <td>243</td>\n      <td>35</td>\n      <td>3</td>\n      <td>2017</td>\n      <td>2418.699828</td>\n      <td>1346.270948</td>\n      <td>1692.945294</td>\n      <td>1419.888770</td>\n      <td>1452.867717</td>\n      <td>1033.824435</td>\n      <td>1309.823978</td>\n      <td>2469.518448</td>\n      <td>1516.971516</td>\n      <td>1680.219832</td>\n      <td>1153.559497</td>\n      <td>1356.069536</td>\n      <td>1628.643495</td>\n      <td>1641.324032</td>\n      <td>1646.195464</td>\n      <td>1610.755255</td>\n    </tr>\n    <tr>\n      <th>3082858</th>\n      <td>2017-08-31</td>\n      <td>9</td>\n      <td>SCHOOL AND OFFICE SUPPLIES</td>\n      <td>NaN</td>\n      <td>9</td>\n      <td>6</td>\n      <td>NaN</td>\n      <td>NaN</td>\n      <td>NaN</td>\n      <td>NaN</td>\n      <td>47.26</td>\n      <td>8</td>\n      <td>31</td>\n      <td>243</td>\n      <td>35</td>\n      <td>3</td>\n      <td>2017</td>\n      <td>120.026127</td>\n      <td>179.430944</td>\n      <td>203.261489</td>\n      <td>141.452853</td>\n      <td>139.195377</td>\n      <td>147.362505</td>\n      <td>81.036723</td>\n      <td>204.974053</td>\n      <td>58.007038</td>\n      <td>2.443891</td>\n      <td>3.178916</td>\n      <td>83.880179</td>\n      <td>150.241550</td>\n      <td>146.957020</td>\n      <td>148.579514</td>\n      <td>87.565638</td>\n    </tr>\n    <tr>\n      <th>3082859</th>\n      <td>2017-08-31</td>\n      <td>9</td>\n      <td>SEAFOOD</td>\n      <td>NaN</td>\n      <td>0</td>\n      <td>6</td>\n      <td>NaN</td>\n      <td>NaN</td>\n      <td>NaN</td>\n      <td>NaN</td>\n      <td>47.26</td>\n      <td>8</td>\n      <td>31</td>\n      <td>243</td>\n      <td>35</td>\n      <td>3</td>\n      <td>2017</td>\n      <td>16.024741</td>\n      <td>14.702411</td>\n      <td>19.782910</td>\n      <td>16.110244</td>\n      <td>26.123418</td>\n      <td>13.466844</td>\n      <td>17.722665</td>\n      <td>20.634983</td>\n      <td>14.076824</td>\n      <td>27.471279</td>\n      <td>0.124489</td>\n      <td>18.692406</td>\n      <td>20.397236</td>\n      <td>16.263009</td>\n      <td>15.669963</td>\n      <td>18.115739</td>\n    </tr>\n  </tbody>\n</table>\n<p>3082860 rows × 33 columns</p>\n</div>"
     },
     "execution_count": 12,
     "metadata": {},
     "output_type": "execute_result"
    }
   ],
   "source": [
    "df = roll_mean_features(df,[16,17,18,30])\n",
    "df"
   ],
   "metadata": {
    "collapsed": false
   }
  },
  {
   "cell_type": "code",
   "execution_count": 13,
   "outputs": [
    {
     "data": {
      "text/plain": "              Date store_nbr                      family  sales  onpromotion  cluster Holiday_type    locale         description transferred  dcoilwtico  month  day_of_month  day_of_year  week_of_year  day_of_week  year  sales_lag_16  sales_lag_17  sales_lag_18  sales_lag_19  sales_lag_20  sales_lag_21  sales_lag_22  sales_lag_30  sales_lag_31  sales_lag_90  sales_lag_180  sales_lag_365  sales_roll_mean_16  sales_roll_mean_17  sales_roll_mean_18  sales_roll_mean_30  sales_ewm_alpha_095_lag_1  \\\n0       2013-01-01         1                  AUTOMOTIVE    0.0            0       13      Holiday  National  Primer dia del ano       False       93.14      1             1            1             1            1  2013           NaN           NaN           NaN           NaN           NaN           NaN           NaN           NaN           NaN           NaN            NaN            NaN                 NaN                 NaN                 NaN                 NaN                        NaN   \n1       2013-01-01         1                   BABY CARE    0.0            0       13      Holiday  National  Primer dia del ano       False       93.14      1             1            1             1            1  2013           NaN           NaN           NaN           NaN           NaN           NaN           NaN           NaN           NaN           NaN            NaN            NaN                 NaN                 NaN                 NaN                 NaN                        NaN   \n2       2013-01-01         1                      BEAUTY    0.0            0       13      Holiday  National  Primer dia del ano       False       93.14      1             1            1             1            1  2013           NaN           NaN           NaN           NaN           NaN           NaN           NaN           NaN           NaN           NaN            NaN            NaN                 NaN                 NaN                 NaN                 NaN                        NaN   \n3       2013-01-01         1                   BEVERAGES    0.0            0       13      Holiday  National  Primer dia del ano       False       93.14      1             1            1             1            1  2013           NaN           NaN           NaN           NaN           NaN           NaN           NaN           NaN           NaN           NaN            NaN            NaN                 NaN                 NaN                 NaN                 NaN                        NaN   \n4       2013-01-01         1                       BOOKS    0.0            0       13      Holiday  National  Primer dia del ano       False       93.14      1             1            1             1            1  2013           NaN           NaN           NaN           NaN           NaN           NaN           NaN           NaN           NaN           NaN            NaN            NaN                 NaN                 NaN                 NaN                 NaN                        NaN   \n...            ...       ...                         ...    ...          ...      ...          ...       ...                 ...         ...         ...    ...           ...          ...           ...          ...   ...           ...           ...           ...           ...           ...           ...           ...           ...           ...           ...            ...            ...                 ...                 ...                 ...                 ...                        ...   \n3082855 2017-08-31         9                     POULTRY    NaN            1        6          NaN       NaN                 NaN         NaN       47.26      8            31          243            35            3  2017    440.286253    285.071672    414.564259    382.439281    525.527382    292.185843    334.777782    569.180319    470.265980    552.106924     285.893724     414.565878          450.152182          457.222218          464.136157          445.718013                 430.717553   \n3082856 2017-08-31         9              PREPARED FOODS    NaN            0        6          NaN       NaN                 NaN         NaN       47.26      8            31          243            35            3  2017    154.464227    115.130640    105.603103    130.437230    112.887273    113.037490    122.910312     47.104524     62.833953     73.104070      93.539926     131.055957          120.556862          119.136758          121.228460          101.024201                 152.511953   \n3082857 2017-08-31         9                     PRODUCE    NaN            1        6          NaN       NaN                 NaN         NaN       47.26      8            31          243            35            3  2017   2418.699828   1346.270948   1692.945294   1419.888770   1452.867717   1033.824435   1309.823978   2469.518448   1516.971516   1680.219832    1153.559497    1356.069536         1628.643495         1641.324032         1646.195464         1610.755255                2366.992548   \n3082858 2017-08-31         9  SCHOOL AND OFFICE SUPPLIES    NaN            9        6          NaN       NaN                 NaN         NaN       47.26      8            31          243            35            3  2017    120.026127    179.430944    203.261489    141.452853    139.195377    147.362505     81.036723    204.974053     58.007038      2.443891       3.178916      83.880179          150.241550          146.957020          148.579514           87.565638                 124.087264   \n3082859 2017-08-31         9                     SEAFOOD    NaN            0        6          NaN       NaN                 NaN         NaN       47.26      8            31          243            35            3  2017     16.024741     14.702411     19.782910     16.110244     26.123418     13.466844     17.722665     20.634983     14.076824     27.471279       0.124489      18.692406           20.397236           16.263009           15.669963           18.115739                  16.057148   \n\n         sales_ewm_alpha_095_lag_7  sales_ewm_alpha_095_lag_30  sales_ewm_alpha_09_lag_1  sales_ewm_alpha_09_lag_7  sales_ewm_alpha_09_lag_30  sales_ewm_alpha_08_lag_1  sales_ewm_alpha_08_lag_7  sales_ewm_alpha_08_lag_30  sales_ewm_alpha_05_lag_1  sales_ewm_alpha_05_lag_7  sales_ewm_alpha_05_lag_30  \n0                              NaN                         NaN                       NaN                       NaN                        NaN                       NaN                       NaN                        NaN                       NaN                       NaN                        NaN  \n1                              NaN                         NaN                       NaN                       NaN                        NaN                       NaN                       NaN                        NaN                       NaN                       NaN                        NaN  \n2                              NaN                         NaN                       NaN                       NaN                        NaN                       NaN                       NaN                        NaN                       NaN                       NaN                        NaN  \n3                              NaN                         NaN                       NaN                       NaN                        NaN                       NaN                       NaN                        NaN                       NaN                       NaN                        NaN  \n4                              NaN                         NaN                       NaN                       NaN                        NaN                       NaN                       NaN                        NaN                       NaN                       NaN                        NaN  \n...                            ...                         ...                       ...                       ...                        ...                       ...                       ...                        ...                       ...                       ...                        ...  \n3082855                 430.717553                  565.318991                423.935714                423.935714                 560.611289                412.276337                412.276337                 551.421713                392.438031                392.438031                 518.514476  \n3082856                 152.511953                   51.246066                150.443153                150.443153                  52.444705                146.278339                146.278339                  56.022566                134.243896                134.243896                  72.911551  \n3082857                2366.992548                 2423.706728               2315.775659               2315.775659                2378.620204               2217.030205               2217.030205                2292.418673               1934.923106               1934.923106                2035.920473  \n3082858                 124.087264                  195.609900                127.218224                127.218224                 188.128407                133.426673                133.426673                 172.814546                148.242507                148.242507                 122.237914  \n3082859                  16.057148                   18.970154                 16.127465                 16.127465                  18.664387                 16.303197                 16.303197                  18.167376                 17.058460                 17.058460                  17.242974  \n\n[3082860 rows x 45 columns]",
      "text/html": "<div>\n<style scoped>\n    .dataframe tbody tr th:only-of-type {\n        vertical-align: middle;\n    }\n\n    .dataframe tbody tr th {\n        vertical-align: top;\n    }\n\n    .dataframe thead th {\n        text-align: right;\n    }\n</style>\n<table border=\"1\" class=\"dataframe\">\n  <thead>\n    <tr style=\"text-align: right;\">\n      <th></th>\n      <th>Date</th>\n      <th>store_nbr</th>\n      <th>family</th>\n      <th>sales</th>\n      <th>onpromotion</th>\n      <th>cluster</th>\n      <th>Holiday_type</th>\n      <th>locale</th>\n      <th>description</th>\n      <th>transferred</th>\n      <th>dcoilwtico</th>\n      <th>month</th>\n      <th>day_of_month</th>\n      <th>day_of_year</th>\n      <th>week_of_year</th>\n      <th>day_of_week</th>\n      <th>year</th>\n      <th>sales_lag_16</th>\n      <th>sales_lag_17</th>\n      <th>sales_lag_18</th>\n      <th>sales_lag_19</th>\n      <th>sales_lag_20</th>\n      <th>sales_lag_21</th>\n      <th>sales_lag_22</th>\n      <th>sales_lag_30</th>\n      <th>sales_lag_31</th>\n      <th>sales_lag_90</th>\n      <th>sales_lag_180</th>\n      <th>sales_lag_365</th>\n      <th>sales_roll_mean_16</th>\n      <th>sales_roll_mean_17</th>\n      <th>sales_roll_mean_18</th>\n      <th>sales_roll_mean_30</th>\n      <th>sales_ewm_alpha_095_lag_1</th>\n      <th>sales_ewm_alpha_095_lag_7</th>\n      <th>sales_ewm_alpha_095_lag_30</th>\n      <th>sales_ewm_alpha_09_lag_1</th>\n      <th>sales_ewm_alpha_09_lag_7</th>\n      <th>sales_ewm_alpha_09_lag_30</th>\n      <th>sales_ewm_alpha_08_lag_1</th>\n      <th>sales_ewm_alpha_08_lag_7</th>\n      <th>sales_ewm_alpha_08_lag_30</th>\n      <th>sales_ewm_alpha_05_lag_1</th>\n      <th>sales_ewm_alpha_05_lag_7</th>\n      <th>sales_ewm_alpha_05_lag_30</th>\n    </tr>\n  </thead>\n  <tbody>\n    <tr>\n      <th>0</th>\n      <td>2013-01-01</td>\n      <td>1</td>\n      <td>AUTOMOTIVE</td>\n      <td>0.0</td>\n      <td>0</td>\n      <td>13</td>\n      <td>Holiday</td>\n      <td>National</td>\n      <td>Primer dia del ano</td>\n      <td>False</td>\n      <td>93.14</td>\n      <td>1</td>\n      <td>1</td>\n      <td>1</td>\n      <td>1</td>\n      <td>1</td>\n      <td>2013</td>\n      <td>NaN</td>\n      <td>NaN</td>\n      <td>NaN</td>\n      <td>NaN</td>\n      <td>NaN</td>\n      <td>NaN</td>\n      <td>NaN</td>\n      <td>NaN</td>\n      <td>NaN</td>\n      <td>NaN</td>\n      <td>NaN</td>\n      <td>NaN</td>\n      <td>NaN</td>\n      <td>NaN</td>\n      <td>NaN</td>\n      <td>NaN</td>\n      <td>NaN</td>\n      <td>NaN</td>\n      <td>NaN</td>\n      <td>NaN</td>\n      <td>NaN</td>\n      <td>NaN</td>\n      <td>NaN</td>\n      <td>NaN</td>\n      <td>NaN</td>\n      <td>NaN</td>\n      <td>NaN</td>\n      <td>NaN</td>\n    </tr>\n    <tr>\n      <th>1</th>\n      <td>2013-01-01</td>\n      <td>1</td>\n      <td>BABY CARE</td>\n      <td>0.0</td>\n      <td>0</td>\n      <td>13</td>\n      <td>Holiday</td>\n      <td>National</td>\n      <td>Primer dia del ano</td>\n      <td>False</td>\n      <td>93.14</td>\n      <td>1</td>\n      <td>1</td>\n      <td>1</td>\n      <td>1</td>\n      <td>1</td>\n      <td>2013</td>\n      <td>NaN</td>\n      <td>NaN</td>\n      <td>NaN</td>\n      <td>NaN</td>\n      <td>NaN</td>\n      <td>NaN</td>\n      <td>NaN</td>\n      <td>NaN</td>\n      <td>NaN</td>\n      <td>NaN</td>\n      <td>NaN</td>\n      <td>NaN</td>\n      <td>NaN</td>\n      <td>NaN</td>\n      <td>NaN</td>\n      <td>NaN</td>\n      <td>NaN</td>\n      <td>NaN</td>\n      <td>NaN</td>\n      <td>NaN</td>\n      <td>NaN</td>\n      <td>NaN</td>\n      <td>NaN</td>\n      <td>NaN</td>\n      <td>NaN</td>\n      <td>NaN</td>\n      <td>NaN</td>\n      <td>NaN</td>\n    </tr>\n    <tr>\n      <th>2</th>\n      <td>2013-01-01</td>\n      <td>1</td>\n      <td>BEAUTY</td>\n      <td>0.0</td>\n      <td>0</td>\n      <td>13</td>\n      <td>Holiday</td>\n      <td>National</td>\n      <td>Primer dia del ano</td>\n      <td>False</td>\n      <td>93.14</td>\n      <td>1</td>\n      <td>1</td>\n      <td>1</td>\n      <td>1</td>\n      <td>1</td>\n      <td>2013</td>\n      <td>NaN</td>\n      <td>NaN</td>\n      <td>NaN</td>\n      <td>NaN</td>\n      <td>NaN</td>\n      <td>NaN</td>\n      <td>NaN</td>\n      <td>NaN</td>\n      <td>NaN</td>\n      <td>NaN</td>\n      <td>NaN</td>\n      <td>NaN</td>\n      <td>NaN</td>\n      <td>NaN</td>\n      <td>NaN</td>\n      <td>NaN</td>\n      <td>NaN</td>\n      <td>NaN</td>\n      <td>NaN</td>\n      <td>NaN</td>\n      <td>NaN</td>\n      <td>NaN</td>\n      <td>NaN</td>\n      <td>NaN</td>\n      <td>NaN</td>\n      <td>NaN</td>\n      <td>NaN</td>\n      <td>NaN</td>\n    </tr>\n    <tr>\n      <th>3</th>\n      <td>2013-01-01</td>\n      <td>1</td>\n      <td>BEVERAGES</td>\n      <td>0.0</td>\n      <td>0</td>\n      <td>13</td>\n      <td>Holiday</td>\n      <td>National</td>\n      <td>Primer dia del ano</td>\n      <td>False</td>\n      <td>93.14</td>\n      <td>1</td>\n      <td>1</td>\n      <td>1</td>\n      <td>1</td>\n      <td>1</td>\n      <td>2013</td>\n      <td>NaN</td>\n      <td>NaN</td>\n      <td>NaN</td>\n      <td>NaN</td>\n      <td>NaN</td>\n      <td>NaN</td>\n      <td>NaN</td>\n      <td>NaN</td>\n      <td>NaN</td>\n      <td>NaN</td>\n      <td>NaN</td>\n      <td>NaN</td>\n      <td>NaN</td>\n      <td>NaN</td>\n      <td>NaN</td>\n      <td>NaN</td>\n      <td>NaN</td>\n      <td>NaN</td>\n      <td>NaN</td>\n      <td>NaN</td>\n      <td>NaN</td>\n      <td>NaN</td>\n      <td>NaN</td>\n      <td>NaN</td>\n      <td>NaN</td>\n      <td>NaN</td>\n      <td>NaN</td>\n      <td>NaN</td>\n    </tr>\n    <tr>\n      <th>4</th>\n      <td>2013-01-01</td>\n      <td>1</td>\n      <td>BOOKS</td>\n      <td>0.0</td>\n      <td>0</td>\n      <td>13</td>\n      <td>Holiday</td>\n      <td>National</td>\n      <td>Primer dia del ano</td>\n      <td>False</td>\n      <td>93.14</td>\n      <td>1</td>\n      <td>1</td>\n      <td>1</td>\n      <td>1</td>\n      <td>1</td>\n      <td>2013</td>\n      <td>NaN</td>\n      <td>NaN</td>\n      <td>NaN</td>\n      <td>NaN</td>\n      <td>NaN</td>\n      <td>NaN</td>\n      <td>NaN</td>\n      <td>NaN</td>\n      <td>NaN</td>\n      <td>NaN</td>\n      <td>NaN</td>\n      <td>NaN</td>\n      <td>NaN</td>\n      <td>NaN</td>\n      <td>NaN</td>\n      <td>NaN</td>\n      <td>NaN</td>\n      <td>NaN</td>\n      <td>NaN</td>\n      <td>NaN</td>\n      <td>NaN</td>\n      <td>NaN</td>\n      <td>NaN</td>\n      <td>NaN</td>\n      <td>NaN</td>\n      <td>NaN</td>\n      <td>NaN</td>\n      <td>NaN</td>\n    </tr>\n    <tr>\n      <th>...</th>\n      <td>...</td>\n      <td>...</td>\n      <td>...</td>\n      <td>...</td>\n      <td>...</td>\n      <td>...</td>\n      <td>...</td>\n      <td>...</td>\n      <td>...</td>\n      <td>...</td>\n      <td>...</td>\n      <td>...</td>\n      <td>...</td>\n      <td>...</td>\n      <td>...</td>\n      <td>...</td>\n      <td>...</td>\n      <td>...</td>\n      <td>...</td>\n      <td>...</td>\n      <td>...</td>\n      <td>...</td>\n      <td>...</td>\n      <td>...</td>\n      <td>...</td>\n      <td>...</td>\n      <td>...</td>\n      <td>...</td>\n      <td>...</td>\n      <td>...</td>\n      <td>...</td>\n      <td>...</td>\n      <td>...</td>\n      <td>...</td>\n      <td>...</td>\n      <td>...</td>\n      <td>...</td>\n      <td>...</td>\n      <td>...</td>\n      <td>...</td>\n      <td>...</td>\n      <td>...</td>\n      <td>...</td>\n      <td>...</td>\n      <td>...</td>\n    </tr>\n    <tr>\n      <th>3082855</th>\n      <td>2017-08-31</td>\n      <td>9</td>\n      <td>POULTRY</td>\n      <td>NaN</td>\n      <td>1</td>\n      <td>6</td>\n      <td>NaN</td>\n      <td>NaN</td>\n      <td>NaN</td>\n      <td>NaN</td>\n      <td>47.26</td>\n      <td>8</td>\n      <td>31</td>\n      <td>243</td>\n      <td>35</td>\n      <td>3</td>\n      <td>2017</td>\n      <td>440.286253</td>\n      <td>285.071672</td>\n      <td>414.564259</td>\n      <td>382.439281</td>\n      <td>525.527382</td>\n      <td>292.185843</td>\n      <td>334.777782</td>\n      <td>569.180319</td>\n      <td>470.265980</td>\n      <td>552.106924</td>\n      <td>285.893724</td>\n      <td>414.565878</td>\n      <td>450.152182</td>\n      <td>457.222218</td>\n      <td>464.136157</td>\n      <td>445.718013</td>\n      <td>430.717553</td>\n      <td>430.717553</td>\n      <td>565.318991</td>\n      <td>423.935714</td>\n      <td>423.935714</td>\n      <td>560.611289</td>\n      <td>412.276337</td>\n      <td>412.276337</td>\n      <td>551.421713</td>\n      <td>392.438031</td>\n      <td>392.438031</td>\n      <td>518.514476</td>\n    </tr>\n    <tr>\n      <th>3082856</th>\n      <td>2017-08-31</td>\n      <td>9</td>\n      <td>PREPARED FOODS</td>\n      <td>NaN</td>\n      <td>0</td>\n      <td>6</td>\n      <td>NaN</td>\n      <td>NaN</td>\n      <td>NaN</td>\n      <td>NaN</td>\n      <td>47.26</td>\n      <td>8</td>\n      <td>31</td>\n      <td>243</td>\n      <td>35</td>\n      <td>3</td>\n      <td>2017</td>\n      <td>154.464227</td>\n      <td>115.130640</td>\n      <td>105.603103</td>\n      <td>130.437230</td>\n      <td>112.887273</td>\n      <td>113.037490</td>\n      <td>122.910312</td>\n      <td>47.104524</td>\n      <td>62.833953</td>\n      <td>73.104070</td>\n      <td>93.539926</td>\n      <td>131.055957</td>\n      <td>120.556862</td>\n      <td>119.136758</td>\n      <td>121.228460</td>\n      <td>101.024201</td>\n      <td>152.511953</td>\n      <td>152.511953</td>\n      <td>51.246066</td>\n      <td>150.443153</td>\n      <td>150.443153</td>\n      <td>52.444705</td>\n      <td>146.278339</td>\n      <td>146.278339</td>\n      <td>56.022566</td>\n      <td>134.243896</td>\n      <td>134.243896</td>\n      <td>72.911551</td>\n    </tr>\n    <tr>\n      <th>3082857</th>\n      <td>2017-08-31</td>\n      <td>9</td>\n      <td>PRODUCE</td>\n      <td>NaN</td>\n      <td>1</td>\n      <td>6</td>\n      <td>NaN</td>\n      <td>NaN</td>\n      <td>NaN</td>\n      <td>NaN</td>\n      <td>47.26</td>\n      <td>8</td>\n      <td>31</td>\n      <td>243</td>\n      <td>35</td>\n      <td>3</td>\n      <td>2017</td>\n      <td>2418.699828</td>\n      <td>1346.270948</td>\n      <td>1692.945294</td>\n      <td>1419.888770</td>\n      <td>1452.867717</td>\n      <td>1033.824435</td>\n      <td>1309.823978</td>\n      <td>2469.518448</td>\n      <td>1516.971516</td>\n      <td>1680.219832</td>\n      <td>1153.559497</td>\n      <td>1356.069536</td>\n      <td>1628.643495</td>\n      <td>1641.324032</td>\n      <td>1646.195464</td>\n      <td>1610.755255</td>\n      <td>2366.992548</td>\n      <td>2366.992548</td>\n      <td>2423.706728</td>\n      <td>2315.775659</td>\n      <td>2315.775659</td>\n      <td>2378.620204</td>\n      <td>2217.030205</td>\n      <td>2217.030205</td>\n      <td>2292.418673</td>\n      <td>1934.923106</td>\n      <td>1934.923106</td>\n      <td>2035.920473</td>\n    </tr>\n    <tr>\n      <th>3082858</th>\n      <td>2017-08-31</td>\n      <td>9</td>\n      <td>SCHOOL AND OFFICE SUPPLIES</td>\n      <td>NaN</td>\n      <td>9</td>\n      <td>6</td>\n      <td>NaN</td>\n      <td>NaN</td>\n      <td>NaN</td>\n      <td>NaN</td>\n      <td>47.26</td>\n      <td>8</td>\n      <td>31</td>\n      <td>243</td>\n      <td>35</td>\n      <td>3</td>\n      <td>2017</td>\n      <td>120.026127</td>\n      <td>179.430944</td>\n      <td>203.261489</td>\n      <td>141.452853</td>\n      <td>139.195377</td>\n      <td>147.362505</td>\n      <td>81.036723</td>\n      <td>204.974053</td>\n      <td>58.007038</td>\n      <td>2.443891</td>\n      <td>3.178916</td>\n      <td>83.880179</td>\n      <td>150.241550</td>\n      <td>146.957020</td>\n      <td>148.579514</td>\n      <td>87.565638</td>\n      <td>124.087264</td>\n      <td>124.087264</td>\n      <td>195.609900</td>\n      <td>127.218224</td>\n      <td>127.218224</td>\n      <td>188.128407</td>\n      <td>133.426673</td>\n      <td>133.426673</td>\n      <td>172.814546</td>\n      <td>148.242507</td>\n      <td>148.242507</td>\n      <td>122.237914</td>\n    </tr>\n    <tr>\n      <th>3082859</th>\n      <td>2017-08-31</td>\n      <td>9</td>\n      <td>SEAFOOD</td>\n      <td>NaN</td>\n      <td>0</td>\n      <td>6</td>\n      <td>NaN</td>\n      <td>NaN</td>\n      <td>NaN</td>\n      <td>NaN</td>\n      <td>47.26</td>\n      <td>8</td>\n      <td>31</td>\n      <td>243</td>\n      <td>35</td>\n      <td>3</td>\n      <td>2017</td>\n      <td>16.024741</td>\n      <td>14.702411</td>\n      <td>19.782910</td>\n      <td>16.110244</td>\n      <td>26.123418</td>\n      <td>13.466844</td>\n      <td>17.722665</td>\n      <td>20.634983</td>\n      <td>14.076824</td>\n      <td>27.471279</td>\n      <td>0.124489</td>\n      <td>18.692406</td>\n      <td>20.397236</td>\n      <td>16.263009</td>\n      <td>15.669963</td>\n      <td>18.115739</td>\n      <td>16.057148</td>\n      <td>16.057148</td>\n      <td>18.970154</td>\n      <td>16.127465</td>\n      <td>16.127465</td>\n      <td>18.664387</td>\n      <td>16.303197</td>\n      <td>16.303197</td>\n      <td>18.167376</td>\n      <td>17.058460</td>\n      <td>17.058460</td>\n      <td>17.242974</td>\n    </tr>\n  </tbody>\n</table>\n<p>3082860 rows × 45 columns</p>\n</div>"
     },
     "execution_count": 13,
     "metadata": {},
     "output_type": "execute_result"
    }
   ],
   "source": [
    "alphas = [0.95,0.9, 0.8, 0.5]\n",
    "lags =[1, 7,30]\n",
    "df = ewm_features(df, alphas, lags)\n",
    "df"
   ],
   "metadata": {
    "collapsed": false
   }
  },
  {
   "cell_type": "code",
   "execution_count": 14,
   "outputs": [],
   "source": [
    "df['sales'] = np.log1p(df[\"sales\"].values)"
   ],
   "metadata": {
    "collapsed": false
   }
  },
  {
   "cell_type": "code",
   "execution_count": 15,
   "id": "c5133681",
   "metadata": {
    "execution": {
     "iopub.execute_input": "2022-08-09T08:04:09.384871Z",
     "iopub.status.busy": "2022-08-09T08:04:09.384385Z",
     "iopub.status.idle": "2022-08-09T08:04:12.055915Z",
     "shell.execute_reply": "2022-08-09T08:04:12.054766Z"
    },
    "papermill": {
     "duration": 2.686041,
     "end_time": "2022-08-09T08:04:12.058807",
     "exception": false,
     "start_time": "2022-08-09T08:04:09.372766",
     "status": "completed"
    },
    "tags": []
   },
   "outputs": [],
   "source": [
    "df_all[\"family\"]=df_all[\"family\"].astype(\"category\")\n",
    "df_all[\"store_nbr\"]=df_all[\"store_nbr\"].astype(\"category\")\n",
    "df_all[\"city\"]=df_all[\"city\"].astype(\"category\")\n",
    "df_all[\"state\"]=df_all[\"state\"].astype(\"category\")\n",
    "df_all[\"type\"]=df_all[\"type\"].astype(\"category\")"
   ]
  },
  {
   "cell_type": "markdown",
   "id": "514f230d",
   "metadata": {
    "papermill": {
     "duration": 0.010183,
     "end_time": "2022-08-09T08:04:12.079229",
     "exception": false,
     "start_time": "2022-08-09T08:04:12.069046",
     "status": "completed"
    },
    "tags": []
   },
   "source": [
    "## Train Test Split"
   ]
  },
  {
   "cell_type": "code",
   "execution_count": 16,
   "outputs": [
    {
     "data": {
      "text/plain": "              Date store_nbr                      family  sales  onpromotion  cluster Holiday_type locale description transferred  dcoilwtico  month  day_of_month  day_of_year  week_of_year  day_of_week  year  sales_lag_16  sales_lag_17  sales_lag_18  sales_lag_19  sales_lag_20  sales_lag_21  sales_lag_22  sales_lag_30  sales_lag_31  sales_lag_90  sales_lag_180  sales_lag_365  sales_roll_mean_16  sales_roll_mean_17  sales_roll_mean_18  sales_roll_mean_30  sales_ewm_alpha_095_lag_1  \\\n3082810 2017-08-31         8         HOME AND KITCHEN II    NaN            3        8          NaN    NaN         NaN         NaN       47.26      8            31          243            35            3  2017     40.156689     41.066961     56.305173     48.917498     44.540971     42.389204     79.774128     73.637731     58.629765     46.077693      51.070861      53.175601           49.387188           47.949480           50.409579           58.299419               3.529349e+01   \n3082811 2017-08-31         8             HOME APPLIANCES    NaN            0        8          NaN    NaN         NaN         NaN       47.26      8            31          243            35            3  2017     -0.826854      3.661673      1.734095      1.531661     -1.288114      5.372727     -0.813358     -1.747601     -1.265223      2.830402       3.504800       0.617510           -4.827216           -3.522299            1.408156           -0.280100               4.656088e-41   \n3082812 2017-08-31         8                   HOME CARE    NaN            1        8          NaN    NaN         NaN         NaN       47.26      8            31          243            35            3  2017    322.510984    323.290050    347.306175    292.919165    308.098818    247.329677    271.816875    409.552791    419.443980    439.154771     361.845183     430.317395          331.522472          339.995993          348.780487          366.305454               3.211531e+02   \n3082813 2017-08-31         8                  LADIESWEAR    NaN            0        8          NaN    NaN         NaN         NaN       47.26      8            31          243            35            3  2017     32.987113     23.154402     33.743559     40.656262     25.383399     16.173136     22.765187     58.334837     32.414534     27.608350      52.949179      36.069470           26.284980           28.027220           29.562963           32.731675               3.066641e+01   \n3082814 2017-08-31         8             LAWN AND GARDEN    NaN            0        8          NaN    NaN         NaN         NaN       47.26      8            31          243            35            3  2017     37.212134     30.566713     37.205239     31.308492     36.640405     39.057097     51.441051     22.505738     19.386599     22.495245      79.658124      19.507476           33.935347           36.298218           35.120795           33.103264               3.771676e+01   \n3082815 2017-08-31         8                    LINGERIE    NaN            1        8          NaN    NaN         NaN         NaN       47.26      8            31          243            35            3  2017     18.595660     23.407467     19.295992     21.830133     23.523370     35.145045      4.844589     53.662808     11.814510     24.175731      33.275634      26.878473           21.370558           20.891443           23.047521           22.416775               2.009490e+01   \n3082816 2017-08-31         8            LIQUOR_WINE_BEER    NaN            2        8          NaN    NaN         NaN         NaN       47.26      8            31          243            35            3  2017    142.669981     79.866171     97.414747    203.700815    226.236356    193.957092    127.307613    101.885818    110.932367     80.616999     105.104620     153.463459          146.389128          146.005358          148.365340          144.498218               1.389109e+02   \n3082817 2017-08-31         8                   MAGAZINES    NaN            0        8          NaN    NaN         NaN         NaN       47.26      8            31          243            35            3  2017     22.349206     11.666452     21.814889     28.290097      9.033496     18.485238     24.730941     11.233376     16.420554     19.111018       7.042965      14.342810           21.315957           27.101061           20.711998           18.732159               1.962588e+01   \n3082818 2017-08-31         8                       MEATS    NaN            0        8          NaN    NaN         NaN         NaN       47.26      8            31          243            35            3  2017    362.361485    425.677407    420.826390    387.743966    513.846551    368.534904    403.001433    487.311424    416.172925    455.166531     395.011038     394.341161          444.074181          449.299373          452.487640          485.471210               3.628415e+02   \n3082819 2017-08-31         8               PERSONAL CARE    NaN            9        8          NaN    NaN         NaN         NaN       47.26      8            31          243            35            3  2017    309.718654    451.222912    435.497364    353.944712    327.767290    269.514267    260.289422    371.471331    309.589465    425.969558     312.919423     364.358774          332.376701          329.728138          338.573474          340.011629               3.197618e+02   \n3082820 2017-08-31         8                PET SUPPLIES    NaN            0        8          NaN    NaN         NaN         NaN       47.26      8            31          243            35            3  2017     12.093844     11.929773     32.547457     19.262807     16.828809     14.830171     17.404417     13.163128     13.783560     16.270350      11.503104      14.468874           21.685062           19.676048           18.008650           20.379882               1.115085e+01   \n3082821 2017-08-31         8     PLAYERS AND ELECTRONICS    NaN            0        8          NaN    NaN         NaN         NaN       47.26      8            31          243            35            3  2017     23.440970     25.906434     23.642545     24.648984     13.896849      6.497661     22.362874     25.635255     29.009039     16.036759      18.154524      20.084936           20.373473           16.961801           19.041209           22.197983               2.223794e+01   \n3082822 2017-08-31         8                     POULTRY    NaN            0        8          NaN    NaN         NaN         NaN       47.26      8            31          243            35            3  2017    548.277600    610.999771    620.518773    578.383944    774.456636    440.337016    480.866523    541.699841    614.894117    732.434257     596.856450     602.816390          595.234621          602.670059          612.642638          639.032483               5.521358e+02   \n3082823 2017-08-31         8              PREPARED FOODS    NaN            0        8          NaN    NaN         NaN         NaN       47.26      8            31          243            35            3  2017    147.398871    152.433911    172.968833    140.533833    113.396937    156.808106    146.466823    109.098531    155.504451    153.734249     145.311451     196.819308          146.593064          149.185177          154.001555          153.283123               1.442401e+02   \n3082824 2017-08-31         8                     PRODUCE    NaN            3        8          NaN    NaN         NaN         NaN       47.26      8            31          243            35            3  2017   3936.529112   4418.485147   5078.844399   4230.596442   3860.411012   3117.962967   5885.488992   4218.725311   4616.230489   4488.472191    6834.207452    4133.123144         4518.872812         4574.714397         4619.970844         4762.607245               3.964842e+03   \n3082825 2017-08-31         8  SCHOOL AND OFFICE SUPPLIES    NaN            0        8          NaN    NaN         NaN         NaN       47.26      8            31          243            35            3  2017     -1.060798      0.840626      0.338150     -1.560227      5.266117     -0.706067      0.500896     -1.441607      2.708106     -0.524936       2.692469       1.782024            4.808218           -1.601622            4.820145            3.368999               4.751189e-02   \n3082826 2017-08-31         8                     SEAFOOD    NaN            1        8          NaN    NaN         NaN         NaN       47.26      8            31          243            35            3  2017     21.336326     31.071807     35.505216     22.352299     51.383090     31.085683     37.880707     29.523428     48.580952     30.786466      50.394896      54.239498           39.114288           36.964599           38.360189           44.915467               2.383005e+01   \n3082827 2017-08-31         9                  AUTOMOTIVE    NaN            0        6          NaN    NaN         NaN         NaN       47.26      8            31          243            35            3  2017     13.060697      9.555296     11.956544      8.641620     18.962221     14.563548     12.053920     14.607130      7.254914      9.722888      10.188637       5.460460           12.156663           14.240070           12.885208           17.972297               1.466669e+01   \n3082828 2017-08-31         9                   BABY CARE    NaN            0        6          NaN    NaN         NaN         NaN       47.26      8            31          243            35            3  2017      1.023971      1.000986     -0.954896      4.240329      4.402871     -1.518861      4.950349      1.550731      1.667824     -0.075536       1.698730       3.585535            1.893713           -0.874461            0.064307           -0.412245               5.967191e-06   \n3082829 2017-08-31         9                      BEAUTY    NaN            1        6          NaN    NaN         NaN         NaN       47.26      8            31          243            35            3  2017      8.592246      5.530792     16.028446     10.438075      4.203812     14.838207     12.554504      8.604633      6.227203     14.732968       7.375901       6.547622           11.922962            6.942740            9.315193            6.539188               9.727316e+00   \n3082830 2017-08-31         9                   BEVERAGES    NaN           28        6          NaN    NaN         NaN         NaN       47.26      8            31          243            35            3  2017   3528.061331   3368.491131   3748.550690   3376.565564   2621.190454   2464.993286   2685.555546   4817.394669   3852.138664   4614.450395    2659.361970    3950.063628         3718.575302         3787.218481         3854.340069         3721.433812               3.522760e+03   \n3082831 2017-08-31         9                       BOOKS    NaN            0        6          NaN    NaN         NaN         NaN       47.26      8            31          243            35            3  2017     -2.464354     -1.512387     -3.050844      1.038870      1.417413      5.246187     -2.253729     -0.022537     -1.148515     -0.589694      -0.026089      -1.258103           -1.012633           -1.313319            0.749747            1.518582               0.000000e+00   \n3082832 2017-08-31         9                BREAD/BAKERY    NaN            3        6          NaN    NaN         NaN         NaN       47.26      8            31          243            35            3  2017    529.758984    447.780697    489.312818    457.485640    386.512766    307.353691    425.974432    648.151989    621.791280    651.966499     527.209878     637.965515          479.136800          494.889070          498.822200          526.615701               5.240410e+02   \n3082833 2017-08-31         9                 CELEBRATION    NaN            0        6          NaN    NaN         NaN         NaN       47.26      8            31          243            35            3  2017     14.537741      7.922828     13.306199     15.047409      9.642925     16.034062     18.956655     18.086309     10.529729      7.324686       8.725961       6.339943           15.708029           17.881275           17.794248           15.645759               1.579833e+01   \n3082834 2017-08-31         9                    CLEANING    NaN           21        6          NaN    NaN         NaN         NaN       47.26      8            31          243            35            3  2017   1438.360649   1431.377184   1652.125094   1339.965671   1491.961583   1085.924011   1316.237247   4336.030338   2861.623030   2166.816165    1434.577364    1921.845814         1746.849209         1842.313558         1897.077118         1923.569271               1.439027e+03   \n3082835 2017-08-31         9                       DAIRY    NaN           10        6          NaN    NaN         NaN         NaN       47.26      8            31          243            35            3  2017    837.850102    747.311325    795.416829    765.986440    738.021406    553.902944    685.491999    946.886921    862.786599   1086.616183     803.607392     936.270366          822.600151          837.593139          845.673734          824.499380               8.306688e+02   \n3082836 2017-08-31         9                        DELI    NaN           10        6          NaN    NaN         NaN         NaN       47.26      8            31          243            35            3  2017    550.421811    496.385050    502.166088    480.179853    634.540612    419.457896    455.088666    693.159869    615.138370    610.487746     409.043522     649.311550          576.297959          579.991087          589.774645          566.500717               5.488467e+02   \n3082837 2017-08-31         9                        EGGS    NaN            1        6          NaN    NaN         NaN         NaN       47.26      8            31          243            35            3  2017    243.401653    275.487779    160.054216    163.437445    107.197586    120.993865    122.266432    252.596793    351.168417    392.352012     108.890192     282.381914          200.510502          212.392539          214.893283          217.503955               2.453599e+02   \n3082838 2017-08-31         9                FROZEN FOODS    NaN            0        6          NaN    NaN         NaN         NaN       47.26      8            31          243            35            3  2017    133.109106     76.689274     60.227122    133.922537    133.235065    111.236591    116.282800    112.552930     72.701592    111.988695      74.597964     114.669113          122.613848          122.201334          124.015567          113.791596               1.305400e+02   \n3082839 2017-08-31         9                   GROCERY I    NaN           91        6          NaN    NaN         NaN         NaN       47.26      8            31          243            35            3  2017   6629.856135   5859.331608   6716.433488   6685.179113   5880.561626   4895.330804   5791.580188   9824.007717   7679.182524   8365.095369    5801.035022    7772.082434         7079.314847         7227.200580         7333.775293         6995.190727               6.594021e+03   \n3082840 2017-08-31         9                  GROCERY II    NaN            0        6          NaN    NaN         NaN         NaN       47.26      8            31          243            35            3  2017      8.475430      5.419059      9.603541     23.002507     14.337306      8.729758      6.223917     16.338462     13.385187     10.435130       4.677918      10.146350            7.606812           11.605249            6.511340           12.600158               8.861092e+00   \n3082841 2017-08-31         9                    HARDWARE    NaN            0        6          NaN    NaN         NaN         NaN       47.26      8            31          243            35            3  2017      0.951300     -0.753735      4.559208      5.522284     -1.452535      1.711387     -0.971440      4.183164      1.435674     -1.223270      -3.355041       3.055754           -0.363408            1.106698           -0.733862            0.801849               1.004982e+00   \n3082842 2017-08-31         9          HOME AND KITCHEN I    NaN            1        6          NaN    NaN         NaN         NaN       47.26      8            31          243            35            3  2017     64.397553     43.742874     57.271059     58.528195     75.735894     52.615741     39.277535     61.771051     74.972597     47.415381      40.812699      51.895422           50.610690           51.153502           52.296360           49.198246               6.289248e+01   \n3082843 2017-08-31         9         HOME AND KITCHEN II    NaN            2        6          NaN    NaN         NaN         NaN       47.26      8            31          243            35            3  2017     61.403131     41.636844     65.747318     58.031981     33.344878     26.789810     28.835033     62.520836     37.837320     34.574741      20.318051      27.316970           44.273047           44.581388           48.517650           43.278951               6.015172e+01   \n3082844 2017-08-31         9             HOME APPLIANCES    NaN            0        6          NaN    NaN         NaN         NaN       47.26      8            31          243            35            3  2017      1.129806     -1.818421      0.472735      0.835713     -2.707942      1.627291      1.891558     -1.088280      1.151455      1.147783      -0.441137      -3.478624           -0.016175            3.730045           -0.848870           -0.914700               4.423785e-41   \n3082845 2017-08-31         9                   HOME CARE    NaN            7        6          NaN    NaN         NaN         NaN       47.26      8            31          243            35            3  2017    372.089523    358.237818    459.693446    407.493553    344.123115    285.100075    362.062843    590.591219    447.906205    502.368049     406.008367     529.978123          423.107705          429.499392          439.351186          428.375010               3.723557e+02   \n3082846 2017-08-31         9                  LADIESWEAR    NaN            0        6          NaN    NaN         NaN         NaN       47.26      8            31          243            35            3  2017     10.098855      4.870088     11.297181      3.691724      4.640483      2.838043      3.716450     17.736992      7.579437     18.991382       2.670636      21.461363           11.455594            8.612664           13.997716           15.078437               9.818874e+00   \n3082847 2017-08-31         9             LAWN AND GARDEN    NaN            0        6          NaN    NaN         NaN         NaN       47.26      8            31          243            35            3  2017     12.115984      9.217492      6.248831      5.832753      0.576718      6.176922      4.661428     16.738360      5.613066      4.186269       4.838391       4.093629            5.590326            7.210876            5.171250            7.202746               1.084474e+01   \n3082848 2017-08-31         9                    LINGERIE    NaN            2        6          NaN    NaN         NaN         NaN       47.26      8            31          243            35            3  2017      5.640101      6.452890     28.904035     10.643453      9.047387      3.681906      8.675360     16.892558     13.230061     15.292463       0.200825       6.966525            8.992738           11.866646           10.012929            9.082690               5.955480e+00   \n3082849 2017-08-31         9            LIQUOR_WINE_BEER    NaN            1        6          NaN    NaN         NaN         NaN       47.26      8            31          243            35            3  2017     24.036112     53.212640     34.667479    130.120298    102.782074     60.454987     48.412866     45.084833     32.166935     28.516764      26.064628      13.429592           58.300833           58.149571           58.341136           55.041166               2.628106e+01   \n3082850 2017-08-31         9                   MAGAZINES    NaN            0        6          NaN    NaN         NaN         NaN       47.26      8            31          243            35            3  2017     12.829037      9.107979      2.556057      1.008635      5.434071      0.886570      4.535657      5.491287      4.720694      1.727524       2.880376       2.869782            3.779455            3.480626            2.849783            2.223019               1.102739e+01   \n3082851 2017-08-31         9                       MEATS    NaN           20        6          NaN    NaN         NaN         NaN       47.26      8            31          243            35            3  2017    447.856457    329.738934    327.564381    258.251514    307.485869    483.681428    327.828147    488.894876    357.738270    365.928578     299.963179     252.849256          370.827824          374.535374          376.896110          388.421379               4.432979e+02   \n3082852 2017-08-31         9               PERSONAL CARE    NaN           14        6          NaN    NaN         NaN         NaN       47.26      8            31          243            35            3  2017    521.054837    448.750589    510.987543    400.808250    373.623063    328.279568    402.029803    851.988531    467.368742    641.114276     370.532644     558.398399          498.134903          504.690431          510.828875          487.964714               5.182986e+02   \n3082853 2017-08-31         9                PET SUPPLIES    NaN            0        6          NaN    NaN         NaN         NaN       47.26      8            31          243            35            3  2017      6.850041      1.313851     -1.142526      7.901789      8.559005      9.978879      2.935916      5.525995     12.316616     17.599933       9.017399       8.463553           12.254136            7.487995            7.609871            4.669471               5.800650e+00   \n3082854 2017-08-31         9     PLAYERS AND ELECTRONICS    NaN            0        6          NaN    NaN         NaN         NaN       47.26      8            31          243            35            3  2017      6.371470     12.949672      9.528495     11.160779      4.031669      3.435768      0.233982     11.406923      6.763677     12.514466      14.454607       9.043600            7.851902            6.525510            8.380789            9.436916               6.387576e+00   \n3082855 2017-08-31         9                     POULTRY    NaN            1        6          NaN    NaN         NaN         NaN       47.26      8            31          243            35            3  2017    440.286253    285.071672    414.564259    382.439281    525.527382    292.185843    334.777782    569.180319    470.265980    552.106924     285.893724     414.565878          450.152182          457.222218          464.136157          445.718013               4.307176e+02   \n3082856 2017-08-31         9              PREPARED FOODS    NaN            0        6          NaN    NaN         NaN         NaN       47.26      8            31          243            35            3  2017    154.464227    115.130640    105.603103    130.437230    112.887273    113.037490    122.910312     47.104524     62.833953     73.104070      93.539926     131.055957          120.556862          119.136758          121.228460          101.024201               1.525120e+02   \n3082857 2017-08-31         9                     PRODUCE    NaN            1        6          NaN    NaN         NaN         NaN       47.26      8            31          243            35            3  2017   2418.699828   1346.270948   1692.945294   1419.888770   1452.867717   1033.824435   1309.823978   2469.518448   1516.971516   1680.219832    1153.559497    1356.069536         1628.643495         1641.324032         1646.195464         1610.755255               2.366993e+03   \n3082858 2017-08-31         9  SCHOOL AND OFFICE SUPPLIES    NaN            9        6          NaN    NaN         NaN         NaN       47.26      8            31          243            35            3  2017    120.026127    179.430944    203.261489    141.452853    139.195377    147.362505     81.036723    204.974053     58.007038      2.443891       3.178916      83.880179          150.241550          146.957020          148.579514           87.565638               1.240873e+02   \n3082859 2017-08-31         9                     SEAFOOD    NaN            0        6          NaN    NaN         NaN         NaN       47.26      8            31          243            35            3  2017     16.024741     14.702411     19.782910     16.110244     26.123418     13.466844     17.722665     20.634983     14.076824     27.471279       0.124489      18.692406           20.397236           16.263009           15.669963           18.115739               1.605715e+01   \n\n         sales_ewm_alpha_095_lag_7  sales_ewm_alpha_095_lag_30  sales_ewm_alpha_09_lag_1  sales_ewm_alpha_09_lag_7  sales_ewm_alpha_09_lag_30  sales_ewm_alpha_08_lag_1  sales_ewm_alpha_08_lag_7  sales_ewm_alpha_08_lag_30  sales_ewm_alpha_05_lag_1  sales_ewm_alpha_05_lag_7  sales_ewm_alpha_05_lag_30  \n3082810               3.529349e+01                7.316181e+01              3.566790e+01              3.566790e+01               7.225413e+01              3.662334e+01              3.662334e+01               7.027539e+01              4.063691e+01              4.063691e+01                  65.150399  \n3082811               4.656088e-41                7.628534e-23              9.991903e-32              9.991903e-32               9.991903e-18              2.136561e-22              2.136561e-22               1.304053e-12              4.589856e-10              4.589856e-10                   0.000008  \n3082812               3.211531e+02                4.077318e+02              3.213853e+02              3.213853e+02               4.087079e+02              3.219243e+02              3.219243e+02               4.111996e+02              3.210918e+02              3.210918e+02                 415.581349  \n3082813               3.066641e+01                5.661456e+01              3.037050e+01              3.037050e+01               5.525588e+01              2.991039e+01              2.991039e+01               5.259779e+01              2.935434e+01              2.935434e+01                  44.426960  \n3082814               3.771676e+01                2.575331e+01              3.746424e+01              3.746424e+01               2.561593e+01              3.703660e+01              3.703660e+01               2.567697e+01              3.625075e+01              3.625075e+01                  28.333893  \n3082815               2.009490e+01                5.206349e+01              2.017941e+01              2.017941e+01               5.015770e+01              2.031951e+01              2.031951e+01               4.645637e+01              2.065651e+01              2.065651e+01                  36.215336  \n3082816               1.389109e+02                1.024177e+02              1.359979e+02              1.359979e+02               1.029289e+02              1.310298e+02              1.310298e+02               1.045365e+02              1.277252e+02              1.277252e+02                 116.511782  \n3082817               1.962588e+01                1.025451e+01              1.930618e+01              1.930618e+01               1.051619e+01              1.883637e+01              1.883637e+01               1.105231e+01              1.864696e+01              1.864696e+01                  12.763469  \n3082818               3.628415e+02                4.844917e+02              3.662413e+02              3.662413e+02               4.811491e+02              3.728918e+02              3.728918e+02               4.756194e+02              3.921512e+02              3.921512e+02                 475.318558  \n3082819               3.197618e+02                3.683703e+02              3.264025e+02              3.264025e+02               3.665363e+02              3.390230e+02              3.390230e+02               3.649071e+02              3.643129e+02              3.643129e+02                 366.141351  \n3082820               1.115085e+01                1.708641e+01              1.139658e+01              1.139658e+01               1.724050e+01              1.212917e+01              1.212917e+01               1.771181e+01              1.536849e+01              1.536849e+01                  19.363304  \n3082821               2.223794e+01                2.799021e+01              2.245305e+01              2.245305e+01               2.796130e+01              2.281618e+01              2.281618e+01               2.784334e+01              2.311039e+01              2.311039e+01                  26.611546  \n3082822               5.521358e+02                5.447908e+02              5.553093e+02              5.553093e+02               5.496488e+02              5.617160e+02              5.617160e+02               5.620603e+02              5.800491e+02              5.800491e+02                 616.988315  \n3082823               1.442401e+02                1.126362e+02              1.448546e+02              1.448546e+02               1.151067e+02              1.462213e+02              1.462213e+02               1.202649e+02              1.492183e+02              1.492183e+02                 136.004025  \n3082824               3.964842e+03                4.245344e+03              3.992932e+03              3.992932e+03               4.275404e+03              4.054037e+03              4.054037e+03               4.352873e+03              4.220969e+03              4.220969e+03                4633.219978  \n3082825               4.751189e-02                5.225594e-02              9.018109e-02              9.018109e-02               1.080900e-01              1.626370e-01              1.626370e-01               2.252800e-01              3.414021e-01              3.414021e-01                   0.531616  \n3082826               2.383005e+01                3.206539e+01              2.433450e+01              2.433450e+01               3.311854e+01              2.534651e+01              2.534651e+01               3.513639e+01              2.850658e+01              2.850658e+01                  40.449832  \n3082827               1.466669e+01                1.487194e+01              1.436397e+01              1.436397e+01               1.478502e+01              1.383887e+01              1.383887e+01               1.471277e+01              1.286150e+01              1.286150e+01                  14.744782  \n3082828               5.967191e-06                4.750000e-03              9.180207e-05              9.180207e-05               1.800000e-02              1.383465e-03              1.383465e-03               6.400000e-02              5.030823e-02              5.030823e-02                   0.250001  \n3082829               9.727316e+00                6.805362e+00              9.508105e+00              9.508105e+00               6.622787e+00              9.219255e+00              9.219255e+00               6.300325e+00              9.289655e+00              9.289655e+00                   5.703986  \n3082830               3.522760e+03                4.771897e+03              3.517095e+03              3.517095e+03               4.732610e+03              3.508544e+03              3.508544e+03               4.668123e+03              3.459010e+03              3.459010e+03                4474.676710  \n3082831               0.000000e+00                0.000000e+00              0.000000e+00              0.000000e+00               0.000000e+00              0.000000e+00              0.000000e+00               0.000000e+00              0.000000e+00              0.000000e+00                   0.000000  \n3082832               5.240410e+02                6.419953e+02              5.202443e+02              5.202443e+02               6.412145e+02              5.129671e+02              5.129671e+02               6.398304e+02              4.891698e+02              4.891698e+02                 624.773363  \n3082833               1.579833e+01                1.955729e+01              1.559626e+01              1.559626e+01               1.913752e+01              1.520534e+01              1.520534e+01               1.840723e+01              1.435207e+01              1.435207e+01                  17.319361  \n3082834               1.439027e+03                4.259111e+03              1.439958e+03              1.439958e+03               4.179024e+03              1.443661e+03              1.443661e+03               4.005183e+03              1.454462e+03              1.454462e+03                3337.279746  \n3082835               8.306688e+02                9.432080e+02              8.265574e+02              8.265574e+02               9.402723e+02              8.188406e+02              8.188406e+02               9.363552e+02              7.950327e+02              7.950327e+02                 919.559293  \n3082836               5.488467e+02                6.912501e+02              5.460195e+02              5.460195e+02               6.873016e+02              5.405184e+02              5.405184e+02               6.791955e+02              5.264810e+02              5.264810e+02                 646.078364  \n3082837               2.453599e+02                2.588226e+02              2.461365e+02              2.461365e+02               2.631551e+02              2.458916e+02              2.458916e+02               2.700799e+02              2.297095e+02              2.297095e+02                 270.723576  \n3082838               1.305400e+02                1.121079e+02              1.273549e+02              1.273549e+02               1.104388e+02              1.212305e+02              1.212305e+02               1.077910e+02              1.080420e+02              1.080420e+02                 104.659047  \n3082839               6.594021e+03                9.717034e+03              6.561813e+03              6.561813e+03               9.612225e+03              6.508743e+03              6.508743e+03               9.404046e+03              6.398325e+03              6.398325e+03                8657.250476  \n3082840               8.861092e+00                1.680510e+01              8.748447e+00              8.748447e+00               1.662960e+01              8.622218e+00              8.622218e+00               1.637749e+01              9.143218e+00              9.143218e+00                  16.491881  \n3082841               1.004982e+00                2.045118e+00              1.019710e+00              1.019710e+00               2.080893e+00              1.075524e+00              1.075524e+00               2.126234e+00              1.348758e+00              1.348758e+00                   2.055959  \n3082842               6.289248e+01                6.437491e+01              6.187054e+01              6.187054e+01               6.460760e+01              6.009227e+01              6.009227e+01               6.467422e+01              5.690390e+01              5.690390e+01                  61.488592  \n3082843               6.015172e+01                6.072063e+01              5.940254e+01              5.940254e+01               5.957410e+01              5.815960e+01              5.815960e+01               5.761645e+01              5.500865e+01              5.500865e+01                  52.721021  \n3082844               4.423785e-41                7.247930e-23              9.000198e-32              9.000198e-32               9.000198e-18              1.719306e-22              1.719306e-22               1.049381e-12              2.547726e-10              2.547726e-10                   0.000004  \n3082845               3.723557e+02                5.856849e+02              3.721919e+02              3.721919e+02               5.783227e+02              3.730720e+02              3.730720e+02               5.632781e+02              3.796184e+02              3.796184e+02                 509.467712  \n3082846               9.818874e+00                1.558396e+01              9.670967e+00              9.670967e+00               1.514131e+01              9.447196e+00              9.447196e+00               1.420533e+01              8.903046e+00              8.903046e+00                  11.502600  \n3082847               1.084474e+01                1.454523e+01              1.067793e+01              1.067793e+01               1.408171e+01              1.030315e+01              1.030315e+01               1.313174e+01              8.733469e+00              8.733469e+00                  10.148534  \n3082848               5.955480e+00                1.388235e+01              6.013674e+00              6.013674e+00               1.372864e+01              6.386475e+00              6.386475e+00               1.330712e+01              8.516787e+00              8.516787e+00                  11.035460  \n3082849               2.628106e+01                4.431233e+01              2.756675e+01              2.756675e+01               4.377517e+01              3.038059e+01              3.038059e+01               4.326383e+01              4.299006e+01              4.299006e+01                  46.202369  \n3082850               1.102739e+01                2.904887e+00              1.100928e+01              1.100928e+01               2.819199e+00              1.083625e+01              1.083625e+01               2.675107e+00              9.256011e+00              9.256011e+00                   2.476670  \n3082851               4.432979e+02                4.848012e+02              4.373046e+02              4.373046e+02               4.785795e+02              4.250153e+02              4.250153e+02               4.669076e+02              3.868890e+02              3.868890e+02                 435.755581  \n3082852               5.182986e+02                8.329028e+02              5.148369e+02              5.148369e+02               8.141737e+02              5.082683e+02              5.082683e+02               7.774864e+02              4.849796e+02              4.849796e+02                 662.988427  \n3082853               5.800650e+00                8.154856e+00              5.605394e+00              5.605394e+00               8.318680e+00              5.246017e+00              5.246017e+00               8.666562e+00              4.794777e+00              4.794777e+00                   9.625440  \n3082854               6.387576e+00                6.916631e+00              6.750220e+00              6.750220e+00               6.863095e+00              7.395837e+00              7.395837e+00               6.825558e+00              8.453062e+00              8.453062e+00                   6.962862  \n3082855               4.307176e+02                5.653190e+02              4.239357e+02              4.239357e+02               5.606113e+02              4.122763e+02              4.122763e+02               5.514217e+02              3.924380e+02              3.924380e+02                 518.514476  \n3082856               1.525120e+02                5.124607e+01              1.504432e+02              1.504432e+02               5.244471e+01              1.462783e+02              1.462783e+02               5.602257e+01              1.342439e+02              1.342439e+02                  72.911551  \n3082857               2.366993e+03                2.423707e+03              2.315776e+03              2.315776e+03               2.378620e+03              2.217030e+03              2.217030e+03               2.292419e+03              1.934923e+03              1.934923e+03                2035.920473  \n3082858               1.240873e+02                1.956099e+02              1.272182e+02              1.272182e+02               1.881284e+02              1.334267e+02              1.334267e+02               1.728145e+02              1.482425e+02              1.482425e+02                 122.237914  \n3082859               1.605715e+01                1.897015e+01              1.612746e+01              1.612746e+01               1.866439e+01              1.630320e+01              1.630320e+01               1.816738e+01              1.705846e+01              1.705846e+01                  17.242974  ",
      "text/html": "<div>\n<style scoped>\n    .dataframe tbody tr th:only-of-type {\n        vertical-align: middle;\n    }\n\n    .dataframe tbody tr th {\n        vertical-align: top;\n    }\n\n    .dataframe thead th {\n        text-align: right;\n    }\n</style>\n<table border=\"1\" class=\"dataframe\">\n  <thead>\n    <tr style=\"text-align: right;\">\n      <th></th>\n      <th>Date</th>\n      <th>store_nbr</th>\n      <th>family</th>\n      <th>sales</th>\n      <th>onpromotion</th>\n      <th>cluster</th>\n      <th>Holiday_type</th>\n      <th>locale</th>\n      <th>description</th>\n      <th>transferred</th>\n      <th>dcoilwtico</th>\n      <th>month</th>\n      <th>day_of_month</th>\n      <th>day_of_year</th>\n      <th>week_of_year</th>\n      <th>day_of_week</th>\n      <th>year</th>\n      <th>sales_lag_16</th>\n      <th>sales_lag_17</th>\n      <th>sales_lag_18</th>\n      <th>sales_lag_19</th>\n      <th>sales_lag_20</th>\n      <th>sales_lag_21</th>\n      <th>sales_lag_22</th>\n      <th>sales_lag_30</th>\n      <th>sales_lag_31</th>\n      <th>sales_lag_90</th>\n      <th>sales_lag_180</th>\n      <th>sales_lag_365</th>\n      <th>sales_roll_mean_16</th>\n      <th>sales_roll_mean_17</th>\n      <th>sales_roll_mean_18</th>\n      <th>sales_roll_mean_30</th>\n      <th>sales_ewm_alpha_095_lag_1</th>\n      <th>sales_ewm_alpha_095_lag_7</th>\n      <th>sales_ewm_alpha_095_lag_30</th>\n      <th>sales_ewm_alpha_09_lag_1</th>\n      <th>sales_ewm_alpha_09_lag_7</th>\n      <th>sales_ewm_alpha_09_lag_30</th>\n      <th>sales_ewm_alpha_08_lag_1</th>\n      <th>sales_ewm_alpha_08_lag_7</th>\n      <th>sales_ewm_alpha_08_lag_30</th>\n      <th>sales_ewm_alpha_05_lag_1</th>\n      <th>sales_ewm_alpha_05_lag_7</th>\n      <th>sales_ewm_alpha_05_lag_30</th>\n    </tr>\n  </thead>\n  <tbody>\n    <tr>\n      <th>3082810</th>\n      <td>2017-08-31</td>\n      <td>8</td>\n      <td>HOME AND KITCHEN II</td>\n      <td>NaN</td>\n      <td>3</td>\n      <td>8</td>\n      <td>NaN</td>\n      <td>NaN</td>\n      <td>NaN</td>\n      <td>NaN</td>\n      <td>47.26</td>\n      <td>8</td>\n      <td>31</td>\n      <td>243</td>\n      <td>35</td>\n      <td>3</td>\n      <td>2017</td>\n      <td>40.156689</td>\n      <td>41.066961</td>\n      <td>56.305173</td>\n      <td>48.917498</td>\n      <td>44.540971</td>\n      <td>42.389204</td>\n      <td>79.774128</td>\n      <td>73.637731</td>\n      <td>58.629765</td>\n      <td>46.077693</td>\n      <td>51.070861</td>\n      <td>53.175601</td>\n      <td>49.387188</td>\n      <td>47.949480</td>\n      <td>50.409579</td>\n      <td>58.299419</td>\n      <td>3.529349e+01</td>\n      <td>3.529349e+01</td>\n      <td>7.316181e+01</td>\n      <td>3.566790e+01</td>\n      <td>3.566790e+01</td>\n      <td>7.225413e+01</td>\n      <td>3.662334e+01</td>\n      <td>3.662334e+01</td>\n      <td>7.027539e+01</td>\n      <td>4.063691e+01</td>\n      <td>4.063691e+01</td>\n      <td>65.150399</td>\n    </tr>\n    <tr>\n      <th>3082811</th>\n      <td>2017-08-31</td>\n      <td>8</td>\n      <td>HOME APPLIANCES</td>\n      <td>NaN</td>\n      <td>0</td>\n      <td>8</td>\n      <td>NaN</td>\n      <td>NaN</td>\n      <td>NaN</td>\n      <td>NaN</td>\n      <td>47.26</td>\n      <td>8</td>\n      <td>31</td>\n      <td>243</td>\n      <td>35</td>\n      <td>3</td>\n      <td>2017</td>\n      <td>-0.826854</td>\n      <td>3.661673</td>\n      <td>1.734095</td>\n      <td>1.531661</td>\n      <td>-1.288114</td>\n      <td>5.372727</td>\n      <td>-0.813358</td>\n      <td>-1.747601</td>\n      <td>-1.265223</td>\n      <td>2.830402</td>\n      <td>3.504800</td>\n      <td>0.617510</td>\n      <td>-4.827216</td>\n      <td>-3.522299</td>\n      <td>1.408156</td>\n      <td>-0.280100</td>\n      <td>4.656088e-41</td>\n      <td>4.656088e-41</td>\n      <td>7.628534e-23</td>\n      <td>9.991903e-32</td>\n      <td>9.991903e-32</td>\n      <td>9.991903e-18</td>\n      <td>2.136561e-22</td>\n      <td>2.136561e-22</td>\n      <td>1.304053e-12</td>\n      <td>4.589856e-10</td>\n      <td>4.589856e-10</td>\n      <td>0.000008</td>\n    </tr>\n    <tr>\n      <th>3082812</th>\n      <td>2017-08-31</td>\n      <td>8</td>\n      <td>HOME CARE</td>\n      <td>NaN</td>\n      <td>1</td>\n      <td>8</td>\n      <td>NaN</td>\n      <td>NaN</td>\n      <td>NaN</td>\n      <td>NaN</td>\n      <td>47.26</td>\n      <td>8</td>\n      <td>31</td>\n      <td>243</td>\n      <td>35</td>\n      <td>3</td>\n      <td>2017</td>\n      <td>322.510984</td>\n      <td>323.290050</td>\n      <td>347.306175</td>\n      <td>292.919165</td>\n      <td>308.098818</td>\n      <td>247.329677</td>\n      <td>271.816875</td>\n      <td>409.552791</td>\n      <td>419.443980</td>\n      <td>439.154771</td>\n      <td>361.845183</td>\n      <td>430.317395</td>\n      <td>331.522472</td>\n      <td>339.995993</td>\n      <td>348.780487</td>\n      <td>366.305454</td>\n      <td>3.211531e+02</td>\n      <td>3.211531e+02</td>\n      <td>4.077318e+02</td>\n      <td>3.213853e+02</td>\n      <td>3.213853e+02</td>\n      <td>4.087079e+02</td>\n      <td>3.219243e+02</td>\n      <td>3.219243e+02</td>\n      <td>4.111996e+02</td>\n      <td>3.210918e+02</td>\n      <td>3.210918e+02</td>\n      <td>415.581349</td>\n    </tr>\n    <tr>\n      <th>3082813</th>\n      <td>2017-08-31</td>\n      <td>8</td>\n      <td>LADIESWEAR</td>\n      <td>NaN</td>\n      <td>0</td>\n      <td>8</td>\n      <td>NaN</td>\n      <td>NaN</td>\n      <td>NaN</td>\n      <td>NaN</td>\n      <td>47.26</td>\n      <td>8</td>\n      <td>31</td>\n      <td>243</td>\n      <td>35</td>\n      <td>3</td>\n      <td>2017</td>\n      <td>32.987113</td>\n      <td>23.154402</td>\n      <td>33.743559</td>\n      <td>40.656262</td>\n      <td>25.383399</td>\n      <td>16.173136</td>\n      <td>22.765187</td>\n      <td>58.334837</td>\n      <td>32.414534</td>\n      <td>27.608350</td>\n      <td>52.949179</td>\n      <td>36.069470</td>\n      <td>26.284980</td>\n      <td>28.027220</td>\n      <td>29.562963</td>\n      <td>32.731675</td>\n      <td>3.066641e+01</td>\n      <td>3.066641e+01</td>\n      <td>5.661456e+01</td>\n      <td>3.037050e+01</td>\n      <td>3.037050e+01</td>\n      <td>5.525588e+01</td>\n      <td>2.991039e+01</td>\n      <td>2.991039e+01</td>\n      <td>5.259779e+01</td>\n      <td>2.935434e+01</td>\n      <td>2.935434e+01</td>\n      <td>44.426960</td>\n    </tr>\n    <tr>\n      <th>3082814</th>\n      <td>2017-08-31</td>\n      <td>8</td>\n      <td>LAWN AND GARDEN</td>\n      <td>NaN</td>\n      <td>0</td>\n      <td>8</td>\n      <td>NaN</td>\n      <td>NaN</td>\n      <td>NaN</td>\n      <td>NaN</td>\n      <td>47.26</td>\n      <td>8</td>\n      <td>31</td>\n      <td>243</td>\n      <td>35</td>\n      <td>3</td>\n      <td>2017</td>\n      <td>37.212134</td>\n      <td>30.566713</td>\n      <td>37.205239</td>\n      <td>31.308492</td>\n      <td>36.640405</td>\n      <td>39.057097</td>\n      <td>51.441051</td>\n      <td>22.505738</td>\n      <td>19.386599</td>\n      <td>22.495245</td>\n      <td>79.658124</td>\n      <td>19.507476</td>\n      <td>33.935347</td>\n      <td>36.298218</td>\n      <td>35.120795</td>\n      <td>33.103264</td>\n      <td>3.771676e+01</td>\n      <td>3.771676e+01</td>\n      <td>2.575331e+01</td>\n      <td>3.746424e+01</td>\n      <td>3.746424e+01</td>\n      <td>2.561593e+01</td>\n      <td>3.703660e+01</td>\n      <td>3.703660e+01</td>\n      <td>2.567697e+01</td>\n      <td>3.625075e+01</td>\n      <td>3.625075e+01</td>\n      <td>28.333893</td>\n    </tr>\n    <tr>\n      <th>3082815</th>\n      <td>2017-08-31</td>\n      <td>8</td>\n      <td>LINGERIE</td>\n      <td>NaN</td>\n      <td>1</td>\n      <td>8</td>\n      <td>NaN</td>\n      <td>NaN</td>\n      <td>NaN</td>\n      <td>NaN</td>\n      <td>47.26</td>\n      <td>8</td>\n      <td>31</td>\n      <td>243</td>\n      <td>35</td>\n      <td>3</td>\n      <td>2017</td>\n      <td>18.595660</td>\n      <td>23.407467</td>\n      <td>19.295992</td>\n      <td>21.830133</td>\n      <td>23.523370</td>\n      <td>35.145045</td>\n      <td>4.844589</td>\n      <td>53.662808</td>\n      <td>11.814510</td>\n      <td>24.175731</td>\n      <td>33.275634</td>\n      <td>26.878473</td>\n      <td>21.370558</td>\n      <td>20.891443</td>\n      <td>23.047521</td>\n      <td>22.416775</td>\n      <td>2.009490e+01</td>\n      <td>2.009490e+01</td>\n      <td>5.206349e+01</td>\n      <td>2.017941e+01</td>\n      <td>2.017941e+01</td>\n      <td>5.015770e+01</td>\n      <td>2.031951e+01</td>\n      <td>2.031951e+01</td>\n      <td>4.645637e+01</td>\n      <td>2.065651e+01</td>\n      <td>2.065651e+01</td>\n      <td>36.215336</td>\n    </tr>\n    <tr>\n      <th>3082816</th>\n      <td>2017-08-31</td>\n      <td>8</td>\n      <td>LIQUOR_WINE_BEER</td>\n      <td>NaN</td>\n      <td>2</td>\n      <td>8</td>\n      <td>NaN</td>\n      <td>NaN</td>\n      <td>NaN</td>\n      <td>NaN</td>\n      <td>47.26</td>\n      <td>8</td>\n      <td>31</td>\n      <td>243</td>\n      <td>35</td>\n      <td>3</td>\n      <td>2017</td>\n      <td>142.669981</td>\n      <td>79.866171</td>\n      <td>97.414747</td>\n      <td>203.700815</td>\n      <td>226.236356</td>\n      <td>193.957092</td>\n      <td>127.307613</td>\n      <td>101.885818</td>\n      <td>110.932367</td>\n      <td>80.616999</td>\n      <td>105.104620</td>\n      <td>153.463459</td>\n      <td>146.389128</td>\n      <td>146.005358</td>\n      <td>148.365340</td>\n      <td>144.498218</td>\n      <td>1.389109e+02</td>\n      <td>1.389109e+02</td>\n      <td>1.024177e+02</td>\n      <td>1.359979e+02</td>\n      <td>1.359979e+02</td>\n      <td>1.029289e+02</td>\n      <td>1.310298e+02</td>\n      <td>1.310298e+02</td>\n      <td>1.045365e+02</td>\n      <td>1.277252e+02</td>\n      <td>1.277252e+02</td>\n      <td>116.511782</td>\n    </tr>\n    <tr>\n      <th>3082817</th>\n      <td>2017-08-31</td>\n      <td>8</td>\n      <td>MAGAZINES</td>\n      <td>NaN</td>\n      <td>0</td>\n      <td>8</td>\n      <td>NaN</td>\n      <td>NaN</td>\n      <td>NaN</td>\n      <td>NaN</td>\n      <td>47.26</td>\n      <td>8</td>\n      <td>31</td>\n      <td>243</td>\n      <td>35</td>\n      <td>3</td>\n      <td>2017</td>\n      <td>22.349206</td>\n      <td>11.666452</td>\n      <td>21.814889</td>\n      <td>28.290097</td>\n      <td>9.033496</td>\n      <td>18.485238</td>\n      <td>24.730941</td>\n      <td>11.233376</td>\n      <td>16.420554</td>\n      <td>19.111018</td>\n      <td>7.042965</td>\n      <td>14.342810</td>\n      <td>21.315957</td>\n      <td>27.101061</td>\n      <td>20.711998</td>\n      <td>18.732159</td>\n      <td>1.962588e+01</td>\n      <td>1.962588e+01</td>\n      <td>1.025451e+01</td>\n      <td>1.930618e+01</td>\n      <td>1.930618e+01</td>\n      <td>1.051619e+01</td>\n      <td>1.883637e+01</td>\n      <td>1.883637e+01</td>\n      <td>1.105231e+01</td>\n      <td>1.864696e+01</td>\n      <td>1.864696e+01</td>\n      <td>12.763469</td>\n    </tr>\n    <tr>\n      <th>3082818</th>\n      <td>2017-08-31</td>\n      <td>8</td>\n      <td>MEATS</td>\n      <td>NaN</td>\n      <td>0</td>\n      <td>8</td>\n      <td>NaN</td>\n      <td>NaN</td>\n      <td>NaN</td>\n      <td>NaN</td>\n      <td>47.26</td>\n      <td>8</td>\n      <td>31</td>\n      <td>243</td>\n      <td>35</td>\n      <td>3</td>\n      <td>2017</td>\n      <td>362.361485</td>\n      <td>425.677407</td>\n      <td>420.826390</td>\n      <td>387.743966</td>\n      <td>513.846551</td>\n      <td>368.534904</td>\n      <td>403.001433</td>\n      <td>487.311424</td>\n      <td>416.172925</td>\n      <td>455.166531</td>\n      <td>395.011038</td>\n      <td>394.341161</td>\n      <td>444.074181</td>\n      <td>449.299373</td>\n      <td>452.487640</td>\n      <td>485.471210</td>\n      <td>3.628415e+02</td>\n      <td>3.628415e+02</td>\n      <td>4.844917e+02</td>\n      <td>3.662413e+02</td>\n      <td>3.662413e+02</td>\n      <td>4.811491e+02</td>\n      <td>3.728918e+02</td>\n      <td>3.728918e+02</td>\n      <td>4.756194e+02</td>\n      <td>3.921512e+02</td>\n      <td>3.921512e+02</td>\n      <td>475.318558</td>\n    </tr>\n    <tr>\n      <th>3082819</th>\n      <td>2017-08-31</td>\n      <td>8</td>\n      <td>PERSONAL CARE</td>\n      <td>NaN</td>\n      <td>9</td>\n      <td>8</td>\n      <td>NaN</td>\n      <td>NaN</td>\n      <td>NaN</td>\n      <td>NaN</td>\n      <td>47.26</td>\n      <td>8</td>\n      <td>31</td>\n      <td>243</td>\n      <td>35</td>\n      <td>3</td>\n      <td>2017</td>\n      <td>309.718654</td>\n      <td>451.222912</td>\n      <td>435.497364</td>\n      <td>353.944712</td>\n      <td>327.767290</td>\n      <td>269.514267</td>\n      <td>260.289422</td>\n      <td>371.471331</td>\n      <td>309.589465</td>\n      <td>425.969558</td>\n      <td>312.919423</td>\n      <td>364.358774</td>\n      <td>332.376701</td>\n      <td>329.728138</td>\n      <td>338.573474</td>\n      <td>340.011629</td>\n      <td>3.197618e+02</td>\n      <td>3.197618e+02</td>\n      <td>3.683703e+02</td>\n      <td>3.264025e+02</td>\n      <td>3.264025e+02</td>\n      <td>3.665363e+02</td>\n      <td>3.390230e+02</td>\n      <td>3.390230e+02</td>\n      <td>3.649071e+02</td>\n      <td>3.643129e+02</td>\n      <td>3.643129e+02</td>\n      <td>366.141351</td>\n    </tr>\n    <tr>\n      <th>3082820</th>\n      <td>2017-08-31</td>\n      <td>8</td>\n      <td>PET SUPPLIES</td>\n      <td>NaN</td>\n      <td>0</td>\n      <td>8</td>\n      <td>NaN</td>\n      <td>NaN</td>\n      <td>NaN</td>\n      <td>NaN</td>\n      <td>47.26</td>\n      <td>8</td>\n      <td>31</td>\n      <td>243</td>\n      <td>35</td>\n      <td>3</td>\n      <td>2017</td>\n      <td>12.093844</td>\n      <td>11.929773</td>\n      <td>32.547457</td>\n      <td>19.262807</td>\n      <td>16.828809</td>\n      <td>14.830171</td>\n      <td>17.404417</td>\n      <td>13.163128</td>\n      <td>13.783560</td>\n      <td>16.270350</td>\n      <td>11.503104</td>\n      <td>14.468874</td>\n      <td>21.685062</td>\n      <td>19.676048</td>\n      <td>18.008650</td>\n      <td>20.379882</td>\n      <td>1.115085e+01</td>\n      <td>1.115085e+01</td>\n      <td>1.708641e+01</td>\n      <td>1.139658e+01</td>\n      <td>1.139658e+01</td>\n      <td>1.724050e+01</td>\n      <td>1.212917e+01</td>\n      <td>1.212917e+01</td>\n      <td>1.771181e+01</td>\n      <td>1.536849e+01</td>\n      <td>1.536849e+01</td>\n      <td>19.363304</td>\n    </tr>\n    <tr>\n      <th>3082821</th>\n      <td>2017-08-31</td>\n      <td>8</td>\n      <td>PLAYERS AND ELECTRONICS</td>\n      <td>NaN</td>\n      <td>0</td>\n      <td>8</td>\n      <td>NaN</td>\n      <td>NaN</td>\n      <td>NaN</td>\n      <td>NaN</td>\n      <td>47.26</td>\n      <td>8</td>\n      <td>31</td>\n      <td>243</td>\n      <td>35</td>\n      <td>3</td>\n      <td>2017</td>\n      <td>23.440970</td>\n      <td>25.906434</td>\n      <td>23.642545</td>\n      <td>24.648984</td>\n      <td>13.896849</td>\n      <td>6.497661</td>\n      <td>22.362874</td>\n      <td>25.635255</td>\n      <td>29.009039</td>\n      <td>16.036759</td>\n      <td>18.154524</td>\n      <td>20.084936</td>\n      <td>20.373473</td>\n      <td>16.961801</td>\n      <td>19.041209</td>\n      <td>22.197983</td>\n      <td>2.223794e+01</td>\n      <td>2.223794e+01</td>\n      <td>2.799021e+01</td>\n      <td>2.245305e+01</td>\n      <td>2.245305e+01</td>\n      <td>2.796130e+01</td>\n      <td>2.281618e+01</td>\n      <td>2.281618e+01</td>\n      <td>2.784334e+01</td>\n      <td>2.311039e+01</td>\n      <td>2.311039e+01</td>\n      <td>26.611546</td>\n    </tr>\n    <tr>\n      <th>3082822</th>\n      <td>2017-08-31</td>\n      <td>8</td>\n      <td>POULTRY</td>\n      <td>NaN</td>\n      <td>0</td>\n      <td>8</td>\n      <td>NaN</td>\n      <td>NaN</td>\n      <td>NaN</td>\n      <td>NaN</td>\n      <td>47.26</td>\n      <td>8</td>\n      <td>31</td>\n      <td>243</td>\n      <td>35</td>\n      <td>3</td>\n      <td>2017</td>\n      <td>548.277600</td>\n      <td>610.999771</td>\n      <td>620.518773</td>\n      <td>578.383944</td>\n      <td>774.456636</td>\n      <td>440.337016</td>\n      <td>480.866523</td>\n      <td>541.699841</td>\n      <td>614.894117</td>\n      <td>732.434257</td>\n      <td>596.856450</td>\n      <td>602.816390</td>\n      <td>595.234621</td>\n      <td>602.670059</td>\n      <td>612.642638</td>\n      <td>639.032483</td>\n      <td>5.521358e+02</td>\n      <td>5.521358e+02</td>\n      <td>5.447908e+02</td>\n      <td>5.553093e+02</td>\n      <td>5.553093e+02</td>\n      <td>5.496488e+02</td>\n      <td>5.617160e+02</td>\n      <td>5.617160e+02</td>\n      <td>5.620603e+02</td>\n      <td>5.800491e+02</td>\n      <td>5.800491e+02</td>\n      <td>616.988315</td>\n    </tr>\n    <tr>\n      <th>3082823</th>\n      <td>2017-08-31</td>\n      <td>8</td>\n      <td>PREPARED FOODS</td>\n      <td>NaN</td>\n      <td>0</td>\n      <td>8</td>\n      <td>NaN</td>\n      <td>NaN</td>\n      <td>NaN</td>\n      <td>NaN</td>\n      <td>47.26</td>\n      <td>8</td>\n      <td>31</td>\n      <td>243</td>\n      <td>35</td>\n      <td>3</td>\n      <td>2017</td>\n      <td>147.398871</td>\n      <td>152.433911</td>\n      <td>172.968833</td>\n      <td>140.533833</td>\n      <td>113.396937</td>\n      <td>156.808106</td>\n      <td>146.466823</td>\n      <td>109.098531</td>\n      <td>155.504451</td>\n      <td>153.734249</td>\n      <td>145.311451</td>\n      <td>196.819308</td>\n      <td>146.593064</td>\n      <td>149.185177</td>\n      <td>154.001555</td>\n      <td>153.283123</td>\n      <td>1.442401e+02</td>\n      <td>1.442401e+02</td>\n      <td>1.126362e+02</td>\n      <td>1.448546e+02</td>\n      <td>1.448546e+02</td>\n      <td>1.151067e+02</td>\n      <td>1.462213e+02</td>\n      <td>1.462213e+02</td>\n      <td>1.202649e+02</td>\n      <td>1.492183e+02</td>\n      <td>1.492183e+02</td>\n      <td>136.004025</td>\n    </tr>\n    <tr>\n      <th>3082824</th>\n      <td>2017-08-31</td>\n      <td>8</td>\n      <td>PRODUCE</td>\n      <td>NaN</td>\n      <td>3</td>\n      <td>8</td>\n      <td>NaN</td>\n      <td>NaN</td>\n      <td>NaN</td>\n      <td>NaN</td>\n      <td>47.26</td>\n      <td>8</td>\n      <td>31</td>\n      <td>243</td>\n      <td>35</td>\n      <td>3</td>\n      <td>2017</td>\n      <td>3936.529112</td>\n      <td>4418.485147</td>\n      <td>5078.844399</td>\n      <td>4230.596442</td>\n      <td>3860.411012</td>\n      <td>3117.962967</td>\n      <td>5885.488992</td>\n      <td>4218.725311</td>\n      <td>4616.230489</td>\n      <td>4488.472191</td>\n      <td>6834.207452</td>\n      <td>4133.123144</td>\n      <td>4518.872812</td>\n      <td>4574.714397</td>\n      <td>4619.970844</td>\n      <td>4762.607245</td>\n      <td>3.964842e+03</td>\n      <td>3.964842e+03</td>\n      <td>4.245344e+03</td>\n      <td>3.992932e+03</td>\n      <td>3.992932e+03</td>\n      <td>4.275404e+03</td>\n      <td>4.054037e+03</td>\n      <td>4.054037e+03</td>\n      <td>4.352873e+03</td>\n      <td>4.220969e+03</td>\n      <td>4.220969e+03</td>\n      <td>4633.219978</td>\n    </tr>\n    <tr>\n      <th>3082825</th>\n      <td>2017-08-31</td>\n      <td>8</td>\n      <td>SCHOOL AND OFFICE SUPPLIES</td>\n      <td>NaN</td>\n      <td>0</td>\n      <td>8</td>\n      <td>NaN</td>\n      <td>NaN</td>\n      <td>NaN</td>\n      <td>NaN</td>\n      <td>47.26</td>\n      <td>8</td>\n      <td>31</td>\n      <td>243</td>\n      <td>35</td>\n      <td>3</td>\n      <td>2017</td>\n      <td>-1.060798</td>\n      <td>0.840626</td>\n      <td>0.338150</td>\n      <td>-1.560227</td>\n      <td>5.266117</td>\n      <td>-0.706067</td>\n      <td>0.500896</td>\n      <td>-1.441607</td>\n      <td>2.708106</td>\n      <td>-0.524936</td>\n      <td>2.692469</td>\n      <td>1.782024</td>\n      <td>4.808218</td>\n      <td>-1.601622</td>\n      <td>4.820145</td>\n      <td>3.368999</td>\n      <td>4.751189e-02</td>\n      <td>4.751189e-02</td>\n      <td>5.225594e-02</td>\n      <td>9.018109e-02</td>\n      <td>9.018109e-02</td>\n      <td>1.080900e-01</td>\n      <td>1.626370e-01</td>\n      <td>1.626370e-01</td>\n      <td>2.252800e-01</td>\n      <td>3.414021e-01</td>\n      <td>3.414021e-01</td>\n      <td>0.531616</td>\n    </tr>\n    <tr>\n      <th>3082826</th>\n      <td>2017-08-31</td>\n      <td>8</td>\n      <td>SEAFOOD</td>\n      <td>NaN</td>\n      <td>1</td>\n      <td>8</td>\n      <td>NaN</td>\n      <td>NaN</td>\n      <td>NaN</td>\n      <td>NaN</td>\n      <td>47.26</td>\n      <td>8</td>\n      <td>31</td>\n      <td>243</td>\n      <td>35</td>\n      <td>3</td>\n      <td>2017</td>\n      <td>21.336326</td>\n      <td>31.071807</td>\n      <td>35.505216</td>\n      <td>22.352299</td>\n      <td>51.383090</td>\n      <td>31.085683</td>\n      <td>37.880707</td>\n      <td>29.523428</td>\n      <td>48.580952</td>\n      <td>30.786466</td>\n      <td>50.394896</td>\n      <td>54.239498</td>\n      <td>39.114288</td>\n      <td>36.964599</td>\n      <td>38.360189</td>\n      <td>44.915467</td>\n      <td>2.383005e+01</td>\n      <td>2.383005e+01</td>\n      <td>3.206539e+01</td>\n      <td>2.433450e+01</td>\n      <td>2.433450e+01</td>\n      <td>3.311854e+01</td>\n      <td>2.534651e+01</td>\n      <td>2.534651e+01</td>\n      <td>3.513639e+01</td>\n      <td>2.850658e+01</td>\n      <td>2.850658e+01</td>\n      <td>40.449832</td>\n    </tr>\n    <tr>\n      <th>3082827</th>\n      <td>2017-08-31</td>\n      <td>9</td>\n      <td>AUTOMOTIVE</td>\n      <td>NaN</td>\n      <td>0</td>\n      <td>6</td>\n      <td>NaN</td>\n      <td>NaN</td>\n      <td>NaN</td>\n      <td>NaN</td>\n      <td>47.26</td>\n      <td>8</td>\n      <td>31</td>\n      <td>243</td>\n      <td>35</td>\n      <td>3</td>\n      <td>2017</td>\n      <td>13.060697</td>\n      <td>9.555296</td>\n      <td>11.956544</td>\n      <td>8.641620</td>\n      <td>18.962221</td>\n      <td>14.563548</td>\n      <td>12.053920</td>\n      <td>14.607130</td>\n      <td>7.254914</td>\n      <td>9.722888</td>\n      <td>10.188637</td>\n      <td>5.460460</td>\n      <td>12.156663</td>\n      <td>14.240070</td>\n      <td>12.885208</td>\n      <td>17.972297</td>\n      <td>1.466669e+01</td>\n      <td>1.466669e+01</td>\n      <td>1.487194e+01</td>\n      <td>1.436397e+01</td>\n      <td>1.436397e+01</td>\n      <td>1.478502e+01</td>\n      <td>1.383887e+01</td>\n      <td>1.383887e+01</td>\n      <td>1.471277e+01</td>\n      <td>1.286150e+01</td>\n      <td>1.286150e+01</td>\n      <td>14.744782</td>\n    </tr>\n    <tr>\n      <th>3082828</th>\n      <td>2017-08-31</td>\n      <td>9</td>\n      <td>BABY CARE</td>\n      <td>NaN</td>\n      <td>0</td>\n      <td>6</td>\n      <td>NaN</td>\n      <td>NaN</td>\n      <td>NaN</td>\n      <td>NaN</td>\n      <td>47.26</td>\n      <td>8</td>\n      <td>31</td>\n      <td>243</td>\n      <td>35</td>\n      <td>3</td>\n      <td>2017</td>\n      <td>1.023971</td>\n      <td>1.000986</td>\n      <td>-0.954896</td>\n      <td>4.240329</td>\n      <td>4.402871</td>\n      <td>-1.518861</td>\n      <td>4.950349</td>\n      <td>1.550731</td>\n      <td>1.667824</td>\n      <td>-0.075536</td>\n      <td>1.698730</td>\n      <td>3.585535</td>\n      <td>1.893713</td>\n      <td>-0.874461</td>\n      <td>0.064307</td>\n      <td>-0.412245</td>\n      <td>5.967191e-06</td>\n      <td>5.967191e-06</td>\n      <td>4.750000e-03</td>\n      <td>9.180207e-05</td>\n      <td>9.180207e-05</td>\n      <td>1.800000e-02</td>\n      <td>1.383465e-03</td>\n      <td>1.383465e-03</td>\n      <td>6.400000e-02</td>\n      <td>5.030823e-02</td>\n      <td>5.030823e-02</td>\n      <td>0.250001</td>\n    </tr>\n    <tr>\n      <th>3082829</th>\n      <td>2017-08-31</td>\n      <td>9</td>\n      <td>BEAUTY</td>\n      <td>NaN</td>\n      <td>1</td>\n      <td>6</td>\n      <td>NaN</td>\n      <td>NaN</td>\n      <td>NaN</td>\n      <td>NaN</td>\n      <td>47.26</td>\n      <td>8</td>\n      <td>31</td>\n      <td>243</td>\n      <td>35</td>\n      <td>3</td>\n      <td>2017</td>\n      <td>8.592246</td>\n      <td>5.530792</td>\n      <td>16.028446</td>\n      <td>10.438075</td>\n      <td>4.203812</td>\n      <td>14.838207</td>\n      <td>12.554504</td>\n      <td>8.604633</td>\n      <td>6.227203</td>\n      <td>14.732968</td>\n      <td>7.375901</td>\n      <td>6.547622</td>\n      <td>11.922962</td>\n      <td>6.942740</td>\n      <td>9.315193</td>\n      <td>6.539188</td>\n      <td>9.727316e+00</td>\n      <td>9.727316e+00</td>\n      <td>6.805362e+00</td>\n      <td>9.508105e+00</td>\n      <td>9.508105e+00</td>\n      <td>6.622787e+00</td>\n      <td>9.219255e+00</td>\n      <td>9.219255e+00</td>\n      <td>6.300325e+00</td>\n      <td>9.289655e+00</td>\n      <td>9.289655e+00</td>\n      <td>5.703986</td>\n    </tr>\n    <tr>\n      <th>3082830</th>\n      <td>2017-08-31</td>\n      <td>9</td>\n      <td>BEVERAGES</td>\n      <td>NaN</td>\n      <td>28</td>\n      <td>6</td>\n      <td>NaN</td>\n      <td>NaN</td>\n      <td>NaN</td>\n      <td>NaN</td>\n      <td>47.26</td>\n      <td>8</td>\n      <td>31</td>\n      <td>243</td>\n      <td>35</td>\n      <td>3</td>\n      <td>2017</td>\n      <td>3528.061331</td>\n      <td>3368.491131</td>\n      <td>3748.550690</td>\n      <td>3376.565564</td>\n      <td>2621.190454</td>\n      <td>2464.993286</td>\n      <td>2685.555546</td>\n      <td>4817.394669</td>\n      <td>3852.138664</td>\n      <td>4614.450395</td>\n      <td>2659.361970</td>\n      <td>3950.063628</td>\n      <td>3718.575302</td>\n      <td>3787.218481</td>\n      <td>3854.340069</td>\n      <td>3721.433812</td>\n      <td>3.522760e+03</td>\n      <td>3.522760e+03</td>\n      <td>4.771897e+03</td>\n      <td>3.517095e+03</td>\n      <td>3.517095e+03</td>\n      <td>4.732610e+03</td>\n      <td>3.508544e+03</td>\n      <td>3.508544e+03</td>\n      <td>4.668123e+03</td>\n      <td>3.459010e+03</td>\n      <td>3.459010e+03</td>\n      <td>4474.676710</td>\n    </tr>\n    <tr>\n      <th>3082831</th>\n      <td>2017-08-31</td>\n      <td>9</td>\n      <td>BOOKS</td>\n      <td>NaN</td>\n      <td>0</td>\n      <td>6</td>\n      <td>NaN</td>\n      <td>NaN</td>\n      <td>NaN</td>\n      <td>NaN</td>\n      <td>47.26</td>\n      <td>8</td>\n      <td>31</td>\n      <td>243</td>\n      <td>35</td>\n      <td>3</td>\n      <td>2017</td>\n      <td>-2.464354</td>\n      <td>-1.512387</td>\n      <td>-3.050844</td>\n      <td>1.038870</td>\n      <td>1.417413</td>\n      <td>5.246187</td>\n      <td>-2.253729</td>\n      <td>-0.022537</td>\n      <td>-1.148515</td>\n      <td>-0.589694</td>\n      <td>-0.026089</td>\n      <td>-1.258103</td>\n      <td>-1.012633</td>\n      <td>-1.313319</td>\n      <td>0.749747</td>\n      <td>1.518582</td>\n      <td>0.000000e+00</td>\n      <td>0.000000e+00</td>\n      <td>0.000000e+00</td>\n      <td>0.000000e+00</td>\n      <td>0.000000e+00</td>\n      <td>0.000000e+00</td>\n      <td>0.000000e+00</td>\n      <td>0.000000e+00</td>\n      <td>0.000000e+00</td>\n      <td>0.000000e+00</td>\n      <td>0.000000e+00</td>\n      <td>0.000000</td>\n    </tr>\n    <tr>\n      <th>3082832</th>\n      <td>2017-08-31</td>\n      <td>9</td>\n      <td>BREAD/BAKERY</td>\n      <td>NaN</td>\n      <td>3</td>\n      <td>6</td>\n      <td>NaN</td>\n      <td>NaN</td>\n      <td>NaN</td>\n      <td>NaN</td>\n      <td>47.26</td>\n      <td>8</td>\n      <td>31</td>\n      <td>243</td>\n      <td>35</td>\n      <td>3</td>\n      <td>2017</td>\n      <td>529.758984</td>\n      <td>447.780697</td>\n      <td>489.312818</td>\n      <td>457.485640</td>\n      <td>386.512766</td>\n      <td>307.353691</td>\n      <td>425.974432</td>\n      <td>648.151989</td>\n      <td>621.791280</td>\n      <td>651.966499</td>\n      <td>527.209878</td>\n      <td>637.965515</td>\n      <td>479.136800</td>\n      <td>494.889070</td>\n      <td>498.822200</td>\n      <td>526.615701</td>\n      <td>5.240410e+02</td>\n      <td>5.240410e+02</td>\n      <td>6.419953e+02</td>\n      <td>5.202443e+02</td>\n      <td>5.202443e+02</td>\n      <td>6.412145e+02</td>\n      <td>5.129671e+02</td>\n      <td>5.129671e+02</td>\n      <td>6.398304e+02</td>\n      <td>4.891698e+02</td>\n      <td>4.891698e+02</td>\n      <td>624.773363</td>\n    </tr>\n    <tr>\n      <th>3082833</th>\n      <td>2017-08-31</td>\n      <td>9</td>\n      <td>CELEBRATION</td>\n      <td>NaN</td>\n      <td>0</td>\n      <td>6</td>\n      <td>NaN</td>\n      <td>NaN</td>\n      <td>NaN</td>\n      <td>NaN</td>\n      <td>47.26</td>\n      <td>8</td>\n      <td>31</td>\n      <td>243</td>\n      <td>35</td>\n      <td>3</td>\n      <td>2017</td>\n      <td>14.537741</td>\n      <td>7.922828</td>\n      <td>13.306199</td>\n      <td>15.047409</td>\n      <td>9.642925</td>\n      <td>16.034062</td>\n      <td>18.956655</td>\n      <td>18.086309</td>\n      <td>10.529729</td>\n      <td>7.324686</td>\n      <td>8.725961</td>\n      <td>6.339943</td>\n      <td>15.708029</td>\n      <td>17.881275</td>\n      <td>17.794248</td>\n      <td>15.645759</td>\n      <td>1.579833e+01</td>\n      <td>1.579833e+01</td>\n      <td>1.955729e+01</td>\n      <td>1.559626e+01</td>\n      <td>1.559626e+01</td>\n      <td>1.913752e+01</td>\n      <td>1.520534e+01</td>\n      <td>1.520534e+01</td>\n      <td>1.840723e+01</td>\n      <td>1.435207e+01</td>\n      <td>1.435207e+01</td>\n      <td>17.319361</td>\n    </tr>\n    <tr>\n      <th>3082834</th>\n      <td>2017-08-31</td>\n      <td>9</td>\n      <td>CLEANING</td>\n      <td>NaN</td>\n      <td>21</td>\n      <td>6</td>\n      <td>NaN</td>\n      <td>NaN</td>\n      <td>NaN</td>\n      <td>NaN</td>\n      <td>47.26</td>\n      <td>8</td>\n      <td>31</td>\n      <td>243</td>\n      <td>35</td>\n      <td>3</td>\n      <td>2017</td>\n      <td>1438.360649</td>\n      <td>1431.377184</td>\n      <td>1652.125094</td>\n      <td>1339.965671</td>\n      <td>1491.961583</td>\n      <td>1085.924011</td>\n      <td>1316.237247</td>\n      <td>4336.030338</td>\n      <td>2861.623030</td>\n      <td>2166.816165</td>\n      <td>1434.577364</td>\n      <td>1921.845814</td>\n      <td>1746.849209</td>\n      <td>1842.313558</td>\n      <td>1897.077118</td>\n      <td>1923.569271</td>\n      <td>1.439027e+03</td>\n      <td>1.439027e+03</td>\n      <td>4.259111e+03</td>\n      <td>1.439958e+03</td>\n      <td>1.439958e+03</td>\n      <td>4.179024e+03</td>\n      <td>1.443661e+03</td>\n      <td>1.443661e+03</td>\n      <td>4.005183e+03</td>\n      <td>1.454462e+03</td>\n      <td>1.454462e+03</td>\n      <td>3337.279746</td>\n    </tr>\n    <tr>\n      <th>3082835</th>\n      <td>2017-08-31</td>\n      <td>9</td>\n      <td>DAIRY</td>\n      <td>NaN</td>\n      <td>10</td>\n      <td>6</td>\n      <td>NaN</td>\n      <td>NaN</td>\n      <td>NaN</td>\n      <td>NaN</td>\n      <td>47.26</td>\n      <td>8</td>\n      <td>31</td>\n      <td>243</td>\n      <td>35</td>\n      <td>3</td>\n      <td>2017</td>\n      <td>837.850102</td>\n      <td>747.311325</td>\n      <td>795.416829</td>\n      <td>765.986440</td>\n      <td>738.021406</td>\n      <td>553.902944</td>\n      <td>685.491999</td>\n      <td>946.886921</td>\n      <td>862.786599</td>\n      <td>1086.616183</td>\n      <td>803.607392</td>\n      <td>936.270366</td>\n      <td>822.600151</td>\n      <td>837.593139</td>\n      <td>845.673734</td>\n      <td>824.499380</td>\n      <td>8.306688e+02</td>\n      <td>8.306688e+02</td>\n      <td>9.432080e+02</td>\n      <td>8.265574e+02</td>\n      <td>8.265574e+02</td>\n      <td>9.402723e+02</td>\n      <td>8.188406e+02</td>\n      <td>8.188406e+02</td>\n      <td>9.363552e+02</td>\n      <td>7.950327e+02</td>\n      <td>7.950327e+02</td>\n      <td>919.559293</td>\n    </tr>\n    <tr>\n      <th>3082836</th>\n      <td>2017-08-31</td>\n      <td>9</td>\n      <td>DELI</td>\n      <td>NaN</td>\n      <td>10</td>\n      <td>6</td>\n      <td>NaN</td>\n      <td>NaN</td>\n      <td>NaN</td>\n      <td>NaN</td>\n      <td>47.26</td>\n      <td>8</td>\n      <td>31</td>\n      <td>243</td>\n      <td>35</td>\n      <td>3</td>\n      <td>2017</td>\n      <td>550.421811</td>\n      <td>496.385050</td>\n      <td>502.166088</td>\n      <td>480.179853</td>\n      <td>634.540612</td>\n      <td>419.457896</td>\n      <td>455.088666</td>\n      <td>693.159869</td>\n      <td>615.138370</td>\n      <td>610.487746</td>\n      <td>409.043522</td>\n      <td>649.311550</td>\n      <td>576.297959</td>\n      <td>579.991087</td>\n      <td>589.774645</td>\n      <td>566.500717</td>\n      <td>5.488467e+02</td>\n      <td>5.488467e+02</td>\n      <td>6.912501e+02</td>\n      <td>5.460195e+02</td>\n      <td>5.460195e+02</td>\n      <td>6.873016e+02</td>\n      <td>5.405184e+02</td>\n      <td>5.405184e+02</td>\n      <td>6.791955e+02</td>\n      <td>5.264810e+02</td>\n      <td>5.264810e+02</td>\n      <td>646.078364</td>\n    </tr>\n    <tr>\n      <th>3082837</th>\n      <td>2017-08-31</td>\n      <td>9</td>\n      <td>EGGS</td>\n      <td>NaN</td>\n      <td>1</td>\n      <td>6</td>\n      <td>NaN</td>\n      <td>NaN</td>\n      <td>NaN</td>\n      <td>NaN</td>\n      <td>47.26</td>\n      <td>8</td>\n      <td>31</td>\n      <td>243</td>\n      <td>35</td>\n      <td>3</td>\n      <td>2017</td>\n      <td>243.401653</td>\n      <td>275.487779</td>\n      <td>160.054216</td>\n      <td>163.437445</td>\n      <td>107.197586</td>\n      <td>120.993865</td>\n      <td>122.266432</td>\n      <td>252.596793</td>\n      <td>351.168417</td>\n      <td>392.352012</td>\n      <td>108.890192</td>\n      <td>282.381914</td>\n      <td>200.510502</td>\n      <td>212.392539</td>\n      <td>214.893283</td>\n      <td>217.503955</td>\n      <td>2.453599e+02</td>\n      <td>2.453599e+02</td>\n      <td>2.588226e+02</td>\n      <td>2.461365e+02</td>\n      <td>2.461365e+02</td>\n      <td>2.631551e+02</td>\n      <td>2.458916e+02</td>\n      <td>2.458916e+02</td>\n      <td>2.700799e+02</td>\n      <td>2.297095e+02</td>\n      <td>2.297095e+02</td>\n      <td>270.723576</td>\n    </tr>\n    <tr>\n      <th>3082838</th>\n      <td>2017-08-31</td>\n      <td>9</td>\n      <td>FROZEN FOODS</td>\n      <td>NaN</td>\n      <td>0</td>\n      <td>6</td>\n      <td>NaN</td>\n      <td>NaN</td>\n      <td>NaN</td>\n      <td>NaN</td>\n      <td>47.26</td>\n      <td>8</td>\n      <td>31</td>\n      <td>243</td>\n      <td>35</td>\n      <td>3</td>\n      <td>2017</td>\n      <td>133.109106</td>\n      <td>76.689274</td>\n      <td>60.227122</td>\n      <td>133.922537</td>\n      <td>133.235065</td>\n      <td>111.236591</td>\n      <td>116.282800</td>\n      <td>112.552930</td>\n      <td>72.701592</td>\n      <td>111.988695</td>\n      <td>74.597964</td>\n      <td>114.669113</td>\n      <td>122.613848</td>\n      <td>122.201334</td>\n      <td>124.015567</td>\n      <td>113.791596</td>\n      <td>1.305400e+02</td>\n      <td>1.305400e+02</td>\n      <td>1.121079e+02</td>\n      <td>1.273549e+02</td>\n      <td>1.273549e+02</td>\n      <td>1.104388e+02</td>\n      <td>1.212305e+02</td>\n      <td>1.212305e+02</td>\n      <td>1.077910e+02</td>\n      <td>1.080420e+02</td>\n      <td>1.080420e+02</td>\n      <td>104.659047</td>\n    </tr>\n    <tr>\n      <th>3082839</th>\n      <td>2017-08-31</td>\n      <td>9</td>\n      <td>GROCERY I</td>\n      <td>NaN</td>\n      <td>91</td>\n      <td>6</td>\n      <td>NaN</td>\n      <td>NaN</td>\n      <td>NaN</td>\n      <td>NaN</td>\n      <td>47.26</td>\n      <td>8</td>\n      <td>31</td>\n      <td>243</td>\n      <td>35</td>\n      <td>3</td>\n      <td>2017</td>\n      <td>6629.856135</td>\n      <td>5859.331608</td>\n      <td>6716.433488</td>\n      <td>6685.179113</td>\n      <td>5880.561626</td>\n      <td>4895.330804</td>\n      <td>5791.580188</td>\n      <td>9824.007717</td>\n      <td>7679.182524</td>\n      <td>8365.095369</td>\n      <td>5801.035022</td>\n      <td>7772.082434</td>\n      <td>7079.314847</td>\n      <td>7227.200580</td>\n      <td>7333.775293</td>\n      <td>6995.190727</td>\n      <td>6.594021e+03</td>\n      <td>6.594021e+03</td>\n      <td>9.717034e+03</td>\n      <td>6.561813e+03</td>\n      <td>6.561813e+03</td>\n      <td>9.612225e+03</td>\n      <td>6.508743e+03</td>\n      <td>6.508743e+03</td>\n      <td>9.404046e+03</td>\n      <td>6.398325e+03</td>\n      <td>6.398325e+03</td>\n      <td>8657.250476</td>\n    </tr>\n    <tr>\n      <th>3082840</th>\n      <td>2017-08-31</td>\n      <td>9</td>\n      <td>GROCERY II</td>\n      <td>NaN</td>\n      <td>0</td>\n      <td>6</td>\n      <td>NaN</td>\n      <td>NaN</td>\n      <td>NaN</td>\n      <td>NaN</td>\n      <td>47.26</td>\n      <td>8</td>\n      <td>31</td>\n      <td>243</td>\n      <td>35</td>\n      <td>3</td>\n      <td>2017</td>\n      <td>8.475430</td>\n      <td>5.419059</td>\n      <td>9.603541</td>\n      <td>23.002507</td>\n      <td>14.337306</td>\n      <td>8.729758</td>\n      <td>6.223917</td>\n      <td>16.338462</td>\n      <td>13.385187</td>\n      <td>10.435130</td>\n      <td>4.677918</td>\n      <td>10.146350</td>\n      <td>7.606812</td>\n      <td>11.605249</td>\n      <td>6.511340</td>\n      <td>12.600158</td>\n      <td>8.861092e+00</td>\n      <td>8.861092e+00</td>\n      <td>1.680510e+01</td>\n      <td>8.748447e+00</td>\n      <td>8.748447e+00</td>\n      <td>1.662960e+01</td>\n      <td>8.622218e+00</td>\n      <td>8.622218e+00</td>\n      <td>1.637749e+01</td>\n      <td>9.143218e+00</td>\n      <td>9.143218e+00</td>\n      <td>16.491881</td>\n    </tr>\n    <tr>\n      <th>3082841</th>\n      <td>2017-08-31</td>\n      <td>9</td>\n      <td>HARDWARE</td>\n      <td>NaN</td>\n      <td>0</td>\n      <td>6</td>\n      <td>NaN</td>\n      <td>NaN</td>\n      <td>NaN</td>\n      <td>NaN</td>\n      <td>47.26</td>\n      <td>8</td>\n      <td>31</td>\n      <td>243</td>\n      <td>35</td>\n      <td>3</td>\n      <td>2017</td>\n      <td>0.951300</td>\n      <td>-0.753735</td>\n      <td>4.559208</td>\n      <td>5.522284</td>\n      <td>-1.452535</td>\n      <td>1.711387</td>\n      <td>-0.971440</td>\n      <td>4.183164</td>\n      <td>1.435674</td>\n      <td>-1.223270</td>\n      <td>-3.355041</td>\n      <td>3.055754</td>\n      <td>-0.363408</td>\n      <td>1.106698</td>\n      <td>-0.733862</td>\n      <td>0.801849</td>\n      <td>1.004982e+00</td>\n      <td>1.004982e+00</td>\n      <td>2.045118e+00</td>\n      <td>1.019710e+00</td>\n      <td>1.019710e+00</td>\n      <td>2.080893e+00</td>\n      <td>1.075524e+00</td>\n      <td>1.075524e+00</td>\n      <td>2.126234e+00</td>\n      <td>1.348758e+00</td>\n      <td>1.348758e+00</td>\n      <td>2.055959</td>\n    </tr>\n    <tr>\n      <th>3082842</th>\n      <td>2017-08-31</td>\n      <td>9</td>\n      <td>HOME AND KITCHEN I</td>\n      <td>NaN</td>\n      <td>1</td>\n      <td>6</td>\n      <td>NaN</td>\n      <td>NaN</td>\n      <td>NaN</td>\n      <td>NaN</td>\n      <td>47.26</td>\n      <td>8</td>\n      <td>31</td>\n      <td>243</td>\n      <td>35</td>\n      <td>3</td>\n      <td>2017</td>\n      <td>64.397553</td>\n      <td>43.742874</td>\n      <td>57.271059</td>\n      <td>58.528195</td>\n      <td>75.735894</td>\n      <td>52.615741</td>\n      <td>39.277535</td>\n      <td>61.771051</td>\n      <td>74.972597</td>\n      <td>47.415381</td>\n      <td>40.812699</td>\n      <td>51.895422</td>\n      <td>50.610690</td>\n      <td>51.153502</td>\n      <td>52.296360</td>\n      <td>49.198246</td>\n      <td>6.289248e+01</td>\n      <td>6.289248e+01</td>\n      <td>6.437491e+01</td>\n      <td>6.187054e+01</td>\n      <td>6.187054e+01</td>\n      <td>6.460760e+01</td>\n      <td>6.009227e+01</td>\n      <td>6.009227e+01</td>\n      <td>6.467422e+01</td>\n      <td>5.690390e+01</td>\n      <td>5.690390e+01</td>\n      <td>61.488592</td>\n    </tr>\n    <tr>\n      <th>3082843</th>\n      <td>2017-08-31</td>\n      <td>9</td>\n      <td>HOME AND KITCHEN II</td>\n      <td>NaN</td>\n      <td>2</td>\n      <td>6</td>\n      <td>NaN</td>\n      <td>NaN</td>\n      <td>NaN</td>\n      <td>NaN</td>\n      <td>47.26</td>\n      <td>8</td>\n      <td>31</td>\n      <td>243</td>\n      <td>35</td>\n      <td>3</td>\n      <td>2017</td>\n      <td>61.403131</td>\n      <td>41.636844</td>\n      <td>65.747318</td>\n      <td>58.031981</td>\n      <td>33.344878</td>\n      <td>26.789810</td>\n      <td>28.835033</td>\n      <td>62.520836</td>\n      <td>37.837320</td>\n      <td>34.574741</td>\n      <td>20.318051</td>\n      <td>27.316970</td>\n      <td>44.273047</td>\n      <td>44.581388</td>\n      <td>48.517650</td>\n      <td>43.278951</td>\n      <td>6.015172e+01</td>\n      <td>6.015172e+01</td>\n      <td>6.072063e+01</td>\n      <td>5.940254e+01</td>\n      <td>5.940254e+01</td>\n      <td>5.957410e+01</td>\n      <td>5.815960e+01</td>\n      <td>5.815960e+01</td>\n      <td>5.761645e+01</td>\n      <td>5.500865e+01</td>\n      <td>5.500865e+01</td>\n      <td>52.721021</td>\n    </tr>\n    <tr>\n      <th>3082844</th>\n      <td>2017-08-31</td>\n      <td>9</td>\n      <td>HOME APPLIANCES</td>\n      <td>NaN</td>\n      <td>0</td>\n      <td>6</td>\n      <td>NaN</td>\n      <td>NaN</td>\n      <td>NaN</td>\n      <td>NaN</td>\n      <td>47.26</td>\n      <td>8</td>\n      <td>31</td>\n      <td>243</td>\n      <td>35</td>\n      <td>3</td>\n      <td>2017</td>\n      <td>1.129806</td>\n      <td>-1.818421</td>\n      <td>0.472735</td>\n      <td>0.835713</td>\n      <td>-2.707942</td>\n      <td>1.627291</td>\n      <td>1.891558</td>\n      <td>-1.088280</td>\n      <td>1.151455</td>\n      <td>1.147783</td>\n      <td>-0.441137</td>\n      <td>-3.478624</td>\n      <td>-0.016175</td>\n      <td>3.730045</td>\n      <td>-0.848870</td>\n      <td>-0.914700</td>\n      <td>4.423785e-41</td>\n      <td>4.423785e-41</td>\n      <td>7.247930e-23</td>\n      <td>9.000198e-32</td>\n      <td>9.000198e-32</td>\n      <td>9.000198e-18</td>\n      <td>1.719306e-22</td>\n      <td>1.719306e-22</td>\n      <td>1.049381e-12</td>\n      <td>2.547726e-10</td>\n      <td>2.547726e-10</td>\n      <td>0.000004</td>\n    </tr>\n    <tr>\n      <th>3082845</th>\n      <td>2017-08-31</td>\n      <td>9</td>\n      <td>HOME CARE</td>\n      <td>NaN</td>\n      <td>7</td>\n      <td>6</td>\n      <td>NaN</td>\n      <td>NaN</td>\n      <td>NaN</td>\n      <td>NaN</td>\n      <td>47.26</td>\n      <td>8</td>\n      <td>31</td>\n      <td>243</td>\n      <td>35</td>\n      <td>3</td>\n      <td>2017</td>\n      <td>372.089523</td>\n      <td>358.237818</td>\n      <td>459.693446</td>\n      <td>407.493553</td>\n      <td>344.123115</td>\n      <td>285.100075</td>\n      <td>362.062843</td>\n      <td>590.591219</td>\n      <td>447.906205</td>\n      <td>502.368049</td>\n      <td>406.008367</td>\n      <td>529.978123</td>\n      <td>423.107705</td>\n      <td>429.499392</td>\n      <td>439.351186</td>\n      <td>428.375010</td>\n      <td>3.723557e+02</td>\n      <td>3.723557e+02</td>\n      <td>5.856849e+02</td>\n      <td>3.721919e+02</td>\n      <td>3.721919e+02</td>\n      <td>5.783227e+02</td>\n      <td>3.730720e+02</td>\n      <td>3.730720e+02</td>\n      <td>5.632781e+02</td>\n      <td>3.796184e+02</td>\n      <td>3.796184e+02</td>\n      <td>509.467712</td>\n    </tr>\n    <tr>\n      <th>3082846</th>\n      <td>2017-08-31</td>\n      <td>9</td>\n      <td>LADIESWEAR</td>\n      <td>NaN</td>\n      <td>0</td>\n      <td>6</td>\n      <td>NaN</td>\n      <td>NaN</td>\n      <td>NaN</td>\n      <td>NaN</td>\n      <td>47.26</td>\n      <td>8</td>\n      <td>31</td>\n      <td>243</td>\n      <td>35</td>\n      <td>3</td>\n      <td>2017</td>\n      <td>10.098855</td>\n      <td>4.870088</td>\n      <td>11.297181</td>\n      <td>3.691724</td>\n      <td>4.640483</td>\n      <td>2.838043</td>\n      <td>3.716450</td>\n      <td>17.736992</td>\n      <td>7.579437</td>\n      <td>18.991382</td>\n      <td>2.670636</td>\n      <td>21.461363</td>\n      <td>11.455594</td>\n      <td>8.612664</td>\n      <td>13.997716</td>\n      <td>15.078437</td>\n      <td>9.818874e+00</td>\n      <td>9.818874e+00</td>\n      <td>1.558396e+01</td>\n      <td>9.670967e+00</td>\n      <td>9.670967e+00</td>\n      <td>1.514131e+01</td>\n      <td>9.447196e+00</td>\n      <td>9.447196e+00</td>\n      <td>1.420533e+01</td>\n      <td>8.903046e+00</td>\n      <td>8.903046e+00</td>\n      <td>11.502600</td>\n    </tr>\n    <tr>\n      <th>3082847</th>\n      <td>2017-08-31</td>\n      <td>9</td>\n      <td>LAWN AND GARDEN</td>\n      <td>NaN</td>\n      <td>0</td>\n      <td>6</td>\n      <td>NaN</td>\n      <td>NaN</td>\n      <td>NaN</td>\n      <td>NaN</td>\n      <td>47.26</td>\n      <td>8</td>\n      <td>31</td>\n      <td>243</td>\n      <td>35</td>\n      <td>3</td>\n      <td>2017</td>\n      <td>12.115984</td>\n      <td>9.217492</td>\n      <td>6.248831</td>\n      <td>5.832753</td>\n      <td>0.576718</td>\n      <td>6.176922</td>\n      <td>4.661428</td>\n      <td>16.738360</td>\n      <td>5.613066</td>\n      <td>4.186269</td>\n      <td>4.838391</td>\n      <td>4.093629</td>\n      <td>5.590326</td>\n      <td>7.210876</td>\n      <td>5.171250</td>\n      <td>7.202746</td>\n      <td>1.084474e+01</td>\n      <td>1.084474e+01</td>\n      <td>1.454523e+01</td>\n      <td>1.067793e+01</td>\n      <td>1.067793e+01</td>\n      <td>1.408171e+01</td>\n      <td>1.030315e+01</td>\n      <td>1.030315e+01</td>\n      <td>1.313174e+01</td>\n      <td>8.733469e+00</td>\n      <td>8.733469e+00</td>\n      <td>10.148534</td>\n    </tr>\n    <tr>\n      <th>3082848</th>\n      <td>2017-08-31</td>\n      <td>9</td>\n      <td>LINGERIE</td>\n      <td>NaN</td>\n      <td>2</td>\n      <td>6</td>\n      <td>NaN</td>\n      <td>NaN</td>\n      <td>NaN</td>\n      <td>NaN</td>\n      <td>47.26</td>\n      <td>8</td>\n      <td>31</td>\n      <td>243</td>\n      <td>35</td>\n      <td>3</td>\n      <td>2017</td>\n      <td>5.640101</td>\n      <td>6.452890</td>\n      <td>28.904035</td>\n      <td>10.643453</td>\n      <td>9.047387</td>\n      <td>3.681906</td>\n      <td>8.675360</td>\n      <td>16.892558</td>\n      <td>13.230061</td>\n      <td>15.292463</td>\n      <td>0.200825</td>\n      <td>6.966525</td>\n      <td>8.992738</td>\n      <td>11.866646</td>\n      <td>10.012929</td>\n      <td>9.082690</td>\n      <td>5.955480e+00</td>\n      <td>5.955480e+00</td>\n      <td>1.388235e+01</td>\n      <td>6.013674e+00</td>\n      <td>6.013674e+00</td>\n      <td>1.372864e+01</td>\n      <td>6.386475e+00</td>\n      <td>6.386475e+00</td>\n      <td>1.330712e+01</td>\n      <td>8.516787e+00</td>\n      <td>8.516787e+00</td>\n      <td>11.035460</td>\n    </tr>\n    <tr>\n      <th>3082849</th>\n      <td>2017-08-31</td>\n      <td>9</td>\n      <td>LIQUOR_WINE_BEER</td>\n      <td>NaN</td>\n      <td>1</td>\n      <td>6</td>\n      <td>NaN</td>\n      <td>NaN</td>\n      <td>NaN</td>\n      <td>NaN</td>\n      <td>47.26</td>\n      <td>8</td>\n      <td>31</td>\n      <td>243</td>\n      <td>35</td>\n      <td>3</td>\n      <td>2017</td>\n      <td>24.036112</td>\n      <td>53.212640</td>\n      <td>34.667479</td>\n      <td>130.120298</td>\n      <td>102.782074</td>\n      <td>60.454987</td>\n      <td>48.412866</td>\n      <td>45.084833</td>\n      <td>32.166935</td>\n      <td>28.516764</td>\n      <td>26.064628</td>\n      <td>13.429592</td>\n      <td>58.300833</td>\n      <td>58.149571</td>\n      <td>58.341136</td>\n      <td>55.041166</td>\n      <td>2.628106e+01</td>\n      <td>2.628106e+01</td>\n      <td>4.431233e+01</td>\n      <td>2.756675e+01</td>\n      <td>2.756675e+01</td>\n      <td>4.377517e+01</td>\n      <td>3.038059e+01</td>\n      <td>3.038059e+01</td>\n      <td>4.326383e+01</td>\n      <td>4.299006e+01</td>\n      <td>4.299006e+01</td>\n      <td>46.202369</td>\n    </tr>\n    <tr>\n      <th>3082850</th>\n      <td>2017-08-31</td>\n      <td>9</td>\n      <td>MAGAZINES</td>\n      <td>NaN</td>\n      <td>0</td>\n      <td>6</td>\n      <td>NaN</td>\n      <td>NaN</td>\n      <td>NaN</td>\n      <td>NaN</td>\n      <td>47.26</td>\n      <td>8</td>\n      <td>31</td>\n      <td>243</td>\n      <td>35</td>\n      <td>3</td>\n      <td>2017</td>\n      <td>12.829037</td>\n      <td>9.107979</td>\n      <td>2.556057</td>\n      <td>1.008635</td>\n      <td>5.434071</td>\n      <td>0.886570</td>\n      <td>4.535657</td>\n      <td>5.491287</td>\n      <td>4.720694</td>\n      <td>1.727524</td>\n      <td>2.880376</td>\n      <td>2.869782</td>\n      <td>3.779455</td>\n      <td>3.480626</td>\n      <td>2.849783</td>\n      <td>2.223019</td>\n      <td>1.102739e+01</td>\n      <td>1.102739e+01</td>\n      <td>2.904887e+00</td>\n      <td>1.100928e+01</td>\n      <td>1.100928e+01</td>\n      <td>2.819199e+00</td>\n      <td>1.083625e+01</td>\n      <td>1.083625e+01</td>\n      <td>2.675107e+00</td>\n      <td>9.256011e+00</td>\n      <td>9.256011e+00</td>\n      <td>2.476670</td>\n    </tr>\n    <tr>\n      <th>3082851</th>\n      <td>2017-08-31</td>\n      <td>9</td>\n      <td>MEATS</td>\n      <td>NaN</td>\n      <td>20</td>\n      <td>6</td>\n      <td>NaN</td>\n      <td>NaN</td>\n      <td>NaN</td>\n      <td>NaN</td>\n      <td>47.26</td>\n      <td>8</td>\n      <td>31</td>\n      <td>243</td>\n      <td>35</td>\n      <td>3</td>\n      <td>2017</td>\n      <td>447.856457</td>\n      <td>329.738934</td>\n      <td>327.564381</td>\n      <td>258.251514</td>\n      <td>307.485869</td>\n      <td>483.681428</td>\n      <td>327.828147</td>\n      <td>488.894876</td>\n      <td>357.738270</td>\n      <td>365.928578</td>\n      <td>299.963179</td>\n      <td>252.849256</td>\n      <td>370.827824</td>\n      <td>374.535374</td>\n      <td>376.896110</td>\n      <td>388.421379</td>\n      <td>4.432979e+02</td>\n      <td>4.432979e+02</td>\n      <td>4.848012e+02</td>\n      <td>4.373046e+02</td>\n      <td>4.373046e+02</td>\n      <td>4.785795e+02</td>\n      <td>4.250153e+02</td>\n      <td>4.250153e+02</td>\n      <td>4.669076e+02</td>\n      <td>3.868890e+02</td>\n      <td>3.868890e+02</td>\n      <td>435.755581</td>\n    </tr>\n    <tr>\n      <th>3082852</th>\n      <td>2017-08-31</td>\n      <td>9</td>\n      <td>PERSONAL CARE</td>\n      <td>NaN</td>\n      <td>14</td>\n      <td>6</td>\n      <td>NaN</td>\n      <td>NaN</td>\n      <td>NaN</td>\n      <td>NaN</td>\n      <td>47.26</td>\n      <td>8</td>\n      <td>31</td>\n      <td>243</td>\n      <td>35</td>\n      <td>3</td>\n      <td>2017</td>\n      <td>521.054837</td>\n      <td>448.750589</td>\n      <td>510.987543</td>\n      <td>400.808250</td>\n      <td>373.623063</td>\n      <td>328.279568</td>\n      <td>402.029803</td>\n      <td>851.988531</td>\n      <td>467.368742</td>\n      <td>641.114276</td>\n      <td>370.532644</td>\n      <td>558.398399</td>\n      <td>498.134903</td>\n      <td>504.690431</td>\n      <td>510.828875</td>\n      <td>487.964714</td>\n      <td>5.182986e+02</td>\n      <td>5.182986e+02</td>\n      <td>8.329028e+02</td>\n      <td>5.148369e+02</td>\n      <td>5.148369e+02</td>\n      <td>8.141737e+02</td>\n      <td>5.082683e+02</td>\n      <td>5.082683e+02</td>\n      <td>7.774864e+02</td>\n      <td>4.849796e+02</td>\n      <td>4.849796e+02</td>\n      <td>662.988427</td>\n    </tr>\n    <tr>\n      <th>3082853</th>\n      <td>2017-08-31</td>\n      <td>9</td>\n      <td>PET SUPPLIES</td>\n      <td>NaN</td>\n      <td>0</td>\n      <td>6</td>\n      <td>NaN</td>\n      <td>NaN</td>\n      <td>NaN</td>\n      <td>NaN</td>\n      <td>47.26</td>\n      <td>8</td>\n      <td>31</td>\n      <td>243</td>\n      <td>35</td>\n      <td>3</td>\n      <td>2017</td>\n      <td>6.850041</td>\n      <td>1.313851</td>\n      <td>-1.142526</td>\n      <td>7.901789</td>\n      <td>8.559005</td>\n      <td>9.978879</td>\n      <td>2.935916</td>\n      <td>5.525995</td>\n      <td>12.316616</td>\n      <td>17.599933</td>\n      <td>9.017399</td>\n      <td>8.463553</td>\n      <td>12.254136</td>\n      <td>7.487995</td>\n      <td>7.609871</td>\n      <td>4.669471</td>\n      <td>5.800650e+00</td>\n      <td>5.800650e+00</td>\n      <td>8.154856e+00</td>\n      <td>5.605394e+00</td>\n      <td>5.605394e+00</td>\n      <td>8.318680e+00</td>\n      <td>5.246017e+00</td>\n      <td>5.246017e+00</td>\n      <td>8.666562e+00</td>\n      <td>4.794777e+00</td>\n      <td>4.794777e+00</td>\n      <td>9.625440</td>\n    </tr>\n    <tr>\n      <th>3082854</th>\n      <td>2017-08-31</td>\n      <td>9</td>\n      <td>PLAYERS AND ELECTRONICS</td>\n      <td>NaN</td>\n      <td>0</td>\n      <td>6</td>\n      <td>NaN</td>\n      <td>NaN</td>\n      <td>NaN</td>\n      <td>NaN</td>\n      <td>47.26</td>\n      <td>8</td>\n      <td>31</td>\n      <td>243</td>\n      <td>35</td>\n      <td>3</td>\n      <td>2017</td>\n      <td>6.371470</td>\n      <td>12.949672</td>\n      <td>9.528495</td>\n      <td>11.160779</td>\n      <td>4.031669</td>\n      <td>3.435768</td>\n      <td>0.233982</td>\n      <td>11.406923</td>\n      <td>6.763677</td>\n      <td>12.514466</td>\n      <td>14.454607</td>\n      <td>9.043600</td>\n      <td>7.851902</td>\n      <td>6.525510</td>\n      <td>8.380789</td>\n      <td>9.436916</td>\n      <td>6.387576e+00</td>\n      <td>6.387576e+00</td>\n      <td>6.916631e+00</td>\n      <td>6.750220e+00</td>\n      <td>6.750220e+00</td>\n      <td>6.863095e+00</td>\n      <td>7.395837e+00</td>\n      <td>7.395837e+00</td>\n      <td>6.825558e+00</td>\n      <td>8.453062e+00</td>\n      <td>8.453062e+00</td>\n      <td>6.962862</td>\n    </tr>\n    <tr>\n      <th>3082855</th>\n      <td>2017-08-31</td>\n      <td>9</td>\n      <td>POULTRY</td>\n      <td>NaN</td>\n      <td>1</td>\n      <td>6</td>\n      <td>NaN</td>\n      <td>NaN</td>\n      <td>NaN</td>\n      <td>NaN</td>\n      <td>47.26</td>\n      <td>8</td>\n      <td>31</td>\n      <td>243</td>\n      <td>35</td>\n      <td>3</td>\n      <td>2017</td>\n      <td>440.286253</td>\n      <td>285.071672</td>\n      <td>414.564259</td>\n      <td>382.439281</td>\n      <td>525.527382</td>\n      <td>292.185843</td>\n      <td>334.777782</td>\n      <td>569.180319</td>\n      <td>470.265980</td>\n      <td>552.106924</td>\n      <td>285.893724</td>\n      <td>414.565878</td>\n      <td>450.152182</td>\n      <td>457.222218</td>\n      <td>464.136157</td>\n      <td>445.718013</td>\n      <td>4.307176e+02</td>\n      <td>4.307176e+02</td>\n      <td>5.653190e+02</td>\n      <td>4.239357e+02</td>\n      <td>4.239357e+02</td>\n      <td>5.606113e+02</td>\n      <td>4.122763e+02</td>\n      <td>4.122763e+02</td>\n      <td>5.514217e+02</td>\n      <td>3.924380e+02</td>\n      <td>3.924380e+02</td>\n      <td>518.514476</td>\n    </tr>\n    <tr>\n      <th>3082856</th>\n      <td>2017-08-31</td>\n      <td>9</td>\n      <td>PREPARED FOODS</td>\n      <td>NaN</td>\n      <td>0</td>\n      <td>6</td>\n      <td>NaN</td>\n      <td>NaN</td>\n      <td>NaN</td>\n      <td>NaN</td>\n      <td>47.26</td>\n      <td>8</td>\n      <td>31</td>\n      <td>243</td>\n      <td>35</td>\n      <td>3</td>\n      <td>2017</td>\n      <td>154.464227</td>\n      <td>115.130640</td>\n      <td>105.603103</td>\n      <td>130.437230</td>\n      <td>112.887273</td>\n      <td>113.037490</td>\n      <td>122.910312</td>\n      <td>47.104524</td>\n      <td>62.833953</td>\n      <td>73.104070</td>\n      <td>93.539926</td>\n      <td>131.055957</td>\n      <td>120.556862</td>\n      <td>119.136758</td>\n      <td>121.228460</td>\n      <td>101.024201</td>\n      <td>1.525120e+02</td>\n      <td>1.525120e+02</td>\n      <td>5.124607e+01</td>\n      <td>1.504432e+02</td>\n      <td>1.504432e+02</td>\n      <td>5.244471e+01</td>\n      <td>1.462783e+02</td>\n      <td>1.462783e+02</td>\n      <td>5.602257e+01</td>\n      <td>1.342439e+02</td>\n      <td>1.342439e+02</td>\n      <td>72.911551</td>\n    </tr>\n    <tr>\n      <th>3082857</th>\n      <td>2017-08-31</td>\n      <td>9</td>\n      <td>PRODUCE</td>\n      <td>NaN</td>\n      <td>1</td>\n      <td>6</td>\n      <td>NaN</td>\n      <td>NaN</td>\n      <td>NaN</td>\n      <td>NaN</td>\n      <td>47.26</td>\n      <td>8</td>\n      <td>31</td>\n      <td>243</td>\n      <td>35</td>\n      <td>3</td>\n      <td>2017</td>\n      <td>2418.699828</td>\n      <td>1346.270948</td>\n      <td>1692.945294</td>\n      <td>1419.888770</td>\n      <td>1452.867717</td>\n      <td>1033.824435</td>\n      <td>1309.823978</td>\n      <td>2469.518448</td>\n      <td>1516.971516</td>\n      <td>1680.219832</td>\n      <td>1153.559497</td>\n      <td>1356.069536</td>\n      <td>1628.643495</td>\n      <td>1641.324032</td>\n      <td>1646.195464</td>\n      <td>1610.755255</td>\n      <td>2.366993e+03</td>\n      <td>2.366993e+03</td>\n      <td>2.423707e+03</td>\n      <td>2.315776e+03</td>\n      <td>2.315776e+03</td>\n      <td>2.378620e+03</td>\n      <td>2.217030e+03</td>\n      <td>2.217030e+03</td>\n      <td>2.292419e+03</td>\n      <td>1.934923e+03</td>\n      <td>1.934923e+03</td>\n      <td>2035.920473</td>\n    </tr>\n    <tr>\n      <th>3082858</th>\n      <td>2017-08-31</td>\n      <td>9</td>\n      <td>SCHOOL AND OFFICE SUPPLIES</td>\n      <td>NaN</td>\n      <td>9</td>\n      <td>6</td>\n      <td>NaN</td>\n      <td>NaN</td>\n      <td>NaN</td>\n      <td>NaN</td>\n      <td>47.26</td>\n      <td>8</td>\n      <td>31</td>\n      <td>243</td>\n      <td>35</td>\n      <td>3</td>\n      <td>2017</td>\n      <td>120.026127</td>\n      <td>179.430944</td>\n      <td>203.261489</td>\n      <td>141.452853</td>\n      <td>139.195377</td>\n      <td>147.362505</td>\n      <td>81.036723</td>\n      <td>204.974053</td>\n      <td>58.007038</td>\n      <td>2.443891</td>\n      <td>3.178916</td>\n      <td>83.880179</td>\n      <td>150.241550</td>\n      <td>146.957020</td>\n      <td>148.579514</td>\n      <td>87.565638</td>\n      <td>1.240873e+02</td>\n      <td>1.240873e+02</td>\n      <td>1.956099e+02</td>\n      <td>1.272182e+02</td>\n      <td>1.272182e+02</td>\n      <td>1.881284e+02</td>\n      <td>1.334267e+02</td>\n      <td>1.334267e+02</td>\n      <td>1.728145e+02</td>\n      <td>1.482425e+02</td>\n      <td>1.482425e+02</td>\n      <td>122.237914</td>\n    </tr>\n    <tr>\n      <th>3082859</th>\n      <td>2017-08-31</td>\n      <td>9</td>\n      <td>SEAFOOD</td>\n      <td>NaN</td>\n      <td>0</td>\n      <td>6</td>\n      <td>NaN</td>\n      <td>NaN</td>\n      <td>NaN</td>\n      <td>NaN</td>\n      <td>47.26</td>\n      <td>8</td>\n      <td>31</td>\n      <td>243</td>\n      <td>35</td>\n      <td>3</td>\n      <td>2017</td>\n      <td>16.024741</td>\n      <td>14.702411</td>\n      <td>19.782910</td>\n      <td>16.110244</td>\n      <td>26.123418</td>\n      <td>13.466844</td>\n      <td>17.722665</td>\n      <td>20.634983</td>\n      <td>14.076824</td>\n      <td>27.471279</td>\n      <td>0.124489</td>\n      <td>18.692406</td>\n      <td>20.397236</td>\n      <td>16.263009</td>\n      <td>15.669963</td>\n      <td>18.115739</td>\n      <td>1.605715e+01</td>\n      <td>1.605715e+01</td>\n      <td>1.897015e+01</td>\n      <td>1.612746e+01</td>\n      <td>1.612746e+01</td>\n      <td>1.866439e+01</td>\n      <td>1.630320e+01</td>\n      <td>1.630320e+01</td>\n      <td>1.816738e+01</td>\n      <td>1.705846e+01</td>\n      <td>1.705846e+01</td>\n      <td>17.242974</td>\n    </tr>\n  </tbody>\n</table>\n</div>"
     },
     "execution_count": 16,
     "metadata": {},
     "output_type": "execute_result"
    }
   ],
   "source": [
    "df.tail(50)"
   ],
   "metadata": {
    "collapsed": false
   }
  },
  {
   "cell_type": "code",
   "execution_count": 18,
   "outputs": [
    {
     "data": {
      "text/plain": "['Primer dia del ano',\n nan,\n 'Recupero puente Navidad',\n 'Recupero puente primer dia del ano',\n 'Carnaval',\n 'Fundacion de Manta',\n 'Provincializacion de Cotopaxi',\n 'Fundacion de Cuenca',\n 'Cantonizacion de Libertad',\n 'Cantonizacion de Riobamba',\n 'Viernes Santo',\n 'Dia del Trabajo',\n 'Dia de la Madre-1',\n 'Cantonizacion del Puyo',\n 'Dia de la Madre',\n 'Batalla de Pichincha',\n 'Cantonizacion de Guaranda',\n 'Provincializacion de Imbabura',\n 'Fundacion de Machala',\n 'Cantonizacion de Latacunga',\n 'Cantonizacion de El Carmen',\n 'Fundacion de Santo Domingo',\n 'Cantonizacion de Cayambe',\n 'Fundacion de Guayaquil-1',\n 'Fundacion de Guayaquil',\n 'Fundacion de Esmeraldas',\n 'Primer Grito de Independencia',\n 'Fundacion de Riobamba',\n 'Fundacion de Ambato',\n 'Fundacion de Ibarra',\n 'Cantonizacion de Quevedo',\n 'Independencia de Guayaquil',\n 'Traslado Independencia de Guayaquil',\n 'Dia de Difuntos',\n 'Independencia de Cuenca',\n 'Provincializacion de Santo Domingo',\n 'Provincializacion Santa Elena',\n 'Independencia de Guaranda',\n 'Independencia de Latacunga',\n 'Independencia de Ambato',\n 'Fundacion de Quito-1',\n 'Fundacion de Quito',\n 'Fundacion de Loja',\n 'Navidad-4',\n 'Navidad-3',\n 'Cantonizacion de Salinas',\n 'Navidad-2',\n 'Navidad-1',\n 'Navidad+1',\n 'Primer dia del ano-1',\n 'Inauguracion Mundial de futbol Brasil',\n 'Mundial de futbol Brasil: Ecuador-Suiza',\n 'Mundial de futbol Brasil: Ecuador-Honduras',\n 'Mundial de futbol Brasil: Ecuador-Francia',\n 'Mundial de futbol Brasil: Octavos de Final',\n 'Mundial de futbol Brasil: Cuartos de Final',\n 'Mundial de futbol Brasil: Semifinales',\n 'Mundial de futbol Brasil: Tercer y cuarto lugar',\n 'Mundial de futbol Brasil: Final',\n 'Black Friday',\n 'Cyber Monday',\n 'Recupero Puente Navidad',\n 'Puente Navidad',\n 'Puente Primer dia del ano',\n 'Recupero Puente Primer dia del ano',\n 'Terremoto Manabi',\n 'Terremoto Manabi+1',\n 'Terremoto Manabi+2',\n 'Terremoto Manabi+3',\n 'Terremoto Manabi+4',\n 'Terremoto Manabi+5',\n 'Terremoto Manabi+6',\n 'Terremoto Manabi+7',\n 'Terremoto Manabi+8',\n 'Terremoto Manabi+9',\n 'Terremoto Manabi+10',\n 'Terremoto Manabi+11',\n 'Terremoto Manabi+12',\n 'Terremoto Manabi+13',\n 'Terremoto Manabi+14',\n 'Terremoto Manabi+15',\n 'Terremoto Manabi+16',\n 'Terremoto Manabi+17',\n 'Terremoto Manabi+18',\n 'Terremoto Manabi+19',\n 'Terremoto Manabi+20',\n 'Terremoto Manabi+21',\n 'Terremoto Manabi+22',\n 'Terremoto Manabi+23',\n 'Terremoto Manabi+24',\n 'Terremoto Manabi+25',\n 'Terremoto Manabi+26',\n 'Terremoto Manabi+27',\n 'Terremoto Manabi+28',\n 'Terremoto Manabi+29',\n 'Terremoto Manabi+30',\n 'Traslado Batalla de Pichincha',\n 'Traslado Fundacion de Guayaquil',\n 'Traslado Primer Grito de Independencia',\n 'Puente Dia de Difuntos',\n 'Recupero Puente Dia de Difuntos',\n 'Traslado Primer dia del ano']"
     },
     "execution_count": 18,
     "metadata": {},
     "output_type": "execute_result"
    }
   ],
   "source": [
    "df['description'].unique().tolist()"
   ],
   "metadata": {
    "collapsed": false
   }
  },
  {
   "cell_type": "code",
   "execution_count": null,
   "outputs": [],
   "source": [],
   "metadata": {
    "collapsed": false
   }
  },
  {
   "cell_type": "code",
   "execution_count": null,
   "outputs": [],
   "source": [],
   "metadata": {
    "collapsed": false
   }
  },
  {
   "cell_type": "code",
   "execution_count": null,
   "outputs": [],
   "source": [],
   "metadata": {
    "collapsed": false
   }
  },
  {
   "cell_type": "code",
   "execution_count": 31,
   "id": "849df3ca",
   "metadata": {
    "execution": {
     "iopub.execute_input": "2022-08-09T08:04:12.102101Z",
     "iopub.status.busy": "2022-08-09T08:04:12.101622Z",
     "iopub.status.idle": "2022-08-09T08:04:15.137386Z",
     "shell.execute_reply": "2022-08-09T08:04:15.136311Z"
    },
    "papermill": {
     "duration": 3.050973,
     "end_time": "2022-08-09T08:04:15.140310",
     "exception": false,
     "start_time": "2022-08-09T08:04:12.089337",
     "status": "completed"
    },
    "tags": []
   },
   "outputs": [],
   "source": [
    "df= df[df[\"Date\"]>\"2013-12-31\"]\n",
    "\n",
    "val = df[(df[\"Date\"]>\"2017-08-01\")&(df[\"Date\"]<=\"2017-08-15\")]\n",
    "train  = df[df[\"Date\"]<=\"2017-08-01\"]\n",
    "test = df[df[\"Date\"]>\"2017-08-15\"]\n",
    "\n",
    "col_X = [col for col in train.columns if col not in ['Date', 'sales','year']]\n",
    "\n",
    "y_train = train[\"sales\"]\n",
    "y_val = val[\"sales\"]\n",
    "X_train = train[col_X]\n",
    "X_val = val[col_X]\n",
    "X_test = test[col_X]\n",
    "y_test = test[\"sales\"]"
   ]
  },
  {
   "cell_type": "markdown",
   "id": "c300a289",
   "metadata": {
    "papermill": {
     "duration": 0.009526,
     "end_time": "2022-08-09T08:04:15.160047",
     "exception": false,
     "start_time": "2022-08-09T08:04:15.150521",
     "status": "completed"
    },
    "tags": []
   },
   "source": [
    "## Train Model"
   ]
  },
  {
   "cell_type": "code",
   "execution_count": 32,
   "id": "695b7b08",
   "metadata": {
    "execution": {
     "iopub.execute_input": "2022-08-09T08:04:15.181820Z",
     "iopub.status.busy": "2022-08-09T08:04:15.181336Z",
     "iopub.status.idle": "2022-08-09T08:04:15.188893Z",
     "shell.execute_reply": "2022-08-09T08:04:15.187791Z"
    },
    "papermill": {
     "duration": 0.021218,
     "end_time": "2022-08-09T08:04:15.191239",
     "exception": false,
     "start_time": "2022-08-09T08:04:15.170021",
     "status": "completed"
    },
    "tags": []
   },
   "outputs": [],
   "source": [
    "# LightGBM parameters\n",
    "lgb_params = {'metric': {'mse'},\n",
    "              'boosting_type' : 'gbdt',\n",
    "              'num_leaves': 8,\n",
    "              'learning_rate': 0.2,\n",
    "              #'feature_fraction': 0.8,\n",
    "              'max_depth': 7,\n",
    "              'verbose': 0,\n",
    "              'num_boost_round': 5000,\n",
    "              'early_stopping_rounds': 200,\n",
    "              'nthread': -1,\n",
    "             'force_col_wise':True}\n",
    "\n",
    "lgbtrain = lgb.Dataset(data=X_train, label=y_train, feature_name=col_X)\n",
    "lgbtest = lgb.Dataset(data=X_val, label=y_val, reference=lgbtrain, feature_name=col_X)"
   ]
  },
  {
   "cell_type": "code",
   "execution_count": 33,
   "outputs": [
    {
     "data": {
      "text/plain": "        store_nbr                      family  onpromotion  cluster Holiday_type    locale         description transferred  dcoilwtico  month  day_of_month  day_of_year  week_of_year  day_of_week  sales_lag_16  sales_lag_17  sales_lag_18  sales_lag_19  sales_lag_20  sales_lag_21  sales_lag_22  sales_lag_30  sales_lag_31  sales_lag_90  sales_lag_180  sales_lag_365  sales_roll_mean_16  sales_roll_mean_17  sales_roll_mean_18  sales_roll_mean_30  sales_ewm_alpha_095_lag_1  \\\n657558          1                  AUTOMOTIVE            0       13      Holiday  National  Primer dia del ano       False       98.17      1             1            1             1            2      0.529835      2.284376      0.708730      5.210110      3.877762      4.073425      1.074169      2.515256     -1.052063      0.954282       3.302942       7.422629           -0.064157            1.505815            2.079193            2.865655                   1.948011   \n657559          1                   BABY CARE            0       13      Holiday  National  Primer dia del ano       False       98.17      1             1            1             1            2     -0.181434      2.530276     -2.007042     -0.008737     -0.816748      3.517063     -1.258204     -0.643785     -0.496745     -1.154643      -3.451016       1.616755            2.178659           -2.375046            0.495025           -1.746698                   0.000000   \n657560          1                      BEAUTY            0       13      Holiday  National  Primer dia del ano       False       98.17      1             1            1             1            2      4.867686      0.666190      1.822694      2.100918      3.873711     -0.418717      2.417790      1.112978      0.414392      5.065818       1.268647      -2.640642           -0.032430            3.444366            2.575805            4.227790                   1.092739   \n657561          1                   BEVERAGES            0       13      Holiday  National  Primer dia del ano       False       98.17      1             1            1             1            2   1150.576294    459.685187   1248.288448   1146.558262   1193.090644   1085.146819   1031.260963    989.487572    431.734695    843.394453     894.806742    1159.809824          879.461433          873.035361          864.273774          859.862116                 846.224011   \n657562          1                       BOOKS            0       13      Holiday  National  Primer dia del ano       False       98.17      1             1            1             1            2     -1.341586     -1.477876     -1.422423     -0.232789     -2.937901     -0.582292     -1.549772      0.778080     -0.879925      1.627472      -5.361989       2.341772            1.863929           -0.780539           -3.726175           -0.427120                   0.000000   \n...           ...                         ...          ...      ...          ...       ...                 ...         ...         ...    ...           ...          ...           ...          ...           ...           ...           ...           ...           ...           ...           ...           ...           ...           ...            ...            ...                 ...                 ...                 ...                 ...                        ...   \n3029395         9                     POULTRY            0        6          NaN       NaN                 NaN         NaN       49.19      8             1          213            31            1    570.656547    519.014054    441.250087    316.665066    348.725122    322.177733    465.652318    514.382317    857.363984    542.262949     418.165727     451.798242          458.360139          467.451210          472.285322          487.391371                 472.655814   \n3029396         9              PREPARED FOODS            0        6          NaN       NaN                 NaN         NaN       49.19      8             1          213            31            1    129.319188    144.219754    113.035236     95.595152     77.709682    105.740058    124.727282    136.678630    170.828755    150.697380     132.844699      91.264456          117.599445          122.561945          122.769641          129.685687                  66.124368   \n3029397         9                     PRODUCE          151        6          NaN       NaN                 NaN         NaN       49.19      8             1          213            31            1   2044.023184   1750.641241   1257.428670   1251.982213   1387.996046   2184.508753   1602.490512   1799.528348   2640.690694   1687.462024    1674.967468    1486.940696         1739.771418         1763.433211         1764.990145         1785.349664                1535.375566   \n3029398         9  SCHOOL AND OFFICE SUPPLIES            9        6          NaN       NaN                 NaN         NaN       49.19      8             1          213            31            1     -0.035787      2.795543      0.551256      2.447644     -0.727402      1.683360     -3.761050      1.929152      5.646667      8.999936       5.745994       4.487391           -0.092136            4.153192            1.336870            3.877485                  55.198005   \n3029399         9                     SEAFOOD            0        6          NaN       NaN                 NaN         NaN       49.19      8             1          213            31            1     18.579610     37.395292     15.671231     17.861444     14.314321      9.854058      9.791423     16.382343     35.741219     37.703375       7.080707      17.262127           17.691120           15.482341           17.436341           16.566799                  12.399090   \n\n         sales_ewm_alpha_095_lag_7  sales_ewm_alpha_095_lag_30  sales_ewm_alpha_09_lag_1  sales_ewm_alpha_09_lag_7  sales_ewm_alpha_09_lag_30  sales_ewm_alpha_08_lag_1  sales_ewm_alpha_08_lag_7  sales_ewm_alpha_08_lag_30  sales_ewm_alpha_05_lag_1  sales_ewm_alpha_05_lag_7  sales_ewm_alpha_05_lag_30  \n657558                    0.997531                    2.850125                  1.894159                  0.990495                   2.701010                  1.793854                  0.967697                   2.408306                  1.734309                  0.995803                   1.649229  \n657559                    0.000000                    0.000000                  0.000000                  0.000000                   0.000000                  0.000000                  0.000000                   0.000000                  0.000000                  0.000000                   0.000000  \n657560                    2.002488                    4.750125                  1.171847                  2.009809                   4.501009                  1.294210                  2.037045                   4.008277                  1.486519                  2.137243                   2.650041  \n657561                 1257.132902                  964.381324                849.093294               1262.965954                 940.485374                846.694477               1265.199803                 900.583271                817.460363               1214.463231                 838.076597  \n657562                    0.000000                    0.000000                  0.000000                  0.000000                   0.000000                  0.000000                  0.000000                   0.000000                  0.000000                  0.000000                   0.000000  \n...                            ...                         ...                       ...                       ...                        ...                       ...                       ...                        ...                       ...                       ...                        ...  \n3029395                 319.198560                  531.301019                474.348890                319.482360                 547.758985                476.324564                323.205345                 578.155552                466.832951                354.385849                 625.841949  \n3029396                  53.874065                  137.365348                 70.280078                 55.895064                 138.982387                 78.260842                 60.058888                 141.952373                 95.360105                 73.793706                 145.723402  \n3029397                2073.678593                 1837.909370               1552.053040               2049.814028                1875.240158               1580.249364               2008.004903                1937.820042               1601.379946               1890.045546                1993.888392  \n3029398                   4.850106                    2.139887                 54.284072                  4.700701                   2.259199                 52.072730                  4.403258                   2.435172                 41.475828                  3.452973                   2.513853  \n3029399                  17.318225                   18.162283                 12.799874                 17.276368                  18.978547                 13.572881                 17.270558                  20.532113                 15.169948                 17.805699                  23.480864  \n\n[2371842 rows x 42 columns]",
      "text/html": "<div>\n<style scoped>\n    .dataframe tbody tr th:only-of-type {\n        vertical-align: middle;\n    }\n\n    .dataframe tbody tr th {\n        vertical-align: top;\n    }\n\n    .dataframe thead th {\n        text-align: right;\n    }\n</style>\n<table border=\"1\" class=\"dataframe\">\n  <thead>\n    <tr style=\"text-align: right;\">\n      <th></th>\n      <th>store_nbr</th>\n      <th>family</th>\n      <th>onpromotion</th>\n      <th>cluster</th>\n      <th>Holiday_type</th>\n      <th>locale</th>\n      <th>description</th>\n      <th>transferred</th>\n      <th>dcoilwtico</th>\n      <th>month</th>\n      <th>day_of_month</th>\n      <th>day_of_year</th>\n      <th>week_of_year</th>\n      <th>day_of_week</th>\n      <th>sales_lag_16</th>\n      <th>sales_lag_17</th>\n      <th>sales_lag_18</th>\n      <th>sales_lag_19</th>\n      <th>sales_lag_20</th>\n      <th>sales_lag_21</th>\n      <th>sales_lag_22</th>\n      <th>sales_lag_30</th>\n      <th>sales_lag_31</th>\n      <th>sales_lag_90</th>\n      <th>sales_lag_180</th>\n      <th>sales_lag_365</th>\n      <th>sales_roll_mean_16</th>\n      <th>sales_roll_mean_17</th>\n      <th>sales_roll_mean_18</th>\n      <th>sales_roll_mean_30</th>\n      <th>sales_ewm_alpha_095_lag_1</th>\n      <th>sales_ewm_alpha_095_lag_7</th>\n      <th>sales_ewm_alpha_095_lag_30</th>\n      <th>sales_ewm_alpha_09_lag_1</th>\n      <th>sales_ewm_alpha_09_lag_7</th>\n      <th>sales_ewm_alpha_09_lag_30</th>\n      <th>sales_ewm_alpha_08_lag_1</th>\n      <th>sales_ewm_alpha_08_lag_7</th>\n      <th>sales_ewm_alpha_08_lag_30</th>\n      <th>sales_ewm_alpha_05_lag_1</th>\n      <th>sales_ewm_alpha_05_lag_7</th>\n      <th>sales_ewm_alpha_05_lag_30</th>\n    </tr>\n  </thead>\n  <tbody>\n    <tr>\n      <th>657558</th>\n      <td>1</td>\n      <td>AUTOMOTIVE</td>\n      <td>0</td>\n      <td>13</td>\n      <td>Holiday</td>\n      <td>National</td>\n      <td>Primer dia del ano</td>\n      <td>False</td>\n      <td>98.17</td>\n      <td>1</td>\n      <td>1</td>\n      <td>1</td>\n      <td>1</td>\n      <td>2</td>\n      <td>0.529835</td>\n      <td>2.284376</td>\n      <td>0.708730</td>\n      <td>5.210110</td>\n      <td>3.877762</td>\n      <td>4.073425</td>\n      <td>1.074169</td>\n      <td>2.515256</td>\n      <td>-1.052063</td>\n      <td>0.954282</td>\n      <td>3.302942</td>\n      <td>7.422629</td>\n      <td>-0.064157</td>\n      <td>1.505815</td>\n      <td>2.079193</td>\n      <td>2.865655</td>\n      <td>1.948011</td>\n      <td>0.997531</td>\n      <td>2.850125</td>\n      <td>1.894159</td>\n      <td>0.990495</td>\n      <td>2.701010</td>\n      <td>1.793854</td>\n      <td>0.967697</td>\n      <td>2.408306</td>\n      <td>1.734309</td>\n      <td>0.995803</td>\n      <td>1.649229</td>\n    </tr>\n    <tr>\n      <th>657559</th>\n      <td>1</td>\n      <td>BABY CARE</td>\n      <td>0</td>\n      <td>13</td>\n      <td>Holiday</td>\n      <td>National</td>\n      <td>Primer dia del ano</td>\n      <td>False</td>\n      <td>98.17</td>\n      <td>1</td>\n      <td>1</td>\n      <td>1</td>\n      <td>1</td>\n      <td>2</td>\n      <td>-0.181434</td>\n      <td>2.530276</td>\n      <td>-2.007042</td>\n      <td>-0.008737</td>\n      <td>-0.816748</td>\n      <td>3.517063</td>\n      <td>-1.258204</td>\n      <td>-0.643785</td>\n      <td>-0.496745</td>\n      <td>-1.154643</td>\n      <td>-3.451016</td>\n      <td>1.616755</td>\n      <td>2.178659</td>\n      <td>-2.375046</td>\n      <td>0.495025</td>\n      <td>-1.746698</td>\n      <td>0.000000</td>\n      <td>0.000000</td>\n      <td>0.000000</td>\n      <td>0.000000</td>\n      <td>0.000000</td>\n      <td>0.000000</td>\n      <td>0.000000</td>\n      <td>0.000000</td>\n      <td>0.000000</td>\n      <td>0.000000</td>\n      <td>0.000000</td>\n      <td>0.000000</td>\n    </tr>\n    <tr>\n      <th>657560</th>\n      <td>1</td>\n      <td>BEAUTY</td>\n      <td>0</td>\n      <td>13</td>\n      <td>Holiday</td>\n      <td>National</td>\n      <td>Primer dia del ano</td>\n      <td>False</td>\n      <td>98.17</td>\n      <td>1</td>\n      <td>1</td>\n      <td>1</td>\n      <td>1</td>\n      <td>2</td>\n      <td>4.867686</td>\n      <td>0.666190</td>\n      <td>1.822694</td>\n      <td>2.100918</td>\n      <td>3.873711</td>\n      <td>-0.418717</td>\n      <td>2.417790</td>\n      <td>1.112978</td>\n      <td>0.414392</td>\n      <td>5.065818</td>\n      <td>1.268647</td>\n      <td>-2.640642</td>\n      <td>-0.032430</td>\n      <td>3.444366</td>\n      <td>2.575805</td>\n      <td>4.227790</td>\n      <td>1.092739</td>\n      <td>2.002488</td>\n      <td>4.750125</td>\n      <td>1.171847</td>\n      <td>2.009809</td>\n      <td>4.501009</td>\n      <td>1.294210</td>\n      <td>2.037045</td>\n      <td>4.008277</td>\n      <td>1.486519</td>\n      <td>2.137243</td>\n      <td>2.650041</td>\n    </tr>\n    <tr>\n      <th>657561</th>\n      <td>1</td>\n      <td>BEVERAGES</td>\n      <td>0</td>\n      <td>13</td>\n      <td>Holiday</td>\n      <td>National</td>\n      <td>Primer dia del ano</td>\n      <td>False</td>\n      <td>98.17</td>\n      <td>1</td>\n      <td>1</td>\n      <td>1</td>\n      <td>1</td>\n      <td>2</td>\n      <td>1150.576294</td>\n      <td>459.685187</td>\n      <td>1248.288448</td>\n      <td>1146.558262</td>\n      <td>1193.090644</td>\n      <td>1085.146819</td>\n      <td>1031.260963</td>\n      <td>989.487572</td>\n      <td>431.734695</td>\n      <td>843.394453</td>\n      <td>894.806742</td>\n      <td>1159.809824</td>\n      <td>879.461433</td>\n      <td>873.035361</td>\n      <td>864.273774</td>\n      <td>859.862116</td>\n      <td>846.224011</td>\n      <td>1257.132902</td>\n      <td>964.381324</td>\n      <td>849.093294</td>\n      <td>1262.965954</td>\n      <td>940.485374</td>\n      <td>846.694477</td>\n      <td>1265.199803</td>\n      <td>900.583271</td>\n      <td>817.460363</td>\n      <td>1214.463231</td>\n      <td>838.076597</td>\n    </tr>\n    <tr>\n      <th>657562</th>\n      <td>1</td>\n      <td>BOOKS</td>\n      <td>0</td>\n      <td>13</td>\n      <td>Holiday</td>\n      <td>National</td>\n      <td>Primer dia del ano</td>\n      <td>False</td>\n      <td>98.17</td>\n      <td>1</td>\n      <td>1</td>\n      <td>1</td>\n      <td>1</td>\n      <td>2</td>\n      <td>-1.341586</td>\n      <td>-1.477876</td>\n      <td>-1.422423</td>\n      <td>-0.232789</td>\n      <td>-2.937901</td>\n      <td>-0.582292</td>\n      <td>-1.549772</td>\n      <td>0.778080</td>\n      <td>-0.879925</td>\n      <td>1.627472</td>\n      <td>-5.361989</td>\n      <td>2.341772</td>\n      <td>1.863929</td>\n      <td>-0.780539</td>\n      <td>-3.726175</td>\n      <td>-0.427120</td>\n      <td>0.000000</td>\n      <td>0.000000</td>\n      <td>0.000000</td>\n      <td>0.000000</td>\n      <td>0.000000</td>\n      <td>0.000000</td>\n      <td>0.000000</td>\n      <td>0.000000</td>\n      <td>0.000000</td>\n      <td>0.000000</td>\n      <td>0.000000</td>\n      <td>0.000000</td>\n    </tr>\n    <tr>\n      <th>...</th>\n      <td>...</td>\n      <td>...</td>\n      <td>...</td>\n      <td>...</td>\n      <td>...</td>\n      <td>...</td>\n      <td>...</td>\n      <td>...</td>\n      <td>...</td>\n      <td>...</td>\n      <td>...</td>\n      <td>...</td>\n      <td>...</td>\n      <td>...</td>\n      <td>...</td>\n      <td>...</td>\n      <td>...</td>\n      <td>...</td>\n      <td>...</td>\n      <td>...</td>\n      <td>...</td>\n      <td>...</td>\n      <td>...</td>\n      <td>...</td>\n      <td>...</td>\n      <td>...</td>\n      <td>...</td>\n      <td>...</td>\n      <td>...</td>\n      <td>...</td>\n      <td>...</td>\n      <td>...</td>\n      <td>...</td>\n      <td>...</td>\n      <td>...</td>\n      <td>...</td>\n      <td>...</td>\n      <td>...</td>\n      <td>...</td>\n      <td>...</td>\n      <td>...</td>\n      <td>...</td>\n    </tr>\n    <tr>\n      <th>3029395</th>\n      <td>9</td>\n      <td>POULTRY</td>\n      <td>0</td>\n      <td>6</td>\n      <td>NaN</td>\n      <td>NaN</td>\n      <td>NaN</td>\n      <td>NaN</td>\n      <td>49.19</td>\n      <td>8</td>\n      <td>1</td>\n      <td>213</td>\n      <td>31</td>\n      <td>1</td>\n      <td>570.656547</td>\n      <td>519.014054</td>\n      <td>441.250087</td>\n      <td>316.665066</td>\n      <td>348.725122</td>\n      <td>322.177733</td>\n      <td>465.652318</td>\n      <td>514.382317</td>\n      <td>857.363984</td>\n      <td>542.262949</td>\n      <td>418.165727</td>\n      <td>451.798242</td>\n      <td>458.360139</td>\n      <td>467.451210</td>\n      <td>472.285322</td>\n      <td>487.391371</td>\n      <td>472.655814</td>\n      <td>319.198560</td>\n      <td>531.301019</td>\n      <td>474.348890</td>\n      <td>319.482360</td>\n      <td>547.758985</td>\n      <td>476.324564</td>\n      <td>323.205345</td>\n      <td>578.155552</td>\n      <td>466.832951</td>\n      <td>354.385849</td>\n      <td>625.841949</td>\n    </tr>\n    <tr>\n      <th>3029396</th>\n      <td>9</td>\n      <td>PREPARED FOODS</td>\n      <td>0</td>\n      <td>6</td>\n      <td>NaN</td>\n      <td>NaN</td>\n      <td>NaN</td>\n      <td>NaN</td>\n      <td>49.19</td>\n      <td>8</td>\n      <td>1</td>\n      <td>213</td>\n      <td>31</td>\n      <td>1</td>\n      <td>129.319188</td>\n      <td>144.219754</td>\n      <td>113.035236</td>\n      <td>95.595152</td>\n      <td>77.709682</td>\n      <td>105.740058</td>\n      <td>124.727282</td>\n      <td>136.678630</td>\n      <td>170.828755</td>\n      <td>150.697380</td>\n      <td>132.844699</td>\n      <td>91.264456</td>\n      <td>117.599445</td>\n      <td>122.561945</td>\n      <td>122.769641</td>\n      <td>129.685687</td>\n      <td>66.124368</td>\n      <td>53.874065</td>\n      <td>137.365348</td>\n      <td>70.280078</td>\n      <td>55.895064</td>\n      <td>138.982387</td>\n      <td>78.260842</td>\n      <td>60.058888</td>\n      <td>141.952373</td>\n      <td>95.360105</td>\n      <td>73.793706</td>\n      <td>145.723402</td>\n    </tr>\n    <tr>\n      <th>3029397</th>\n      <td>9</td>\n      <td>PRODUCE</td>\n      <td>151</td>\n      <td>6</td>\n      <td>NaN</td>\n      <td>NaN</td>\n      <td>NaN</td>\n      <td>NaN</td>\n      <td>49.19</td>\n      <td>8</td>\n      <td>1</td>\n      <td>213</td>\n      <td>31</td>\n      <td>1</td>\n      <td>2044.023184</td>\n      <td>1750.641241</td>\n      <td>1257.428670</td>\n      <td>1251.982213</td>\n      <td>1387.996046</td>\n      <td>2184.508753</td>\n      <td>1602.490512</td>\n      <td>1799.528348</td>\n      <td>2640.690694</td>\n      <td>1687.462024</td>\n      <td>1674.967468</td>\n      <td>1486.940696</td>\n      <td>1739.771418</td>\n      <td>1763.433211</td>\n      <td>1764.990145</td>\n      <td>1785.349664</td>\n      <td>1535.375566</td>\n      <td>2073.678593</td>\n      <td>1837.909370</td>\n      <td>1552.053040</td>\n      <td>2049.814028</td>\n      <td>1875.240158</td>\n      <td>1580.249364</td>\n      <td>2008.004903</td>\n      <td>1937.820042</td>\n      <td>1601.379946</td>\n      <td>1890.045546</td>\n      <td>1993.888392</td>\n    </tr>\n    <tr>\n      <th>3029398</th>\n      <td>9</td>\n      <td>SCHOOL AND OFFICE SUPPLIES</td>\n      <td>9</td>\n      <td>6</td>\n      <td>NaN</td>\n      <td>NaN</td>\n      <td>NaN</td>\n      <td>NaN</td>\n      <td>49.19</td>\n      <td>8</td>\n      <td>1</td>\n      <td>213</td>\n      <td>31</td>\n      <td>1</td>\n      <td>-0.035787</td>\n      <td>2.795543</td>\n      <td>0.551256</td>\n      <td>2.447644</td>\n      <td>-0.727402</td>\n      <td>1.683360</td>\n      <td>-3.761050</td>\n      <td>1.929152</td>\n      <td>5.646667</td>\n      <td>8.999936</td>\n      <td>5.745994</td>\n      <td>4.487391</td>\n      <td>-0.092136</td>\n      <td>4.153192</td>\n      <td>1.336870</td>\n      <td>3.877485</td>\n      <td>55.198005</td>\n      <td>4.850106</td>\n      <td>2.139887</td>\n      <td>54.284072</td>\n      <td>4.700701</td>\n      <td>2.259199</td>\n      <td>52.072730</td>\n      <td>4.403258</td>\n      <td>2.435172</td>\n      <td>41.475828</td>\n      <td>3.452973</td>\n      <td>2.513853</td>\n    </tr>\n    <tr>\n      <th>3029399</th>\n      <td>9</td>\n      <td>SEAFOOD</td>\n      <td>0</td>\n      <td>6</td>\n      <td>NaN</td>\n      <td>NaN</td>\n      <td>NaN</td>\n      <td>NaN</td>\n      <td>49.19</td>\n      <td>8</td>\n      <td>1</td>\n      <td>213</td>\n      <td>31</td>\n      <td>1</td>\n      <td>18.579610</td>\n      <td>37.395292</td>\n      <td>15.671231</td>\n      <td>17.861444</td>\n      <td>14.314321</td>\n      <td>9.854058</td>\n      <td>9.791423</td>\n      <td>16.382343</td>\n      <td>35.741219</td>\n      <td>37.703375</td>\n      <td>7.080707</td>\n      <td>17.262127</td>\n      <td>17.691120</td>\n      <td>15.482341</td>\n      <td>17.436341</td>\n      <td>16.566799</td>\n      <td>12.399090</td>\n      <td>17.318225</td>\n      <td>18.162283</td>\n      <td>12.799874</td>\n      <td>17.276368</td>\n      <td>18.978547</td>\n      <td>13.572881</td>\n      <td>17.270558</td>\n      <td>20.532113</td>\n      <td>15.169948</td>\n      <td>17.805699</td>\n      <td>23.480864</td>\n    </tr>\n  </tbody>\n</table>\n<p>2371842 rows × 42 columns</p>\n</div>"
     },
     "execution_count": 33,
     "metadata": {},
     "output_type": "execute_result"
    }
   ],
   "source": [
    "X_train"
   ],
   "metadata": {
    "collapsed": false
   }
  },
  {
   "cell_type": "code",
   "execution_count": 34,
   "outputs": [
    {
     "data": {
      "text/plain": "657558     0.000000\n657559     0.000000\n657560     0.000000\n657561     0.000000\n657562     0.000000\n             ...   \n3029395    6.347732\n3029396    3.940863\n3029397    7.812565\n3029398    5.318120\n3029399    3.011409\nName: sales, Length: 2371842, dtype: float64"
     },
     "execution_count": 34,
     "metadata": {},
     "output_type": "execute_result"
    }
   ],
   "source": [
    "y_train"
   ],
   "metadata": {
    "collapsed": false
   }
  },
  {
   "cell_type": "code",
   "execution_count": null,
   "id": "469d74fb",
   "metadata": {
    "execution": {
     "iopub.execute_input": "2022-08-09T08:04:15.213244Z",
     "iopub.status.busy": "2022-08-09T08:04:15.212774Z",
     "iopub.status.idle": "2022-08-09T08:15:39.721049Z",
     "shell.execute_reply": "2022-08-09T08:15:39.719063Z"
    },
    "papermill": {
     "duration": 684.523465,
     "end_time": "2022-08-09T08:15:39.724738",
     "exception": false,
     "start_time": "2022-08-09T08:04:15.201273",
     "status": "completed"
    },
    "tags": [],
    "pycharm": {
     "is_executing": true
    }
   },
   "outputs": [],
   "source": [
    "from sklearn.metrics import mean_absolute_error\n",
    "model = lgb.train(lgb_params, lgbtrain,\n",
    "                  valid_sets=[lgbtrain, lgbtest],\n",
    "                  num_boost_round=lgb_params['num_boost_round'],\n",
    "                  early_stopping_rounds=lgb_params['early_stopping_rounds'],\n",
    "                  #feval=mean_absolute_error,\n",
    "                  verbose_eval=100,\n",
    "                  )"
   ]
  },
  {
   "cell_type": "code",
   "execution_count": null,
   "id": "fe9a1c6e",
   "metadata": {
    "execution": {
     "iopub.execute_input": "2022-08-09T08:15:39.752454Z",
     "iopub.status.busy": "2022-08-09T08:15:39.751933Z",
     "iopub.status.idle": "2022-08-09T08:15:41.489695Z",
     "shell.execute_reply": "2022-08-09T08:15:41.488519Z"
    },
    "papermill": {
     "duration": 1.755506,
     "end_time": "2022-08-09T08:15:41.493150",
     "exception": false,
     "start_time": "2022-08-09T08:15:39.737644",
     "status": "completed"
    },
    "tags": [],
    "pycharm": {
     "is_executing": true
    }
   },
   "outputs": [],
   "source": [
    "y_pred_val = model.predict(X_val, num_iteration=model.best_iteration)"
   ]
  },
  {
   "cell_type": "code",
   "execution_count": null,
   "id": "b4239cf8",
   "metadata": {
    "execution": {
     "iopub.execute_input": "2022-08-09T08:15:41.521617Z",
     "iopub.status.busy": "2022-08-09T08:15:41.520783Z",
     "iopub.status.idle": "2022-08-09T08:15:41.526695Z",
     "shell.execute_reply": "2022-08-09T08:15:41.525445Z"
    },
    "papermill": {
     "duration": 0.022427,
     "end_time": "2022-08-09T08:15:41.529500",
     "exception": false,
     "start_time": "2022-08-09T08:15:41.507073",
     "status": "completed"
    },
    "tags": [],
    "pycharm": {
     "is_executing": true
    }
   },
   "outputs": [],
   "source": [
    "from sklearn.metrics import mean_squared_log_error"
   ]
  },
  {
   "cell_type": "code",
   "execution_count": null,
   "id": "554225b7",
   "metadata": {
    "execution": {
     "iopub.execute_input": "2022-08-09T08:15:41.556650Z",
     "iopub.status.busy": "2022-08-09T08:15:41.555692Z",
     "iopub.status.idle": "2022-08-09T08:15:41.562194Z",
     "shell.execute_reply": "2022-08-09T08:15:41.560796Z"
    },
    "papermill": {
     "duration": 0.02272,
     "end_time": "2022-08-09T08:15:41.564766",
     "exception": false,
     "start_time": "2022-08-09T08:15:41.542046",
     "status": "completed"
    },
    "tags": [],
    "pycharm": {
     "is_executing": true
    }
   },
   "outputs": [],
   "source": [
    "y_pred_val[y_pred_val<0]=0"
   ]
  },
  {
   "cell_type": "code",
   "execution_count": null,
   "id": "d6f3a979",
   "metadata": {
    "execution": {
     "iopub.execute_input": "2022-08-09T08:15:41.591716Z",
     "iopub.status.busy": "2022-08-09T08:15:41.590997Z",
     "iopub.status.idle": "2022-08-09T08:15:41.603178Z",
     "shell.execute_reply": "2022-08-09T08:15:41.601868Z"
    },
    "papermill": {
     "duration": 0.028933,
     "end_time": "2022-08-09T08:15:41.605956",
     "exception": false,
     "start_time": "2022-08-09T08:15:41.577023",
     "status": "completed"
    },
    "tags": [],
    "pycharm": {
     "is_executing": true
    }
   },
   "outputs": [],
   "source": [
    "mean_squared_log_error(np.expm1(y_val), np.expm1(y_pred_val))"
   ]
  },
  {
   "cell_type": "code",
   "execution_count": null,
   "id": "e1dda280",
   "metadata": {
    "execution": {
     "iopub.execute_input": "2022-08-09T08:15:41.632960Z",
     "iopub.status.busy": "2022-08-09T08:15:41.632461Z",
     "iopub.status.idle": "2022-08-09T08:15:41.965308Z",
     "shell.execute_reply": "2022-08-09T08:15:41.963818Z"
    },
    "papermill": {
     "duration": 0.349788,
     "end_time": "2022-08-09T08:15:41.968318",
     "exception": false,
     "start_time": "2022-08-09T08:15:41.618530",
     "status": "completed"
    },
    "tags": [],
    "pycharm": {
     "is_executing": true
    }
   },
   "outputs": [],
   "source": [
    "plt.scatter(np.expm1(y_val),np.expm1(y_pred_val))"
   ]
  },
  {
   "cell_type": "code",
   "execution_count": null,
   "id": "c218ed06",
   "metadata": {
    "execution": {
     "iopub.execute_input": "2022-08-09T08:15:41.997540Z",
     "iopub.status.busy": "2022-08-09T08:15:41.997051Z",
     "iopub.status.idle": "2022-08-09T08:15:42.008623Z",
     "shell.execute_reply": "2022-08-09T08:15:42.007302Z"
    },
    "papermill": {
     "duration": 0.029374,
     "end_time": "2022-08-09T08:15:42.011576",
     "exception": false,
     "start_time": "2022-08-09T08:15:41.982202",
     "status": "completed"
    },
    "tags": [],
    "pycharm": {
     "is_executing": true
    }
   },
   "outputs": [],
   "source": [
    "model.feature_importance()"
   ]
  },
  {
   "cell_type": "code",
   "execution_count": null,
   "id": "d9a6c144",
   "metadata": {
    "execution": {
     "iopub.execute_input": "2022-08-09T08:15:42.041375Z",
     "iopub.status.busy": "2022-08-09T08:15:42.040588Z",
     "iopub.status.idle": "2022-08-09T08:15:42.048061Z",
     "shell.execute_reply": "2022-08-09T08:15:42.046950Z"
    },
    "papermill": {
     "duration": 0.025089,
     "end_time": "2022-08-09T08:15:42.050893",
     "exception": false,
     "start_time": "2022-08-09T08:15:42.025804",
     "status": "completed"
    },
    "tags": [],
    "pycharm": {
     "is_executing": true
    }
   },
   "outputs": [],
   "source": [
    "model.feature_name()"
   ]
  },
  {
   "cell_type": "markdown",
   "id": "e8352595",
   "metadata": {
    "execution": {
     "iopub.execute_input": "2022-08-09T07:22:22.185343Z",
     "iopub.status.busy": "2022-08-09T07:22:22.184835Z",
     "iopub.status.idle": "2022-08-09T07:22:22.190529Z",
     "shell.execute_reply": "2022-08-09T07:22:22.189396Z",
     "shell.execute_reply.started": "2022-08-09T07:22:22.185295Z"
    },
    "papermill": {
     "duration": 0.012449,
     "end_time": "2022-08-09T08:15:42.076910",
     "exception": false,
     "start_time": "2022-08-09T08:15:42.064461",
     "status": "completed"
    },
    "tags": []
   },
   "source": [
    "## Submission"
   ]
  },
  {
   "cell_type": "code",
   "execution_count": null,
   "id": "adda9861",
   "metadata": {
    "execution": {
     "iopub.execute_input": "2022-08-09T08:15:42.106042Z",
     "iopub.status.busy": "2022-08-09T08:15:42.105328Z",
     "iopub.status.idle": "2022-08-09T08:15:43.972765Z",
     "shell.execute_reply": "2022-08-09T08:15:43.971544Z"
    },
    "papermill": {
     "duration": 1.886121,
     "end_time": "2022-08-09T08:15:43.975942",
     "exception": false,
     "start_time": "2022-08-09T08:15:42.089821",
     "status": "completed"
    },
    "tags": [],
    "pycharm": {
     "is_executing": true
    }
   },
   "outputs": [],
   "source": [
    "submission = pd.read_csv(r\"C:\\Users\\derek.filko\\DataspellProjects\\Kaggle\\Store Sales\\data\\sample_submission.csv\")\n",
    "y_test = model.predict(X_test, num_iteration=model.best_iteration)"
   ]
  },
  {
   "cell_type": "code",
   "execution_count": null,
   "id": "a187a8e2",
   "metadata": {
    "execution": {
     "iopub.execute_input": "2022-08-09T08:15:44.006155Z",
     "iopub.status.busy": "2022-08-09T08:15:44.005020Z",
     "iopub.status.idle": "2022-08-09T08:15:44.011114Z",
     "shell.execute_reply": "2022-08-09T08:15:44.009903Z"
    },
    "papermill": {
     "duration": 0.023484,
     "end_time": "2022-08-09T08:15:44.013961",
     "exception": false,
     "start_time": "2022-08-09T08:15:43.990477",
     "status": "completed"
    },
    "tags": [],
    "pycharm": {
     "is_executing": true
    }
   },
   "outputs": [],
   "source": [
    "y_test[y_test<0]=0"
   ]
  },
  {
   "cell_type": "code",
   "execution_count": null,
   "id": "f18c40eb",
   "metadata": {
    "execution": {
     "iopub.execute_input": "2022-08-09T08:15:44.043624Z",
     "iopub.status.busy": "2022-08-09T08:15:44.042800Z",
     "iopub.status.idle": "2022-08-09T08:15:44.048984Z",
     "shell.execute_reply": "2022-08-09T08:15:44.048015Z"
    },
    "papermill": {
     "duration": 0.023287,
     "end_time": "2022-08-09T08:15:44.051235",
     "exception": false,
     "start_time": "2022-08-09T08:15:44.027948",
     "status": "completed"
    },
    "tags": [],
    "pycharm": {
     "is_executing": true
    }
   },
   "outputs": [],
   "source": [
    "submission[\"sales\"] = np.expm1(y_test)"
   ]
  },
  {
   "cell_type": "code",
   "execution_count": null,
   "id": "5b2d3129",
   "metadata": {
    "execution": {
     "iopub.execute_input": "2022-08-09T08:15:44.079754Z",
     "iopub.status.busy": "2022-08-09T08:15:44.078968Z",
     "iopub.status.idle": "2022-08-09T08:15:44.153589Z",
     "shell.execute_reply": "2022-08-09T08:15:44.152191Z"
    },
    "papermill": {
     "duration": 0.092363,
     "end_time": "2022-08-09T08:15:44.156656",
     "exception": false,
     "start_time": "2022-08-09T08:15:44.064293",
     "status": "completed"
    },
    "tags": [],
    "pycharm": {
     "is_executing": true
    }
   },
   "outputs": [],
   "source": [
    "submission.to_csv(\"submission.csv\",index=False)"
   ]
  },
  {
   "cell_type": "code",
   "execution_count": null,
   "id": "8d7cc8ca",
   "metadata": {
    "execution": {
     "iopub.execute_input": "2022-08-09T08:15:44.186075Z",
     "iopub.status.busy": "2022-08-09T08:15:44.185582Z",
     "iopub.status.idle": "2022-08-09T08:15:44.199168Z",
     "shell.execute_reply": "2022-08-09T08:15:44.198225Z"
    },
    "papermill": {
     "duration": 0.031384,
     "end_time": "2022-08-09T08:15:44.201790",
     "exception": false,
     "start_time": "2022-08-09T08:15:44.170406",
     "status": "completed"
    },
    "tags": [],
    "pycharm": {
     "is_executing": true
    }
   },
   "outputs": [],
   "source": [
    "submission"
   ]
  },
  {
   "cell_type": "code",
   "execution_count": null,
   "id": "ef0290a8",
   "metadata": {
    "papermill": {
     "duration": 0.013066,
     "end_time": "2022-08-09T08:15:44.228152",
     "exception": false,
     "start_time": "2022-08-09T08:15:44.215086",
     "status": "completed"
    },
    "tags": [],
    "pycharm": {
     "is_executing": true
    }
   },
   "outputs": [],
   "source": []
  }
 ],
 "metadata": {
  "kernelspec": {
   "display_name": "Python 3",
   "language": "python",
   "name": "python3"
  },
  "language_info": {
   "codemirror_mode": {
    "name": "ipython",
    "version": 3
   },
   "file_extension": ".py",
   "mimetype": "text/x-python",
   "name": "python",
   "nbconvert_exporter": "python",
   "pygments_lexer": "ipython3",
   "version": "3.7.12"
  },
  "papermill": {
   "default_parameters": {},
   "duration": 819.258906,
   "end_time": "2022-08-09T08:15:45.470301",
   "environment_variables": {},
   "exception": null,
   "input_path": "__notebook__.ipynb",
   "output_path": "__notebook__.ipynb",
   "parameters": {},
   "start_time": "2022-08-09T08:02:06.211395",
   "version": "2.3.4"
  }
 },
 "nbformat": 4,
 "nbformat_minor": 5
}
