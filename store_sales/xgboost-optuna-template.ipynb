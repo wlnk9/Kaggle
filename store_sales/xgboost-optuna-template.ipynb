{
 "cells": [
  {
   "cell_type": "code",
   "execution_count": 1,
   "id": "bd2e2cec",
   "metadata": {
    "collapsed": false,
    "execution": {
     "iopub.execute_input": "2022-11-15T21:20:49.058877Z",
     "iopub.status.busy": "2022-11-15T21:20:49.058444Z",
     "iopub.status.idle": "2022-11-15T21:20:50.934656Z",
     "shell.execute_reply": "2022-11-15T21:20:50.933319Z"
    },
    "jupyter": {
     "outputs_hidden": false
    },
    "papermill": {
     "duration": 1.88877,
     "end_time": "2022-11-15T21:20:50.937409",
     "exception": false,
     "start_time": "2022-11-15T21:20:49.048639",
     "status": "completed"
    },
    "tags": []
   },
   "outputs": [],
   "source": [
    "import pandas as pd\n",
    "import numpy as np\n",
    "import xgboost as xgb\n",
    "import seaborn as sns\n",
    "import matplotlib.pyplot as plt\n",
    "from sklearn.metrics import mean_squared_log_error, mean_squared_error\n",
    "import optuna"
   ]
  },
  {
   "cell_type": "markdown",
   "id": "ea658a67",
   "metadata": {
    "papermill": {
     "duration": 0.006799,
     "end_time": "2022-11-15T21:20:50.951715",
     "exception": false,
     "start_time": "2022-11-15T21:20:50.944916",
     "status": "completed"
    },
    "tags": []
   },
   "source": [
    "## Consolidate Data"
   ]
  },
  {
   "cell_type": "code",
   "execution_count": 2,
   "id": "b574f5d9",
   "metadata": {
    "collapsed": false,
    "execution": {
     "iopub.execute_input": "2022-11-15T21:20:50.967636Z",
     "iopub.status.busy": "2022-11-15T21:20:50.967302Z",
     "iopub.status.idle": "2022-11-15T21:20:55.839993Z",
     "shell.execute_reply": "2022-11-15T21:20:55.838800Z"
    },
    "jupyter": {
     "outputs_hidden": false
    },
    "papermill": {
     "duration": 4.883579,
     "end_time": "2022-11-15T21:20:55.842496",
     "exception": false,
     "start_time": "2022-11-15T21:20:50.958917",
     "status": "completed"
    },
    "tags": []
   },
   "outputs": [],
   "source": [
    "df_train = pd.read_csv(r\"/kaggle/input/store-sales-time-series-forecasting/train.csv\", index_col=0)\n",
    "df_test = pd.read_csv(r\"/kaggle/input/store-sales-time-series-forecasting/test.csv\", index_col=0)\n",
    "df_transactions = pd.read_csv(r\"/kaggle/input/store-sales-time-series-forecasting/transactions.csv\")\n",
    "df_stores = pd.read_csv(r\"/kaggle/input/store-sales-time-series-forecasting/stores.csv\")\n",
    "df_holidays = pd.read_csv(r\"/kaggle/input/store-sales-time-series-forecasting/holidays_events.csv\")\n",
    "df_oil = pd.read_csv(r\"/kaggle/input/store-sales-time-series-forecasting/oil.csv\")"
   ]
  },
  {
   "cell_type": "code",
   "execution_count": 3,
   "id": "e438fdb9",
   "metadata": {
    "collapsed": false,
    "execution": {
     "iopub.execute_input": "2022-11-15T21:20:55.860417Z",
     "iopub.status.busy": "2022-11-15T21:20:55.859968Z",
     "iopub.status.idle": "2022-11-15T21:21:31.217468Z",
     "shell.execute_reply": "2022-11-15T21:21:31.216810Z"
    },
    "jupyter": {
     "outputs_hidden": false
    },
    "papermill": {
     "duration": 35.368797,
     "end_time": "2022-11-15T21:21:31.219648",
     "exception": false,
     "start_time": "2022-11-15T21:20:55.850851",
     "status": "completed"
    },
    "tags": []
   },
   "outputs": [],
   "source": [
    "df_oil['date'] = df_oil['date'].astype(\"datetime64\")\n",
    "df_date = pd.DataFrame(pd.date_range(\"2013-01-01\", \"2017-08-31\"), columns=[\"date\"])\n",
    "df_oil = df_date.merge(df_oil, left_on='date', right_on='date', how='left').fillna(method='ffill').fillna(method='bfill')\n",
    "df = pd.concat([df_train, df_test], ignore_index=True)\n",
    "df = df.merge(df_stores, left_on=\"store_nbr\", right_on=\"store_nbr\", how=\"left\")\n",
    "df_holidays = df_holidays.rename(columns={\"type\": \"Holiday_type\"})\n",
    "df = df.merge(df_holidays, left_on=\"date\", right_on=\"date\", how=\"left\")\n",
    "df = df.merge(df_transactions, left_on=[\"date\", \"store_nbr\"], right_on=[\"date\", \"store_nbr\"], how=\"left\")\n",
    "df[\"date\"] = df[\"date\"].astype(\"datetime64\")\n",
    "df = df.merge(df_oil, left_on=\"date\", right_on=\"date\", how=\"left\")\n",
    "df = df.replace(\",\", \"_\", regex=True)\n",
    "df = df.rename(columns={\"date\": \"Date\"})"
   ]
  },
  {
   "cell_type": "markdown",
   "id": "1b4b7b0b",
   "metadata": {
    "papermill": {
     "duration": 0.007074,
     "end_time": "2022-11-15T21:21:31.235272",
     "exception": false,
     "start_time": "2022-11-15T21:21:31.228198",
     "status": "completed"
    },
    "tags": []
   },
   "source": [
    "## Feature Engineering & Cleanup"
   ]
  },
  {
   "cell_type": "code",
   "execution_count": 4,
   "id": "6050f244",
   "metadata": {
    "collapsed": false,
    "execution": {
     "iopub.execute_input": "2022-11-15T21:21:31.252748Z",
     "iopub.status.busy": "2022-11-15T21:21:31.251349Z",
     "iopub.status.idle": "2022-11-15T21:21:31.260974Z",
     "shell.execute_reply": "2022-11-15T21:21:31.259379Z"
    },
    "jupyter": {
     "outputs_hidden": false
    },
    "papermill": {
     "duration": 0.020672,
     "end_time": "2022-11-15T21:21:31.263838",
     "exception": false,
     "start_time": "2022-11-15T21:21:31.243166",
     "status": "completed"
    },
    "tags": []
   },
   "outputs": [],
   "source": [
    "def categorical_features(df):\n",
    "    df['month'] = df.Date.dt.month.astype('category')\n",
    "    df['day_of_month'] = df.Date.dt.day.astype('category')\n",
    "    df['day_of_year'] = df.Date.dt.dayofyear.astype('category')\n",
    "    df['week_of_year'] = df.Date.dt.isocalendar().week.astype('category')\n",
    "    df['day_of_week'] = df.Date.dt.dayofweek.astype('category')\n",
    "    df['year'] = df.Date.dt.year.astype('category')\n",
    "\n",
    "    categorical_features = ['store_nbr', 'onpromotion', 'cluster']\n",
    "    for col in categorical_features:\n",
    "        df[col] = df[col].astype('category')\n",
    "\n",
    "    return df"
   ]
  },
  {
   "cell_type": "code",
   "execution_count": 5,
   "id": "022e8c26",
   "metadata": {
    "collapsed": false,
    "execution": {
     "iopub.execute_input": "2022-11-15T21:21:31.279534Z",
     "iopub.status.busy": "2022-11-15T21:21:31.279238Z",
     "iopub.status.idle": "2022-11-15T21:21:31.283740Z",
     "shell.execute_reply": "2022-11-15T21:21:31.282543Z"
    },
    "jupyter": {
     "outputs_hidden": false
    },
    "papermill": {
     "duration": 0.014884,
     "end_time": "2022-11-15T21:21:31.285871",
     "exception": false,
     "start_time": "2022-11-15T21:21:31.270987",
     "status": "completed"
    },
    "tags": []
   },
   "outputs": [],
   "source": [
    "LAGS = list(range(16, 23))"
   ]
  },
  {
   "cell_type": "code",
   "execution_count": 6,
   "id": "b5821965",
   "metadata": {
    "collapsed": false,
    "execution": {
     "iopub.execute_input": "2022-11-15T21:21:31.302316Z",
     "iopub.status.busy": "2022-11-15T21:21:31.301753Z",
     "iopub.status.idle": "2022-11-15T21:21:31.307353Z",
     "shell.execute_reply": "2022-11-15T21:21:31.306474Z"
    },
    "jupyter": {
     "outputs_hidden": false
    },
    "papermill": {
     "duration": 0.016328,
     "end_time": "2022-11-15T21:21:31.309473",
     "exception": false,
     "start_time": "2022-11-15T21:21:31.293145",
     "status": "completed"
    },
    "tags": []
   },
   "outputs": [],
   "source": [
    "def lag_features(dataframe, lags):\n",
    "    for lag in lags:\n",
    "        dataframe[f'sales_lag({lag})'] =\\\n",
    "            dataframe.groupby(['store_nbr', 'family'])['sales'].transform(lambda x: x.shift(lag))\n",
    "    for lag in lags:\n",
    "        dataframe[f'oil_lag({lag})'] =\\\n",
    "            dataframe.groupby(['store_nbr', 'family'])['dcoilwtico'].transform(lambda x: x.shift(lag))\n",
    "    return dataframe"
   ]
  },
  {
   "cell_type": "code",
   "execution_count": 7,
   "id": "b060e2a7",
   "metadata": {
    "collapsed": false,
    "execution": {
     "iopub.execute_input": "2022-11-15T21:21:31.326210Z",
     "iopub.status.busy": "2022-11-15T21:21:31.325644Z",
     "iopub.status.idle": "2022-11-15T21:21:53.407227Z",
     "shell.execute_reply": "2022-11-15T21:21:53.405309Z"
    },
    "jupyter": {
     "outputs_hidden": false
    },
    "papermill": {
     "duration": 22.092802,
     "end_time": "2022-11-15T21:21:53.409832",
     "exception": false,
     "start_time": "2022-11-15T21:21:31.317030",
     "status": "completed"
    },
    "tags": []
   },
   "outputs": [],
   "source": [
    "df = categorical_features(df)\n",
    "df = lag_features(df, LAGS)\n",
    "df = df.fillna(value=np.nan)"
   ]
  },
  {
   "cell_type": "code",
   "execution_count": 8,
   "id": "b15867e7",
   "metadata": {
    "collapsed": false,
    "execution": {
     "iopub.execute_input": "2022-11-15T21:21:53.427129Z",
     "iopub.status.busy": "2022-11-15T21:21:53.426759Z",
     "iopub.status.idle": "2022-11-15T21:21:55.750134Z",
     "shell.execute_reply": "2022-11-15T21:21:55.748502Z"
    },
    "jupyter": {
     "outputs_hidden": false
    },
    "papermill": {
     "duration": 2.334783,
     "end_time": "2022-11-15T21:21:55.752732",
     "exception": false,
     "start_time": "2022-11-15T21:21:53.417949",
     "status": "completed"
    },
    "tags": []
   },
   "outputs": [],
   "source": [
    "categorical = df.columns[df.dtypes == 'object'].tolist()\n",
    "numerical = df.columns[(df.dtypes == 'int64') | (df.dtypes == 'float64') | ( df.dtypes == 'UInt32')].tolist()\n",
    "for col in categorical:\n",
    "    df[col] = df[col].astype('category')\n",
    "for col in numerical:\n",
    "    df[col] = df[col].fillna(0)\n",
    "    df[col] = df[col].astype('float32')"
   ]
  },
  {
   "cell_type": "markdown",
   "id": "8ca2c6de",
   "metadata": {
    "papermill": {
     "duration": 0.006417,
     "end_time": "2022-11-15T21:21:55.765914",
     "exception": false,
     "start_time": "2022-11-15T21:21:55.759497",
     "status": "completed"
    },
    "tags": []
   },
   "source": [
    "## Exploratory Data Analysis"
   ]
  },
  {
   "cell_type": "code",
   "execution_count": 9,
   "id": "f3fdf5d1",
   "metadata": {
    "collapsed": false,
    "execution": {
     "iopub.execute_input": "2022-11-15T21:21:55.781923Z",
     "iopub.status.busy": "2022-11-15T21:21:55.781133Z",
     "iopub.status.idle": "2022-11-15T21:21:56.500825Z",
     "shell.execute_reply": "2022-11-15T21:21:56.499808Z"
    },
    "jupyter": {
     "outputs_hidden": false
    },
    "papermill": {
     "duration": 0.72984,
     "end_time": "2022-11-15T21:21:56.502458",
     "exception": false,
     "start_time": "2022-11-15T21:21:55.772618",
     "status": "completed"
    },
    "tags": []
   },
   "outputs": [
    {
     "data": {
      "image/png": "[encoded data removed]",
      "text/plain": [
       "<Figure size 1152x1152 with 4 Axes>"
      ]
     },
     "metadata": {
      "needs_background": "light"
     },
     "output_type": "display_data"
    }
   ],
   "source": [
    "plt.figure(figsize=(16,16))\n",
    "\n",
    "plt.subplot(2,2,1)\n",
    "_ = df.groupby('family')['sales'].mean().sort_values(ascending = False).head(18).to_frame()\n",
    "sns.barplot(data = _, x = _.sales, y = _.index, ci = None, order = list(_.index))\n",
    "plt.xlabel('Average Sales')\n",
    "plt.ylabel('Product Family')\n",
    "plt.title('Average Sales by Product Family')\n",
    "\n",
    "plt.subplot(2,2,2)\n",
    "_ = df.groupby('day_of_week')['sales'].mean().to_frame()\n",
    "sns.barplot(data=_, y=_.sales, x=_.index, ci=None, order=list(_.index))\n",
    "plt.xlabel('Day of Week')\n",
    "plt.ylabel('Average Sales')\n",
    "plt.title('Average Sales by Day of Week')\n",
    "\n",
    "plt.subplot(2,2,3)\n",
    "_ = df.groupby('month')['sales'].mean().to_frame()\n",
    "sns.barplot(data=_, y=_.sales, x=_.index, ci=None, order=list(_.index))\n",
    "plt.xlabel('Month')\n",
    "plt.ylabel('Average Sales')\n",
    "plt.title('Average Sales by Month')\n",
    "\n",
    "plt.subplot(2,2,4)\n",
    "_ = df.groupby('year')['sales'].mean().to_frame()\n",
    "sns.barplot(data=_, y=_.sales, x=_.index, ci=None, order=list(_.index))\n",
    "plt.xlabel('Year')\n",
    "plt.ylabel('Average Sales')\n",
    "plt.title('Average Sales by Year')\n",
    "\n",
    "plt.show()"
   ]
  },
  {
   "cell_type": "markdown",
   "id": "6def3133",
   "metadata": {
    "papermill": {
     "duration": 0.00652,
     "end_time": "2022-11-15T21:21:56.515965",
     "exception": false,
     "start_time": "2022-11-15T21:21:56.509445",
     "status": "completed"
    },
    "tags": []
   },
   "source": [
    "## Train, Validation & Test Split"
   ]
  },
  {
   "cell_type": "code",
   "execution_count": 10,
   "id": "924320fc",
   "metadata": {
    "collapsed": false,
    "execution": {
     "iopub.execute_input": "2022-11-15T21:21:56.531038Z",
     "iopub.status.busy": "2022-11-15T21:21:56.530690Z",
     "iopub.status.idle": "2022-11-15T21:21:56.535549Z",
     "shell.execute_reply": "2022-11-15T21:21:56.534255Z"
    },
    "jupyter": {
     "outputs_hidden": false
    },
    "papermill": {
     "duration": 0.014681,
     "end_time": "2022-11-15T21:21:56.537273",
     "exception": false,
     "start_time": "2022-11-15T21:21:56.522592",
     "status": "completed"
    },
    "tags": []
   },
   "outputs": [],
   "source": [
    "TRAIN_START = '2016-01-01'\n",
    "DROP_FEATURES = ['Date', 'transferred', 'locale_name', 'description']"
   ]
  },
  {
   "cell_type": "code",
   "execution_count": 11,
   "id": "15bc6c88",
   "metadata": {
    "collapsed": false,
    "execution": {
     "iopub.execute_input": "2022-11-15T21:21:56.552261Z",
     "iopub.status.busy": "2022-11-15T21:21:56.551918Z",
     "iopub.status.idle": "2022-11-15T21:21:56.916777Z",
     "shell.execute_reply": "2022-11-15T21:21:56.915777Z"
    },
    "jupyter": {
     "outputs_hidden": false
    },
    "papermill": {
     "duration": 0.37586,
     "end_time": "2022-11-15T21:21:56.920047",
     "exception": false,
     "start_time": "2022-11-15T21:21:56.544187",
     "status": "completed"
    },
    "tags": []
   },
   "outputs": [],
   "source": [
    "train = df[(df['Date'] >= TRAIN_START) & (df['Date'] < '2017-08-01')]\n",
    "validation = df.query(\"Date >= '2017-08-01' & Date <= '2017-08-15'\")\n",
    "test = df.query(\"Date > '2017-08-15'\")\n",
    "df = df.drop(DROP_FEATURES, axis=1)"
   ]
  },
  {
   "cell_type": "code",
   "execution_count": 12,
   "id": "0bb2b862",
   "metadata": {
    "collapsed": false,
    "execution": {
     "iopub.execute_input": "2022-11-15T21:21:56.936733Z",
     "iopub.status.busy": "2022-11-15T21:21:56.936412Z",
     "iopub.status.idle": "2022-11-15T21:21:56.942507Z",
     "shell.execute_reply": "2022-11-15T21:21:56.941335Z"
    },
    "jupyter": {
     "outputs_hidden": false
    },
    "papermill": {
     "duration": 0.017712,
     "end_time": "2022-11-15T21:21:56.945498",
     "exception": false,
     "start_time": "2022-11-15T21:21:56.927786",
     "status": "completed"
    },
    "tags": []
   },
   "outputs": [],
   "source": [
    "TARGET = 'sales'\n",
    "FEATURES = list(df.columns.difference([TARGET]))"
   ]
  },
  {
   "cell_type": "code",
   "execution_count": 13,
   "id": "1c18e2db",
   "metadata": {
    "collapsed": false,
    "execution": {
     "iopub.execute_input": "2022-11-15T21:21:56.962523Z",
     "iopub.status.busy": "2022-11-15T21:21:56.962221Z",
     "iopub.status.idle": "2022-11-15T21:21:56.989669Z",
     "shell.execute_reply": "2022-11-15T21:21:56.988187Z"
    },
    "jupyter": {
     "outputs_hidden": false
    },
    "papermill": {
     "duration": 0.038457,
     "end_time": "2022-11-15T21:21:56.991828",
     "exception": false,
     "start_time": "2022-11-15T21:21:56.953371",
     "status": "completed"
    },
    "tags": []
   },
   "outputs": [],
   "source": [
    "X_train = train[FEATURES]\n",
    "y_train = train[TARGET]\n",
    "X_validation = validation[FEATURES]\n",
    "y_validation = validation[TARGET]\n",
    "X_test = test[FEATURES]\n",
    "y_test = test[TARGET]"
   ]
  },
  {
   "cell_type": "code",
   "execution_count": 14,
   "id": "4077b623",
   "metadata": {
    "collapsed": false,
    "execution": {
     "iopub.execute_input": "2022-11-15T21:21:57.007606Z",
     "iopub.status.busy": "2022-11-15T21:21:57.007216Z",
     "iopub.status.idle": "2022-11-15T21:21:57.685297Z",
     "shell.execute_reply": "2022-11-15T21:21:57.684340Z"
    },
    "jupyter": {
     "outputs_hidden": false
    },
    "papermill": {
     "duration": 0.688339,
     "end_time": "2022-11-15T21:21:57.687639",
     "exception": false,
     "start_time": "2022-11-15T21:21:56.999300",
     "status": "completed"
    },
    "tags": []
   },
   "outputs": [],
   "source": [
    "d_train = xgb.DMatrix(data = X_train, label = y_train, enable_categorical = True)\n",
    "d_validation = xgb.DMatrix(data = X_validation, label = y_validation, enable_categorical = True)\n",
    "d_test = xgb.DMatrix(data = X_test, label = y_test, enable_categorical = True)"
   ]
  },
  {
   "cell_type": "markdown",
   "id": "88764c01",
   "metadata": {
    "papermill": {
     "duration": 0.007654,
     "end_time": "2022-11-15T21:21:57.703445",
     "exception": false,
     "start_time": "2022-11-15T21:21:57.695791",
     "status": "completed"
    },
    "tags": []
   },
   "source": [
    "## Define Parameter Search Space & Run Optuna Study"
   ]
  },
  {
   "cell_type": "code",
   "execution_count": 15,
   "id": "5a6ed5c0",
   "metadata": {
    "collapsed": false,
    "execution": {
     "iopub.execute_input": "2022-11-15T21:21:57.720942Z",
     "iopub.status.busy": "2022-11-15T21:21:57.720591Z",
     "iopub.status.idle": "2022-11-15T21:21:57.725348Z",
     "shell.execute_reply": "2022-11-15T21:21:57.724325Z"
    },
    "jupyter": {
     "outputs_hidden": false
    },
    "papermill": {
     "duration": 0.015853,
     "end_time": "2022-11-15T21:21:57.727314",
     "exception": false,
     "start_time": "2022-11-15T21:21:57.711461",
     "status": "completed"
    },
    "tags": []
   },
   "outputs": [],
   "source": [
    "NUM_TRIALS = 20\n",
    "EARLY_STOP = 10"
   ]
  },
  {
   "cell_type": "code",
   "execution_count": 16,
   "id": "32228bfe",
   "metadata": {
    "collapsed": false,
    "execution": {
     "iopub.execute_input": "2022-11-15T21:21:57.744280Z",
     "iopub.status.busy": "2022-11-15T21:21:57.743933Z",
     "iopub.status.idle": "2022-11-15T21:21:57.750847Z",
     "shell.execute_reply": "2022-11-15T21:21:57.750019Z"
    },
    "jupyter": {
     "outputs_hidden": false
    },
    "papermill": {
     "duration": 0.017968,
     "end_time": "2022-11-15T21:21:57.752942",
     "exception": false,
     "start_time": "2022-11-15T21:21:57.734974",
     "status": "completed"
    },
    "tags": []
   },
   "outputs": [],
   "source": [
    "def objective(n_trials):\n",
    "    params = {\n",
    "        'objective': 'reg:squarederror',\n",
    "        'max_depth' : n_trials.suggest_int('max_depth', 1, 18),\n",
    "        'n_estimators' : n_trials.suggest_int('n_estimators', 10, 1000, step = 10),\n",
    "        'learning_rate': n_trials.suggest_float('learning_rate', 0.005, 0.5),\n",
    "        'colsample_bytree': n_trials.suggest_float('colsample_bytree', 0.1, 0.6),\n",
    "        'min_child_weight' : n_trials.suggest_int('min_child_weight', 0, 10),\n",
    "        'subsample': n_trials.suggest_float('subsample', 0.1, 1),\n",
    "        'reg_alpha' : n_trials.suggest_int('reg_alpha', 40, 180),\n",
    "        'reg_lambda' : n_trials.suggest_int('reg_lambda', 0, 1),\n",
    "        'gamma': n_trials.suggest_float('lambda', 1, 10)\n",
    "    }\n",
    "    xgb_regressor = xgb.train(params, d_train,\n",
    "                    evals = [(d_validation, 'eval'), (d_train, 'train')],\n",
    "                    early_stopping_rounds = EARLY_STOP,\n",
    "                    verbose_eval = False)\n",
    "    y_pred = xgb_regressor.predict(d_validation)\n",
    "    mse = mean_squared_error(y_validation, y_pred)\n",
    "    return mse"
   ]
  },
  {
   "cell_type": "code",
   "execution_count": 17,
   "id": "7db0bb2f",
   "metadata": {
    "collapsed": false,
    "execution": {
     "iopub.execute_input": "2022-11-15T21:21:57.771676Z",
     "iopub.status.busy": "2022-11-15T21:21:57.771019Z",
     "iopub.status.idle": "2022-11-15T21:26:30.267538Z",
     "shell.execute_reply": "2022-11-15T21:26:30.266833Z"
    },
    "jupyter": {
     "outputs_hidden": false
    },
    "papermill": {
     "duration": 272.508711,
     "end_time": "2022-11-15T21:26:30.269750",
     "exception": false,
     "start_time": "2022-11-15T21:21:57.761039",
     "status": "completed"
    },
    "tags": []
   },
   "outputs": [
    {
     "name": "stdout",
     "output_type": "stream",
     "text": [
      "[21:21:57] WARNING: ../src/learner.cc:627: \n",
      "Parameters: { \"n_estimators\" } might not be used.\n",
      "\n",
      "  This could be a false alarm, with some parameters getting used by language bindings but\n",
      "  then being mistakenly passed down to XGBoost core, or some parameter actually being used\n",
      "  but getting flagged wrongly here. Please open an issue if you find any such cases.\n",
      "\n",
      "\n",
      "[21:22:10] WARNING: ../src/learner.cc:627: \n",
      "Parameters: { \"n_estimators\" } might not be used.\n",
      "\n",
      "  This could be a false alarm, with some parameters getting used by language bindings but\n",
      "  then being mistakenly passed down to XGBoost core, or some parameter actually being used\n",
      "  but getting flagged wrongly here. Please open an issue if you find any such cases.\n",
      "\n",
      "\n",
      "[21:22:18] WARNING: ../src/learner.cc:627: \n",
      "Parameters: { \"n_estimators\" } might not be used.\n",
      "\n",
      "  This could be a false alarm, with some parameters getting used by language bindings but\n",
      "  then being mistakenly passed down to XGBoost core, or some parameter actually being used\n",
      "  but getting flagged wrongly here. Please open an issue if you find any such cases.\n",
      "\n",
      "\n",
      "[21:22:31] WARNING: ../src/learner.cc:627: \n",
      "Parameters: { \"n_estimators\" } might not be used.\n",
      "\n",
      "  This could be a false alarm, with some parameters getting used by language bindings but\n",
      "  then being mistakenly passed down to XGBoost core, or some parameter actually being used\n",
      "  but getting flagged wrongly here. Please open an issue if you find any such cases.\n",
      "\n",
      "\n",
      "[21:22:55] WARNING: ../src/learner.cc:627: \n",
      "Parameters: { \"n_estimators\" } might not be used.\n",
      "\n",
      "  This could be a false alarm, with some parameters getting used by language bindings but\n",
      "  then being mistakenly passed down to XGBoost core, or some parameter actually being used\n",
      "  but getting flagged wrongly here. Please open an issue if you find any such cases.\n",
      "\n",
      "\n",
      "[21:23:02] WARNING: ../src/learner.cc:627: \n",
      "Parameters: { \"n_estimators\" } might not be used.\n",
      "\n",
      "  This could be a false alarm, with some parameters getting used by language bindings but\n",
      "  then being mistakenly passed down to XGBoost core, or some parameter actually being used\n",
      "  but getting flagged wrongly here. Please open an issue if you find any such cases.\n",
      "\n",
      "\n",
      "[21:23:06] WARNING: ../src/learner.cc:627: \n",
      "Parameters: { \"n_estimators\" } might not be used.\n",
      "\n",
      "  This could be a false alarm, with some parameters getting used by language bindings but\n",
      "  then being mistakenly passed down to XGBoost core, or some parameter actually being used\n",
      "  but getting flagged wrongly here. Please open an issue if you find any such cases.\n",
      "\n",
      "\n",
      "[21:23:14] WARNING: ../src/learner.cc:627: \n",
      "Parameters: { \"n_estimators\" } might not be used.\n",
      "\n",
      "  This could be a false alarm, with some parameters getting used by language bindings but\n",
      "  then being mistakenly passed down to XGBoost core, or some parameter actually being used\n",
      "  but getting flagged wrongly here. Please open an issue if you find any such cases.\n",
      "\n",
      "\n",
      "[21:23:20] WARNING: ../src/learner.cc:627: \n",
      "Parameters: { \"n_estimators\" } might not be used.\n",
      "\n",
      "  This could be a false alarm, with some parameters getting used by language bindings but\n",
      "  then being mistakenly passed down to XGBoost core, or some parameter actually being used\n",
      "  but getting flagged wrongly here. Please open an issue if you find any such cases.\n",
      "\n",
      "\n",
      "[21:23:33] WARNING: ../src/learner.cc:627: \n",
      "Parameters: { \"n_estimators\" } might not be used.\n",
      "\n",
      "  This could be a false alarm, with some parameters getting used by language bindings but\n",
      "  then being mistakenly passed down to XGBoost core, or some parameter actually being used\n",
      "  but getting flagged wrongly here. Please open an issue if you find any such cases.\n",
      "\n",
      "\n",
      "[21:23:49] WARNING: ../src/learner.cc:627: \n",
      "Parameters: { \"n_estimators\" } might not be used.\n",
      "\n",
      "  This could be a false alarm, with some parameters getting used by language bindings but\n",
      "  then being mistakenly passed down to XGBoost core, or some parameter actually being used\n",
      "  but getting flagged wrongly here. Please open an issue if you find any such cases.\n",
      "\n",
      "\n",
      "[21:24:20] WARNING: ../src/learner.cc:627: \n",
      "Parameters: { \"n_estimators\" } might not be used.\n",
      "\n",
      "  This could be a false alarm, with some parameters getting used by language bindings but\n",
      "  then being mistakenly passed down to XGBoost core, or some parameter actually being used\n",
      "  but getting flagged wrongly here. Please open an issue if you find any such cases.\n",
      "\n",
      "\n",
      "[21:24:23] WARNING: ../src/learner.cc:627: \n",
      "Parameters: { \"n_estimators\" } might not be used.\n",
      "\n",
      "  This could be a false alarm, with some parameters getting used by language bindings but\n",
      "  then being mistakenly passed down to XGBoost core, or some parameter actually being used\n",
      "  but getting flagged wrongly here. Please open an issue if you find any such cases.\n",
      "\n",
      "\n",
      "[21:24:40] WARNING: ../src/learner.cc:627: \n",
      "Parameters: { \"n_estimators\" } might not be used.\n",
      "\n",
      "  This could be a false alarm, with some parameters getting used by language bindings but\n",
      "  then being mistakenly passed down to XGBoost core, or some parameter actually being used\n",
      "  but getting flagged wrongly here. Please open an issue if you find any such cases.\n",
      "\n",
      "\n",
      "[21:24:59] WARNING: ../src/learner.cc:627: \n",
      "Parameters: { \"n_estimators\" } might not be used.\n",
      "\n",
      "  This could be a false alarm, with some parameters getting used by language bindings but\n",
      "  then being mistakenly passed down to XGBoost core, or some parameter actually being used\n",
      "  but getting flagged wrongly here. Please open an issue if you find any such cases.\n",
      "\n",
      "\n",
      "[21:25:17] WARNING: ../src/learner.cc:627: \n",
      "Parameters: { \"n_estimators\" } might not be used.\n",
      "\n",
      "  This could be a false alarm, with some parameters getting used by language bindings but\n",
      "  then being mistakenly passed down to XGBoost core, or some parameter actually being used\n",
      "  but getting flagged wrongly here. Please open an issue if you find any such cases.\n",
      "\n",
      "\n",
      "[21:25:33] WARNING: ../src/learner.cc:627: \n",
      "Parameters: { \"n_estimators\" } might not be used.\n",
      "\n",
      "  This could be a false alarm, with some parameters getting used by language bindings but\n",
      "  then being mistakenly passed down to XGBoost core, or some parameter actually being used\n",
      "  but getting flagged wrongly here. Please open an issue if you find any such cases.\n",
      "\n",
      "\n",
      "[21:25:45] WARNING: ../src/learner.cc:627: \n",
      "Parameters: { \"n_estimators\" } might not be used.\n",
      "\n",
      "  This could be a false alarm, with some parameters getting used by language bindings but\n",
      "  then being mistakenly passed down to XGBoost core, or some parameter actually being used\n",
      "  but getting flagged wrongly here. Please open an issue if you find any such cases.\n",
      "\n",
      "\n",
      "[21:25:54] WARNING: ../src/learner.cc:627: \n",
      "Parameters: { \"n_estimators\" } might not be used.\n",
      "\n",
      "  This could be a false alarm, with some parameters getting used by language bindings but\n",
      "  then being mistakenly passed down to XGBoost core, or some parameter actually being used\n",
      "  but getting flagged wrongly here. Please open an issue if you find any such cases.\n",
      "\n",
      "\n",
      "[21:26:11] WARNING: ../src/learner.cc:627: \n",
      "Parameters: { \"n_estimators\" } might not be used.\n",
      "\n",
      "  This could be a false alarm, with some parameters getting used by language bindings but\n",
      "  then being mistakenly passed down to XGBoost core, or some parameter actually being used\n",
      "  but getting flagged wrongly here. Please open an issue if you find any such cases.\n",
      "\n",
      "\n"
     ]
    }
   ],
   "source": [
    "optuna.logging.set_verbosity(optuna.logging.WARNING)\n",
    "study = optuna.create_study(direction = 'minimize')\n",
    "study.optimize(objective, n_trials = NUM_TRIALS)"
   ]
  },
  {
   "cell_type": "code",
   "execution_count": 18,
   "id": "570147ca",
   "metadata": {
    "collapsed": false,
    "execution": {
     "iopub.execute_input": "2022-11-15T21:26:30.290223Z",
     "iopub.status.busy": "2022-11-15T21:26:30.289076Z",
     "iopub.status.idle": "2022-11-15T21:26:30.295431Z",
     "shell.execute_reply": "2022-11-15T21:26:30.294456Z"
    },
    "jupyter": {
     "outputs_hidden": false
    },
    "papermill": {
     "duration": 0.019351,
     "end_time": "2022-11-15T21:26:30.298213",
     "exception": false,
     "start_time": "2022-11-15T21:26:30.278862",
     "status": "completed"
    },
    "tags": []
   },
   "outputs": [
    {
     "name": "stdout",
     "output_type": "stream",
     "text": [
      "Best params:\n",
      "\tmax_depth: 16\n",
      "\tn_estimators: 100\n",
      "\tlearning_rate: 0.45247149449532525\n",
      "\tcolsample_bytree: 0.37747111552607926\n",
      "\tmin_child_weight: 10\n",
      "\tsubsample: 0.9759002722665786\n",
      "\treg_alpha: 82\n",
      "\treg_lambda: 0\n",
      "\tlambda: 1.7951226431503415\n"
     ]
    }
   ],
   "source": [
    "print('Best params:')\n",
    "for key, value in study.best_params.items():\n",
    "    print(f'\\t{key}: {value}')"
   ]
  },
  {
   "cell_type": "markdown",
   "id": "70887a30",
   "metadata": {
    "papermill": {
     "duration": 0.008503,
     "end_time": "2022-11-15T21:26:30.315755",
     "exception": false,
     "start_time": "2022-11-15T21:26:30.307252",
     "status": "completed"
    },
    "tags": []
   },
   "source": [
    "## Train Model & Make Predictions"
   ]
  },
  {
   "cell_type": "code",
   "execution_count": 19,
   "id": "602954ca",
   "metadata": {
    "collapsed": false,
    "execution": {
     "iopub.execute_input": "2022-11-15T21:26:30.334709Z",
     "iopub.status.busy": "2022-11-15T21:26:30.334418Z",
     "iopub.status.idle": "2022-11-15T21:26:49.168811Z",
     "shell.execute_reply": "2022-11-15T21:26:49.168118Z"
    },
    "jupyter": {
     "outputs_hidden": false
    },
    "papermill": {
     "duration": 18.846802,
     "end_time": "2022-11-15T21:26:49.171222",
     "exception": false,
     "start_time": "2022-11-15T21:26:30.324420",
     "status": "completed"
    },
    "tags": []
   },
   "outputs": [
    {
     "name": "stdout",
     "output_type": "stream",
     "text": [
      "[21:26:30] WARNING: ../src/learner.cc:627: \n",
      "Parameters: { \"n_estimators\" } might not be used.\n",
      "\n",
      "  This could be a false alarm, with some parameters getting used by language bindings but\n",
      "  then being mistakenly passed down to XGBoost core, or some parameter actually being used\n",
      "  but getting flagged wrongly here. Please open an issue if you find any such cases.\n",
      "\n",
      "\n"
     ]
    }
   ],
   "source": [
    "xgb_regressor = xgb.train(study.best_params, d_train,\n",
    "                evals =[(d_validation, 'eval'), (d_train, 'train')],\n",
    "                early_stopping_rounds = 3,\n",
    "                verbose_eval = False)"
   ]
  },
  {
   "cell_type": "code",
   "execution_count": 20,
   "id": "56b37723",
   "metadata": {
    "collapsed": false,
    "execution": {
     "iopub.execute_input": "2022-11-15T21:26:49.192322Z",
     "iopub.status.busy": "2022-11-15T21:26:49.191209Z",
     "iopub.status.idle": "2022-11-15T21:26:49.660554Z",
     "shell.execute_reply": "2022-11-15T21:26:49.659221Z"
    },
    "jupyter": {
     "outputs_hidden": false
    },
    "papermill": {
     "duration": 0.482159,
     "end_time": "2022-11-15T21:26:49.662780",
     "exception": false,
     "start_time": "2022-11-15T21:26:49.180621",
     "status": "completed"
    },
    "tags": []
   },
   "outputs": [
    {
     "data": {
      "image/png": "[encoded data removed]",
      "text/plain": [
       "<Figure size 1152x864 with 1 Axes>"
      ]
     },
     "metadata": {},
     "output_type": "display_data"
    }
   ],
   "source": [
    "sns.set(rc = {'figure.figsize':(16, 12)})\n",
    "_ = xgb.plot_importance(xgb_regressor, height=0.9)"
   ]
  },
  {
   "cell_type": "code",
   "execution_count": 21,
   "id": "e8571895",
   "metadata": {
    "collapsed": false,
    "execution": {
     "iopub.execute_input": "2022-11-15T21:26:49.684573Z",
     "iopub.status.busy": "2022-11-15T21:26:49.684196Z",
     "iopub.status.idle": "2022-11-15T21:26:49.711883Z",
     "shell.execute_reply": "2022-11-15T21:26:49.710743Z"
    },
    "jupyter": {
     "outputs_hidden": false
    },
    "papermill": {
     "duration": 0.041272,
     "end_time": "2022-11-15T21:26:49.714322",
     "exception": false,
     "start_time": "2022-11-15T21:26:49.673050",
     "status": "completed"
    },
    "tags": []
   },
   "outputs": [],
   "source": [
    "val_predicted = xgb_regressor.predict(d_validation).tolist()\n",
    "val_true = y_validation.tolist()"
   ]
  },
  {
   "cell_type": "code",
   "execution_count": 22,
   "id": "600f1eaf",
   "metadata": {
    "collapsed": false,
    "execution": {
     "iopub.execute_input": "2022-11-15T21:26:49.734165Z",
     "iopub.status.busy": "2022-11-15T21:26:49.733760Z",
     "iopub.status.idle": "2022-11-15T21:26:49.747489Z",
     "shell.execute_reply": "2022-11-15T21:26:49.745993Z"
    },
    "jupyter": {
     "outputs_hidden": false
    },
    "papermill": {
     "duration": 0.026113,
     "end_time": "2022-11-15T21:26:49.750075",
     "exception": false,
     "start_time": "2022-11-15T21:26:49.723962",
     "status": "completed"
    },
    "tags": []
   },
   "outputs": [],
   "source": [
    "results = pd.DataFrame({'prediction':val_predicted, 'actual': val_true})\n",
    "results[results < 0] = 0"
   ]
  },
  {
   "cell_type": "code",
   "execution_count": 23,
   "id": "b37e6100",
   "metadata": {
    "collapsed": false,
    "execution": {
     "iopub.execute_input": "2022-11-15T21:26:49.771447Z",
     "iopub.status.busy": "2022-11-15T21:26:49.771078Z",
     "iopub.status.idle": "2022-11-15T21:26:49.780126Z",
     "shell.execute_reply": "2022-11-15T21:26:49.779152Z"
    },
    "jupyter": {
     "outputs_hidden": false
    },
    "papermill": {
     "duration": 0.022602,
     "end_time": "2022-11-15T21:26:49.782554",
     "exception": false,
     "start_time": "2022-11-15T21:26:49.759952",
     "status": "completed"
    },
    "tags": []
   },
   "outputs": [
    {
     "data": {
      "text/plain": [
       "0.4793574512168299"
      ]
     },
     "execution_count": 23,
     "metadata": {},
     "output_type": "execute_result"
    }
   ],
   "source": [
    "mean_squared_log_error(results['actual'], results['prediction'], squared=False)"
   ]
  },
  {
   "cell_type": "code",
   "execution_count": 24,
   "id": "56777bbf",
   "metadata": {
    "collapsed": false,
    "execution": {
     "iopub.execute_input": "2022-11-15T21:26:49.804186Z",
     "iopub.status.busy": "2022-11-15T21:26:49.803798Z",
     "iopub.status.idle": "2022-11-15T21:26:50.068816Z",
     "shell.execute_reply": "2022-11-15T21:26:50.067873Z"
    },
    "jupyter": {
     "outputs_hidden": false
    },
    "papermill": {
     "duration": 0.278072,
     "end_time": "2022-11-15T21:26:50.070620",
     "exception": false,
     "start_time": "2022-11-15T21:26:49.792548",
     "status": "completed"
    },
    "tags": []
   },
   "outputs": [
    {
     "data": {
      "image/png": "[encoded data removed]",
      "text/plain": [
       "<Figure size 576x432 with 1 Axes>"
      ]
     },
     "metadata": {},
     "output_type": "display_data"
    }
   ],
   "source": [
    "plt.figure(figsize=(8, 6))\n",
    "sns.scatterplot(data=results, y=results.prediction, x=results.actual)\n",
    "plt.title('Prediction vs Actual')\n",
    "plt.show()"
   ]
  },
  {
   "cell_type": "code",
   "execution_count": 25,
   "id": "d92cca4e",
   "metadata": {
    "collapsed": false,
    "execution": {
     "iopub.execute_input": "2022-11-15T21:26:50.094448Z",
     "iopub.status.busy": "2022-11-15T21:26:50.094029Z",
     "iopub.status.idle": "2022-11-15T21:26:50.113400Z",
     "shell.execute_reply": "2022-11-15T21:26:50.111432Z"
    },
    "jupyter": {
     "outputs_hidden": false
    },
    "papermill": {
     "duration": 0.033854,
     "end_time": "2022-11-15T21:26:50.115793",
     "exception": false,
     "start_time": "2022-11-15T21:26:50.081939",
     "status": "completed"
    },
    "tags": []
   },
   "outputs": [
    {
     "data": {
      "text/html": [
       "<div>\n",
       "<style scoped>\n",
       "    .dataframe tbody tr th:only-of-type {\n",
       "        vertical-align: middle;\n",
       "    }\n",
       "\n",
       "    .dataframe tbody tr th {\n",
       "        vertical-align: top;\n",
       "    }\n",
       "\n",
       "    .dataframe thead th {\n",
       "        text-align: right;\n",
       "    }\n",
       "</style>\n",
       "<table border=\"1\" class=\"dataframe\">\n",
       "  <thead>\n",
       "    <tr style=\"text-align: right;\">\n",
       "      <th></th>\n",
       "      <th>prediction</th>\n",
       "      <th>actual</th>\n",
       "    </tr>\n",
       "  </thead>\n",
       "  <tbody>\n",
       "    <tr>\n",
       "      <th>0</th>\n",
       "      <td>5.987432</td>\n",
       "      <td>5.000000</td>\n",
       "    </tr>\n",
       "    <tr>\n",
       "      <th>1</th>\n",
       "      <td>0.000000</td>\n",
       "      <td>0.000000</td>\n",
       "    </tr>\n",
       "    <tr>\n",
       "      <th>2</th>\n",
       "      <td>4.975935</td>\n",
       "      <td>4.000000</td>\n",
       "    </tr>\n",
       "    <tr>\n",
       "      <th>3</th>\n",
       "      <td>2975.464355</td>\n",
       "      <td>2627.000000</td>\n",
       "    </tr>\n",
       "    <tr>\n",
       "      <th>4</th>\n",
       "      <td>0.303205</td>\n",
       "      <td>0.000000</td>\n",
       "    </tr>\n",
       "    <tr>\n",
       "      <th>...</th>\n",
       "      <td>...</td>\n",
       "      <td>...</td>\n",
       "    </tr>\n",
       "    <tr>\n",
       "      <th>26725</th>\n",
       "      <td>348.856842</td>\n",
       "      <td>438.132996</td>\n",
       "    </tr>\n",
       "    <tr>\n",
       "      <th>26726</th>\n",
       "      <td>86.371033</td>\n",
       "      <td>154.552994</td>\n",
       "    </tr>\n",
       "    <tr>\n",
       "      <th>26727</th>\n",
       "      <td>2482.669678</td>\n",
       "      <td>2419.729004</td>\n",
       "    </tr>\n",
       "    <tr>\n",
       "      <th>26728</th>\n",
       "      <td>36.136318</td>\n",
       "      <td>121.000000</td>\n",
       "    </tr>\n",
       "    <tr>\n",
       "      <th>26729</th>\n",
       "      <td>15.216283</td>\n",
       "      <td>16.000000</td>\n",
       "    </tr>\n",
       "  </tbody>\n",
       "</table>\n",
       "<p>26730 rows × 2 columns</p>\n",
       "</div>"
      ],
      "text/plain": [
       "        prediction       actual\n",
       "0         5.987432     5.000000\n",
       "1         0.000000     0.000000\n",
       "2         4.975935     4.000000\n",
       "3      2975.464355  2627.000000\n",
       "4         0.303205     0.000000\n",
       "...            ...          ...\n",
       "26725   348.856842   438.132996\n",
       "26726    86.371033   154.552994\n",
       "26727  2482.669678  2419.729004\n",
       "26728    36.136318   121.000000\n",
       "26729    15.216283    16.000000\n",
       "\n",
       "[26730 rows x 2 columns]"
      ]
     },
     "execution_count": 25,
     "metadata": {},
     "output_type": "execute_result"
    }
   ],
   "source": [
    "results"
   ]
  },
  {
   "cell_type": "code",
   "execution_count": 26,
   "id": "a7f9c8d1",
   "metadata": {
    "collapsed": false,
    "execution": {
     "iopub.execute_input": "2022-11-15T21:26:50.140896Z",
     "iopub.status.busy": "2022-11-15T21:26:50.139957Z",
     "iopub.status.idle": "2022-11-15T21:26:50.260147Z",
     "shell.execute_reply": "2022-11-15T21:26:50.258820Z"
    },
    "jupyter": {
     "outputs_hidden": false
    },
    "papermill": {
     "duration": 0.134609,
     "end_time": "2022-11-15T21:26:50.261913",
     "exception": true,
     "start_time": "2022-11-15T21:26:50.127304",
     "status": "failed"
    },
    "tags": []
   },
   "outputs": [
    {
     "ename": "FileNotFoundError",
     "evalue": "[Errno 2] No such file or directory: './data/sample_submission.csv'",
     "output_type": "error",
     "traceback": [
      "\u001b[0;31m---------------------------------------------------------------------------\u001b[0m",
      "\u001b[0;31mFileNotFoundError\u001b[0m                         Traceback (most recent call last)",
      "\u001b[0;32m/tmp/ipykernel_19/3890228718.py\u001b[0m in \u001b[0;36m<module>\u001b[0;34m\u001b[0m\n\u001b[0;32m----> 1\u001b[0;31m \u001b[0msubmission\u001b[0m \u001b[0;34m=\u001b[0m \u001b[0mpd\u001b[0m\u001b[0;34m.\u001b[0m\u001b[0mread_csv\u001b[0m\u001b[0;34m(\u001b[0m\u001b[0;34mr\"./data/sample_submission.csv\"\u001b[0m\u001b[0;34m)\u001b[0m\u001b[0;34m\u001b[0m\u001b[0;34m\u001b[0m\u001b[0m\n\u001b[0m\u001b[1;32m      2\u001b[0m \u001b[0my_test\u001b[0m \u001b[0;34m=\u001b[0m \u001b[0mxgb_regressor\u001b[0m\u001b[0;34m.\u001b[0m\u001b[0mpredict\u001b[0m\u001b[0;34m(\u001b[0m\u001b[0md_test\u001b[0m\u001b[0;34m)\u001b[0m\u001b[0;34m\u001b[0m\u001b[0;34m\u001b[0m\u001b[0m\n\u001b[1;32m      3\u001b[0m \u001b[0my_test\u001b[0m\u001b[0;34m[\u001b[0m\u001b[0my_test\u001b[0m \u001b[0;34m<\u001b[0m \u001b[0;36m0\u001b[0m\u001b[0;34m]\u001b[0m \u001b[0;34m=\u001b[0m \u001b[0;36m0\u001b[0m\u001b[0;34m\u001b[0m\u001b[0;34m\u001b[0m\u001b[0m\n\u001b[1;32m      4\u001b[0m \u001b[0msubmission\u001b[0m\u001b[0;34m[\u001b[0m\u001b[0;34m'sales'\u001b[0m\u001b[0;34m]\u001b[0m \u001b[0;34m=\u001b[0m \u001b[0my_test\u001b[0m\u001b[0;34m\u001b[0m\u001b[0;34m\u001b[0m\u001b[0m\n\u001b[1;32m      5\u001b[0m \u001b[0msubmission\u001b[0m\u001b[0;34m.\u001b[0m\u001b[0mto_csv\u001b[0m\u001b[0;34m(\u001b[0m\u001b[0;34m\"submission.csv\"\u001b[0m\u001b[0;34m,\u001b[0m \u001b[0mindex\u001b[0m\u001b[0;34m=\u001b[0m\u001b[0;32mFalse\u001b[0m\u001b[0;34m)\u001b[0m\u001b[0;34m\u001b[0m\u001b[0;34m\u001b[0m\u001b[0m\n",
      "\u001b[0;32m/opt/conda/lib/python3.7/site-packages/pandas/util/_decorators.py\u001b[0m in \u001b[0;36mwrapper\u001b[0;34m(*args, **kwargs)\u001b[0m\n\u001b[1;32m    309\u001b[0m                     \u001b[0mstacklevel\u001b[0m\u001b[0;34m=\u001b[0m\u001b[0mstacklevel\u001b[0m\u001b[0;34m,\u001b[0m\u001b[0;34m\u001b[0m\u001b[0;34m\u001b[0m\u001b[0m\n\u001b[1;32m    310\u001b[0m                 )\n\u001b[0;32m--> 311\u001b[0;31m             \u001b[0;32mreturn\u001b[0m \u001b[0mfunc\u001b[0m\u001b[0;34m(\u001b[0m\u001b[0;34m*\u001b[0m\u001b[0margs\u001b[0m\u001b[0;34m,\u001b[0m \u001b[0;34m**\u001b[0m\u001b[0mkwargs\u001b[0m\u001b[0;34m)\u001b[0m\u001b[0;34m\u001b[0m\u001b[0;34m\u001b[0m\u001b[0m\n\u001b[0m\u001b[1;32m    312\u001b[0m \u001b[0;34m\u001b[0m\u001b[0m\n\u001b[1;32m    313\u001b[0m         \u001b[0;32mreturn\u001b[0m \u001b[0mwrapper\u001b[0m\u001b[0;34m\u001b[0m\u001b[0;34m\u001b[0m\u001b[0m\n",
      "\u001b[0;32m/opt/conda/lib/python3.7/site-packages/pandas/io/parsers/readers.py\u001b[0m in \u001b[0;36mread_csv\u001b[0;34m(filepath_or_buffer, sep, delimiter, header, names, index_col, usecols, squeeze, prefix, mangle_dupe_cols, dtype, engine, converters, true_values, false_values, skipinitialspace, skiprows, skipfooter, nrows, na_values, keep_default_na, na_filter, verbose, skip_blank_lines, parse_dates, infer_datetime_format, keep_date_col, date_parser, dayfirst, cache_dates, iterator, chunksize, compression, thousands, decimal, lineterminator, quotechar, quoting, doublequote, escapechar, comment, encoding, encoding_errors, dialect, error_bad_lines, warn_bad_lines, on_bad_lines, delim_whitespace, low_memory, memory_map, float_precision, storage_options)\u001b[0m\n\u001b[1;32m    584\u001b[0m     \u001b[0mkwds\u001b[0m\u001b[0;34m.\u001b[0m\u001b[0mupdate\u001b[0m\u001b[0;34m(\u001b[0m\u001b[0mkwds_defaults\u001b[0m\u001b[0;34m)\u001b[0m\u001b[0;34m\u001b[0m\u001b[0;34m\u001b[0m\u001b[0m\n\u001b[1;32m    585\u001b[0m \u001b[0;34m\u001b[0m\u001b[0m\n\u001b[0;32m--> 586\u001b[0;31m     \u001b[0;32mreturn\u001b[0m \u001b[0m_read\u001b[0m\u001b[0;34m(\u001b[0m\u001b[0mfilepath_or_buffer\u001b[0m\u001b[0;34m,\u001b[0m \u001b[0mkwds\u001b[0m\u001b[0;34m)\u001b[0m\u001b[0;34m\u001b[0m\u001b[0;34m\u001b[0m\u001b[0m\n\u001b[0m\u001b[1;32m    587\u001b[0m \u001b[0;34m\u001b[0m\u001b[0m\n\u001b[1;32m    588\u001b[0m \u001b[0;34m\u001b[0m\u001b[0m\n",
      "\u001b[0;32m/opt/conda/lib/python3.7/site-packages/pandas/io/parsers/readers.py\u001b[0m in \u001b[0;36m_read\u001b[0;34m(filepath_or_buffer, kwds)\u001b[0m\n\u001b[1;32m    480\u001b[0m \u001b[0;34m\u001b[0m\u001b[0m\n\u001b[1;32m    481\u001b[0m     \u001b[0;31m# Create the parser.\u001b[0m\u001b[0;34m\u001b[0m\u001b[0;34m\u001b[0m\u001b[0;34m\u001b[0m\u001b[0m\n\u001b[0;32m--> 482\u001b[0;31m     \u001b[0mparser\u001b[0m \u001b[0;34m=\u001b[0m \u001b[0mTextFileReader\u001b[0m\u001b[0;34m(\u001b[0m\u001b[0mfilepath_or_buffer\u001b[0m\u001b[0;34m,\u001b[0m \u001b[0;34m**\u001b[0m\u001b[0mkwds\u001b[0m\u001b[0;34m)\u001b[0m\u001b[0;34m\u001b[0m\u001b[0;34m\u001b[0m\u001b[0m\n\u001b[0m\u001b[1;32m    483\u001b[0m \u001b[0;34m\u001b[0m\u001b[0m\n\u001b[1;32m    484\u001b[0m     \u001b[0;32mif\u001b[0m \u001b[0mchunksize\u001b[0m \u001b[0;32mor\u001b[0m \u001b[0miterator\u001b[0m\u001b[0;34m:\u001b[0m\u001b[0;34m\u001b[0m\u001b[0;34m\u001b[0m\u001b[0m\n",
      "\u001b[0;32m/opt/conda/lib/python3.7/site-packages/pandas/io/parsers/readers.py\u001b[0m in \u001b[0;36m__init__\u001b[0;34m(self, f, engine, **kwds)\u001b[0m\n\u001b[1;32m    809\u001b[0m             \u001b[0mself\u001b[0m\u001b[0;34m.\u001b[0m\u001b[0moptions\u001b[0m\u001b[0;34m[\u001b[0m\u001b[0;34m\"has_index_names\"\u001b[0m\u001b[0;34m]\u001b[0m \u001b[0;34m=\u001b[0m \u001b[0mkwds\u001b[0m\u001b[0;34m[\u001b[0m\u001b[0;34m\"has_index_names\"\u001b[0m\u001b[0;34m]\u001b[0m\u001b[0;34m\u001b[0m\u001b[0;34m\u001b[0m\u001b[0m\n\u001b[1;32m    810\u001b[0m \u001b[0;34m\u001b[0m\u001b[0m\n\u001b[0;32m--> 811\u001b[0;31m         \u001b[0mself\u001b[0m\u001b[0;34m.\u001b[0m\u001b[0m_engine\u001b[0m \u001b[0;34m=\u001b[0m \u001b[0mself\u001b[0m\u001b[0;34m.\u001b[0m\u001b[0m_make_engine\u001b[0m\u001b[0;34m(\u001b[0m\u001b[0mself\u001b[0m\u001b[0;34m.\u001b[0m\u001b[0mengine\u001b[0m\u001b[0;34m)\u001b[0m\u001b[0;34m\u001b[0m\u001b[0;34m\u001b[0m\u001b[0m\n\u001b[0m\u001b[1;32m    812\u001b[0m \u001b[0;34m\u001b[0m\u001b[0m\n\u001b[1;32m    813\u001b[0m     \u001b[0;32mdef\u001b[0m \u001b[0mclose\u001b[0m\u001b[0;34m(\u001b[0m\u001b[0mself\u001b[0m\u001b[0;34m)\u001b[0m\u001b[0;34m:\u001b[0m\u001b[0;34m\u001b[0m\u001b[0;34m\u001b[0m\u001b[0m\n",
      "\u001b[0;32m/opt/conda/lib/python3.7/site-packages/pandas/io/parsers/readers.py\u001b[0m in \u001b[0;36m_make_engine\u001b[0;34m(self, engine)\u001b[0m\n\u001b[1;32m   1038\u001b[0m             )\n\u001b[1;32m   1039\u001b[0m         \u001b[0;31m# error: Too many arguments for \"ParserBase\"\u001b[0m\u001b[0;34m\u001b[0m\u001b[0;34m\u001b[0m\u001b[0;34m\u001b[0m\u001b[0m\n\u001b[0;32m-> 1040\u001b[0;31m         \u001b[0;32mreturn\u001b[0m \u001b[0mmapping\u001b[0m\u001b[0;34m[\u001b[0m\u001b[0mengine\u001b[0m\u001b[0;34m]\u001b[0m\u001b[0;34m(\u001b[0m\u001b[0mself\u001b[0m\u001b[0;34m.\u001b[0m\u001b[0mf\u001b[0m\u001b[0;34m,\u001b[0m \u001b[0;34m**\u001b[0m\u001b[0mself\u001b[0m\u001b[0;34m.\u001b[0m\u001b[0moptions\u001b[0m\u001b[0;34m)\u001b[0m  \u001b[0;31m# type: ignore[call-arg]\u001b[0m\u001b[0;34m\u001b[0m\u001b[0;34m\u001b[0m\u001b[0m\n\u001b[0m\u001b[1;32m   1041\u001b[0m \u001b[0;34m\u001b[0m\u001b[0m\n\u001b[1;32m   1042\u001b[0m     \u001b[0;32mdef\u001b[0m \u001b[0m_failover_to_python\u001b[0m\u001b[0;34m(\u001b[0m\u001b[0mself\u001b[0m\u001b[0;34m)\u001b[0m\u001b[0;34m:\u001b[0m\u001b[0;34m\u001b[0m\u001b[0;34m\u001b[0m\u001b[0m\n",
      "\u001b[0;32m/opt/conda/lib/python3.7/site-packages/pandas/io/parsers/c_parser_wrapper.py\u001b[0m in \u001b[0;36m__init__\u001b[0;34m(self, src, **kwds)\u001b[0m\n\u001b[1;32m     49\u001b[0m \u001b[0;34m\u001b[0m\u001b[0m\n\u001b[1;32m     50\u001b[0m         \u001b[0;31m# open handles\u001b[0m\u001b[0;34m\u001b[0m\u001b[0;34m\u001b[0m\u001b[0;34m\u001b[0m\u001b[0m\n\u001b[0;32m---> 51\u001b[0;31m         \u001b[0mself\u001b[0m\u001b[0;34m.\u001b[0m\u001b[0m_open_handles\u001b[0m\u001b[0;34m(\u001b[0m\u001b[0msrc\u001b[0m\u001b[0;34m,\u001b[0m \u001b[0mkwds\u001b[0m\u001b[0;34m)\u001b[0m\u001b[0;34m\u001b[0m\u001b[0;34m\u001b[0m\u001b[0m\n\u001b[0m\u001b[1;32m     52\u001b[0m         \u001b[0;32massert\u001b[0m \u001b[0mself\u001b[0m\u001b[0;34m.\u001b[0m\u001b[0mhandles\u001b[0m \u001b[0;32mis\u001b[0m \u001b[0;32mnot\u001b[0m \u001b[0;32mNone\u001b[0m\u001b[0;34m\u001b[0m\u001b[0;34m\u001b[0m\u001b[0m\n\u001b[1;32m     53\u001b[0m \u001b[0;34m\u001b[0m\u001b[0m\n",
      "\u001b[0;32m/opt/conda/lib/python3.7/site-packages/pandas/io/parsers/base_parser.py\u001b[0m in \u001b[0;36m_open_handles\u001b[0;34m(self, src, kwds)\u001b[0m\n\u001b[1;32m    227\u001b[0m             \u001b[0mmemory_map\u001b[0m\u001b[0;34m=\u001b[0m\u001b[0mkwds\u001b[0m\u001b[0;34m.\u001b[0m\u001b[0mget\u001b[0m\u001b[0;34m(\u001b[0m\u001b[0;34m\"memory_map\"\u001b[0m\u001b[0;34m,\u001b[0m \u001b[0;32mFalse\u001b[0m\u001b[0;34m)\u001b[0m\u001b[0;34m,\u001b[0m\u001b[0;34m\u001b[0m\u001b[0;34m\u001b[0m\u001b[0m\n\u001b[1;32m    228\u001b[0m             \u001b[0mstorage_options\u001b[0m\u001b[0;34m=\u001b[0m\u001b[0mkwds\u001b[0m\u001b[0;34m.\u001b[0m\u001b[0mget\u001b[0m\u001b[0;34m(\u001b[0m\u001b[0;34m\"storage_options\"\u001b[0m\u001b[0;34m,\u001b[0m \u001b[0;32mNone\u001b[0m\u001b[0;34m)\u001b[0m\u001b[0;34m,\u001b[0m\u001b[0;34m\u001b[0m\u001b[0;34m\u001b[0m\u001b[0m\n\u001b[0;32m--> 229\u001b[0;31m             \u001b[0merrors\u001b[0m\u001b[0;34m=\u001b[0m\u001b[0mkwds\u001b[0m\u001b[0;34m.\u001b[0m\u001b[0mget\u001b[0m\u001b[0;34m(\u001b[0m\u001b[0;34m\"encoding_errors\"\u001b[0m\u001b[0;34m,\u001b[0m \u001b[0;34m\"strict\"\u001b[0m\u001b[0;34m)\u001b[0m\u001b[0;34m,\u001b[0m\u001b[0;34m\u001b[0m\u001b[0;34m\u001b[0m\u001b[0m\n\u001b[0m\u001b[1;32m    230\u001b[0m         )\n\u001b[1;32m    231\u001b[0m \u001b[0;34m\u001b[0m\u001b[0m\n",
      "\u001b[0;32m/opt/conda/lib/python3.7/site-packages/pandas/io/common.py\u001b[0m in \u001b[0;36mget_handle\u001b[0;34m(path_or_buf, mode, encoding, compression, memory_map, is_text, errors, storage_options)\u001b[0m\n\u001b[1;32m    705\u001b[0m                 \u001b[0mencoding\u001b[0m\u001b[0;34m=\u001b[0m\u001b[0mioargs\u001b[0m\u001b[0;34m.\u001b[0m\u001b[0mencoding\u001b[0m\u001b[0;34m,\u001b[0m\u001b[0;34m\u001b[0m\u001b[0;34m\u001b[0m\u001b[0m\n\u001b[1;32m    706\u001b[0m                 \u001b[0merrors\u001b[0m\u001b[0;34m=\u001b[0m\u001b[0merrors\u001b[0m\u001b[0;34m,\u001b[0m\u001b[0;34m\u001b[0m\u001b[0;34m\u001b[0m\u001b[0m\n\u001b[0;32m--> 707\u001b[0;31m                 \u001b[0mnewline\u001b[0m\u001b[0;34m=\u001b[0m\u001b[0;34m\"\"\u001b[0m\u001b[0;34m,\u001b[0m\u001b[0;34m\u001b[0m\u001b[0;34m\u001b[0m\u001b[0m\n\u001b[0m\u001b[1;32m    708\u001b[0m             )\n\u001b[1;32m    709\u001b[0m         \u001b[0;32melse\u001b[0m\u001b[0;34m:\u001b[0m\u001b[0;34m\u001b[0m\u001b[0;34m\u001b[0m\u001b[0m\n",
      "\u001b[0;31mFileNotFoundError\u001b[0m: [Errno 2] No such file or directory: './data/sample_submission.csv'"
     ]
    }
   ],
   "source": [
    "submission = pd.read_csv(r\"./data/sample_submission.csv\")\n",
    "y_test = xgb_regressor.predict(d_test)\n",
    "y_test[y_test < 0] = 0\n",
    "submission['sales'] = y_test\n",
    "submission.to_csv(\"submission.csv\", index=False)\n",
    "submission.head()"
   ]
  }
 ],
 "metadata": {
  "kernelspec": {
   "display_name": "Python 3",
   "language": "python",
   "name": "python3"
  },
  "language_info": {
   "codemirror_mode": {
    "name": "ipython",
    "version": 3
   },
   "file_extension": ".py",
   "mimetype": "text/x-python",
   "name": "python",
   "nbconvert_exporter": "python",
   "pygments_lexer": "ipython3",
   "version": "3.7.12"
  },
  "papermill": {
   "default_parameters": {},
   "duration": 369.528101,
   "end_time": "2022-11-15T21:26:51.097160",
   "environment_variables": {},
   "exception": true,
   "input_path": "__notebook__.ipynb",
   "output_path": "__notebook__.ipynb",
   "parameters": {},
   "start_time": "2022-11-15T21:20:41.569059",
   "version": "2.3.4"
  }
 },
 "nbformat": 4,
 "nbformat_minor": 5
}
